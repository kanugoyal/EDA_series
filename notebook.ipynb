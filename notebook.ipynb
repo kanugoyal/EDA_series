{
 "cells": [
  {
   "cell_type": "code",
   "metadata": {
    "tags": [],
    "cell_id": "a4461a8f-3806-4d4e-81a5-3c304a06317a",
    "deepnote_to_be_reexecuted": false,
    "source_hash": "9b82ee11",
    "execution_start": 1657801905762,
    "execution_millis": 4685,
    "deepnote_cell_type": "code",
    "deepnote_cell_height": 81
   },
   "source": "import pandas as pd",
   "execution_count": null,
   "outputs": []
  },
  {
   "cell_type": "code",
   "metadata": {
    "cell_id": "53eee891d96947018cd3f253084af7bf",
    "tags": [],
    "deepnote_to_be_reexecuted": false,
    "source_hash": "16f9467b",
    "execution_start": 1657801956379,
    "execution_millis": 6,
    "deepnote_cell_type": "code",
    "deepnote_cell_height": 118.1875,
    "deepnote_output_heights": [
     21.1875
    ]
   },
   "source": "pd.__version__",
   "execution_count": null,
   "outputs": [
    {
     "output_type": "execute_result",
     "execution_count": 5,
     "data": {
      "text/plain": "'1.2.5'"
     },
     "metadata": {}
    }
   ]
  },
  {
   "cell_type": "code",
   "metadata": {
    "cell_id": "911cd528159c49c1b4be5af8264fa06d",
    "tags": [],
    "deepnote_to_be_reexecuted": false,
    "source_hash": "68f68cc1",
    "execution_start": 1657802013539,
    "execution_millis": 1,
    "deepnote_cell_type": "code",
    "deepnote_cell_height": 130.1875
   },
   "source": "list_s = [1,2,-3,6.2,'data values']\nprint(list_s)",
   "execution_count": null,
   "outputs": [
    {
     "name": "stdout",
     "text": "[1, 2, -3, 6.2, 'data values']\n",
     "output_type": "stream"
    }
   ]
  },
  {
   "cell_type": "code",
   "metadata": {
    "cell_id": "34cb5c5334ab423d9bea3a6d18490dd9",
    "tags": [],
    "deepnote_to_be_reexecuted": false,
    "source_hash": "6ac29b8",
    "execution_start": 1657802114343,
    "execution_millis": 12,
    "deepnote_cell_type": "code",
    "deepnote_cell_height": 231.125
   },
   "source": "series1=pd.Series(list_s)\nprint(series1)",
   "execution_count": null,
   "outputs": [
    {
     "name": "stdout",
     "text": "0              1\n1              2\n2             -3\n3            6.2\n4    data values\ndtype: object\n",
     "output_type": "stream"
    }
   ]
  },
  {
   "cell_type": "code",
   "metadata": {
    "cell_id": "26b457be20cc4cd1861434e0d4d219e5",
    "tags": [],
    "deepnote_to_be_reexecuted": false,
    "source_hash": "3cea5d1a",
    "execution_start": 1657802132665,
    "execution_millis": 0,
    "deepnote_cell_type": "code",
    "deepnote_cell_height": 118.1875,
    "deepnote_output_heights": [
     21.1875
    ]
   },
   "source": "type(series1)",
   "execution_count": null,
   "outputs": [
    {
     "output_type": "execute_result",
     "execution_count": 9,
     "data": {
      "text/plain": "pandas.core.series.Series"
     },
     "metadata": {}
    }
   ]
  },
  {
   "cell_type": "code",
   "metadata": {
    "cell_id": "2a42372ce08f406bbfb69e0d521ecc54",
    "tags": [],
    "deepnote_to_be_reexecuted": false,
    "source_hash": "a3a6693",
    "execution_start": 1657802184074,
    "execution_millis": 6,
    "deepnote_cell_type": "code",
    "deepnote_cell_height": 210.9375
   },
   "source": "series2 = pd.Series([1,2,3,4])\nprint(series2)",
   "execution_count": null,
   "outputs": [
    {
     "name": "stdout",
     "text": "0    1\n1    2\n2    3\n3    4\ndtype: int64\n",
     "output_type": "stream"
    }
   ]
  },
  {
   "cell_type": "code",
   "metadata": {
    "cell_id": "9cae40ce4f18419cb861e17e1a797f0d",
    "tags": [],
    "deepnote_to_be_reexecuted": false,
    "source_hash": "98597fd",
    "execution_start": 1657802344007,
    "execution_millis": 6,
    "deepnote_cell_type": "code",
    "deepnote_cell_height": 210.5625
   },
   "source": "#to create empty series\nempty_s = pd.Series([])\nprint(empty_s)\n",
   "execution_count": null,
   "outputs": [
    {
     "name": "stdout",
     "text": "Series([], dtype: float64)\n<ipython-input-11-4d32fcf5dfe7>:1: DeprecationWarning: The default dtype for empty Series will be 'object' instead of 'float64' in a future version. Specify a dtype explicitly to silence this warning.\n  empty_s = pd.Series([])\n",
     "output_type": "stream"
    }
   ]
  },
  {
   "cell_type": "code",
   "metadata": {
    "cell_id": "11bb33a6a2bb46f2864dd5ed42a48888",
    "tags": [],
    "deepnote_to_be_reexecuted": false,
    "source_hash": "f3b55771",
    "execution_start": 1657802501336,
    "execution_millis": 6,
    "deepnote_cell_type": "code",
    "deepnote_cell_height": 228.9375
   },
   "source": "#change index type\nseries3 = pd.Series([1,2,3,4], index = ['a','b','c','d'])\nprint(series3)",
   "execution_count": null,
   "outputs": [
    {
     "name": "stdout",
     "text": "a    1\nb    2\nc    3\nd    4\ndtype: int64\n",
     "output_type": "stream"
    }
   ]
  },
  {
   "cell_type": "code",
   "metadata": {
    "cell_id": "c0e5eb6fa5414b658532487e35c9dd2a",
    "tags": [],
    "deepnote_to_be_reexecuted": false,
    "source_hash": "aedc81b5",
    "execution_start": 1657802569106,
    "execution_millis": 591,
    "deepnote_cell_type": "code",
    "deepnote_cell_height": 228.9375
   },
   "source": "#change data type of series\nseries4 = pd.Series([1,2,3,4], index = ['a','b','c','d'], dtype = float)\nprint(series4)",
   "execution_count": null,
   "outputs": [
    {
     "name": "stdout",
     "text": "a    1.0\nb    2.0\nc    3.0\nd    4.0\ndtype: float64\n",
     "output_type": "stream"
    }
   ]
  },
  {
   "cell_type": "code",
   "metadata": {
    "cell_id": "68d1696ab75b42ec96d6278d3ff6993a",
    "tags": [],
    "deepnote_to_be_reexecuted": false,
    "source_hash": "c4af681",
    "execution_start": 1657802705660,
    "execution_millis": 12,
    "deepnote_cell_type": "code",
    "deepnote_cell_height": 204.375
   },
   "source": "# for scalar values \nscalar_s = pd.Series(0.5)\nprint(scalar_s)\n\n",
   "execution_count": null,
   "outputs": [
    {
     "name": "stdout",
     "text": "0    0.5\ndtype: float64\n",
     "output_type": "stream"
    }
   ]
  },
  {
   "cell_type": "code",
   "metadata": {
    "cell_id": "3e398052bff741fcb79acbd86581f589",
    "tags": [],
    "deepnote_to_be_reexecuted": false,
    "source_hash": "d3d14c72",
    "execution_start": 1657802756797,
    "execution_millis": 10,
    "deepnote_cell_type": "code",
    "deepnote_cell_height": 208.75
   },
   "source": "#scalar value in multiple index\nscalar_s = pd.Series(0.5, index = [1,2,3])\nprint(scalar_s)",
   "execution_count": null,
   "outputs": [
    {
     "name": "stdout",
     "text": "1    0.5\n2    0.5\n3    0.5\ndtype: float64\n",
     "output_type": "stream"
    }
   ]
  },
  {
   "cell_type": "code",
   "metadata": {
    "cell_id": "94b3efa3db924895b7165baf6ebb1898",
    "tags": [],
    "deepnote_to_be_reexecuted": false,
    "source_hash": "4a193ad",
    "execution_start": 1657802931295,
    "execution_millis": 3,
    "deepnote_cell_type": "code",
    "deepnote_cell_height": 208.75
   },
   "source": "#create dictionary\ndict_s = pd.Series({'a':1,'b':2,'c':0.5})\nprint(dict_s)",
   "execution_count": null,
   "outputs": [
    {
     "name": "stdout",
     "text": "a    1.0\nb    2.0\nc    0.5\ndtype: float64\n",
     "output_type": "stream"
    }
   ]
  },
  {
   "cell_type": "code",
   "metadata": {
    "cell_id": "85410e1aa3564e5186bff000152e64d0",
    "tags": [],
    "deepnote_to_be_reexecuted": false,
    "source_hash": "6f38e701",
    "execution_start": 1657803009021,
    "execution_millis": 7,
    "deepnote_cell_type": "code",
    "deepnote_cell_height": 249.125
   },
   "source": "#operations\ns4=pd.Series([1,2,3,4,5])\nprint(s4)",
   "execution_count": null,
   "outputs": [
    {
     "name": "stdout",
     "text": "0    1\n1    2\n2    3\n3    4\n4    5\ndtype: int64\n",
     "output_type": "stream"
    }
   ]
  },
  {
   "cell_type": "code",
   "metadata": {
    "cell_id": "d28ef639024a46c3b81bebdb8a2cfeb7",
    "tags": [],
    "deepnote_to_be_reexecuted": false,
    "source_hash": "345c86b9",
    "execution_start": 1657803020794,
    "execution_millis": 7,
    "deepnote_cell_type": "code",
    "deepnote_cell_height": 118.1875,
    "deepnote_output_heights": [
     21.1875
    ]
   },
   "source": "s4[0]",
   "execution_count": null,
   "outputs": [
    {
     "output_type": "execute_result",
     "execution_count": 22,
     "data": {
      "text/plain": "1"
     },
     "metadata": {}
    }
   ]
  },
  {
   "cell_type": "code",
   "metadata": {
    "cell_id": "b382694e45e54d2fb25e63aa53e4b027",
    "tags": [],
    "deepnote_to_be_reexecuted": false,
    "source_hash": "8a2e19d8",
    "execution_start": 1657803031191,
    "execution_millis": 10,
    "deepnote_cell_type": "code",
    "deepnote_cell_height": 118.1875,
    "deepnote_output_heights": [
     21.1875
    ]
   },
   "source": "s4[4]",
   "execution_count": null,
   "outputs": [
    {
     "output_type": "execute_result",
     "execution_count": 23,
     "data": {
      "text/plain": "5"
     },
     "metadata": {}
    }
   ]
  },
  {
   "cell_type": "code",
   "metadata": {
    "cell_id": "817d9300d41e46e6bf2cbcca98bbefa8",
    "tags": [],
    "deepnote_to_be_reexecuted": false,
    "source_hash": "7979a71d",
    "execution_start": 1657803061715,
    "execution_millis": 8,
    "deepnote_cell_type": "code",
    "deepnote_cell_height": 175.75,
    "deepnote_output_heights": [
     78.75
    ]
   },
   "source": "s4[0:3]",
   "execution_count": null,
   "outputs": [
    {
     "output_type": "execute_result",
     "execution_count": 24,
     "data": {
      "text/plain": "0    1\n1    2\n2    3\ndtype: int64"
     },
     "metadata": {}
    }
   ]
  },
  {
   "cell_type": "code",
   "metadata": {
    "cell_id": "5eead21b216849e68d0c7d1879fe3a5e",
    "tags": [],
    "deepnote_to_be_reexecuted": false,
    "source_hash": "3f3907d3",
    "execution_start": 1657803101038,
    "execution_millis": 19,
    "deepnote_cell_type": "code",
    "deepnote_cell_height": 136.1875,
    "deepnote_output_heights": [
     21.1875
    ]
   },
   "source": "#max value\nmax(s4)",
   "execution_count": null,
   "outputs": [
    {
     "output_type": "execute_result",
     "execution_count": 25,
     "data": {
      "text/plain": "5"
     },
     "metadata": {}
    }
   ]
  },
  {
   "cell_type": "code",
   "metadata": {
    "cell_id": "431cb1406fb644afa9d98caa1c62548c",
    "tags": [],
    "deepnote_to_be_reexecuted": false,
    "source_hash": "7dbff86c",
    "execution_start": 1657803108049,
    "execution_millis": 693,
    "deepnote_cell_type": "code",
    "deepnote_cell_height": 118.1875,
    "deepnote_output_heights": [
     21.1875
    ]
   },
   "source": "min(s4)",
   "execution_count": null,
   "outputs": [
    {
     "output_type": "execute_result",
     "execution_count": 26,
     "data": {
      "text/plain": "1"
     },
     "metadata": {}
    }
   ]
  },
  {
   "cell_type": "code",
   "metadata": {
    "cell_id": "7852a2a2d36c4db5a9146acf74526415",
    "tags": [],
    "deepnote_to_be_reexecuted": false,
    "source_hash": "59a7e01",
    "execution_start": 1657803121890,
    "execution_millis": 22,
    "deepnote_cell_type": "code",
    "deepnote_cell_height": 156.5625,
    "deepnote_output_heights": [
     59.5625
    ]
   },
   "source": "s4[s4>3]",
   "execution_count": null,
   "outputs": [
    {
     "output_type": "execute_result",
     "execution_count": 27,
     "data": {
      "text/plain": "3    4\n4    5\ndtype: int64"
     },
     "metadata": {}
    }
   ]
  },
  {
   "cell_type": "code",
   "metadata": {
    "cell_id": "d5b7bb028ade4dc3a692e925fbb2e9b9",
    "tags": [],
    "deepnote_to_be_reexecuted": false,
    "source_hash": "799d985a",
    "execution_start": 1657803164804,
    "execution_millis": 603,
    "deepnote_cell_type": "code",
    "deepnote_cell_height": 232.125,
    "deepnote_output_heights": [
     117.125
    ]
   },
   "source": "#mathematical operations\ns4",
   "execution_count": null,
   "outputs": [
    {
     "output_type": "execute_result",
     "execution_count": 28,
     "data": {
      "text/plain": "0    1\n1    2\n2    3\n3    4\n4    5\ndtype: int64"
     },
     "metadata": {}
    }
   ]
  },
  {
   "cell_type": "code",
   "metadata": {
    "cell_id": "28cb87ac88fd4c1db6103e40bfa4fd84",
    "tags": [],
    "deepnote_to_be_reexecuted": false,
    "source_hash": "593fef02",
    "execution_start": 1657803193313,
    "execution_millis": 30,
    "deepnote_cell_type": "code",
    "deepnote_cell_height": 231.125
   },
   "source": "s5 = pd.Series([1,3,4,5,6])\nprint(s5)",
   "execution_count": null,
   "outputs": [
    {
     "name": "stdout",
     "text": "0    1\n1    3\n2    4\n3    5\n4    6\ndtype: int64\n",
     "output_type": "stream"
    }
   ]
  },
  {
   "cell_type": "code",
   "metadata": {
    "cell_id": "5b6e22b6c0e5430d85967335bf32782a",
    "tags": [],
    "deepnote_to_be_reexecuted": false,
    "source_hash": "ba0583be",
    "execution_start": 1657803206448,
    "execution_millis": 4,
    "deepnote_cell_type": "code",
    "deepnote_cell_height": 214.125,
    "deepnote_output_heights": [
     117.125
    ]
   },
   "source": "s4 + s5",
   "execution_count": null,
   "outputs": [
    {
     "output_type": "execute_result",
     "execution_count": 30,
     "data": {
      "text/plain": "0     2\n1     5\n2     7\n3     9\n4    11\ndtype: int64"
     },
     "metadata": {}
    }
   ]
  },
  {
   "cell_type": "code",
   "metadata": {
    "cell_id": "73a8fa8fe08d43429620f25bfdc587b1",
    "tags": [],
    "deepnote_to_be_reexecuted": false,
    "source_hash": "d9e25583",
    "execution_start": 1657803252715,
    "execution_millis": 13,
    "deepnote_cell_type": "code",
    "deepnote_cell_height": 190.75
   },
   "source": "s6 = pd.Series([1,4,5])\nprint(s6)",
   "execution_count": null,
   "outputs": [
    {
     "name": "stdout",
     "text": "0    1\n1    4\n2    5\ndtype: int64\n",
     "output_type": "stream"
    }
   ]
  },
  {
   "cell_type": "code",
   "metadata": {
    "cell_id": "bdef835769e74e92a66cb0c18aa1efc8",
    "tags": [],
    "deepnote_to_be_reexecuted": false,
    "source_hash": "8ce9a449",
    "execution_start": 1657803260156,
    "execution_millis": 29,
    "deepnote_cell_type": "code",
    "deepnote_cell_height": 214.125,
    "deepnote_output_heights": [
     117.125
    ]
   },
   "source": "s5+s6",
   "execution_count": null,
   "outputs": [
    {
     "output_type": "execute_result",
     "execution_count": 32,
     "data": {
      "text/plain": "0    2.0\n1    7.0\n2    9.0\n3    NaN\n4    NaN\ndtype: float64"
     },
     "metadata": {}
    }
   ]
  },
  {
   "cell_type": "code",
   "metadata": {
    "cell_id": "23fcfa5726614763b68ba0574e3ffed5",
    "tags": [],
    "deepnote_to_be_reexecuted": false,
    "source_hash": "be0ee16a",
    "execution_start": 1657803506938,
    "execution_millis": 2,
    "deepnote_cell_type": "code",
    "deepnote_cell_height": 81
   },
   "source": "#Python Dateframe",
   "execution_count": null,
   "outputs": []
  },
  {
   "cell_type": "code",
   "metadata": {
    "cell_id": "45c03341ef7c42e18523365970cafbb1",
    "tags": [],
    "deepnote_to_be_reexecuted": false,
    "source_hash": "af9a37dd",
    "execution_start": 1657803570230,
    "execution_millis": 26,
    "deepnote_cell_type": "code",
    "deepnote_cell_height": 170.5625
   },
   "source": "emt_df = pd.DataFrame()\nprint(emt_df)",
   "execution_count": null,
   "outputs": [
    {
     "name": "stdout",
     "text": "Empty DataFrame\nColumns: []\nIndex: []\n",
     "output_type": "stream"
    }
   ]
  },
  {
   "cell_type": "code",
   "metadata": {
    "cell_id": "bb747d34cf0645d6a6c46a7a1903a4be",
    "tags": [],
    "deepnote_to_be_reexecuted": false,
    "source_hash": "c3898ae5",
    "execution_start": 1657803641016,
    "execution_millis": 4,
    "deepnote_cell_type": "code",
    "deepnote_cell_height": 208.75
   },
   "source": "lst = ['a','b','c']\ndf1 = pd.DataFrame(lst)\nprint(df1)",
   "execution_count": null,
   "outputs": [
    {
     "name": "stdout",
     "text": "   0\n0  a\n1  b\n2  c\n",
     "output_type": "stream"
    }
   ]
  },
  {
   "cell_type": "code",
   "metadata": {
    "cell_id": "a13782575d6643a6bd7c0afa2bd15d02",
    "tags": [],
    "deepnote_to_be_reexecuted": false,
    "source_hash": "2c0d7517",
    "execution_start": 1657803708825,
    "execution_millis": 831,
    "deepnote_cell_type": "code",
    "deepnote_cell_height": 313
   },
   "source": "df1",
   "execution_count": null,
   "outputs": [
    {
     "output_type": "execute_result",
     "execution_count": 38,
     "data": {
      "application/vnd.deepnote.dataframe.v3+json": {
       "column_count": 1,
       "row_count": 3,
       "columns": [
        {
         "name": 0,
         "dtype": "object",
         "stats": {
          "unique_count": 3,
          "nan_count": 0,
          "categories": [
           {
            "name": "a",
            "count": 1
           },
           {
            "name": "b",
            "count": 1
           },
           {
            "name": "c",
            "count": 1
           }
          ]
         }
        },
        {
         "name": "_deepnote_index_column",
         "dtype": "int64"
        }
       ],
       "rows": [
        {
         "0": "a",
         "_deepnote_index_column": 0
        },
        {
         "0": "b",
         "_deepnote_index_column": 1
        },
        {
         "0": "c",
         "_deepnote_index_column": 2
        }
       ]
      },
      "text/plain": "   0\n0  a\n1  b\n2  c",
      "text/html": "<div>\n<style scoped>\n    .dataframe tbody tr th:only-of-type {\n        vertical-align: middle;\n    }\n\n    .dataframe tbody tr th {\n        vertical-align: top;\n    }\n\n    .dataframe thead th {\n        text-align: right;\n    }\n</style>\n<table border=\"1\" class=\"dataframe\">\n  <thead>\n    <tr style=\"text-align: right;\">\n      <th></th>\n      <th>0</th>\n    </tr>\n  </thead>\n  <tbody>\n    <tr>\n      <th>0</th>\n      <td>a</td>\n    </tr>\n    <tr>\n      <th>1</th>\n      <td>b</td>\n    </tr>\n    <tr>\n      <th>2</th>\n      <td>c</td>\n    </tr>\n  </tbody>\n</table>\n</div>"
     },
     "metadata": {}
    }
   ]
  },
  {
   "cell_type": "code",
   "metadata": {
    "cell_id": "918202e2201b46f3b67109f1b876af77",
    "tags": [],
    "deepnote_to_be_reexecuted": false,
    "source_hash": "94c926d4",
    "execution_start": 1657803770003,
    "execution_millis": 1,
    "deepnote_cell_type": "code",
    "deepnote_cell_height": 117
   },
   "source": "ls = [[1,2,3],[4,5,6],[7,8,9]]\ndf2 = pd.DataFrame(ls)\n",
   "execution_count": null,
   "outputs": []
  },
  {
   "cell_type": "code",
   "metadata": {
    "cell_id": "261f0d0d20ae46b693c443f2d960bbaa",
    "tags": [],
    "deepnote_to_be_reexecuted": false,
    "source_hash": "caa55e2e",
    "execution_start": 1657803826786,
    "execution_millis": 29,
    "deepnote_cell_type": "code",
    "deepnote_cell_height": 313
   },
   "source": "df2",
   "execution_count": null,
   "outputs": [
    {
     "output_type": "execute_result",
     "execution_count": 43,
     "data": {
      "application/vnd.deepnote.dataframe.v3+json": {
       "column_count": 3,
       "row_count": 3,
       "columns": [
        {
         "name": 0,
         "dtype": "int64",
         "stats": {
          "unique_count": 3,
          "nan_count": 0,
          "min": "1",
          "max": "7",
          "histogram": [
           {
            "bin_start": 1,
            "bin_end": 1.6,
            "count": 1
           },
           {
            "bin_start": 1.6,
            "bin_end": 2.2,
            "count": 0
           },
           {
            "bin_start": 2.2,
            "bin_end": 2.8,
            "count": 0
           },
           {
            "bin_start": 2.8,
            "bin_end": 3.4,
            "count": 0
           },
           {
            "bin_start": 3.4,
            "bin_end": 4,
            "count": 0
           },
           {
            "bin_start": 4,
            "bin_end": 4.6,
            "count": 1
           },
           {
            "bin_start": 4.6,
            "bin_end": 5.2,
            "count": 0
           },
           {
            "bin_start": 5.2,
            "bin_end": 5.8,
            "count": 0
           },
           {
            "bin_start": 5.8,
            "bin_end": 6.3999999999999995,
            "count": 0
           },
           {
            "bin_start": 6.3999999999999995,
            "bin_end": 7,
            "count": 1
           }
          ]
         }
        },
        {
         "name": 1,
         "dtype": "int64",
         "stats": {
          "unique_count": 3,
          "nan_count": 0,
          "min": "2",
          "max": "8",
          "histogram": [
           {
            "bin_start": 2,
            "bin_end": 2.6,
            "count": 1
           },
           {
            "bin_start": 2.6,
            "bin_end": 3.2,
            "count": 0
           },
           {
            "bin_start": 3.2,
            "bin_end": 3.8,
            "count": 0
           },
           {
            "bin_start": 3.8,
            "bin_end": 4.4,
            "count": 0
           },
           {
            "bin_start": 4.4,
            "bin_end": 5,
            "count": 0
           },
           {
            "bin_start": 5,
            "bin_end": 5.6,
            "count": 1
           },
           {
            "bin_start": 5.6,
            "bin_end": 6.2,
            "count": 0
           },
           {
            "bin_start": 6.2,
            "bin_end": 6.8,
            "count": 0
           },
           {
            "bin_start": 6.8,
            "bin_end": 7.3999999999999995,
            "count": 0
           },
           {
            "bin_start": 7.3999999999999995,
            "bin_end": 8,
            "count": 1
           }
          ]
         }
        },
        {
         "name": 2,
         "dtype": "int64",
         "stats": {
          "unique_count": 3,
          "nan_count": 0,
          "min": "3",
          "max": "9",
          "histogram": [
           {
            "bin_start": 3,
            "bin_end": 3.6,
            "count": 1
           },
           {
            "bin_start": 3.6,
            "bin_end": 4.2,
            "count": 0
           },
           {
            "bin_start": 4.2,
            "bin_end": 4.8,
            "count": 0
           },
           {
            "bin_start": 4.8,
            "bin_end": 5.4,
            "count": 0
           },
           {
            "bin_start": 5.4,
            "bin_end": 6,
            "count": 0
           },
           {
            "bin_start": 6,
            "bin_end": 6.6,
            "count": 1
           },
           {
            "bin_start": 6.6,
            "bin_end": 7.2,
            "count": 0
           },
           {
            "bin_start": 7.2,
            "bin_end": 7.8,
            "count": 0
           },
           {
            "bin_start": 7.8,
            "bin_end": 8.399999999999999,
            "count": 0
           },
           {
            "bin_start": 8.399999999999999,
            "bin_end": 9,
            "count": 1
           }
          ]
         }
        },
        {
         "name": "_deepnote_index_column",
         "dtype": "int64"
        }
       ],
       "rows": [
        {
         "0": 1,
         "1": 2,
         "2": 3,
         "_deepnote_index_column": 0
        },
        {
         "0": 4,
         "1": 5,
         "2": 6,
         "_deepnote_index_column": 1
        },
        {
         "0": 7,
         "1": 8,
         "2": 9,
         "_deepnote_index_column": 2
        }
       ]
      },
      "text/plain": "   0  1  2\n0  1  2  3\n1  4  5  6\n2  7  8  9",
      "text/html": "<div>\n<style scoped>\n    .dataframe tbody tr th:only-of-type {\n        vertical-align: middle;\n    }\n\n    .dataframe tbody tr th {\n        vertical-align: top;\n    }\n\n    .dataframe thead th {\n        text-align: right;\n    }\n</style>\n<table border=\"1\" class=\"dataframe\">\n  <thead>\n    <tr style=\"text-align: right;\">\n      <th></th>\n      <th>0</th>\n      <th>1</th>\n      <th>2</th>\n    </tr>\n  </thead>\n  <tbody>\n    <tr>\n      <th>0</th>\n      <td>1</td>\n      <td>2</td>\n      <td>3</td>\n    </tr>\n    <tr>\n      <th>1</th>\n      <td>4</td>\n      <td>5</td>\n      <td>6</td>\n    </tr>\n    <tr>\n      <th>2</th>\n      <td>7</td>\n      <td>8</td>\n      <td>9</td>\n    </tr>\n  </tbody>\n</table>\n</div>"
     },
     "metadata": {}
    }
   ]
  },
  {
   "cell_type": "code",
   "source": "_deepnote_run_altair(df2, \"\"\"{\"$schema\":\"https://vega.github.io/schema/vega-lite/v4.json\",\"mark\":{\"type\":\"bar\",\"tooltip\":true},\"height\":220,\"autosize\":{\"type\":\"fit\"},\"data\":{\"name\":\"placeholder\"},\"encoding\":{\"x\":{\"field\":0,\"type\":\"quantitative\",\"sort\":null,\"scale\":{\"type\":\"linear\",\"zero\":false}},\"y\":{\"field\":1,\"type\":\"quantitative\",\"sort\":null,\"scale\":{\"type\":\"linear\",\"zero\":true}},\"color\":{\"field\":\"\",\"type\":\"nominal\",\"sort\":null,\"scale\":{\"type\":\"linear\",\"zero\":false}}}}\"\"\")",
   "metadata": {
    "cell_id": "75e517c6996e44c4bf1b2aedb72994cb",
    "deepnote_variable_name": "df2",
    "deepnote_visualization_spec": {
     "$schema": "https://vega.github.io/schema/vega-lite/v4.json",
     "mark": {
      "type": "bar",
      "tooltip": true
     },
     "height": 220,
     "autosize": {
      "type": "fit"
     },
     "data": {
      "name": "placeholder"
     },
     "encoding": {
      "x": {
       "field": 0,
       "type": "quantitative",
       "sort": null,
       "scale": {
        "type": "linear",
        "zero": false
       }
      },
      "y": {
       "field": 1,
       "type": "quantitative",
       "sort": null,
       "scale": {
        "type": "linear",
        "zero": true
       }
      },
      "color": {
       "field": "",
       "type": "nominal",
       "sort": null,
       "scale": {
        "type": "linear",
        "zero": false
       }
      }
     }
    },
    "deepnote_to_be_reexecuted": false,
    "source_hash": "d49859ad",
    "execution_start": 1657803803737,
    "execution_millis": 254,
    "deepnote_cell_type": "visualization"
   },
   "execution_count": null,
   "outputs": [
    {
     "output_type": "error",
     "ename": "ValidationError",
     "evalue": "0 is not of type 'string'\n\nFailed validating 'type' in schema[0]:\n    {'type': 'string'}\n\nOn instance:\n    0",
     "traceback": [
      "\u001b[0;31m---------------------------------------------------------------------------\u001b[0m",
      "\u001b[0;31mValidationError\u001b[0m                           Traceback (most recent call last)",
      "\u001b[0;32m<ipython-input-42-436a22b8ec33>\u001b[0m in \u001b[0;36m<cell line: 1>\u001b[0;34m()\u001b[0m\n\u001b[0;32m----> 1\u001b[0;31m \u001b[0m_deepnote_run_altair\u001b[0m\u001b[0;34m(\u001b[0m\u001b[0mdf2\u001b[0m\u001b[0;34m,\u001b[0m \u001b[0;34m\"\"\"{\"$schema\":\"https://vega.github.io/schema/vega-lite/v4.json\",\"mark\":{\"type\":\"bar\",\"tooltip\":true},\"height\":220,\"autosize\":{\"type\":\"fit\"},\"data\":{\"name\":\"placeholder\"},\"encoding\":{\"x\":{\"field\":0,\"type\":\"quantitative\",\"sort\":null,\"scale\":{\"type\":\"linear\",\"zero\":false}},\"y\":{\"field\":1,\"type\":\"quantitative\",\"sort\":null,\"scale\":{\"type\":\"linear\",\"zero\":true}},\"color\":{\"field\":\"\",\"type\":\"nominal\",\"sort\":null,\"scale\":{\"type\":\"linear\",\"zero\":false}}}}\"\"\"\u001b[0m\u001b[0;34m)\u001b[0m\u001b[0;34m\u001b[0m\u001b[0;34m\u001b[0m\u001b[0m\n\u001b[0m",
      "\u001b[0;32m/compute-helpers/code/visualization_utils.py\u001b[0m in \u001b[0;36m_deepnote_run_altair\u001b[0;34m(df, spec)\u001b[0m\n\u001b[1;32m     41\u001b[0m \u001b[0;34m\u001b[0m\u001b[0m\n\u001b[1;32m     42\u001b[0m     chart = (\n\u001b[0;32m---> 43\u001b[0;31m         \u001b[0malt\u001b[0m\u001b[0;34m.\u001b[0m\u001b[0mChart\u001b[0m\u001b[0;34m.\u001b[0m\u001b[0mfrom_json\u001b[0m\u001b[0;34m(\u001b[0m\u001b[0mspec\u001b[0m\u001b[0;34m)\u001b[0m\u001b[0;34m\u001b[0m\u001b[0;34m\u001b[0m\u001b[0m\n\u001b[0m\u001b[1;32m     44\u001b[0m         \u001b[0;34m.\u001b[0m\u001b[0mconfigure_axis\u001b[0m\u001b[0;34m(\u001b[0m\u001b[0;34m)\u001b[0m\u001b[0;34m\u001b[0m\u001b[0;34m\u001b[0m\u001b[0m\n\u001b[1;32m     45\u001b[0m         \u001b[0;34m.\u001b[0m\u001b[0mproperties\u001b[0m\u001b[0;34m(\u001b[0m\u001b[0mwidth\u001b[0m\u001b[0;34m=\u001b[0m\u001b[0;34m\"container\"\u001b[0m\u001b[0;34m,\u001b[0m \u001b[0mheight\u001b[0m\u001b[0;34m=\u001b[0m\u001b[0;36m300\u001b[0m\u001b[0;34m)\u001b[0m\u001b[0;34m\u001b[0m\u001b[0;34m\u001b[0m\u001b[0m\n",
      "\u001b[0;32m/shared-libs/python3.9/py/lib/python3.9/site-packages/altair/utils/schemapi.py\u001b[0m in \u001b[0;36mfrom_json\u001b[0;34m(cls, json_string, validate, **kwargs)\u001b[0m\n\u001b[1;32m    429\u001b[0m         \"\"\"\n\u001b[1;32m    430\u001b[0m         \u001b[0mdct\u001b[0m \u001b[0;34m=\u001b[0m \u001b[0mjson\u001b[0m\u001b[0;34m.\u001b[0m\u001b[0mloads\u001b[0m\u001b[0;34m(\u001b[0m\u001b[0mjson_string\u001b[0m\u001b[0;34m,\u001b[0m \u001b[0;34m**\u001b[0m\u001b[0mkwargs\u001b[0m\u001b[0;34m)\u001b[0m\u001b[0;34m\u001b[0m\u001b[0;34m\u001b[0m\u001b[0m\n\u001b[0;32m--> 431\u001b[0;31m         \u001b[0;32mreturn\u001b[0m \u001b[0mcls\u001b[0m\u001b[0;34m.\u001b[0m\u001b[0mfrom_dict\u001b[0m\u001b[0;34m(\u001b[0m\u001b[0mdct\u001b[0m\u001b[0;34m,\u001b[0m \u001b[0mvalidate\u001b[0m\u001b[0;34m=\u001b[0m\u001b[0mvalidate\u001b[0m\u001b[0;34m)\u001b[0m\u001b[0;34m\u001b[0m\u001b[0;34m\u001b[0m\u001b[0m\n\u001b[0m\u001b[1;32m    432\u001b[0m \u001b[0;34m\u001b[0m\u001b[0m\n\u001b[1;32m    433\u001b[0m     \u001b[0;34m@\u001b[0m\u001b[0mclassmethod\u001b[0m\u001b[0;34m\u001b[0m\u001b[0;34m\u001b[0m\u001b[0m\n",
      "\u001b[0;32m/shared-libs/python3.9/py/lib/python3.9/site-packages/altair/vegalite/v4/api.py\u001b[0m in \u001b[0;36mfrom_dict\u001b[0;34m(cls, dct, validate)\u001b[0m\n\u001b[1;32m   1982\u001b[0m \u001b[0;34m\u001b[0m\u001b[0m\n\u001b[1;32m   1983\u001b[0m         \u001b[0;31m# As a last resort, try using the Root vegalite object\u001b[0m\u001b[0;34m\u001b[0m\u001b[0;34m\u001b[0m\u001b[0m\n\u001b[0;32m-> 1984\u001b[0;31m         \u001b[0;32mreturn\u001b[0m \u001b[0mcore\u001b[0m\u001b[0;34m.\u001b[0m\u001b[0mRoot\u001b[0m\u001b[0;34m.\u001b[0m\u001b[0mfrom_dict\u001b[0m\u001b[0;34m(\u001b[0m\u001b[0mdct\u001b[0m\u001b[0;34m,\u001b[0m \u001b[0mvalidate\u001b[0m\u001b[0;34m)\u001b[0m\u001b[0;34m\u001b[0m\u001b[0;34m\u001b[0m\u001b[0m\n\u001b[0m\u001b[1;32m   1985\u001b[0m \u001b[0;34m\u001b[0m\u001b[0m\n\u001b[1;32m   1986\u001b[0m     \u001b[0;32mdef\u001b[0m \u001b[0madd_selection\u001b[0m\u001b[0;34m(\u001b[0m\u001b[0mself\u001b[0m\u001b[0;34m,\u001b[0m \u001b[0;34m*\u001b[0m\u001b[0mselections\u001b[0m\u001b[0;34m)\u001b[0m\u001b[0;34m:\u001b[0m\u001b[0;34m\u001b[0m\u001b[0;34m\u001b[0m\u001b[0m\n",
      "\u001b[0;32m/shared-libs/python3.9/py/lib/python3.9/site-packages/altair/utils/schemapi.py\u001b[0m in \u001b[0;36mfrom_dict\u001b[0;34m(cls, dct, validate, _wrapper_classes)\u001b[0m\n\u001b[1;32m    404\u001b[0m         \"\"\"\n\u001b[1;32m    405\u001b[0m         \u001b[0;32mif\u001b[0m \u001b[0mvalidate\u001b[0m\u001b[0;34m:\u001b[0m\u001b[0;34m\u001b[0m\u001b[0;34m\u001b[0m\u001b[0m\n\u001b[0;32m--> 406\u001b[0;31m             \u001b[0mcls\u001b[0m\u001b[0;34m.\u001b[0m\u001b[0mvalidate\u001b[0m\u001b[0;34m(\u001b[0m\u001b[0mdct\u001b[0m\u001b[0;34m)\u001b[0m\u001b[0;34m\u001b[0m\u001b[0;34m\u001b[0m\u001b[0m\n\u001b[0m\u001b[1;32m    407\u001b[0m         \u001b[0;32mif\u001b[0m \u001b[0m_wrapper_classes\u001b[0m \u001b[0;32mis\u001b[0m \u001b[0;32mNone\u001b[0m\u001b[0;34m:\u001b[0m\u001b[0;34m\u001b[0m\u001b[0;34m\u001b[0m\u001b[0m\n\u001b[1;32m    408\u001b[0m             \u001b[0m_wrapper_classes\u001b[0m \u001b[0;34m=\u001b[0m \u001b[0mcls\u001b[0m\u001b[0;34m.\u001b[0m\u001b[0m_default_wrapper_classes\u001b[0m\u001b[0;34m(\u001b[0m\u001b[0;34m)\u001b[0m\u001b[0;34m\u001b[0m\u001b[0;34m\u001b[0m\u001b[0m\n",
      "\u001b[0;32m/shared-libs/python3.9/py/lib/python3.9/site-packages/altair/utils/schemapi.py\u001b[0m in \u001b[0;36mvalidate\u001b[0;34m(cls, instance, schema)\u001b[0m\n\u001b[1;32m    440\u001b[0m             \u001b[0mschema\u001b[0m \u001b[0;34m=\u001b[0m \u001b[0mcls\u001b[0m\u001b[0;34m.\u001b[0m\u001b[0m_schema\u001b[0m\u001b[0;34m\u001b[0m\u001b[0;34m\u001b[0m\u001b[0m\n\u001b[1;32m    441\u001b[0m         \u001b[0mresolver\u001b[0m \u001b[0;34m=\u001b[0m \u001b[0mjsonschema\u001b[0m\u001b[0;34m.\u001b[0m\u001b[0mRefResolver\u001b[0m\u001b[0;34m.\u001b[0m\u001b[0mfrom_schema\u001b[0m\u001b[0;34m(\u001b[0m\u001b[0mcls\u001b[0m\u001b[0;34m.\u001b[0m\u001b[0m_rootschema\u001b[0m \u001b[0;32mor\u001b[0m \u001b[0mcls\u001b[0m\u001b[0;34m.\u001b[0m\u001b[0m_schema\u001b[0m\u001b[0;34m)\u001b[0m\u001b[0;34m\u001b[0m\u001b[0;34m\u001b[0m\u001b[0m\n\u001b[0;32m--> 442\u001b[0;31m         \u001b[0;32mreturn\u001b[0m \u001b[0mjsonschema\u001b[0m\u001b[0;34m.\u001b[0m\u001b[0mvalidate\u001b[0m\u001b[0;34m(\u001b[0m\u001b[0minstance\u001b[0m\u001b[0;34m,\u001b[0m \u001b[0mschema\u001b[0m\u001b[0;34m,\u001b[0m \u001b[0mresolver\u001b[0m\u001b[0;34m=\u001b[0m\u001b[0mresolver\u001b[0m\u001b[0;34m)\u001b[0m\u001b[0;34m\u001b[0m\u001b[0;34m\u001b[0m\u001b[0m\n\u001b[0m\u001b[1;32m    443\u001b[0m \u001b[0;34m\u001b[0m\u001b[0m\n\u001b[1;32m    444\u001b[0m     \u001b[0;34m@\u001b[0m\u001b[0mclassmethod\u001b[0m\u001b[0;34m\u001b[0m\u001b[0;34m\u001b[0m\u001b[0m\n",
      "\u001b[0;32m/shared-libs/python3.9/py-core/lib/python3.9/site-packages/jsonschema/validators.py\u001b[0m in \u001b[0;36mvalidate\u001b[0;34m(instance, schema, cls, *args, **kwargs)\u001b[0m\n\u001b[1;32m    932\u001b[0m     \u001b[0merror\u001b[0m \u001b[0;34m=\u001b[0m \u001b[0mexceptions\u001b[0m\u001b[0;34m.\u001b[0m\u001b[0mbest_match\u001b[0m\u001b[0;34m(\u001b[0m\u001b[0mvalidator\u001b[0m\u001b[0;34m.\u001b[0m\u001b[0miter_errors\u001b[0m\u001b[0;34m(\u001b[0m\u001b[0minstance\u001b[0m\u001b[0;34m)\u001b[0m\u001b[0;34m)\u001b[0m\u001b[0;34m\u001b[0m\u001b[0;34m\u001b[0m\u001b[0m\n\u001b[1;32m    933\u001b[0m     \u001b[0;32mif\u001b[0m \u001b[0merror\u001b[0m \u001b[0;32mis\u001b[0m \u001b[0;32mnot\u001b[0m \u001b[0;32mNone\u001b[0m\u001b[0;34m:\u001b[0m\u001b[0;34m\u001b[0m\u001b[0;34m\u001b[0m\u001b[0m\n\u001b[0;32m--> 934\u001b[0;31m         \u001b[0;32mraise\u001b[0m \u001b[0merror\u001b[0m\u001b[0;34m\u001b[0m\u001b[0;34m\u001b[0m\u001b[0m\n\u001b[0m\u001b[1;32m    935\u001b[0m \u001b[0;34m\u001b[0m\u001b[0m\n\u001b[1;32m    936\u001b[0m \u001b[0;34m\u001b[0m\u001b[0m\n",
      "\u001b[0;31mValidationError\u001b[0m: 0 is not of type 'string'\n\nFailed validating 'type' in schema[0]:\n    {'type': 'string'}\n\nOn instance:\n    0"
     ]
    }
   ]
  },
  {
   "cell_type": "code",
   "metadata": {
    "cell_id": "a88d61e2a682474caaf2c04f5463af95",
    "tags": [],
    "deepnote_to_be_reexecuted": false,
    "source_hash": "28d3768f",
    "execution_start": 1657804035671,
    "execution_millis": 17,
    "deepnote_cell_type": "code",
    "deepnote_cell_height": 154.1875,
    "deepnote_output_heights": [
     21.1875
    ]
   },
   "source": "#dictionary\ndict1 = {'ID': [11,22,33,44],'SN': [13,23,33,43]}\ndict1",
   "execution_count": null,
   "outputs": [
    {
     "output_type": "execute_result",
     "execution_count": 46,
     "data": {
      "text/plain": "{'ID': [11, 22, 33, 44], 'SN': [13, 23, 33, 43]}"
     },
     "metadata": {}
    }
   ]
  },
  {
   "cell_type": "code",
   "metadata": {
    "cell_id": "134d5cdc240940c7a1df7dfea509844a",
    "tags": [],
    "deepnote_to_be_reexecuted": false,
    "source_hash": "d20effb3",
    "execution_start": 1657804057171,
    "execution_millis": 4,
    "deepnote_cell_type": "code",
    "deepnote_cell_height": 81
   },
   "source": "df3 = pd.DataFrame(dict1)",
   "execution_count": null,
   "outputs": []
  },
  {
   "cell_type": "code",
   "metadata": {
    "cell_id": "bc44561d17fb48099e18218e9db850ca",
    "tags": [],
    "deepnote_to_be_reexecuted": false,
    "source_hash": "816a197e",
    "execution_start": 1657804063110,
    "execution_millis": 4,
    "deepnote_cell_type": "code",
    "deepnote_cell_height": 354
   },
   "source": "df3",
   "execution_count": null,
   "outputs": [
    {
     "output_type": "execute_result",
     "execution_count": 48,
     "data": {
      "application/vnd.deepnote.dataframe.v3+json": {
       "column_count": 2,
       "row_count": 4,
       "columns": [
        {
         "name": "ID",
         "dtype": "int64",
         "stats": {
          "unique_count": 4,
          "nan_count": 0,
          "min": "11",
          "max": "44",
          "histogram": [
           {
            "bin_start": 11,
            "bin_end": 14.3,
            "count": 1
           },
           {
            "bin_start": 14.3,
            "bin_end": 17.6,
            "count": 0
           },
           {
            "bin_start": 17.6,
            "bin_end": 20.9,
            "count": 0
           },
           {
            "bin_start": 20.9,
            "bin_end": 24.2,
            "count": 1
           },
           {
            "bin_start": 24.2,
            "bin_end": 27.5,
            "count": 0
           },
           {
            "bin_start": 27.5,
            "bin_end": 30.799999999999997,
            "count": 0
           },
           {
            "bin_start": 30.799999999999997,
            "bin_end": 34.099999999999994,
            "count": 1
           },
           {
            "bin_start": 34.099999999999994,
            "bin_end": 37.4,
            "count": 0
           },
           {
            "bin_start": 37.4,
            "bin_end": 40.7,
            "count": 0
           },
           {
            "bin_start": 40.7,
            "bin_end": 44,
            "count": 1
           }
          ]
         }
        },
        {
         "name": "SN",
         "dtype": "int64",
         "stats": {
          "unique_count": 4,
          "nan_count": 0,
          "min": "13",
          "max": "43",
          "histogram": [
           {
            "bin_start": 13,
            "bin_end": 16,
            "count": 1
           },
           {
            "bin_start": 16,
            "bin_end": 19,
            "count": 0
           },
           {
            "bin_start": 19,
            "bin_end": 22,
            "count": 0
           },
           {
            "bin_start": 22,
            "bin_end": 25,
            "count": 1
           },
           {
            "bin_start": 25,
            "bin_end": 28,
            "count": 0
           },
           {
            "bin_start": 28,
            "bin_end": 31,
            "count": 0
           },
           {
            "bin_start": 31,
            "bin_end": 34,
            "count": 1
           },
           {
            "bin_start": 34,
            "bin_end": 37,
            "count": 0
           },
           {
            "bin_start": 37,
            "bin_end": 40,
            "count": 0
           },
           {
            "bin_start": 40,
            "bin_end": 43,
            "count": 1
           }
          ]
         }
        },
        {
         "name": "_deepnote_index_column",
         "dtype": "int64"
        }
       ],
       "rows": [
        {
         "ID": 11,
         "SN": 13,
         "_deepnote_index_column": 0
        },
        {
         "ID": 22,
         "SN": 23,
         "_deepnote_index_column": 1
        },
        {
         "ID": 33,
         "SN": 33,
         "_deepnote_index_column": 2
        },
        {
         "ID": 44,
         "SN": 43,
         "_deepnote_index_column": 3
        }
       ]
      },
      "text/plain": "   ID  SN\n0  11  13\n1  22  23\n2  33  33\n3  44  43",
      "text/html": "<div>\n<style scoped>\n    .dataframe tbody tr th:only-of-type {\n        vertical-align: middle;\n    }\n\n    .dataframe tbody tr th {\n        vertical-align: top;\n    }\n\n    .dataframe thead th {\n        text-align: right;\n    }\n</style>\n<table border=\"1\" class=\"dataframe\">\n  <thead>\n    <tr style=\"text-align: right;\">\n      <th></th>\n      <th>ID</th>\n      <th>SN</th>\n    </tr>\n  </thead>\n  <tbody>\n    <tr>\n      <th>0</th>\n      <td>11</td>\n      <td>13</td>\n    </tr>\n    <tr>\n      <th>1</th>\n      <td>22</td>\n      <td>23</td>\n    </tr>\n    <tr>\n      <th>2</th>\n      <td>33</td>\n      <td>33</td>\n    </tr>\n    <tr>\n      <th>3</th>\n      <td>44</td>\n      <td>43</td>\n    </tr>\n  </tbody>\n</table>\n</div>"
     },
     "metadata": {}
    }
   ]
  },
  {
   "cell_type": "code",
   "metadata": {
    "cell_id": "3ad78370c4904da88b4170e741572aa0",
    "tags": [],
    "deepnote_to_be_reexecuted": false,
    "source_hash": "bc6253a7",
    "execution_start": 1657804279759,
    "execution_millis": 2,
    "deepnote_cell_type": "code",
    "deepnote_cell_height": 326
   },
   "source": "#list of dictionary\nlsdict = [{'a':1, 'b':2, 'c':4},{'a':3, 'b':6, 'c':7}]\ndf4 = pd.DataFrame(lsdict)\ndf4",
   "execution_count": null,
   "outputs": [
    {
     "output_type": "execute_result",
     "execution_count": 50,
     "data": {
      "application/vnd.deepnote.dataframe.v3+json": {
       "column_count": 3,
       "row_count": 2,
       "columns": [
        {
         "name": "a",
         "dtype": "int64",
         "stats": {
          "unique_count": 2,
          "nan_count": 0,
          "min": "1",
          "max": "3",
          "histogram": [
           {
            "bin_start": 1,
            "bin_end": 1.2,
            "count": 1
           },
           {
            "bin_start": 1.2,
            "bin_end": 1.4,
            "count": 0
           },
           {
            "bin_start": 1.4,
            "bin_end": 1.6,
            "count": 0
           },
           {
            "bin_start": 1.6,
            "bin_end": 1.8,
            "count": 0
           },
           {
            "bin_start": 1.8,
            "bin_end": 2,
            "count": 0
           },
           {
            "bin_start": 2,
            "bin_end": 2.2,
            "count": 0
           },
           {
            "bin_start": 2.2,
            "bin_end": 2.4000000000000004,
            "count": 0
           },
           {
            "bin_start": 2.4000000000000004,
            "bin_end": 2.6,
            "count": 0
           },
           {
            "bin_start": 2.6,
            "bin_end": 2.8,
            "count": 0
           },
           {
            "bin_start": 2.8,
            "bin_end": 3,
            "count": 1
           }
          ]
         }
        },
        {
         "name": "b",
         "dtype": "int64",
         "stats": {
          "unique_count": 2,
          "nan_count": 0,
          "min": "2",
          "max": "6",
          "histogram": [
           {
            "bin_start": 2,
            "bin_end": 2.4,
            "count": 1
           },
           {
            "bin_start": 2.4,
            "bin_end": 2.8,
            "count": 0
           },
           {
            "bin_start": 2.8,
            "bin_end": 3.2,
            "count": 0
           },
           {
            "bin_start": 3.2,
            "bin_end": 3.6,
            "count": 0
           },
           {
            "bin_start": 3.6,
            "bin_end": 4,
            "count": 0
           },
           {
            "bin_start": 4,
            "bin_end": 4.4,
            "count": 0
           },
           {
            "bin_start": 4.4,
            "bin_end": 4.800000000000001,
            "count": 0
           },
           {
            "bin_start": 4.800000000000001,
            "bin_end": 5.2,
            "count": 0
           },
           {
            "bin_start": 5.2,
            "bin_end": 5.6,
            "count": 0
           },
           {
            "bin_start": 5.6,
            "bin_end": 6,
            "count": 1
           }
          ]
         }
        },
        {
         "name": "c",
         "dtype": "int64",
         "stats": {
          "unique_count": 2,
          "nan_count": 0,
          "min": "4",
          "max": "7",
          "histogram": [
           {
            "bin_start": 4,
            "bin_end": 4.3,
            "count": 1
           },
           {
            "bin_start": 4.3,
            "bin_end": 4.6,
            "count": 0
           },
           {
            "bin_start": 4.6,
            "bin_end": 4.9,
            "count": 0
           },
           {
            "bin_start": 4.9,
            "bin_end": 5.2,
            "count": 0
           },
           {
            "bin_start": 5.2,
            "bin_end": 5.5,
            "count": 0
           },
           {
            "bin_start": 5.5,
            "bin_end": 5.8,
            "count": 0
           },
           {
            "bin_start": 5.8,
            "bin_end": 6.1,
            "count": 0
           },
           {
            "bin_start": 6.1,
            "bin_end": 6.4,
            "count": 0
           },
           {
            "bin_start": 6.4,
            "bin_end": 6.699999999999999,
            "count": 0
           },
           {
            "bin_start": 6.699999999999999,
            "bin_end": 7,
            "count": 1
           }
          ]
         }
        },
        {
         "name": "_deepnote_index_column",
         "dtype": "int64"
        }
       ],
       "rows": [
        {
         "a": 1,
         "b": 2,
         "c": 4,
         "_deepnote_index_column": 0
        },
        {
         "a": 3,
         "b": 6,
         "c": 7,
         "_deepnote_index_column": 1
        }
       ]
      },
      "text/plain": "   a  b  c\n0  1  2  4\n1  3  6  7",
      "text/html": "<div>\n<style scoped>\n    .dataframe tbody tr th:only-of-type {\n        vertical-align: middle;\n    }\n\n    .dataframe tbody tr th {\n        vertical-align: top;\n    }\n\n    .dataframe thead th {\n        text-align: right;\n    }\n</style>\n<table border=\"1\" class=\"dataframe\">\n  <thead>\n    <tr style=\"text-align: right;\">\n      <th></th>\n      <th>a</th>\n      <th>b</th>\n      <th>c</th>\n    </tr>\n  </thead>\n  <tbody>\n    <tr>\n      <th>0</th>\n      <td>1</td>\n      <td>2</td>\n      <td>4</td>\n    </tr>\n    <tr>\n      <th>1</th>\n      <td>3</td>\n      <td>6</td>\n      <td>7</td>\n    </tr>\n  </tbody>\n</table>\n</div>"
     },
     "metadata": {}
    }
   ]
  },
  {
   "cell_type": "code",
   "metadata": {
    "cell_id": "a04cdd182b984894ae1dee753c73454b",
    "tags": [],
    "deepnote_to_be_reexecuted": false,
    "source_hash": "bdca78b0",
    "execution_start": 1657809412968,
    "execution_millis": 4,
    "deepnote_cell_type": "code",
    "deepnote_cell_height": 117
   },
   "source": "#import csv file\n\nimport pandas as pd",
   "execution_count": null,
   "outputs": []
  },
  {
   "cell_type": "code",
   "metadata": {
    "cell_id": "fc1ed3bf2de14a7fa38a92b3dd9d581f",
    "tags": [],
    "deepnote_to_be_reexecuted": false,
    "source_hash": "b623e53d",
    "execution_start": 1657817222434,
    "execution_millis": 3,
    "deepnote_cell_type": "code",
    "deepnote_cell_height": 81
   },
   "source": "",
   "execution_count": null,
   "outputs": []
  },
  {
   "cell_type": "code",
   "metadata": {
    "cell_id": "429dd87e3969427d8ffc9666a31e474d",
    "tags": [],
    "deepnote_to_be_reexecuted": false,
    "source_hash": "223c171f",
    "execution_start": 1657817144131,
    "execution_millis": 687,
    "deepnote_cell_type": "code",
    "deepnote_cell_height": 112.1875
   },
   "source": "!ls /datasets/pandas-csv-file/",
   "execution_count": null,
   "outputs": [
    {
     "name": "stdout",
     "text": "student.csv\n",
     "output_type": "stream"
    }
   ]
  },
  {
   "cell_type": "code",
   "metadata": {
    "cell_id": "f68d81eb439d43a3b999a2d79d7a67ee",
    "tags": [],
    "deepnote_to_be_reexecuted": false,
    "source_hash": "26778ca0",
    "execution_start": 1657817152719,
    "execution_millis": 126,
    "owner_user_id": "b803d4ce-0aab-47dc-94bb-85f0af39a50a",
    "deepnote_cell_type": "code",
    "deepnote_cell_height": 617
   },
   "source": "pd.read_csv(\"/datasets/pandas-csv-file/student.csv\")",
   "execution_count": null,
   "outputs": [
    {
     "output_type": "execute_result",
     "execution_count": 24,
     "data": {
      "application/vnd.deepnote.dataframe.v3+json": {
       "column_count": 7,
       "row_count": 10,
       "columns": [
        {
         "name": "Student ID",
         "dtype": "int64",
         "stats": {
          "unique_count": 10,
          "nan_count": 0,
          "min": "1001",
          "max": "1010",
          "histogram": [
           {
            "bin_start": 1001,
            "bin_end": 1001.9,
            "count": 1
           },
           {
            "bin_start": 1001.9,
            "bin_end": 1002.8,
            "count": 1
           },
           {
            "bin_start": 1002.8,
            "bin_end": 1003.7,
            "count": 1
           },
           {
            "bin_start": 1003.7,
            "bin_end": 1004.6,
            "count": 1
           },
           {
            "bin_start": 1004.6,
            "bin_end": 1005.5,
            "count": 1
           },
           {
            "bin_start": 1005.5,
            "bin_end": 1006.4,
            "count": 1
           },
           {
            "bin_start": 1006.4,
            "bin_end": 1007.3,
            "count": 1
           },
           {
            "bin_start": 1007.3,
            "bin_end": 1008.2,
            "count": 1
           },
           {
            "bin_start": 1008.2,
            "bin_end": 1009.1,
            "count": 1
           },
           {
            "bin_start": 1009.1,
            "bin_end": 1010,
            "count": 1
           }
          ]
         }
        },
        {
         "name": "Class",
         "dtype": "int64",
         "stats": {
          "unique_count": 3,
          "nan_count": 0,
          "min": "10",
          "max": "12",
          "histogram": [
           {
            "bin_start": 10,
            "bin_end": 10.2,
            "count": 3
           },
           {
            "bin_start": 10.2,
            "bin_end": 10.4,
            "count": 0
           },
           {
            "bin_start": 10.4,
            "bin_end": 10.6,
            "count": 0
           },
           {
            "bin_start": 10.6,
            "bin_end": 10.8,
            "count": 0
           },
           {
            "bin_start": 10.8,
            "bin_end": 11,
            "count": 0
           },
           {
            "bin_start": 11,
            "bin_end": 11.2,
            "count": 3
           },
           {
            "bin_start": 11.2,
            "bin_end": 11.4,
            "count": 0
           },
           {
            "bin_start": 11.4,
            "bin_end": 11.6,
            "count": 0
           },
           {
            "bin_start": 11.6,
            "bin_end": 11.8,
            "count": 0
           },
           {
            "bin_start": 11.8,
            "bin_end": 12,
            "count": 4
           }
          ]
         }
        },
        {
         "name": "Study hrs",
         "dtype": "int64",
         "stats": {
          "unique_count": 6,
          "nan_count": 0,
          "min": "0",
          "max": "10",
          "histogram": [
           {
            "bin_start": 0,
            "bin_end": 1,
            "count": 1
           },
           {
            "bin_start": 1,
            "bin_end": 2,
            "count": 0
           },
           {
            "bin_start": 2,
            "bin_end": 3,
            "count": 2
           },
           {
            "bin_start": 3,
            "bin_end": 4,
            "count": 1
           },
           {
            "bin_start": 4,
            "bin_end": 5,
            "count": 2
           },
           {
            "bin_start": 5,
            "bin_end": 6,
            "count": 0
           },
           {
            "bin_start": 6,
            "bin_end": 7,
            "count": 2
           },
           {
            "bin_start": 7,
            "bin_end": 8,
            "count": 0
           },
           {
            "bin_start": 8,
            "bin_end": 9,
            "count": 0
           },
           {
            "bin_start": 9,
            "bin_end": 10,
            "count": 2
           }
          ]
         }
        },
        {
         "name": "Sleeping hrs",
         "dtype": "int64",
         "stats": {
          "unique_count": 5,
          "nan_count": 0,
          "min": "6",
          "max": "10",
          "histogram": [
           {
            "bin_start": 6,
            "bin_end": 6.4,
            "count": 2
           },
           {
            "bin_start": 6.4,
            "bin_end": 6.8,
            "count": 0
           },
           {
            "bin_start": 6.8,
            "bin_end": 7.2,
            "count": 2
           },
           {
            "bin_start": 7.2,
            "bin_end": 7.6,
            "count": 0
           },
           {
            "bin_start": 7.6,
            "bin_end": 8,
            "count": 0
           },
           {
            "bin_start": 8,
            "bin_end": 8.4,
            "count": 3
           },
           {
            "bin_start": 8.4,
            "bin_end": 8.8,
            "count": 0
           },
           {
            "bin_start": 8.8,
            "bin_end": 9.2,
            "count": 2
           },
           {
            "bin_start": 9.2,
            "bin_end": 9.6,
            "count": 0
           },
           {
            "bin_start": 9.6,
            "bin_end": 10,
            "count": 1
           }
          ]
         }
        },
        {
         "name": "Social Media usage hrs",
         "dtype": "int64",
         "stats": {
          "unique_count": 4,
          "nan_count": 0,
          "min": "0",
          "max": "3",
          "histogram": [
           {
            "bin_start": 0,
            "bin_end": 0.3,
            "count": 2
           },
           {
            "bin_start": 0.3,
            "bin_end": 0.6,
            "count": 0
           },
           {
            "bin_start": 0.6,
            "bin_end": 0.8999999999999999,
            "count": 0
           },
           {
            "bin_start": 0.8999999999999999,
            "bin_end": 1.2,
            "count": 2
           },
           {
            "bin_start": 1.2,
            "bin_end": 1.5,
            "count": 0
           },
           {
            "bin_start": 1.5,
            "bin_end": 1.7999999999999998,
            "count": 0
           },
           {
            "bin_start": 1.7999999999999998,
            "bin_end": 2.1,
            "count": 5
           },
           {
            "bin_start": 2.1,
            "bin_end": 2.4,
            "count": 0
           },
           {
            "bin_start": 2.4,
            "bin_end": 2.6999999999999997,
            "count": 0
           },
           {
            "bin_start": 2.6999999999999997,
            "bin_end": 3,
            "count": 1
           }
          ]
         }
        },
        {
         "name": "Mobile Games hrs",
         "dtype": "int64",
         "stats": {
          "unique_count": 3,
          "nan_count": 0,
          "min": "0",
          "max": "5",
          "histogram": [
           {
            "bin_start": 0,
            "bin_end": 0.5,
            "count": 6
           },
           {
            "bin_start": 0.5,
            "bin_end": 1,
            "count": 0
           },
           {
            "bin_start": 1,
            "bin_end": 1.5,
            "count": 0
           },
           {
            "bin_start": 1.5,
            "bin_end": 2,
            "count": 0
           },
           {
            "bin_start": 2,
            "bin_end": 2.5,
            "count": 0
           },
           {
            "bin_start": 2.5,
            "bin_end": 3,
            "count": 0
           },
           {
            "bin_start": 3,
            "bin_end": 3.5,
            "count": 0
           },
           {
            "bin_start": 3.5,
            "bin_end": 4,
            "count": 0
           },
           {
            "bin_start": 4,
            "bin_end": 4.5,
            "count": 2
           },
           {
            "bin_start": 4.5,
            "bin_end": 5,
            "count": 2
           }
          ]
         }
        },
        {
         "name": "Percantege",
         "dtype": "int64",
         "stats": {
          "unique_count": 8,
          "nan_count": 0,
          "min": "45",
          "max": "96",
          "histogram": [
           {
            "bin_start": 45,
            "bin_end": 50.1,
            "count": 2
           },
           {
            "bin_start": 50.1,
            "bin_end": 55.2,
            "count": 0
           },
           {
            "bin_start": 55.2,
            "bin_end": 60.3,
            "count": 2
           },
           {
            "bin_start": 60.3,
            "bin_end": 65.4,
            "count": 0
           },
           {
            "bin_start": 65.4,
            "bin_end": 70.5,
            "count": 0
           },
           {
            "bin_start": 70.5,
            "bin_end": 75.6,
            "count": 1
           },
           {
            "bin_start": 75.6,
            "bin_end": 80.69999999999999,
            "count": 2
           },
           {
            "bin_start": 80.69999999999999,
            "bin_end": 85.8,
            "count": 1
           },
           {
            "bin_start": 85.8,
            "bin_end": 90.9,
            "count": 1
           },
           {
            "bin_start": 90.9,
            "bin_end": 96,
            "count": 1
           }
          ]
         }
        },
        {
         "name": "_deepnote_index_column",
         "dtype": "int64"
        }
       ],
       "rows": [
        {
         "Student ID": 1001,
         "Class": 10,
         "Study hrs": 2,
         "Sleeping hrs": 9,
         "Social Media usage hrs": 3,
         "Mobile Games hrs": 5,
         "Percantege": 50,
         "_deepnote_index_column": 0
        },
        {
         "Student ID": 1002,
         "Class": 10,
         "Study hrs": 6,
         "Sleeping hrs": 8,
         "Social Media usage hrs": 2,
         "Mobile Games hrs": 0,
         "Percantege": 80,
         "_deepnote_index_column": 1
        },
        {
         "Student ID": 1003,
         "Class": 10,
         "Study hrs": 3,
         "Sleeping hrs": 8,
         "Social Media usage hrs": 2,
         "Mobile Games hrs": 4,
         "Percantege": 60,
         "_deepnote_index_column": 2
        },
        {
         "Student ID": 1004,
         "Class": 11,
         "Study hrs": 0,
         "Sleeping hrs": 10,
         "Social Media usage hrs": 1,
         "Mobile Games hrs": 5,
         "Percantege": 45,
         "_deepnote_index_column": 3
        },
        {
         "Student ID": 1005,
         "Class": 11,
         "Study hrs": 4,
         "Sleeping hrs": 7,
         "Social Media usage hrs": 2,
         "Mobile Games hrs": 0,
         "Percantege": 75,
         "_deepnote_index_column": 4
        },
        {
         "Student ID": 1006,
         "Class": 11,
         "Study hrs": 10,
         "Sleeping hrs": 7,
         "Social Media usage hrs": 0,
         "Mobile Games hrs": 0,
         "Percantege": 96,
         "_deepnote_index_column": 5
        },
        {
         "Student ID": 1007,
         "Class": 12,
         "Study hrs": 4,
         "Sleeping hrs": 6,
         "Social Media usage hrs": 0,
         "Mobile Games hrs": 0,
         "Percantege": 80,
         "_deepnote_index_column": 6
        },
        {
         "Student ID": 1008,
         "Class": 12,
         "Study hrs": 10,
         "Sleeping hrs": 6,
         "Social Media usage hrs": 2,
         "Mobile Games hrs": 0,
         "Percantege": 90,
         "_deepnote_index_column": 7
        },
        {
         "Student ID": 1009,
         "Class": 12,
         "Study hrs": 2,
         "Sleeping hrs": 8,
         "Social Media usage hrs": 2,
         "Mobile Games hrs": 4,
         "Percantege": 60,
         "_deepnote_index_column": 8
        },
        {
         "Student ID": 1010,
         "Class": 12,
         "Study hrs": 6,
         "Sleeping hrs": 9,
         "Social Media usage hrs": 1,
         "Mobile Games hrs": 0,
         "Percantege": 85,
         "_deepnote_index_column": 9
        }
       ]
      },
      "text/plain": "   Student ID  Class  Study hrs  Sleeping hrs  Social Media usage hrs  \\\n0        1001     10          2             9                       3   \n1        1002     10          6             8                       2   \n2        1003     10          3             8                       2   \n3        1004     11          0            10                       1   \n4        1005     11          4             7                       2   \n5        1006     11         10             7                       0   \n6        1007     12          4             6                       0   \n7        1008     12         10             6                       2   \n8        1009     12          2             8                       2   \n9        1010     12          6             9                       1   \n\n   Mobile Games hrs  Percantege  \n0                 5          50  \n1                 0          80  \n2                 4          60  \n3                 5          45  \n4                 0          75  \n5                 0          96  \n6                 0          80  \n7                 0          90  \n8                 4          60  \n9                 0          85  ",
      "text/html": "<div>\n<style scoped>\n    .dataframe tbody tr th:only-of-type {\n        vertical-align: middle;\n    }\n\n    .dataframe tbody tr th {\n        vertical-align: top;\n    }\n\n    .dataframe thead th {\n        text-align: right;\n    }\n</style>\n<table border=\"1\" class=\"dataframe\">\n  <thead>\n    <tr style=\"text-align: right;\">\n      <th></th>\n      <th>Student ID</th>\n      <th>Class</th>\n      <th>Study hrs</th>\n      <th>Sleeping hrs</th>\n      <th>Social Media usage hrs</th>\n      <th>Mobile Games hrs</th>\n      <th>Percantege</th>\n    </tr>\n  </thead>\n  <tbody>\n    <tr>\n      <th>0</th>\n      <td>1001</td>\n      <td>10</td>\n      <td>2</td>\n      <td>9</td>\n      <td>3</td>\n      <td>5</td>\n      <td>50</td>\n    </tr>\n    <tr>\n      <th>1</th>\n      <td>1002</td>\n      <td>10</td>\n      <td>6</td>\n      <td>8</td>\n      <td>2</td>\n      <td>0</td>\n      <td>80</td>\n    </tr>\n    <tr>\n      <th>2</th>\n      <td>1003</td>\n      <td>10</td>\n      <td>3</td>\n      <td>8</td>\n      <td>2</td>\n      <td>4</td>\n      <td>60</td>\n    </tr>\n    <tr>\n      <th>3</th>\n      <td>1004</td>\n      <td>11</td>\n      <td>0</td>\n      <td>10</td>\n      <td>1</td>\n      <td>5</td>\n      <td>45</td>\n    </tr>\n    <tr>\n      <th>4</th>\n      <td>1005</td>\n      <td>11</td>\n      <td>4</td>\n      <td>7</td>\n      <td>2</td>\n      <td>0</td>\n      <td>75</td>\n    </tr>\n    <tr>\n      <th>5</th>\n      <td>1006</td>\n      <td>11</td>\n      <td>10</td>\n      <td>7</td>\n      <td>0</td>\n      <td>0</td>\n      <td>96</td>\n    </tr>\n    <tr>\n      <th>6</th>\n      <td>1007</td>\n      <td>12</td>\n      <td>4</td>\n      <td>6</td>\n      <td>0</td>\n      <td>0</td>\n      <td>80</td>\n    </tr>\n    <tr>\n      <th>7</th>\n      <td>1008</td>\n      <td>12</td>\n      <td>10</td>\n      <td>6</td>\n      <td>2</td>\n      <td>0</td>\n      <td>90</td>\n    </tr>\n    <tr>\n      <th>8</th>\n      <td>1009</td>\n      <td>12</td>\n      <td>2</td>\n      <td>8</td>\n      <td>2</td>\n      <td>4</td>\n      <td>60</td>\n    </tr>\n    <tr>\n      <th>9</th>\n      <td>1010</td>\n      <td>12</td>\n      <td>6</td>\n      <td>9</td>\n      <td>1</td>\n      <td>0</td>\n      <td>85</td>\n    </tr>\n  </tbody>\n</table>\n</div>"
     },
     "metadata": {}
    }
   ]
  },
  {
   "cell_type": "code",
   "metadata": {
    "cell_id": "c214e4d245ea49c7901be1f9dd091317",
    "tags": [],
    "deepnote_to_be_reexecuted": false,
    "source_hash": "940d9554",
    "execution_start": 1657809887103,
    "execution_millis": 1,
    "deepnote_cell_type": "code",
    "deepnote_cell_height": 81
   },
   "source": "import os",
   "execution_count": null,
   "outputs": []
  },
  {
   "cell_type": "code",
   "metadata": {
    "cell_id": "c05d7a8d625c47df9ad4d0282b278eea",
    "tags": [],
    "deepnote_to_be_reexecuted": false,
    "source_hash": "b265ec2c",
    "execution_start": 1657809900865,
    "execution_millis": 0,
    "deepnote_cell_type": "code",
    "deepnote_cell_height": 118.1875,
    "deepnote_output_heights": [
     21.1875
    ]
   },
   "source": "os.getcwd",
   "execution_count": null,
   "outputs": [
    {
     "output_type": "execute_result",
     "execution_count": 17,
     "data": {
      "text/plain": "<function posix.getcwd()>"
     },
     "metadata": {}
    }
   ]
  },
  {
   "cell_type": "code",
   "metadata": {
    "cell_id": "71e34c1998eb41a5900718b58b1963d4",
    "tags": [],
    "deepnote_to_be_reexecuted": false,
    "source_hash": "41a2b2e7",
    "execution_start": 1657817367709,
    "execution_millis": 0,
    "deepnote_cell_type": "code",
    "deepnote_cell_height": 117
   },
   "source": "#write csv file\nimport pandas as pd\n",
   "execution_count": null,
   "outputs": []
  },
  {
   "cell_type": "code",
   "metadata": {
    "cell_id": "9cfa9bb35c384665b215603ec1751daf",
    "tags": [],
    "deepnote_to_be_reexecuted": false,
    "source_hash": "a20580b",
    "execution_start": 1657855463831,
    "execution_millis": 162,
    "deepnote_cell_type": "code",
    "deepnote_cell_height": 180.1875
   },
   "source": "df7= pd.read_csv(\"https://raw.githubusercontent.com/bvalgard/data/main/titanic.csv\")\ndf7\n",
   "execution_count": null,
   "outputs": [
    {
     "output_type": "error",
     "ename": "NameError",
     "evalue": "name 'pd' is not defined",
     "traceback": [
      "\u001b[0;31m---------------------------------------------------------------------------\u001b[0m",
      "\u001b[0;31mNameError\u001b[0m                                 Traceback (most recent call last)",
      "\u001b[0;32m<ipython-input-1-d8bcf66047e4>\u001b[0m in \u001b[0;36m<cell line: 1>\u001b[0;34m()\u001b[0m\n\u001b[0;32m----> 1\u001b[0;31m \u001b[0mdf7\u001b[0m\u001b[0;34m=\u001b[0m \u001b[0mpd\u001b[0m\u001b[0;34m.\u001b[0m\u001b[0mread_csv\u001b[0m\u001b[0;34m(\u001b[0m\u001b[0;34m\"https://raw.githubusercontent.com/bvalgard/data/main/titanic.csv\"\u001b[0m\u001b[0;34m)\u001b[0m\u001b[0;34m\u001b[0m\u001b[0;34m\u001b[0m\u001b[0m\n\u001b[0m\u001b[1;32m      2\u001b[0m \u001b[0mdf7\u001b[0m\u001b[0;34m\u001b[0m\u001b[0;34m\u001b[0m\u001b[0m\n",
      "\u001b[0;31mNameError\u001b[0m: name 'pd' is not defined"
     ]
    }
   ]
  },
  {
   "cell_type": "code",
   "metadata": {
    "cell_id": "ba34eab62fb04c7fa838f85414937985",
    "tags": [],
    "deepnote_to_be_reexecuted": false,
    "source_hash": "ff959910",
    "execution_start": 1657816025783,
    "execution_millis": 302,
    "deepnote_cell_type": "code",
    "deepnote_cell_height": 617
   },
   "source": "df8 = pd.read_csv(\"https://raw.githubusercontent.com/bvalgard/data/main/titanic.csv\", na_values= \"?\"",
   "execution_count": null,
   "outputs": [
    {
     "output_type": "execute_result",
     "execution_count": 11,
     "data": {
      "application/vnd.deepnote.dataframe.v3+json": {
       "column_count": 14,
       "row_count": 1309,
       "columns": [
        {
         "name": "pclass",
         "dtype": "int64",
         "stats": {
          "unique_count": 3,
          "nan_count": 0,
          "min": "1",
          "max": "3",
          "histogram": [
           {
            "bin_start": 1,
            "bin_end": 1.2,
            "count": 323
           },
           {
            "bin_start": 1.2,
            "bin_end": 1.4,
            "count": 0
           },
           {
            "bin_start": 1.4,
            "bin_end": 1.6,
            "count": 0
           },
           {
            "bin_start": 1.6,
            "bin_end": 1.8,
            "count": 0
           },
           {
            "bin_start": 1.8,
            "bin_end": 2,
            "count": 0
           },
           {
            "bin_start": 2,
            "bin_end": 2.2,
            "count": 277
           },
           {
            "bin_start": 2.2,
            "bin_end": 2.4000000000000004,
            "count": 0
           },
           {
            "bin_start": 2.4000000000000004,
            "bin_end": 2.6,
            "count": 0
           },
           {
            "bin_start": 2.6,
            "bin_end": 2.8,
            "count": 0
           },
           {
            "bin_start": 2.8,
            "bin_end": 3,
            "count": 709
           }
          ]
         }
        },
        {
         "name": "survived",
         "dtype": "int64",
         "stats": {
          "unique_count": 2,
          "nan_count": 0,
          "min": "0",
          "max": "1",
          "histogram": [
           {
            "bin_start": 0,
            "bin_end": 0.1,
            "count": 809
           },
           {
            "bin_start": 0.1,
            "bin_end": 0.2,
            "count": 0
           },
           {
            "bin_start": 0.2,
            "bin_end": 0.30000000000000004,
            "count": 0
           },
           {
            "bin_start": 0.30000000000000004,
            "bin_end": 0.4,
            "count": 0
           },
           {
            "bin_start": 0.4,
            "bin_end": 0.5,
            "count": 0
           },
           {
            "bin_start": 0.5,
            "bin_end": 0.6000000000000001,
            "count": 0
           },
           {
            "bin_start": 0.6000000000000001,
            "bin_end": 0.7000000000000001,
            "count": 0
           },
           {
            "bin_start": 0.7000000000000001,
            "bin_end": 0.8,
            "count": 0
           },
           {
            "bin_start": 0.8,
            "bin_end": 0.9,
            "count": 0
           },
           {
            "bin_start": 0.9,
            "bin_end": 1,
            "count": 500
           }
          ]
         }
        },
        {
         "name": "name",
         "dtype": "object",
         "stats": {
          "unique_count": 1307,
          "nan_count": 0,
          "categories": [
           {
            "name": "Connolly, Miss. Kate",
            "count": 2
           },
           {
            "name": "Kelly, Mr. James",
            "count": 2
           },
           {
            "name": "1305 others",
            "count": 1305
           }
          ]
         }
        },
        {
         "name": "sex",
         "dtype": "object",
         "stats": {
          "unique_count": 2,
          "nan_count": 0,
          "categories": [
           {
            "name": "male",
            "count": 843
           },
           {
            "name": "female",
            "count": 466
           }
          ]
         }
        },
        {
         "name": "age",
         "dtype": "float64",
         "stats": {
          "unique_count": 98,
          "nan_count": 263,
          "min": "0.1667",
          "max": "80.0",
          "histogram": [
           {
            "bin_start": 0.1667,
            "bin_end": 8.15003,
            "count": 72
           },
           {
            "bin_start": 8.15003,
            "bin_end": 16.13336,
            "count": 62
           },
           {
            "bin_start": 16.13336,
            "bin_end": 24.11669,
            "count": 274
           },
           {
            "bin_start": 24.11669,
            "bin_end": 32.10002,
            "count": 250
           },
           {
            "bin_start": 32.10002,
            "bin_end": 40.083349999999996,
            "count": 161
           },
           {
            "bin_start": 40.083349999999996,
            "bin_end": 48.06668,
            "count": 108
           },
           {
            "bin_start": 48.06668,
            "bin_end": 56.05000999999999,
            "count": 65
           },
           {
            "bin_start": 56.05000999999999,
            "bin_end": 64.03334,
            "count": 41
           },
           {
            "bin_start": 64.03334,
            "bin_end": 72.01667,
            "count": 10
           },
           {
            "bin_start": 72.01667,
            "bin_end": 80,
            "count": 3
           }
          ]
         }
        },
        {
         "name": "sibsp",
         "dtype": "int64",
         "stats": {
          "unique_count": 7,
          "nan_count": 0,
          "min": "0",
          "max": "8",
          "histogram": [
           {
            "bin_start": 0,
            "bin_end": 0.8,
            "count": 891
           },
           {
            "bin_start": 0.8,
            "bin_end": 1.6,
            "count": 319
           },
           {
            "bin_start": 1.6,
            "bin_end": 2.4000000000000004,
            "count": 42
           },
           {
            "bin_start": 2.4000000000000004,
            "bin_end": 3.2,
            "count": 20
           },
           {
            "bin_start": 3.2,
            "bin_end": 4,
            "count": 0
           },
           {
            "bin_start": 4,
            "bin_end": 4.800000000000001,
            "count": 22
           },
           {
            "bin_start": 4.800000000000001,
            "bin_end": 5.6000000000000005,
            "count": 6
           },
           {
            "bin_start": 5.6000000000000005,
            "bin_end": 6.4,
            "count": 0
           },
           {
            "bin_start": 6.4,
            "bin_end": 7.2,
            "count": 0
           },
           {
            "bin_start": 7.2,
            "bin_end": 8,
            "count": 9
           }
          ]
         }
        },
        {
         "name": "parch",
         "dtype": "int64",
         "stats": {
          "unique_count": 8,
          "nan_count": 0,
          "min": "0",
          "max": "9",
          "histogram": [
           {
            "bin_start": 0,
            "bin_end": 0.9,
            "count": 1002
           },
           {
            "bin_start": 0.9,
            "bin_end": 1.8,
            "count": 170
           },
           {
            "bin_start": 1.8,
            "bin_end": 2.7,
            "count": 113
           },
           {
            "bin_start": 2.7,
            "bin_end": 3.6,
            "count": 8
           },
           {
            "bin_start": 3.6,
            "bin_end": 4.5,
            "count": 6
           },
           {
            "bin_start": 4.5,
            "bin_end": 5.4,
            "count": 6
           },
           {
            "bin_start": 5.4,
            "bin_end": 6.3,
            "count": 2
           },
           {
            "bin_start": 6.3,
            "bin_end": 7.2,
            "count": 0
           },
           {
            "bin_start": 7.2,
            "bin_end": 8.1,
            "count": 0
           },
           {
            "bin_start": 8.1,
            "bin_end": 9,
            "count": 2
           }
          ]
         }
        },
        {
         "name": "ticket",
         "dtype": "object",
         "stats": {
          "unique_count": 929,
          "nan_count": 0,
          "categories": [
           {
            "name": "CA. 2343",
            "count": 11
           },
           {
            "name": "1601",
            "count": 8
           },
           {
            "name": "927 others",
            "count": 1290
           }
          ]
         }
        },
        {
         "name": "fare",
         "dtype": "float64",
         "stats": {
          "unique_count": 281,
          "nan_count": 1,
          "min": "0.0",
          "max": "512.3292",
          "histogram": [
           {
            "bin_start": 0,
            "bin_end": 51.23292,
            "count": 1070
           },
           {
            "bin_start": 51.23292,
            "bin_end": 102.46584,
            "count": 154
           },
           {
            "bin_start": 102.46584,
            "bin_end": 153.69876,
            "count": 42
           },
           {
            "bin_start": 153.69876,
            "bin_end": 204.93168,
            "count": 4
           },
           {
            "bin_start": 204.93168,
            "bin_end": 256.1646,
            "count": 21
           },
           {
            "bin_start": 256.1646,
            "bin_end": 307.39752,
            "count": 13
           },
           {
            "bin_start": 307.39752,
            "bin_end": 358.63044,
            "count": 0
           },
           {
            "bin_start": 358.63044,
            "bin_end": 409.86336,
            "count": 0
           },
           {
            "bin_start": 409.86336,
            "bin_end": 461.09628,
            "count": 0
           },
           {
            "bin_start": 461.09628,
            "bin_end": 512.3292,
            "count": 4
           }
          ]
         }
        },
        {
         "name": "cabin",
         "dtype": "object",
         "stats": {
          "unique_count": 186,
          "nan_count": 1014,
          "categories": [
           {
            "name": "C23 C25 C27",
            "count": 6
           },
           {
            "name": "185 others",
            "count": 289
           },
           {
            "name": "Missing",
            "count": 1014
           }
          ]
         }
        },
        {
         "name": "embarked",
         "dtype": "object",
         "stats": {
          "unique_count": 3,
          "nan_count": 2,
          "categories": [
           {
            "name": "S",
            "count": 914
           },
           {
            "name": "2 others",
            "count": 393
           },
           {
            "name": "Missing",
            "count": 2
           }
          ]
         }
        },
        {
         "name": "boat",
         "dtype": "object",
         "stats": {
          "unique_count": 27,
          "nan_count": 823,
          "categories": [
           {
            "name": "13",
            "count": 39
           },
           {
            "name": "26 others",
            "count": 447
           },
           {
            "name": "Missing",
            "count": 823
           }
          ]
         }
        },
        {
         "name": "body",
         "dtype": "float64",
         "stats": {
          "unique_count": 121,
          "nan_count": 1188,
          "min": "1.0",
          "max": "328.0",
          "histogram": [
           {
            "bin_start": 1,
            "bin_end": 33.7,
            "count": 12
           },
           {
            "bin_start": 33.7,
            "bin_end": 66.4,
            "count": 14
           },
           {
            "bin_start": 66.4,
            "bin_end": 99.10000000000001,
            "count": 13
           },
           {
            "bin_start": 99.10000000000001,
            "bin_end": 131.8,
            "count": 13
           },
           {
            "bin_start": 131.8,
            "bin_end": 164.5,
            "count": 10
           },
           {
            "bin_start": 164.5,
            "bin_end": 197.20000000000002,
            "count": 16
           },
           {
            "bin_start": 197.20000000000002,
            "bin_end": 229.90000000000003,
            "count": 5
           },
           {
            "bin_start": 229.90000000000003,
            "bin_end": 262.6,
            "count": 12
           },
           {
            "bin_start": 262.6,
            "bin_end": 295.3,
            "count": 13
           },
           {
            "bin_start": 295.3,
            "bin_end": 328,
            "count": 13
           }
          ]
         }
        },
        {
         "name": "home.dest",
         "dtype": "object",
         "stats": {
          "unique_count": 369,
          "nan_count": 564,
          "categories": [
           {
            "name": "New York, NY",
            "count": 64
           },
           {
            "name": "368 others",
            "count": 681
           },
           {
            "name": "Missing",
            "count": 564
           }
          ]
         }
        },
        {
         "name": "_deepnote_index_column",
         "dtype": "int64"
        }
       ],
       "rows": [
        {
         "pclass": 1,
         "survived": 1,
         "name": "Allen, Miss. Elisabeth Walton",
         "sex": "female",
         "age": 29,
         "sibsp": 0,
         "parch": 0,
         "ticket": "24160",
         "fare": 211.3375,
         "cabin": "B5",
         "embarked": "S",
         "boat": "2",
         "body": "nan",
         "home.dest": "St Louis, MO",
         "_deepnote_index_column": 0
        },
        {
         "pclass": 1,
         "survived": 1,
         "name": "Allison, Master. Hudson Trevor",
         "sex": "male",
         "age": 0.9167,
         "sibsp": 1,
         "parch": 2,
         "ticket": "113781",
         "fare": 151.55,
         "cabin": "C22 C26",
         "embarked": "S",
         "boat": "11",
         "body": "nan",
         "home.dest": "Montreal, PQ / Chesterville, ON",
         "_deepnote_index_column": 1
        },
        {
         "pclass": 1,
         "survived": 0,
         "name": "Allison, Miss. Helen Loraine",
         "sex": "female",
         "age": 2,
         "sibsp": 1,
         "parch": 2,
         "ticket": "113781",
         "fare": 151.55,
         "cabin": "C22 C26",
         "embarked": "S",
         "boat": "nan",
         "body": "nan",
         "home.dest": "Montreal, PQ / Chesterville, ON",
         "_deepnote_index_column": 2
        },
        {
         "pclass": 1,
         "survived": 0,
         "name": "Allison, Mr. Hudson Joshua Creighton",
         "sex": "male",
         "age": 30,
         "sibsp": 1,
         "parch": 2,
         "ticket": "113781",
         "fare": 151.55,
         "cabin": "C22 C26",
         "embarked": "S",
         "boat": "nan",
         "body": 135,
         "home.dest": "Montreal, PQ / Chesterville, ON",
         "_deepnote_index_column": 3
        },
        {
         "pclass": 1,
         "survived": 0,
         "name": "Allison, Mrs. Hudson J C (Bessie Waldo Daniels)",
         "sex": "female",
         "age": 25,
         "sibsp": 1,
         "parch": 2,
         "ticket": "113781",
         "fare": 151.55,
         "cabin": "C22 C26",
         "embarked": "S",
         "boat": "nan",
         "body": "nan",
         "home.dest": "Montreal, PQ / Chesterville, ON",
         "_deepnote_index_column": 4
        },
        {
         "pclass": 1,
         "survived": 1,
         "name": "Anderson, Mr. Harry",
         "sex": "male",
         "age": 48,
         "sibsp": 0,
         "parch": 0,
         "ticket": "19952",
         "fare": 26.55,
         "cabin": "E12",
         "embarked": "S",
         "boat": "3",
         "body": "nan",
         "home.dest": "New York, NY",
         "_deepnote_index_column": 5
        },
        {
         "pclass": 1,
         "survived": 1,
         "name": "Andrews, Miss. Kornelia Theodosia",
         "sex": "female",
         "age": 63,
         "sibsp": 1,
         "parch": 0,
         "ticket": "13502",
         "fare": 77.9583,
         "cabin": "D7",
         "embarked": "S",
         "boat": "10",
         "body": "nan",
         "home.dest": "Hudson, NY",
         "_deepnote_index_column": 6
        },
        {
         "pclass": 1,
         "survived": 0,
         "name": "Andrews, Mr. Thomas Jr",
         "sex": "male",
         "age": 39,
         "sibsp": 0,
         "parch": 0,
         "ticket": "112050",
         "fare": 0,
         "cabin": "A36",
         "embarked": "S",
         "boat": "nan",
         "body": "nan",
         "home.dest": "Belfast, NI",
         "_deepnote_index_column": 7
        },
        {
         "pclass": 1,
         "survived": 1,
         "name": "Appleton, Mrs. Edward Dale (Charlotte Lamson)",
         "sex": "female",
         "age": 53,
         "sibsp": 2,
         "parch": 0,
         "ticket": "11769",
         "fare": 51.4792,
         "cabin": "C101",
         "embarked": "S",
         "boat": "D",
         "body": "nan",
         "home.dest": "Bayside, Queens, NY",
         "_deepnote_index_column": 8
        },
        {
         "pclass": 1,
         "survived": 0,
         "name": "Artagaveytia, Mr. Ramon",
         "sex": "male",
         "age": 71,
         "sibsp": 0,
         "parch": 0,
         "ticket": "PC 17609",
         "fare": 49.5042,
         "cabin": "nan",
         "embarked": "C",
         "boat": "nan",
         "body": 22,
         "home.dest": "Montevideo, Uruguay",
         "_deepnote_index_column": 9
        }
       ]
      },
      "text/plain": "      pclass  survived                                             name  \\\n0          1         1                    Allen, Miss. Elisabeth Walton   \n1          1         1                   Allison, Master. Hudson Trevor   \n2          1         0                     Allison, Miss. Helen Loraine   \n3          1         0             Allison, Mr. Hudson Joshua Creighton   \n4          1         0  Allison, Mrs. Hudson J C (Bessie Waldo Daniels)   \n...      ...       ...                                              ...   \n1304       3         0                             Zabour, Miss. Hileni   \n1305       3         0                            Zabour, Miss. Thamine   \n1306       3         0                        Zakarian, Mr. Mapriededer   \n1307       3         0                              Zakarian, Mr. Ortin   \n1308       3         0                               Zimmerman, Mr. Leo   \n\n         sex      age  sibsp  parch  ticket      fare    cabin embarked boat  \\\n0     female  29.0000      0      0   24160  211.3375       B5        S    2   \n1       male   0.9167      1      2  113781  151.5500  C22 C26        S   11   \n2     female   2.0000      1      2  113781  151.5500  C22 C26        S  NaN   \n3       male  30.0000      1      2  113781  151.5500  C22 C26        S  NaN   \n4     female  25.0000      1      2  113781  151.5500  C22 C26        S  NaN   \n...      ...      ...    ...    ...     ...       ...      ...      ...  ...   \n1304  female  14.5000      1      0    2665   14.4542      NaN        C  NaN   \n1305  female      NaN      1      0    2665   14.4542      NaN        C  NaN   \n1306    male  26.5000      0      0    2656    7.2250      NaN        C  NaN   \n1307    male  27.0000      0      0    2670    7.2250      NaN        C  NaN   \n1308    male  29.0000      0      0  315082    7.8750      NaN        S  NaN   \n\n       body                        home.dest  \n0       NaN                     St Louis, MO  \n1       NaN  Montreal, PQ / Chesterville, ON  \n2       NaN  Montreal, PQ / Chesterville, ON  \n3     135.0  Montreal, PQ / Chesterville, ON  \n4       NaN  Montreal, PQ / Chesterville, ON  \n...     ...                              ...  \n1304  328.0                              NaN  \n1305    NaN                              NaN  \n1306  304.0                              NaN  \n1307    NaN                              NaN  \n1308    NaN                              NaN  \n\n[1309 rows x 14 columns]",
      "text/html": "<div>\n<style scoped>\n    .dataframe tbody tr th:only-of-type {\n        vertical-align: middle;\n    }\n\n    .dataframe tbody tr th {\n        vertical-align: top;\n    }\n\n    .dataframe thead th {\n        text-align: right;\n    }\n</style>\n<table border=\"1\" class=\"dataframe\">\n  <thead>\n    <tr style=\"text-align: right;\">\n      <th></th>\n      <th>pclass</th>\n      <th>survived</th>\n      <th>name</th>\n      <th>sex</th>\n      <th>age</th>\n      <th>sibsp</th>\n      <th>parch</th>\n      <th>ticket</th>\n      <th>fare</th>\n      <th>cabin</th>\n      <th>embarked</th>\n      <th>boat</th>\n      <th>body</th>\n      <th>home.dest</th>\n    </tr>\n  </thead>\n  <tbody>\n    <tr>\n      <th>0</th>\n      <td>1</td>\n      <td>1</td>\n      <td>Allen, Miss. Elisabeth Walton</td>\n      <td>female</td>\n      <td>29.0000</td>\n      <td>0</td>\n      <td>0</td>\n      <td>24160</td>\n      <td>211.3375</td>\n      <td>B5</td>\n      <td>S</td>\n      <td>2</td>\n      <td>NaN</td>\n      <td>St Louis, MO</td>\n    </tr>\n    <tr>\n      <th>1</th>\n      <td>1</td>\n      <td>1</td>\n      <td>Allison, Master. Hudson Trevor</td>\n      <td>male</td>\n      <td>0.9167</td>\n      <td>1</td>\n      <td>2</td>\n      <td>113781</td>\n      <td>151.5500</td>\n      <td>C22 C26</td>\n      <td>S</td>\n      <td>11</td>\n      <td>NaN</td>\n      <td>Montreal, PQ / Chesterville, ON</td>\n    </tr>\n    <tr>\n      <th>2</th>\n      <td>1</td>\n      <td>0</td>\n      <td>Allison, Miss. Helen Loraine</td>\n      <td>female</td>\n      <td>2.0000</td>\n      <td>1</td>\n      <td>2</td>\n      <td>113781</td>\n      <td>151.5500</td>\n      <td>C22 C26</td>\n      <td>S</td>\n      <td>NaN</td>\n      <td>NaN</td>\n      <td>Montreal, PQ / Chesterville, ON</td>\n    </tr>\n    <tr>\n      <th>3</th>\n      <td>1</td>\n      <td>0</td>\n      <td>Allison, Mr. Hudson Joshua Creighton</td>\n      <td>male</td>\n      <td>30.0000</td>\n      <td>1</td>\n      <td>2</td>\n      <td>113781</td>\n      <td>151.5500</td>\n      <td>C22 C26</td>\n      <td>S</td>\n      <td>NaN</td>\n      <td>135.0</td>\n      <td>Montreal, PQ / Chesterville, ON</td>\n    </tr>\n    <tr>\n      <th>4</th>\n      <td>1</td>\n      <td>0</td>\n      <td>Allison, Mrs. Hudson J C (Bessie Waldo Daniels)</td>\n      <td>female</td>\n      <td>25.0000</td>\n      <td>1</td>\n      <td>2</td>\n      <td>113781</td>\n      <td>151.5500</td>\n      <td>C22 C26</td>\n      <td>S</td>\n      <td>NaN</td>\n      <td>NaN</td>\n      <td>Montreal, PQ / Chesterville, ON</td>\n    </tr>\n    <tr>\n      <th>...</th>\n      <td>...</td>\n      <td>...</td>\n      <td>...</td>\n      <td>...</td>\n      <td>...</td>\n      <td>...</td>\n      <td>...</td>\n      <td>...</td>\n      <td>...</td>\n      <td>...</td>\n      <td>...</td>\n      <td>...</td>\n      <td>...</td>\n      <td>...</td>\n    </tr>\n    <tr>\n      <th>1304</th>\n      <td>3</td>\n      <td>0</td>\n      <td>Zabour, Miss. Hileni</td>\n      <td>female</td>\n      <td>14.5000</td>\n      <td>1</td>\n      <td>0</td>\n      <td>2665</td>\n      <td>14.4542</td>\n      <td>NaN</td>\n      <td>C</td>\n      <td>NaN</td>\n      <td>328.0</td>\n      <td>NaN</td>\n    </tr>\n    <tr>\n      <th>1305</th>\n      <td>3</td>\n      <td>0</td>\n      <td>Zabour, Miss. Thamine</td>\n      <td>female</td>\n      <td>NaN</td>\n      <td>1</td>\n      <td>0</td>\n      <td>2665</td>\n      <td>14.4542</td>\n      <td>NaN</td>\n      <td>C</td>\n      <td>NaN</td>\n      <td>NaN</td>\n      <td>NaN</td>\n    </tr>\n    <tr>\n      <th>1306</th>\n      <td>3</td>\n      <td>0</td>\n      <td>Zakarian, Mr. Mapriededer</td>\n      <td>male</td>\n      <td>26.5000</td>\n      <td>0</td>\n      <td>0</td>\n      <td>2656</td>\n      <td>7.2250</td>\n      <td>NaN</td>\n      <td>C</td>\n      <td>NaN</td>\n      <td>304.0</td>\n      <td>NaN</td>\n    </tr>\n    <tr>\n      <th>1307</th>\n      <td>3</td>\n      <td>0</td>\n      <td>Zakarian, Mr. Ortin</td>\n      <td>male</td>\n      <td>27.0000</td>\n      <td>0</td>\n      <td>0</td>\n      <td>2670</td>\n      <td>7.2250</td>\n      <td>NaN</td>\n      <td>C</td>\n      <td>NaN</td>\n      <td>NaN</td>\n      <td>NaN</td>\n    </tr>\n    <tr>\n      <th>1308</th>\n      <td>3</td>\n      <td>0</td>\n      <td>Zimmerman, Mr. Leo</td>\n      <td>male</td>\n      <td>29.0000</td>\n      <td>0</td>\n      <td>0</td>\n      <td>315082</td>\n      <td>7.8750</td>\n      <td>NaN</td>\n      <td>S</td>\n      <td>NaN</td>\n      <td>NaN</td>\n      <td>NaN</td>\n    </tr>\n  </tbody>\n</table>\n<p>1309 rows × 14 columns</p>\n</div>"
     },
     "metadata": {}
    }
   ]
  },
  {
   "cell_type": "code",
   "metadata": {
    "cell_id": "2034dc2f126341c6b7692ff27477c6e1",
    "tags": [],
    "deepnote_to_be_reexecuted": false,
    "source_hash": "4c3ce2f",
    "execution_start": 1657816132146,
    "execution_millis": 496,
    "deepnote_cell_type": "code",
    "deepnote_cell_height": 194.9375,
    "deepnote_output_heights": [
     97.9375
    ]
   },
   "source": "df8.groupby(['pclass'])['survived'].sum()",
   "execution_count": null,
   "outputs": [
    {
     "output_type": "execute_result",
     "execution_count": 14,
     "data": {
      "text/plain": "pclass\n1    200\n2    119\n3    181\nName: survived, dtype: int64"
     },
     "metadata": {}
    }
   ]
  },
  {
   "cell_type": "code",
   "metadata": {
    "cell_id": "2cc20454accd4a01aa438490467624a8",
    "tags": [],
    "deepnote_to_be_reexecuted": false,
    "source_hash": "5103b2f1",
    "execution_start": 1657816152737,
    "execution_millis": 39,
    "deepnote_cell_type": "code",
    "deepnote_cell_height": 383.375
   },
   "source": "df8.groupby(['pclass'])['survived','fare'].sum()",
   "execution_count": null,
   "outputs": [
    {
     "name": "stderr",
     "text": "<ipython-input-15-b1d96e6b31dd>:1: FutureWarning: Indexing with multiple keys (implicitly converted to a tuple of keys) will be deprecated, use a list instead.\n  df8.groupby(['pclass'])['survived','fare'].sum()\n",
     "output_type": "stream"
    },
    {
     "output_type": "execute_result",
     "execution_count": 15,
     "data": {
      "application/vnd.deepnote.dataframe.v3+json": {
       "column_count": 2,
       "row_count": 3,
       "columns": [
        {
         "name": "survived",
         "dtype": "int64",
         "stats": {
          "unique_count": 3,
          "nan_count": 0,
          "min": "119",
          "max": "200",
          "histogram": [
           {
            "bin_start": 119,
            "bin_end": 127.1,
            "count": 1
           },
           {
            "bin_start": 127.1,
            "bin_end": 135.2,
            "count": 0
           },
           {
            "bin_start": 135.2,
            "bin_end": 143.3,
            "count": 0
           },
           {
            "bin_start": 143.3,
            "bin_end": 151.4,
            "count": 0
           },
           {
            "bin_start": 151.4,
            "bin_end": 159.5,
            "count": 0
           },
           {
            "bin_start": 159.5,
            "bin_end": 167.6,
            "count": 0
           },
           {
            "bin_start": 167.6,
            "bin_end": 175.7,
            "count": 0
           },
           {
            "bin_start": 175.7,
            "bin_end": 183.8,
            "count": 1
           },
           {
            "bin_start": 183.8,
            "bin_end": 191.89999999999998,
            "count": 0
           },
           {
            "bin_start": 191.89999999999998,
            "bin_end": 200,
            "count": 1
           }
          ]
         }
        },
        {
         "name": "fare",
         "dtype": "float64",
         "stats": {
          "unique_count": 3,
          "nan_count": 0,
          "min": "5866.637400000001",
          "max": "28265.4043",
          "histogram": [
           {
            "bin_start": 5866.637400000001,
            "bin_end": 8106.514090000001,
            "count": 1
           },
           {
            "bin_start": 8106.514090000001,
            "bin_end": 10346.390780000002,
            "count": 1
           },
           {
            "bin_start": 10346.390780000002,
            "bin_end": 12586.26747,
            "count": 0
           },
           {
            "bin_start": 12586.26747,
            "bin_end": 14826.14416,
            "count": 0
           },
           {
            "bin_start": 14826.14416,
            "bin_end": 17066.02085,
            "count": 0
           },
           {
            "bin_start": 17066.02085,
            "bin_end": 19305.897539999998,
            "count": 0
           },
           {
            "bin_start": 19305.897539999998,
            "bin_end": 21545.77423,
            "count": 0
           },
           {
            "bin_start": 21545.77423,
            "bin_end": 23785.65092,
            "count": 0
           },
           {
            "bin_start": 23785.65092,
            "bin_end": 26025.527609999997,
            "count": 0
           },
           {
            "bin_start": 26025.527609999997,
            "bin_end": 28265.4043,
            "count": 1
           }
          ]
         }
        },
        {
         "name": "_deepnote_index_column",
         "dtype": "int64"
        }
       ],
       "rows": [
        {
         "survived": 200,
         "fare": 28265.4043,
         "_deepnote_index_column": 1
        },
        {
         "survived": 119,
         "fare": 5866.637400000001,
         "_deepnote_index_column": 2
        },
        {
         "survived": 181,
         "fare": 9418.44519999999,
         "_deepnote_index_column": 3
        }
       ]
      },
      "text/plain": "        survived        fare\npclass                      \n1            200  28265.4043\n2            119   5866.6374\n3            181   9418.4452",
      "text/html": "<div>\n<style scoped>\n    .dataframe tbody tr th:only-of-type {\n        vertical-align: middle;\n    }\n\n    .dataframe tbody tr th {\n        vertical-align: top;\n    }\n\n    .dataframe thead th {\n        text-align: right;\n    }\n</style>\n<table border=\"1\" class=\"dataframe\">\n  <thead>\n    <tr style=\"text-align: right;\">\n      <th></th>\n      <th>survived</th>\n      <th>fare</th>\n    </tr>\n    <tr>\n      <th>pclass</th>\n      <th></th>\n      <th></th>\n    </tr>\n  </thead>\n  <tbody>\n    <tr>\n      <th>1</th>\n      <td>200</td>\n      <td>28265.4043</td>\n    </tr>\n    <tr>\n      <th>2</th>\n      <td>119</td>\n      <td>5866.6374</td>\n    </tr>\n    <tr>\n      <th>3</th>\n      <td>181</td>\n      <td>9418.4452</td>\n    </tr>\n  </tbody>\n</table>\n</div>"
     },
     "metadata": {}
    }
   ]
  },
  {
   "cell_type": "code",
   "metadata": {
    "cell_id": "d2501292bd8143e88ca5a862db5d2ed1",
    "tags": [],
    "deepnote_to_be_reexecuted": false,
    "source_hash": "17883b3e",
    "execution_start": 1657816195130,
    "execution_millis": 531,
    "deepnote_cell_type": "code",
    "deepnote_cell_height": 383.375
   },
   "source": "df8.groupby(['pclass'])['survived','fare'].mean()",
   "execution_count": null,
   "outputs": [
    {
     "name": "stderr",
     "text": "<ipython-input-16-42bf7f86b3dd>:1: FutureWarning: Indexing with multiple keys (implicitly converted to a tuple of keys) will be deprecated, use a list instead.\n  df8.groupby(['pclass'])['survived','fare'].mean()\n",
     "output_type": "stream"
    },
    {
     "output_type": "execute_result",
     "execution_count": 16,
     "data": {
      "application/vnd.deepnote.dataframe.v3+json": {
       "column_count": 2,
       "row_count": 3,
       "columns": [
        {
         "name": "survived",
         "dtype": "float64",
         "stats": {
          "unique_count": 3,
          "nan_count": 0,
          "min": "0.2552891396332863",
          "max": "0.6191950464396285",
          "histogram": [
           {
            "bin_start": 0.2552891396332863,
            "bin_end": 0.2916797303139205,
            "count": 1
           },
           {
            "bin_start": 0.2916797303139205,
            "bin_end": 0.32807032099455474,
            "count": 0
           },
           {
            "bin_start": 0.32807032099455474,
            "bin_end": 0.364460911675189,
            "count": 0
           },
           {
            "bin_start": 0.364460911675189,
            "bin_end": 0.40085150235582323,
            "count": 0
           },
           {
            "bin_start": 0.40085150235582323,
            "bin_end": 0.43724209303645745,
            "count": 1
           },
           {
            "bin_start": 0.43724209303645745,
            "bin_end": 0.47363268371709166,
            "count": 0
           },
           {
            "bin_start": 0.47363268371709166,
            "bin_end": 0.5100232743977259,
            "count": 0
           },
           {
            "bin_start": 0.5100232743977259,
            "bin_end": 0.5464138650783601,
            "count": 0
           },
           {
            "bin_start": 0.5464138650783601,
            "bin_end": 0.5828044557589943,
            "count": 0
           },
           {
            "bin_start": 0.5828044557589943,
            "bin_end": 0.6191950464396285,
            "count": 1
           }
          ]
         }
        },
        {
         "name": "fare",
         "dtype": "float64",
         "stats": {
          "unique_count": 3,
          "nan_count": 0,
          "min": "13.302888700564957",
          "max": "87.50899164086687",
          "histogram": [
           {
            "bin_start": 13.302888700564957,
            "bin_end": 20.723498994595147,
            "count": 1
           },
           {
            "bin_start": 20.723498994595147,
            "bin_end": 28.14410928862534,
            "count": 1
           },
           {
            "bin_start": 28.14410928862534,
            "bin_end": 35.564719582655535,
            "count": 0
           },
           {
            "bin_start": 35.564719582655535,
            "bin_end": 42.985329876685725,
            "count": 0
           },
           {
            "bin_start": 42.985329876685725,
            "bin_end": 50.405940170715915,
            "count": 0
           },
           {
            "bin_start": 50.405940170715915,
            "bin_end": 57.82655046474611,
            "count": 0
           },
           {
            "bin_start": 57.82655046474611,
            "bin_end": 65.2471607587763,
            "count": 0
           },
           {
            "bin_start": 65.2471607587763,
            "bin_end": 72.6677710528065,
            "count": 0
           },
           {
            "bin_start": 72.6677710528065,
            "bin_end": 80.08838134683668,
            "count": 0
           },
           {
            "bin_start": 80.08838134683668,
            "bin_end": 87.50899164086687,
            "count": 1
           }
          ]
         }
        },
        {
         "name": "_deepnote_index_column",
         "dtype": "int64"
        }
       ],
       "rows": [
        {
         "survived": 0.6191950464396285,
         "fare": 87.50899164086687,
         "_deepnote_index_column": 1
        },
        {
         "survived": 0.4296028880866426,
         "fare": 21.1791963898917,
         "_deepnote_index_column": 2
        },
        {
         "survived": 0.2552891396332863,
         "fare": 13.302888700564957,
         "_deepnote_index_column": 3
        }
       ]
      },
      "text/plain": "        survived       fare\npclass                     \n1       0.619195  87.508992\n2       0.429603  21.179196\n3       0.255289  13.302889",
      "text/html": "<div>\n<style scoped>\n    .dataframe tbody tr th:only-of-type {\n        vertical-align: middle;\n    }\n\n    .dataframe tbody tr th {\n        vertical-align: top;\n    }\n\n    .dataframe thead th {\n        text-align: right;\n    }\n</style>\n<table border=\"1\" class=\"dataframe\">\n  <thead>\n    <tr style=\"text-align: right;\">\n      <th></th>\n      <th>survived</th>\n      <th>fare</th>\n    </tr>\n    <tr>\n      <th>pclass</th>\n      <th></th>\n      <th></th>\n    </tr>\n  </thead>\n  <tbody>\n    <tr>\n      <th>1</th>\n      <td>0.619195</td>\n      <td>87.508992</td>\n    </tr>\n    <tr>\n      <th>2</th>\n      <td>0.429603</td>\n      <td>21.179196</td>\n    </tr>\n    <tr>\n      <th>3</th>\n      <td>0.255289</td>\n      <td>13.302889</td>\n    </tr>\n  </tbody>\n</table>\n</div>"
     },
     "metadata": {}
    }
   ]
  },
  {
   "cell_type": "code",
   "metadata": {
    "cell_id": "3595764ea05f4fc9bf5928736b47fa16",
    "tags": [],
    "deepnote_to_be_reexecuted": false,
    "source_hash": "6d24aec4",
    "execution_start": 1657816211398,
    "execution_millis": 17,
    "deepnote_cell_type": "code",
    "deepnote_cell_height": 383.375
   },
   "source": "df8.groupby(['pclass'])['survived','fare'].max()",
   "execution_count": null,
   "outputs": [
    {
     "name": "stderr",
     "text": "<ipython-input-17-81a97d735641>:1: FutureWarning: Indexing with multiple keys (implicitly converted to a tuple of keys) will be deprecated, use a list instead.\n  df8.groupby(['pclass'])['survived','fare'].max()\n",
     "output_type": "stream"
    },
    {
     "output_type": "execute_result",
     "execution_count": 17,
     "data": {
      "application/vnd.deepnote.dataframe.v3+json": {
       "column_count": 2,
       "row_count": 3,
       "columns": [
        {
         "name": "survived",
         "dtype": "int64",
         "stats": {
          "unique_count": 1,
          "nan_count": 0,
          "min": "1",
          "max": "1",
          "histogram": [
           {
            "bin_start": 0.5,
            "bin_end": 0.6,
            "count": 0
           },
           {
            "bin_start": 0.6,
            "bin_end": 0.7,
            "count": 0
           },
           {
            "bin_start": 0.7,
            "bin_end": 0.8,
            "count": 0
           },
           {
            "bin_start": 0.8,
            "bin_end": 0.9,
            "count": 0
           },
           {
            "bin_start": 0.9,
            "bin_end": 1,
            "count": 0
           },
           {
            "bin_start": 1,
            "bin_end": 1.1,
            "count": 3
           },
           {
            "bin_start": 1.1,
            "bin_end": 1.2000000000000002,
            "count": 0
           },
           {
            "bin_start": 1.2000000000000002,
            "bin_end": 1.3,
            "count": 0
           },
           {
            "bin_start": 1.3,
            "bin_end": 1.4,
            "count": 0
           },
           {
            "bin_start": 1.4,
            "bin_end": 1.5,
            "count": 0
           }
          ]
         }
        },
        {
         "name": "fare",
         "dtype": "float64",
         "stats": {
          "unique_count": 3,
          "nan_count": 0,
          "min": "69.55",
          "max": "512.3292",
          "histogram": [
           {
            "bin_start": 69.55,
            "bin_end": 113.82792,
            "count": 2
           },
           {
            "bin_start": 113.82792,
            "bin_end": 158.10584,
            "count": 0
           },
           {
            "bin_start": 158.10584,
            "bin_end": 202.38376,
            "count": 0
           },
           {
            "bin_start": 202.38376,
            "bin_end": 246.66168,
            "count": 0
           },
           {
            "bin_start": 246.66168,
            "bin_end": 290.9396,
            "count": 0
           },
           {
            "bin_start": 290.9396,
            "bin_end": 335.21752000000004,
            "count": 0
           },
           {
            "bin_start": 335.21752000000004,
            "bin_end": 379.49544000000003,
            "count": 0
           },
           {
            "bin_start": 379.49544000000003,
            "bin_end": 423.77336,
            "count": 0
           },
           {
            "bin_start": 423.77336,
            "bin_end": 468.05128,
            "count": 0
           },
           {
            "bin_start": 468.05128,
            "bin_end": 512.3292,
            "count": 1
           }
          ]
         }
        },
        {
         "name": "_deepnote_index_column",
         "dtype": "int64"
        }
       ],
       "rows": [
        {
         "survived": 1,
         "fare": 512.3292,
         "_deepnote_index_column": 1
        },
        {
         "survived": 1,
         "fare": 73.5,
         "_deepnote_index_column": 2
        },
        {
         "survived": 1,
         "fare": 69.55,
         "_deepnote_index_column": 3
        }
       ]
      },
      "text/plain": "        survived      fare\npclass                    \n1              1  512.3292\n2              1   73.5000\n3              1   69.5500",
      "text/html": "<div>\n<style scoped>\n    .dataframe tbody tr th:only-of-type {\n        vertical-align: middle;\n    }\n\n    .dataframe tbody tr th {\n        vertical-align: top;\n    }\n\n    .dataframe thead th {\n        text-align: right;\n    }\n</style>\n<table border=\"1\" class=\"dataframe\">\n  <thead>\n    <tr style=\"text-align: right;\">\n      <th></th>\n      <th>survived</th>\n      <th>fare</th>\n    </tr>\n    <tr>\n      <th>pclass</th>\n      <th></th>\n      <th></th>\n    </tr>\n  </thead>\n  <tbody>\n    <tr>\n      <th>1</th>\n      <td>1</td>\n      <td>512.3292</td>\n    </tr>\n    <tr>\n      <th>2</th>\n      <td>1</td>\n      <td>73.5000</td>\n    </tr>\n    <tr>\n      <th>3</th>\n      <td>1</td>\n      <td>69.5500</td>\n    </tr>\n  </tbody>\n</table>\n</div>"
     },
     "metadata": {}
    }
   ]
  },
  {
   "cell_type": "code",
   "metadata": {
    "cell_id": "b9596749a7564293b0c2a464e5260e80",
    "tags": [],
    "deepnote_to_be_reexecuted": false,
    "source_hash": "2d21273d",
    "execution_start": 1657816265474,
    "execution_millis": 28,
    "deepnote_cell_type": "code",
    "deepnote_cell_height": 506.375
   },
   "source": "df8.groupby(['pclass','sex'])['survived','fare'].sum()",
   "execution_count": null,
   "outputs": [
    {
     "name": "stderr",
     "text": "<ipython-input-18-24927a0ca1c5>:1: FutureWarning: Indexing with multiple keys (implicitly converted to a tuple of keys) will be deprecated, use a list instead.\n  df8.groupby(['pclass','sex'])['survived','fare'].sum()\n",
     "output_type": "stream"
    },
    {
     "output_type": "execute_result",
     "execution_count": 18,
     "data": {
      "application/vnd.deepnote.dataframe.v3+json": {
       "column_count": 2,
       "row_count": 6,
       "columns": [
        {
         "name": "survived",
         "dtype": "int64",
         "stats": {
          "unique_count": 6,
          "nan_count": 0,
          "min": "25",
          "max": "139",
          "histogram": [
           {
            "bin_start": 25,
            "bin_end": 36.4,
            "count": 1
           },
           {
            "bin_start": 36.4,
            "bin_end": 47.8,
            "count": 0
           },
           {
            "bin_start": 47.8,
            "bin_end": 59.2,
            "count": 0
           },
           {
            "bin_start": 59.2,
            "bin_end": 70.6,
            "count": 1
           },
           {
            "bin_start": 70.6,
            "bin_end": 82,
            "count": 1
           },
           {
            "bin_start": 82,
            "bin_end": 93.4,
            "count": 0
           },
           {
            "bin_start": 93.4,
            "bin_end": 104.8,
            "count": 1
           },
           {
            "bin_start": 104.8,
            "bin_end": 116.2,
            "count": 1
           },
           {
            "bin_start": 116.2,
            "bin_end": 127.60000000000001,
            "count": 0
           },
           {
            "bin_start": 127.60000000000001,
            "bin_end": 139,
            "count": 1
           }
          ]
         }
        },
        {
         "name": "fare",
         "dtype": "float64",
         "stats": {
          "unique_count": 6,
          "nan_count": 0,
          "min": "2462.8916999999997",
          "max": "15755.38339999999",
          "histogram": [
           {
            "bin_start": 2462.8916999999997,
            "bin_end": 3792.1408699999984,
            "count": 3
           },
           {
            "bin_start": 3792.1408699999984,
            "bin_end": 5121.3900399999975,
            "count": 0
           },
           {
            "bin_start": 5121.3900399999975,
            "bin_end": 6450.639209999996,
            "count": 1
           },
           {
            "bin_start": 6450.639209999996,
            "bin_end": 7779.888379999995,
            "count": 0
           },
           {
            "bin_start": 7779.888379999995,
            "bin_end": 9109.137549999994,
            "count": 0
           },
           {
            "bin_start": 9109.137549999994,
            "bin_end": 10438.386719999993,
            "count": 0
           },
           {
            "bin_start": 10438.386719999993,
            "bin_end": 11767.635889999992,
            "count": 0
           },
           {
            "bin_start": 11767.635889999992,
            "bin_end": 13096.885059999991,
            "count": 1
           },
           {
            "bin_start": 13096.885059999991,
            "bin_end": 14426.13422999999,
            "count": 0
           },
           {
            "bin_start": 14426.13422999999,
            "bin_end": 15755.38339999999,
            "count": 1
           }
          ]
         }
        },
        {
         "name": "_deepnote_index_column",
         "dtype": "object"
        }
       ],
       "rows": [
        {
         "survived": 139,
         "fare": 15755.38339999999,
         "_deepnote_index_column": "(1, 'female')"
        },
        {
         "survived": 61,
         "fare": 12510.02089999999,
         "_deepnote_index_column": "(1, 'male')"
        },
        {
         "survived": 94,
         "fare": 2462.8916999999997,
         "_deepnote_index_column": "(2, 'female')"
        },
        {
         "survived": 25,
         "fare": 3403.7457,
         "_deepnote_index_column": "(2, 'male')"
        },
        {
         "survived": 106,
         "fare": 3310.0379000000025,
         "_deepnote_index_column": "(3, 'female')"
        },
        {
         "survived": 75,
         "fare": 6108.407300000014,
         "_deepnote_index_column": "(3, 'male')"
        }
       ]
      },
      "text/plain": "               survived        fare\npclass sex                         \n1      female       139  15755.3834\n       male          61  12510.0209\n2      female        94   2462.8917\n       male          25   3403.7457\n3      female       106   3310.0379\n       male          75   6108.4073",
      "text/html": "<div>\n<style scoped>\n    .dataframe tbody tr th:only-of-type {\n        vertical-align: middle;\n    }\n\n    .dataframe tbody tr th {\n        vertical-align: top;\n    }\n\n    .dataframe thead th {\n        text-align: right;\n    }\n</style>\n<table border=\"1\" class=\"dataframe\">\n  <thead>\n    <tr style=\"text-align: right;\">\n      <th></th>\n      <th></th>\n      <th>survived</th>\n      <th>fare</th>\n    </tr>\n    <tr>\n      <th>pclass</th>\n      <th>sex</th>\n      <th></th>\n      <th></th>\n    </tr>\n  </thead>\n  <tbody>\n    <tr>\n      <th rowspan=\"2\" valign=\"top\">1</th>\n      <th>female</th>\n      <td>139</td>\n      <td>15755.3834</td>\n    </tr>\n    <tr>\n      <th>male</th>\n      <td>61</td>\n      <td>12510.0209</td>\n    </tr>\n    <tr>\n      <th rowspan=\"2\" valign=\"top\">2</th>\n      <th>female</th>\n      <td>94</td>\n      <td>2462.8917</td>\n    </tr>\n    <tr>\n      <th>male</th>\n      <td>25</td>\n      <td>3403.7457</td>\n    </tr>\n    <tr>\n      <th rowspan=\"2\" valign=\"top\">3</th>\n      <th>female</th>\n      <td>106</td>\n      <td>3310.0379</td>\n    </tr>\n    <tr>\n      <th>male</th>\n      <td>75</td>\n      <td>6108.4073</td>\n    </tr>\n  </tbody>\n</table>\n</div>"
     },
     "metadata": {}
    }
   ]
  },
  {
   "cell_type": "code",
   "metadata": {
    "cell_id": "27b428d7781d4ddf84f412ec5287b89a",
    "tags": [],
    "deepnote_to_be_reexecuted": false,
    "source_hash": "33380449",
    "execution_start": 1657816307296,
    "execution_millis": 30,
    "deepnote_cell_type": "code",
    "deepnote_cell_height": 383.375
   },
   "source": "df8.groupby(['pclass'], as_index=False)['survived','fare'].sum()",
   "execution_count": null,
   "outputs": [
    {
     "name": "stderr",
     "text": "<ipython-input-19-bba3bed96a5c>:1: FutureWarning: Indexing with multiple keys (implicitly converted to a tuple of keys) will be deprecated, use a list instead.\n  df8.groupby(['pclass'], as_index=False)['survived','fare'].sum()\n",
     "output_type": "stream"
    },
    {
     "output_type": "execute_result",
     "execution_count": 19,
     "data": {
      "application/vnd.deepnote.dataframe.v3+json": {
       "column_count": 3,
       "row_count": 3,
       "columns": [
        {
         "name": "pclass",
         "dtype": "int64",
         "stats": {
          "unique_count": 3,
          "nan_count": 0,
          "min": "1",
          "max": "3",
          "histogram": [
           {
            "bin_start": 1,
            "bin_end": 1.2,
            "count": 1
           },
           {
            "bin_start": 1.2,
            "bin_end": 1.4,
            "count": 0
           },
           {
            "bin_start": 1.4,
            "bin_end": 1.6,
            "count": 0
           },
           {
            "bin_start": 1.6,
            "bin_end": 1.8,
            "count": 0
           },
           {
            "bin_start": 1.8,
            "bin_end": 2,
            "count": 0
           },
           {
            "bin_start": 2,
            "bin_end": 2.2,
            "count": 1
           },
           {
            "bin_start": 2.2,
            "bin_end": 2.4000000000000004,
            "count": 0
           },
           {
            "bin_start": 2.4000000000000004,
            "bin_end": 2.6,
            "count": 0
           },
           {
            "bin_start": 2.6,
            "bin_end": 2.8,
            "count": 0
           },
           {
            "bin_start": 2.8,
            "bin_end": 3,
            "count": 1
           }
          ]
         }
        },
        {
         "name": "survived",
         "dtype": "int64",
         "stats": {
          "unique_count": 3,
          "nan_count": 0,
          "min": "119",
          "max": "200",
          "histogram": [
           {
            "bin_start": 119,
            "bin_end": 127.1,
            "count": 1
           },
           {
            "bin_start": 127.1,
            "bin_end": 135.2,
            "count": 0
           },
           {
            "bin_start": 135.2,
            "bin_end": 143.3,
            "count": 0
           },
           {
            "bin_start": 143.3,
            "bin_end": 151.4,
            "count": 0
           },
           {
            "bin_start": 151.4,
            "bin_end": 159.5,
            "count": 0
           },
           {
            "bin_start": 159.5,
            "bin_end": 167.6,
            "count": 0
           },
           {
            "bin_start": 167.6,
            "bin_end": 175.7,
            "count": 0
           },
           {
            "bin_start": 175.7,
            "bin_end": 183.8,
            "count": 1
           },
           {
            "bin_start": 183.8,
            "bin_end": 191.89999999999998,
            "count": 0
           },
           {
            "bin_start": 191.89999999999998,
            "bin_end": 200,
            "count": 1
           }
          ]
         }
        },
        {
         "name": "fare",
         "dtype": "float64",
         "stats": {
          "unique_count": 3,
          "nan_count": 0,
          "min": "5866.637400000001",
          "max": "28265.4043",
          "histogram": [
           {
            "bin_start": 5866.637400000001,
            "bin_end": 8106.514090000001,
            "count": 1
           },
           {
            "bin_start": 8106.514090000001,
            "bin_end": 10346.390780000002,
            "count": 1
           },
           {
            "bin_start": 10346.390780000002,
            "bin_end": 12586.26747,
            "count": 0
           },
           {
            "bin_start": 12586.26747,
            "bin_end": 14826.14416,
            "count": 0
           },
           {
            "bin_start": 14826.14416,
            "bin_end": 17066.02085,
            "count": 0
           },
           {
            "bin_start": 17066.02085,
            "bin_end": 19305.897539999998,
            "count": 0
           },
           {
            "bin_start": 19305.897539999998,
            "bin_end": 21545.77423,
            "count": 0
           },
           {
            "bin_start": 21545.77423,
            "bin_end": 23785.65092,
            "count": 0
           },
           {
            "bin_start": 23785.65092,
            "bin_end": 26025.527609999997,
            "count": 0
           },
           {
            "bin_start": 26025.527609999997,
            "bin_end": 28265.4043,
            "count": 1
           }
          ]
         }
        },
        {
         "name": "_deepnote_index_column",
         "dtype": "int64"
        }
       ],
       "rows": [
        {
         "pclass": 1,
         "survived": 200,
         "fare": 28265.4043,
         "_deepnote_index_column": 0
        },
        {
         "pclass": 2,
         "survived": 119,
         "fare": 5866.637400000001,
         "_deepnote_index_column": 1
        },
        {
         "pclass": 3,
         "survived": 181,
         "fare": 9418.44519999999,
         "_deepnote_index_column": 2
        }
       ]
      },
      "text/plain": "   pclass  survived        fare\n0       1       200  28265.4043\n1       2       119   5866.6374\n2       3       181   9418.4452",
      "text/html": "<div>\n<style scoped>\n    .dataframe tbody tr th:only-of-type {\n        vertical-align: middle;\n    }\n\n    .dataframe tbody tr th {\n        vertical-align: top;\n    }\n\n    .dataframe thead th {\n        text-align: right;\n    }\n</style>\n<table border=\"1\" class=\"dataframe\">\n  <thead>\n    <tr style=\"text-align: right;\">\n      <th></th>\n      <th>pclass</th>\n      <th>survived</th>\n      <th>fare</th>\n    </tr>\n  </thead>\n  <tbody>\n    <tr>\n      <th>0</th>\n      <td>1</td>\n      <td>200</td>\n      <td>28265.4043</td>\n    </tr>\n    <tr>\n      <th>1</th>\n      <td>2</td>\n      <td>119</td>\n      <td>5866.6374</td>\n    </tr>\n    <tr>\n      <th>2</th>\n      <td>3</td>\n      <td>181</td>\n      <td>9418.4452</td>\n    </tr>\n  </tbody>\n</table>\n</div>"
     },
     "metadata": {}
    }
   ]
  },
  {
   "cell_type": "code",
   "metadata": {
    "cell_id": "7836ad01a98f47729f3d6d53f35b8714",
    "tags": [],
    "deepnote_to_be_reexecuted": false,
    "source_hash": "9399448c",
    "execution_start": 1657816382892,
    "execution_millis": 45,
    "deepnote_cell_type": "code",
    "deepnote_cell_height": 400.375
   },
   "source": "df8.groupby(['pclass'])['survived','fare'].agg(['min','count','max','sum'])",
   "execution_count": null,
   "outputs": [
    {
     "name": "stderr",
     "text": "<ipython-input-20-f80958e6e6c8>:1: FutureWarning: Indexing with multiple keys (implicitly converted to a tuple of keys) will be deprecated, use a list instead.\n  df8.groupby(['pclass'])['survived','fare'].agg(['min','count','max','sum'])\n",
     "output_type": "stream"
    },
    {
     "output_type": "execute_result",
     "execution_count": 20,
     "data": {
      "application/vnd.deepnote.dataframe.v3+json": {
       "column_count": 8,
       "row_count": 3,
       "columns": [
        {
         "name": "survived min",
         "dtype": "int64",
         "stats": {
          "unique_count": 1,
          "nan_count": 0,
          "min": "0",
          "max": "0",
          "histogram": [
           {
            "bin_start": -0.5,
            "bin_end": -0.4,
            "count": 0
           },
           {
            "bin_start": -0.4,
            "bin_end": -0.3,
            "count": 0
           },
           {
            "bin_start": -0.3,
            "bin_end": -0.19999999999999996,
            "count": 0
           },
           {
            "bin_start": -0.19999999999999996,
            "bin_end": -0.09999999999999998,
            "count": 0
           },
           {
            "bin_start": -0.09999999999999998,
            "bin_end": 0,
            "count": 0
           },
           {
            "bin_start": 0,
            "bin_end": 0.10000000000000009,
            "count": 3
           },
           {
            "bin_start": 0.10000000000000009,
            "bin_end": 0.20000000000000007,
            "count": 0
           },
           {
            "bin_start": 0.20000000000000007,
            "bin_end": 0.30000000000000004,
            "count": 0
           },
           {
            "bin_start": 0.30000000000000004,
            "bin_end": 0.4,
            "count": 0
           },
           {
            "bin_start": 0.4,
            "bin_end": 0.5,
            "count": 0
           }
          ]
         }
        },
        {
         "name": "survived count",
         "dtype": "int64",
         "stats": {
          "unique_count": 3,
          "nan_count": 0,
          "min": "277",
          "max": "709",
          "histogram": [
           {
            "bin_start": 277,
            "bin_end": 320.2,
            "count": 1
           },
           {
            "bin_start": 320.2,
            "bin_end": 363.4,
            "count": 1
           },
           {
            "bin_start": 363.4,
            "bin_end": 406.6,
            "count": 0
           },
           {
            "bin_start": 406.6,
            "bin_end": 449.8,
            "count": 0
           },
           {
            "bin_start": 449.8,
            "bin_end": 493,
            "count": 0
           },
           {
            "bin_start": 493,
            "bin_end": 536.2,
            "count": 0
           },
           {
            "bin_start": 536.2,
            "bin_end": 579.4000000000001,
            "count": 0
           },
           {
            "bin_start": 579.4000000000001,
            "bin_end": 622.6,
            "count": 0
           },
           {
            "bin_start": 622.6,
            "bin_end": 665.8,
            "count": 0
           },
           {
            "bin_start": 665.8,
            "bin_end": 709,
            "count": 1
           }
          ]
         }
        },
        {
         "name": "survived max",
         "dtype": "int64",
         "stats": {
          "unique_count": 1,
          "nan_count": 0,
          "min": "1",
          "max": "1",
          "histogram": [
           {
            "bin_start": 0.5,
            "bin_end": 0.6,
            "count": 0
           },
           {
            "bin_start": 0.6,
            "bin_end": 0.7,
            "count": 0
           },
           {
            "bin_start": 0.7,
            "bin_end": 0.8,
            "count": 0
           },
           {
            "bin_start": 0.8,
            "bin_end": 0.9,
            "count": 0
           },
           {
            "bin_start": 0.9,
            "bin_end": 1,
            "count": 0
           },
           {
            "bin_start": 1,
            "bin_end": 1.1,
            "count": 3
           },
           {
            "bin_start": 1.1,
            "bin_end": 1.2000000000000002,
            "count": 0
           },
           {
            "bin_start": 1.2000000000000002,
            "bin_end": 1.3,
            "count": 0
           },
           {
            "bin_start": 1.3,
            "bin_end": 1.4,
            "count": 0
           },
           {
            "bin_start": 1.4,
            "bin_end": 1.5,
            "count": 0
           }
          ]
         }
        },
        {
         "name": "survived sum",
         "dtype": "int64",
         "stats": {
          "unique_count": 3,
          "nan_count": 0,
          "min": "119",
          "max": "200",
          "histogram": [
           {
            "bin_start": 119,
            "bin_end": 127.1,
            "count": 1
           },
           {
            "bin_start": 127.1,
            "bin_end": 135.2,
            "count": 0
           },
           {
            "bin_start": 135.2,
            "bin_end": 143.3,
            "count": 0
           },
           {
            "bin_start": 143.3,
            "bin_end": 151.4,
            "count": 0
           },
           {
            "bin_start": 151.4,
            "bin_end": 159.5,
            "count": 0
           },
           {
            "bin_start": 159.5,
            "bin_end": 167.6,
            "count": 0
           },
           {
            "bin_start": 167.6,
            "bin_end": 175.7,
            "count": 0
           },
           {
            "bin_start": 175.7,
            "bin_end": 183.8,
            "count": 1
           },
           {
            "bin_start": 183.8,
            "bin_end": 191.89999999999998,
            "count": 0
           },
           {
            "bin_start": 191.89999999999998,
            "bin_end": 200,
            "count": 1
           }
          ]
         }
        },
        {
         "name": "fare min",
         "dtype": "float64",
         "stats": {
          "unique_count": 1,
          "nan_count": 0,
          "min": "0.0",
          "max": "0.0",
          "histogram": [
           {
            "bin_start": -0.5,
            "bin_end": -0.4,
            "count": 0
           },
           {
            "bin_start": -0.4,
            "bin_end": -0.3,
            "count": 0
           },
           {
            "bin_start": -0.3,
            "bin_end": -0.19999999999999996,
            "count": 0
           },
           {
            "bin_start": -0.19999999999999996,
            "bin_end": -0.09999999999999998,
            "count": 0
           },
           {
            "bin_start": -0.09999999999999998,
            "bin_end": 0,
            "count": 0
           },
           {
            "bin_start": 0,
            "bin_end": 0.10000000000000009,
            "count": 3
           },
           {
            "bin_start": 0.10000000000000009,
            "bin_end": 0.20000000000000007,
            "count": 0
           },
           {
            "bin_start": 0.20000000000000007,
            "bin_end": 0.30000000000000004,
            "count": 0
           },
           {
            "bin_start": 0.30000000000000004,
            "bin_end": 0.4,
            "count": 0
           },
           {
            "bin_start": 0.4,
            "bin_end": 0.5,
            "count": 0
           }
          ]
         }
        },
        {
         "name": "fare count",
         "dtype": "int64",
         "stats": {
          "unique_count": 3,
          "nan_count": 0,
          "min": "277",
          "max": "708",
          "histogram": [
           {
            "bin_start": 277,
            "bin_end": 320.1,
            "count": 1
           },
           {
            "bin_start": 320.1,
            "bin_end": 363.2,
            "count": 1
           },
           {
            "bin_start": 363.2,
            "bin_end": 406.3,
            "count": 0
           },
           {
            "bin_start": 406.3,
            "bin_end": 449.4,
            "count": 0
           },
           {
            "bin_start": 449.4,
            "bin_end": 492.5,
            "count": 0
           },
           {
            "bin_start": 492.5,
            "bin_end": 535.6,
            "count": 0
           },
           {
            "bin_start": 535.6,
            "bin_end": 578.7,
            "count": 0
           },
           {
            "bin_start": 578.7,
            "bin_end": 621.8,
            "count": 0
           },
           {
            "bin_start": 621.8,
            "bin_end": 664.9000000000001,
            "count": 0
           },
           {
            "bin_start": 664.9000000000001,
            "bin_end": 708,
            "count": 1
           }
          ]
         }
        },
        {
         "name": "fare max",
         "dtype": "float64",
         "stats": {
          "unique_count": 3,
          "nan_count": 0,
          "min": "69.55",
          "max": "512.3292",
          "histogram": [
           {
            "bin_start": 69.55,
            "bin_end": 113.82792,
            "count": 2
           },
           {
            "bin_start": 113.82792,
            "bin_end": 158.10584,
            "count": 0
           },
           {
            "bin_start": 158.10584,
            "bin_end": 202.38376,
            "count": 0
           },
           {
            "bin_start": 202.38376,
            "bin_end": 246.66168,
            "count": 0
           },
           {
            "bin_start": 246.66168,
            "bin_end": 290.9396,
            "count": 0
           },
           {
            "bin_start": 290.9396,
            "bin_end": 335.21752000000004,
            "count": 0
           },
           {
            "bin_start": 335.21752000000004,
            "bin_end": 379.49544000000003,
            "count": 0
           },
           {
            "bin_start": 379.49544000000003,
            "bin_end": 423.77336,
            "count": 0
           },
           {
            "bin_start": 423.77336,
            "bin_end": 468.05128,
            "count": 0
           },
           {
            "bin_start": 468.05128,
            "bin_end": 512.3292,
            "count": 1
           }
          ]
         }
        },
        {
         "name": "fare sum",
         "dtype": "float64",
         "stats": {
          "unique_count": 3,
          "nan_count": 0,
          "min": "5866.637400000001",
          "max": "28265.4043",
          "histogram": [
           {
            "bin_start": 5866.637400000001,
            "bin_end": 8106.514090000001,
            "count": 1
           },
           {
            "bin_start": 8106.514090000001,
            "bin_end": 10346.390780000002,
            "count": 1
           },
           {
            "bin_start": 10346.390780000002,
            "bin_end": 12586.26747,
            "count": 0
           },
           {
            "bin_start": 12586.26747,
            "bin_end": 14826.14416,
            "count": 0
           },
           {
            "bin_start": 14826.14416,
            "bin_end": 17066.02085,
            "count": 0
           },
           {
            "bin_start": 17066.02085,
            "bin_end": 19305.897539999998,
            "count": 0
           },
           {
            "bin_start": 19305.897539999998,
            "bin_end": 21545.77423,
            "count": 0
           },
           {
            "bin_start": 21545.77423,
            "bin_end": 23785.65092,
            "count": 0
           },
           {
            "bin_start": 23785.65092,
            "bin_end": 26025.527609999997,
            "count": 0
           },
           {
            "bin_start": 26025.527609999997,
            "bin_end": 28265.4043,
            "count": 1
           }
          ]
         }
        },
        {
         "name": "_deepnote_index_column",
         "dtype": "int64"
        }
       ],
       "rows": [
        {
         "survived min": 0,
         "survived count": 323,
         "survived max": 1,
         "survived sum": 200,
         "fare min": 0,
         "fare count": 323,
         "fare max": 512.3292,
         "fare sum": 28265.4043,
         "_deepnote_index_column": 1
        },
        {
         "survived min": 0,
         "survived count": 277,
         "survived max": 1,
         "survived sum": 119,
         "fare min": 0,
         "fare count": 277,
         "fare max": 73.5,
         "fare sum": 5866.637400000001,
         "_deepnote_index_column": 2
        },
        {
         "survived min": 0,
         "survived count": 709,
         "survived max": 1,
         "survived sum": 181,
         "fare min": 0,
         "fare count": 708,
         "fare max": 69.55,
         "fare sum": 9418.44519999999,
         "_deepnote_index_column": 3
        }
       ]
      },
      "text/plain": "       survived                fare                            \n            min count max  sum  min count       max         sum\npclass                                                         \n1             0   323   1  200  0.0   323  512.3292  28265.4043\n2             0   277   1  119  0.0   277   73.5000   5866.6374\n3             0   709   1  181  0.0   708   69.5500   9418.4452",
      "text/html": "<div>\n<style scoped>\n    .dataframe tbody tr th:only-of-type {\n        vertical-align: middle;\n    }\n\n    .dataframe tbody tr th {\n        vertical-align: top;\n    }\n\n    .dataframe thead tr th {\n        text-align: left;\n    }\n\n    .dataframe thead tr:last-of-type th {\n        text-align: right;\n    }\n</style>\n<table border=\"1\" class=\"dataframe\">\n  <thead>\n    <tr>\n      <th></th>\n      <th colspan=\"4\" halign=\"left\">survived</th>\n      <th colspan=\"4\" halign=\"left\">fare</th>\n    </tr>\n    <tr>\n      <th></th>\n      <th>min</th>\n      <th>count</th>\n      <th>max</th>\n      <th>sum</th>\n      <th>min</th>\n      <th>count</th>\n      <th>max</th>\n      <th>sum</th>\n    </tr>\n    <tr>\n      <th>pclass</th>\n      <th></th>\n      <th></th>\n      <th></th>\n      <th></th>\n      <th></th>\n      <th></th>\n      <th></th>\n      <th></th>\n    </tr>\n  </thead>\n  <tbody>\n    <tr>\n      <th>1</th>\n      <td>0</td>\n      <td>323</td>\n      <td>1</td>\n      <td>200</td>\n      <td>0.0</td>\n      <td>323</td>\n      <td>512.3292</td>\n      <td>28265.4043</td>\n    </tr>\n    <tr>\n      <th>2</th>\n      <td>0</td>\n      <td>277</td>\n      <td>1</td>\n      <td>119</td>\n      <td>0.0</td>\n      <td>277</td>\n      <td>73.5000</td>\n      <td>5866.6374</td>\n    </tr>\n    <tr>\n      <th>3</th>\n      <td>0</td>\n      <td>709</td>\n      <td>1</td>\n      <td>181</td>\n      <td>0.0</td>\n      <td>708</td>\n      <td>69.5500</td>\n      <td>9418.4452</td>\n    </tr>\n  </tbody>\n</table>\n</div>"
     },
     "metadata": {}
    }
   ]
  },
  {
   "cell_type": "code",
   "metadata": {
    "cell_id": "812085ac35394931945a35c99b67d45a",
    "tags": [],
    "deepnote_to_be_reexecuted": false,
    "source_hash": "c2602aa8",
    "execution_start": 1657816657405,
    "execution_millis": 3,
    "deepnote_cell_type": "code",
    "deepnote_cell_height": 81
   },
   "source": "import numpy as np",
   "execution_count": null,
   "outputs": []
  },
  {
   "cell_type": "code",
   "metadata": {
    "cell_id": "a16abfe23b4e4a2a92af06db59829415",
    "tags": [],
    "deepnote_to_be_reexecuted": false,
    "source_hash": "ce6e592e",
    "execution_start": 1657816672294,
    "execution_millis": 71,
    "deepnote_cell_type": "code",
    "deepnote_cell_height": 412
   },
   "source": "df8.head()",
   "execution_count": null,
   "outputs": [
    {
     "output_type": "execute_result",
     "execution_count": 22,
     "data": {
      "application/vnd.deepnote.dataframe.v3+json": {
       "column_count": 14,
       "row_count": 5,
       "columns": [
        {
         "name": "pclass",
         "dtype": "int64",
         "stats": {
          "unique_count": 1,
          "nan_count": 0,
          "min": "1",
          "max": "1",
          "histogram": [
           {
            "bin_start": 0.5,
            "bin_end": 0.6,
            "count": 0
           },
           {
            "bin_start": 0.6,
            "bin_end": 0.7,
            "count": 0
           },
           {
            "bin_start": 0.7,
            "bin_end": 0.8,
            "count": 0
           },
           {
            "bin_start": 0.8,
            "bin_end": 0.9,
            "count": 0
           },
           {
            "bin_start": 0.9,
            "bin_end": 1,
            "count": 0
           },
           {
            "bin_start": 1,
            "bin_end": 1.1,
            "count": 5
           },
           {
            "bin_start": 1.1,
            "bin_end": 1.2000000000000002,
            "count": 0
           },
           {
            "bin_start": 1.2000000000000002,
            "bin_end": 1.3,
            "count": 0
           },
           {
            "bin_start": 1.3,
            "bin_end": 1.4,
            "count": 0
           },
           {
            "bin_start": 1.4,
            "bin_end": 1.5,
            "count": 0
           }
          ]
         }
        },
        {
         "name": "survived",
         "dtype": "int64",
         "stats": {
          "unique_count": 2,
          "nan_count": 0,
          "min": "0",
          "max": "1",
          "histogram": [
           {
            "bin_start": 0,
            "bin_end": 0.1,
            "count": 3
           },
           {
            "bin_start": 0.1,
            "bin_end": 0.2,
            "count": 0
           },
           {
            "bin_start": 0.2,
            "bin_end": 0.30000000000000004,
            "count": 0
           },
           {
            "bin_start": 0.30000000000000004,
            "bin_end": 0.4,
            "count": 0
           },
           {
            "bin_start": 0.4,
            "bin_end": 0.5,
            "count": 0
           },
           {
            "bin_start": 0.5,
            "bin_end": 0.6000000000000001,
            "count": 0
           },
           {
            "bin_start": 0.6000000000000001,
            "bin_end": 0.7000000000000001,
            "count": 0
           },
           {
            "bin_start": 0.7000000000000001,
            "bin_end": 0.8,
            "count": 0
           },
           {
            "bin_start": 0.8,
            "bin_end": 0.9,
            "count": 0
           },
           {
            "bin_start": 0.9,
            "bin_end": 1,
            "count": 2
           }
          ]
         }
        },
        {
         "name": "name",
         "dtype": "object",
         "stats": {
          "unique_count": 5,
          "nan_count": 0,
          "categories": [
           {
            "name": "Allen, Miss. Elisabeth Walton",
            "count": 1
           },
           {
            "name": "Allison, Master. Hudson Trevor",
            "count": 1
           },
           {
            "name": "3 others",
            "count": 3
           }
          ]
         }
        },
        {
         "name": "sex",
         "dtype": "object",
         "stats": {
          "unique_count": 2,
          "nan_count": 0,
          "categories": [
           {
            "name": "female",
            "count": 3
           },
           {
            "name": "male",
            "count": 2
           }
          ]
         }
        },
        {
         "name": "age",
         "dtype": "float64",
         "stats": {
          "unique_count": 5,
          "nan_count": 0,
          "min": "0.9167",
          "max": "30.0",
          "histogram": [
           {
            "bin_start": 0.9167,
            "bin_end": 3.8250300000000004,
            "count": 2
           },
           {
            "bin_start": 3.8250300000000004,
            "bin_end": 6.73336,
            "count": 0
           },
           {
            "bin_start": 6.73336,
            "bin_end": 9.641690000000002,
            "count": 0
           },
           {
            "bin_start": 9.641690000000002,
            "bin_end": 12.550020000000002,
            "count": 0
           },
           {
            "bin_start": 12.550020000000002,
            "bin_end": 15.458350000000001,
            "count": 0
           },
           {
            "bin_start": 15.458350000000001,
            "bin_end": 18.366680000000002,
            "count": 0
           },
           {
            "bin_start": 18.366680000000002,
            "bin_end": 21.27501,
            "count": 0
           },
           {
            "bin_start": 21.27501,
            "bin_end": 24.18334,
            "count": 0
           },
           {
            "bin_start": 24.18334,
            "bin_end": 27.09167,
            "count": 1
           },
           {
            "bin_start": 27.09167,
            "bin_end": 30,
            "count": 2
           }
          ]
         }
        },
        {
         "name": "sibsp",
         "dtype": "int64",
         "stats": {
          "unique_count": 2,
          "nan_count": 0,
          "min": "0",
          "max": "1",
          "histogram": [
           {
            "bin_start": 0,
            "bin_end": 0.1,
            "count": 1
           },
           {
            "bin_start": 0.1,
            "bin_end": 0.2,
            "count": 0
           },
           {
            "bin_start": 0.2,
            "bin_end": 0.30000000000000004,
            "count": 0
           },
           {
            "bin_start": 0.30000000000000004,
            "bin_end": 0.4,
            "count": 0
           },
           {
            "bin_start": 0.4,
            "bin_end": 0.5,
            "count": 0
           },
           {
            "bin_start": 0.5,
            "bin_end": 0.6000000000000001,
            "count": 0
           },
           {
            "bin_start": 0.6000000000000001,
            "bin_end": 0.7000000000000001,
            "count": 0
           },
           {
            "bin_start": 0.7000000000000001,
            "bin_end": 0.8,
            "count": 0
           },
           {
            "bin_start": 0.8,
            "bin_end": 0.9,
            "count": 0
           },
           {
            "bin_start": 0.9,
            "bin_end": 1,
            "count": 4
           }
          ]
         }
        },
        {
         "name": "parch",
         "dtype": "int64",
         "stats": {
          "unique_count": 2,
          "nan_count": 0,
          "min": "0",
          "max": "2",
          "histogram": [
           {
            "bin_start": 0,
            "bin_end": 0.2,
            "count": 1
           },
           {
            "bin_start": 0.2,
            "bin_end": 0.4,
            "count": 0
           },
           {
            "bin_start": 0.4,
            "bin_end": 0.6000000000000001,
            "count": 0
           },
           {
            "bin_start": 0.6000000000000001,
            "bin_end": 0.8,
            "count": 0
           },
           {
            "bin_start": 0.8,
            "bin_end": 1,
            "count": 0
           },
           {
            "bin_start": 1,
            "bin_end": 1.2000000000000002,
            "count": 0
           },
           {
            "bin_start": 1.2000000000000002,
            "bin_end": 1.4000000000000001,
            "count": 0
           },
           {
            "bin_start": 1.4000000000000001,
            "bin_end": 1.6,
            "count": 0
           },
           {
            "bin_start": 1.6,
            "bin_end": 1.8,
            "count": 0
           },
           {
            "bin_start": 1.8,
            "bin_end": 2,
            "count": 4
           }
          ]
         }
        },
        {
         "name": "ticket",
         "dtype": "object",
         "stats": {
          "unique_count": 2,
          "nan_count": 0,
          "categories": [
           {
            "name": "113781",
            "count": 4
           },
           {
            "name": "24160",
            "count": 1
           }
          ]
         }
        },
        {
         "name": "fare",
         "dtype": "float64",
         "stats": {
          "unique_count": 2,
          "nan_count": 0,
          "min": "151.55",
          "max": "211.3375",
          "histogram": [
           {
            "bin_start": 151.55,
            "bin_end": 157.52875,
            "count": 4
           },
           {
            "bin_start": 157.52875,
            "bin_end": 163.50750000000002,
            "count": 0
           },
           {
            "bin_start": 163.50750000000002,
            "bin_end": 169.48625,
            "count": 0
           },
           {
            "bin_start": 169.48625,
            "bin_end": 175.465,
            "count": 0
           },
           {
            "bin_start": 175.465,
            "bin_end": 181.44375000000002,
            "count": 0
           },
           {
            "bin_start": 181.44375000000002,
            "bin_end": 187.4225,
            "count": 0
           },
           {
            "bin_start": 187.4225,
            "bin_end": 193.40125,
            "count": 0
           },
           {
            "bin_start": 193.40125,
            "bin_end": 199.38,
            "count": 0
           },
           {
            "bin_start": 199.38,
            "bin_end": 205.35875000000001,
            "count": 0
           },
           {
            "bin_start": 205.35875000000001,
            "bin_end": 211.3375,
            "count": 1
           }
          ]
         }
        },
        {
         "name": "cabin",
         "dtype": "object",
         "stats": {
          "unique_count": 2,
          "nan_count": 0,
          "categories": [
           {
            "name": "C22 C26",
            "count": 4
           },
           {
            "name": "B5",
            "count": 1
           }
          ]
         }
        },
        {
         "name": "embarked",
         "dtype": "object",
         "stats": {
          "unique_count": 1,
          "nan_count": 0,
          "categories": [
           {
            "name": "S",
            "count": 5
           }
          ]
         }
        },
        {
         "name": "boat",
         "dtype": "object",
         "stats": {
          "unique_count": 2,
          "nan_count": 3,
          "categories": [
           {
            "name": "2",
            "count": 1
           },
           {
            "name": "11",
            "count": 1
           },
           {
            "name": "Missing",
            "count": 3
           }
          ]
         }
        },
        {
         "name": "body",
         "dtype": "float64",
         "stats": {
          "unique_count": 1,
          "nan_count": 4,
          "min": "135.0",
          "max": "135.0",
          "histogram": [
           {
            "bin_start": 134.5,
            "bin_end": 134.6,
            "count": 0
           },
           {
            "bin_start": 134.6,
            "bin_end": 134.7,
            "count": 0
           },
           {
            "bin_start": 134.7,
            "bin_end": 134.8,
            "count": 0
           },
           {
            "bin_start": 134.8,
            "bin_end": 134.9,
            "count": 0
           },
           {
            "bin_start": 134.9,
            "bin_end": 135,
            "count": 0
           },
           {
            "bin_start": 135,
            "bin_end": 135.1,
            "count": 1
           },
           {
            "bin_start": 135.1,
            "bin_end": 135.2,
            "count": 0
           },
           {
            "bin_start": 135.2,
            "bin_end": 135.3,
            "count": 0
           },
           {
            "bin_start": 135.3,
            "bin_end": 135.4,
            "count": 0
           },
           {
            "bin_start": 135.4,
            "bin_end": 135.5,
            "count": 0
           }
          ]
         }
        },
        {
         "name": "home.dest",
         "dtype": "object",
         "stats": {
          "unique_count": 2,
          "nan_count": 0,
          "categories": [
           {
            "name": "Montreal, PQ / Chesterville, ON",
            "count": 4
           },
           {
            "name": "St Louis, MO",
            "count": 1
           }
          ]
         }
        },
        {
         "name": "_deepnote_index_column",
         "dtype": "int64"
        }
       ],
       "rows": [
        {
         "pclass": 1,
         "survived": 1,
         "name": "Allen, Miss. Elisabeth Walton",
         "sex": "female",
         "age": 29,
         "sibsp": 0,
         "parch": 0,
         "ticket": "24160",
         "fare": 211.3375,
         "cabin": "B5",
         "embarked": "S",
         "boat": "2",
         "body": "nan",
         "home.dest": "St Louis, MO",
         "_deepnote_index_column": 0
        },
        {
         "pclass": 1,
         "survived": 1,
         "name": "Allison, Master. Hudson Trevor",
         "sex": "male",
         "age": 0.9167,
         "sibsp": 1,
         "parch": 2,
         "ticket": "113781",
         "fare": 151.55,
         "cabin": "C22 C26",
         "embarked": "S",
         "boat": "11",
         "body": "nan",
         "home.dest": "Montreal, PQ / Chesterville, ON",
         "_deepnote_index_column": 1
        },
        {
         "pclass": 1,
         "survived": 0,
         "name": "Allison, Miss. Helen Loraine",
         "sex": "female",
         "age": 2,
         "sibsp": 1,
         "parch": 2,
         "ticket": "113781",
         "fare": 151.55,
         "cabin": "C22 C26",
         "embarked": "S",
         "boat": "nan",
         "body": "nan",
         "home.dest": "Montreal, PQ / Chesterville, ON",
         "_deepnote_index_column": 2
        },
        {
         "pclass": 1,
         "survived": 0,
         "name": "Allison, Mr. Hudson Joshua Creighton",
         "sex": "male",
         "age": 30,
         "sibsp": 1,
         "parch": 2,
         "ticket": "113781",
         "fare": 151.55,
         "cabin": "C22 C26",
         "embarked": "S",
         "boat": "nan",
         "body": 135,
         "home.dest": "Montreal, PQ / Chesterville, ON",
         "_deepnote_index_column": 3
        },
        {
         "pclass": 1,
         "survived": 0,
         "name": "Allison, Mrs. Hudson J C (Bessie Waldo Daniels)",
         "sex": "female",
         "age": 25,
         "sibsp": 1,
         "parch": 2,
         "ticket": "113781",
         "fare": 151.55,
         "cabin": "C22 C26",
         "embarked": "S",
         "boat": "nan",
         "body": "nan",
         "home.dest": "Montreal, PQ / Chesterville, ON",
         "_deepnote_index_column": 4
        }
       ]
      },
      "text/plain": "   pclass  survived                                             name     sex  \\\n0       1         1                    Allen, Miss. Elisabeth Walton  female   \n1       1         1                   Allison, Master. Hudson Trevor    male   \n2       1         0                     Allison, Miss. Helen Loraine  female   \n3       1         0             Allison, Mr. Hudson Joshua Creighton    male   \n4       1         0  Allison, Mrs. Hudson J C (Bessie Waldo Daniels)  female   \n\n       age  sibsp  parch  ticket      fare    cabin embarked boat   body  \\\n0  29.0000      0      0   24160  211.3375       B5        S    2    NaN   \n1   0.9167      1      2  113781  151.5500  C22 C26        S   11    NaN   \n2   2.0000      1      2  113781  151.5500  C22 C26        S  NaN    NaN   \n3  30.0000      1      2  113781  151.5500  C22 C26        S  NaN  135.0   \n4  25.0000      1      2  113781  151.5500  C22 C26        S  NaN    NaN   \n\n                         home.dest  \n0                     St Louis, MO  \n1  Montreal, PQ / Chesterville, ON  \n2  Montreal, PQ / Chesterville, ON  \n3  Montreal, PQ / Chesterville, ON  \n4  Montreal, PQ / Chesterville, ON  ",
      "text/html": "<div>\n<style scoped>\n    .dataframe tbody tr th:only-of-type {\n        vertical-align: middle;\n    }\n\n    .dataframe tbody tr th {\n        vertical-align: top;\n    }\n\n    .dataframe thead th {\n        text-align: right;\n    }\n</style>\n<table border=\"1\" class=\"dataframe\">\n  <thead>\n    <tr style=\"text-align: right;\">\n      <th></th>\n      <th>pclass</th>\n      <th>survived</th>\n      <th>name</th>\n      <th>sex</th>\n      <th>age</th>\n      <th>sibsp</th>\n      <th>parch</th>\n      <th>ticket</th>\n      <th>fare</th>\n      <th>cabin</th>\n      <th>embarked</th>\n      <th>boat</th>\n      <th>body</th>\n      <th>home.dest</th>\n    </tr>\n  </thead>\n  <tbody>\n    <tr>\n      <th>0</th>\n      <td>1</td>\n      <td>1</td>\n      <td>Allen, Miss. Elisabeth Walton</td>\n      <td>female</td>\n      <td>29.0000</td>\n      <td>0</td>\n      <td>0</td>\n      <td>24160</td>\n      <td>211.3375</td>\n      <td>B5</td>\n      <td>S</td>\n      <td>2</td>\n      <td>NaN</td>\n      <td>St Louis, MO</td>\n    </tr>\n    <tr>\n      <th>1</th>\n      <td>1</td>\n      <td>1</td>\n      <td>Allison, Master. Hudson Trevor</td>\n      <td>male</td>\n      <td>0.9167</td>\n      <td>1</td>\n      <td>2</td>\n      <td>113781</td>\n      <td>151.5500</td>\n      <td>C22 C26</td>\n      <td>S</td>\n      <td>11</td>\n      <td>NaN</td>\n      <td>Montreal, PQ / Chesterville, ON</td>\n    </tr>\n    <tr>\n      <th>2</th>\n      <td>1</td>\n      <td>0</td>\n      <td>Allison, Miss. Helen Loraine</td>\n      <td>female</td>\n      <td>2.0000</td>\n      <td>1</td>\n      <td>2</td>\n      <td>113781</td>\n      <td>151.5500</td>\n      <td>C22 C26</td>\n      <td>S</td>\n      <td>NaN</td>\n      <td>NaN</td>\n      <td>Montreal, PQ / Chesterville, ON</td>\n    </tr>\n    <tr>\n      <th>3</th>\n      <td>1</td>\n      <td>0</td>\n      <td>Allison, Mr. Hudson Joshua Creighton</td>\n      <td>male</td>\n      <td>30.0000</td>\n      <td>1</td>\n      <td>2</td>\n      <td>113781</td>\n      <td>151.5500</td>\n      <td>C22 C26</td>\n      <td>S</td>\n      <td>NaN</td>\n      <td>135.0</td>\n      <td>Montreal, PQ / Chesterville, ON</td>\n    </tr>\n    <tr>\n      <th>4</th>\n      <td>1</td>\n      <td>0</td>\n      <td>Allison, Mrs. Hudson J C (Bessie Waldo Daniels)</td>\n      <td>female</td>\n      <td>25.0000</td>\n      <td>1</td>\n      <td>2</td>\n      <td>113781</td>\n      <td>151.5500</td>\n      <td>C22 C26</td>\n      <td>S</td>\n      <td>NaN</td>\n      <td>NaN</td>\n      <td>Montreal, PQ / Chesterville, ON</td>\n    </tr>\n  </tbody>\n</table>\n</div>"
     },
     "metadata": {}
    }
   ]
  },
  {
   "cell_type": "code",
   "metadata": {
    "cell_id": "2c6a25c503be4d1293fd101fa18b405d",
    "tags": [],
    "deepnote_to_be_reexecuted": false,
    "source_hash": "4124a4ba",
    "execution_start": 1657820357528,
    "execution_millis": 17,
    "deepnote_cell_type": "code",
    "deepnote_cell_height": 162.1875
   },
   "source": "capitalize = lambda x: x.upper()\ndf8['home.dest'].apply(capitalize)",
   "execution_count": null,
   "outputs": [
    {
     "output_type": "error",
     "ename": "AttributeError",
     "evalue": "'float' object has no attribute 'upper'",
     "traceback": [
      "\u001b[0;31m---------------------------------------------------------------------------\u001b[0m",
      "\u001b[0;31mAttributeError\u001b[0m                            Traceback (most recent call last)",
      "\u001b[0;32m<ipython-input-27-0d41ce87c13c>\u001b[0m in \u001b[0;36m<cell line: 2>\u001b[0;34m()\u001b[0m\n\u001b[1;32m      1\u001b[0m \u001b[0mcapitalize\u001b[0m \u001b[0;34m=\u001b[0m \u001b[0;32mlambda\u001b[0m \u001b[0mx\u001b[0m\u001b[0;34m:\u001b[0m \u001b[0mx\u001b[0m\u001b[0;34m.\u001b[0m\u001b[0mupper\u001b[0m\u001b[0;34m(\u001b[0m\u001b[0;34m)\u001b[0m\u001b[0;34m\u001b[0m\u001b[0;34m\u001b[0m\u001b[0m\n\u001b[0;32m----> 2\u001b[0;31m \u001b[0mdf8\u001b[0m\u001b[0;34m[\u001b[0m\u001b[0;34m'home.dest'\u001b[0m\u001b[0;34m]\u001b[0m\u001b[0;34m.\u001b[0m\u001b[0mapply\u001b[0m\u001b[0;34m(\u001b[0m\u001b[0mcapitalize\u001b[0m\u001b[0;34m)\u001b[0m\u001b[0;34m\u001b[0m\u001b[0;34m\u001b[0m\u001b[0m\n\u001b[0m",
      "\u001b[0;32m/shared-libs/python3.9/py/lib/python3.9/site-packages/pandas/core/series.py\u001b[0m in \u001b[0;36mapply\u001b[0;34m(self, func, convert_dtype, args, **kwds)\u001b[0m\n\u001b[1;32m   4136\u001b[0m             \u001b[0;32melse\u001b[0m\u001b[0;34m:\u001b[0m\u001b[0;34m\u001b[0m\u001b[0;34m\u001b[0m\u001b[0m\n\u001b[1;32m   4137\u001b[0m                 \u001b[0mvalues\u001b[0m \u001b[0;34m=\u001b[0m \u001b[0mself\u001b[0m\u001b[0;34m.\u001b[0m\u001b[0mastype\u001b[0m\u001b[0;34m(\u001b[0m\u001b[0mobject\u001b[0m\u001b[0;34m)\u001b[0m\u001b[0;34m.\u001b[0m\u001b[0m_values\u001b[0m\u001b[0;34m\u001b[0m\u001b[0;34m\u001b[0m\u001b[0m\n\u001b[0;32m-> 4138\u001b[0;31m                 \u001b[0mmapped\u001b[0m \u001b[0;34m=\u001b[0m \u001b[0mlib\u001b[0m\u001b[0;34m.\u001b[0m\u001b[0mmap_infer\u001b[0m\u001b[0;34m(\u001b[0m\u001b[0mvalues\u001b[0m\u001b[0;34m,\u001b[0m \u001b[0mf\u001b[0m\u001b[0;34m,\u001b[0m \u001b[0mconvert\u001b[0m\u001b[0;34m=\u001b[0m\u001b[0mconvert_dtype\u001b[0m\u001b[0;34m)\u001b[0m\u001b[0;34m\u001b[0m\u001b[0;34m\u001b[0m\u001b[0m\n\u001b[0m\u001b[1;32m   4139\u001b[0m \u001b[0;34m\u001b[0m\u001b[0m\n\u001b[1;32m   4140\u001b[0m         \u001b[0;32mif\u001b[0m \u001b[0mlen\u001b[0m\u001b[0;34m(\u001b[0m\u001b[0mmapped\u001b[0m\u001b[0;34m)\u001b[0m \u001b[0;32mand\u001b[0m \u001b[0misinstance\u001b[0m\u001b[0;34m(\u001b[0m\u001b[0mmapped\u001b[0m\u001b[0;34m[\u001b[0m\u001b[0;36m0\u001b[0m\u001b[0;34m]\u001b[0m\u001b[0;34m,\u001b[0m \u001b[0mSeries\u001b[0m\u001b[0;34m)\u001b[0m\u001b[0;34m:\u001b[0m\u001b[0;34m\u001b[0m\u001b[0;34m\u001b[0m\u001b[0m\n",
      "\u001b[0;32mpandas/_libs/lib.pyx\u001b[0m in \u001b[0;36mpandas._libs.lib.map_infer\u001b[0;34m()\u001b[0m\n",
      "\u001b[0;32m<ipython-input-27-0d41ce87c13c>\u001b[0m in \u001b[0;36m<lambda>\u001b[0;34m(x)\u001b[0m\n\u001b[0;32m----> 1\u001b[0;31m \u001b[0mcapitalize\u001b[0m \u001b[0;34m=\u001b[0m \u001b[0;32mlambda\u001b[0m \u001b[0mx\u001b[0m\u001b[0;34m:\u001b[0m \u001b[0mx\u001b[0m\u001b[0;34m.\u001b[0m\u001b[0mupper\u001b[0m\u001b[0;34m(\u001b[0m\u001b[0;34m)\u001b[0m\u001b[0;34m\u001b[0m\u001b[0;34m\u001b[0m\u001b[0m\n\u001b[0m\u001b[1;32m      2\u001b[0m \u001b[0mdf8\u001b[0m\u001b[0;34m[\u001b[0m\u001b[0;34m'home.dest'\u001b[0m\u001b[0;34m]\u001b[0m\u001b[0;34m.\u001b[0m\u001b[0mapply\u001b[0m\u001b[0;34m(\u001b[0m\u001b[0mcapitalize\u001b[0m\u001b[0;34m)\u001b[0m\u001b[0;34m\u001b[0m\u001b[0;34m\u001b[0m\u001b[0m\n",
      "\u001b[0;31mAttributeError\u001b[0m: 'float' object has no attribute 'upper'"
     ]
    }
   ]
  },
  {
   "cell_type": "code",
   "metadata": {
    "cell_id": "a7096cdd677a4883852eb558a6bf6f57",
    "tags": [],
    "deepnote_to_be_reexecuted": false,
    "source_hash": "c76c7c51",
    "execution_start": 1657855537170,
    "execution_millis": 3,
    "deepnote_cell_type": "code",
    "deepnote_cell_height": 99
   },
   "source": "import pandas as pd\nimport numpy as np",
   "execution_count": null,
   "outputs": []
  },
  {
   "cell_type": "code",
   "metadata": {
    "cell_id": "d6f06e9862324499b3c36c0f22ed5933",
    "tags": [],
    "deepnote_to_be_reexecuted": false,
    "source_hash": "2a2b5965",
    "execution_start": 1657855558484,
    "execution_millis": 77,
    "deepnote_cell_type": "code",
    "deepnote_cell_height": 618
   },
   "source": "df = pd.read_csv(\"https://raw.githubusercontent.com/nitinkaushik01/Data_Wrangling_Python/master/Iris.csv\")\ndf",
   "execution_count": null,
   "outputs": [
    {
     "output_type": "execute_result",
     "execution_count": 6,
     "data": {
      "application/vnd.deepnote.dataframe.v3+json": {
       "column_count": 6,
       "row_count": 150,
       "columns": [
        {
         "name": "Id",
         "dtype": "int64",
         "stats": {
          "unique_count": 150,
          "nan_count": 0,
          "min": "1",
          "max": "150",
          "histogram": [
           {
            "bin_start": 1,
            "bin_end": 15.9,
            "count": 15
           },
           {
            "bin_start": 15.9,
            "bin_end": 30.8,
            "count": 15
           },
           {
            "bin_start": 30.8,
            "bin_end": 45.7,
            "count": 15
           },
           {
            "bin_start": 45.7,
            "bin_end": 60.6,
            "count": 15
           },
           {
            "bin_start": 60.6,
            "bin_end": 75.5,
            "count": 15
           },
           {
            "bin_start": 75.5,
            "bin_end": 90.4,
            "count": 15
           },
           {
            "bin_start": 90.4,
            "bin_end": 105.3,
            "count": 15
           },
           {
            "bin_start": 105.3,
            "bin_end": 120.2,
            "count": 15
           },
           {
            "bin_start": 120.2,
            "bin_end": 135.1,
            "count": 15
           },
           {
            "bin_start": 135.1,
            "bin_end": 150,
            "count": 15
           }
          ]
         }
        },
        {
         "name": "SepalLengthCm",
         "dtype": "float64",
         "stats": {
          "unique_count": 35,
          "nan_count": 0,
          "min": "4.3",
          "max": "7.9",
          "histogram": [
           {
            "bin_start": 4.3,
            "bin_end": 4.66,
            "count": 9
           },
           {
            "bin_start": 4.66,
            "bin_end": 5.02,
            "count": 23
           },
           {
            "bin_start": 5.02,
            "bin_end": 5.38,
            "count": 14
           },
           {
            "bin_start": 5.38,
            "bin_end": 5.74,
            "count": 27
           },
           {
            "bin_start": 5.74,
            "bin_end": 6.1,
            "count": 16
           },
           {
            "bin_start": 6.1,
            "bin_end": 6.46,
            "count": 26
           },
           {
            "bin_start": 6.46,
            "bin_end": 6.82,
            "count": 18
           },
           {
            "bin_start": 6.82,
            "bin_end": 7.18,
            "count": 6
           },
           {
            "bin_start": 7.18,
            "bin_end": 7.54,
            "count": 5
           },
           {
            "bin_start": 7.54,
            "bin_end": 7.9,
            "count": 6
           }
          ]
         }
        },
        {
         "name": "SepalWidthCm",
         "dtype": "float64",
         "stats": {
          "unique_count": 23,
          "nan_count": 0,
          "min": "2.0",
          "max": "4.4",
          "histogram": [
           {
            "bin_start": 2,
            "bin_end": 2.24,
            "count": 4
           },
           {
            "bin_start": 2.24,
            "bin_end": 2.48,
            "count": 7
           },
           {
            "bin_start": 2.48,
            "bin_end": 2.72,
            "count": 22
           },
           {
            "bin_start": 2.72,
            "bin_end": 2.96,
            "count": 24
           },
           {
            "bin_start": 2.96,
            "bin_end": 3.2,
            "count": 38
           },
           {
            "bin_start": 3.2,
            "bin_end": 3.4400000000000004,
            "count": 31
           },
           {
            "bin_start": 3.4400000000000004,
            "bin_end": 3.6800000000000006,
            "count": 9
           },
           {
            "bin_start": 3.6800000000000006,
            "bin_end": 3.9200000000000004,
            "count": 11
           },
           {
            "bin_start": 3.9200000000000004,
            "bin_end": 4.16,
            "count": 2
           },
           {
            "bin_start": 4.16,
            "bin_end": 4.4,
            "count": 2
           }
          ]
         }
        },
        {
         "name": "PetalLengthCm",
         "dtype": "float64",
         "stats": {
          "unique_count": 43,
          "nan_count": 0,
          "min": "1.0",
          "max": "6.9",
          "histogram": [
           {
            "bin_start": 1,
            "bin_end": 1.59,
            "count": 37
           },
           {
            "bin_start": 1.59,
            "bin_end": 2.18,
            "count": 13
           },
           {
            "bin_start": 2.18,
            "bin_end": 2.7700000000000005,
            "count": 0
           },
           {
            "bin_start": 2.7700000000000005,
            "bin_end": 3.3600000000000003,
            "count": 3
           },
           {
            "bin_start": 3.3600000000000003,
            "bin_end": 3.95,
            "count": 8
           },
           {
            "bin_start": 3.95,
            "bin_end": 4.540000000000001,
            "count": 26
           },
           {
            "bin_start": 4.540000000000001,
            "bin_end": 5.130000000000001,
            "count": 29
           },
           {
            "bin_start": 5.130000000000001,
            "bin_end": 5.720000000000001,
            "count": 18
           },
           {
            "bin_start": 5.720000000000001,
            "bin_end": 6.3100000000000005,
            "count": 11
           },
           {
            "bin_start": 6.3100000000000005,
            "bin_end": 6.9,
            "count": 5
           }
          ]
         }
        },
        {
         "name": "PetalWidthCm",
         "dtype": "float64",
         "stats": {
          "unique_count": 22,
          "nan_count": 0,
          "min": "0.1",
          "max": "2.5",
          "histogram": [
           {
            "bin_start": 0.1,
            "bin_end": 0.33999999999999997,
            "count": 41
           },
           {
            "bin_start": 0.33999999999999997,
            "bin_end": 0.58,
            "count": 8
           },
           {
            "bin_start": 0.58,
            "bin_end": 0.82,
            "count": 1
           },
           {
            "bin_start": 0.82,
            "bin_end": 1.06,
            "count": 7
           },
           {
            "bin_start": 1.06,
            "bin_end": 1.3,
            "count": 8
           },
           {
            "bin_start": 1.3,
            "bin_end": 1.54,
            "count": 33
           },
           {
            "bin_start": 1.54,
            "bin_end": 1.78,
            "count": 6
           },
           {
            "bin_start": 1.78,
            "bin_end": 2.02,
            "count": 23
           },
           {
            "bin_start": 2.02,
            "bin_end": 2.2600000000000002,
            "count": 9
           },
           {
            "bin_start": 2.2600000000000002,
            "bin_end": 2.5,
            "count": 14
           }
          ]
         }
        },
        {
         "name": "Species",
         "dtype": "object",
         "stats": {
          "unique_count": 3,
          "nan_count": 0,
          "categories": [
           {
            "name": "Iris-setosa",
            "count": 50
           },
           {
            "name": "Iris-versicolor",
            "count": 50
           },
           {
            "name": "Iris-virginica",
            "count": 50
           }
          ]
         }
        },
        {
         "name": "_deepnote_index_column",
         "dtype": "int64"
        }
       ],
       "rows": [
        {
         "Id": 1,
         "SepalLengthCm": 5.1,
         "SepalWidthCm": 3.5,
         "PetalLengthCm": 1.4,
         "PetalWidthCm": 0.2,
         "Species": "Iris-setosa",
         "_deepnote_index_column": 0
        },
        {
         "Id": 2,
         "SepalLengthCm": 4.9,
         "SepalWidthCm": 3,
         "PetalLengthCm": 1.4,
         "PetalWidthCm": 0.2,
         "Species": "Iris-setosa",
         "_deepnote_index_column": 1
        },
        {
         "Id": 3,
         "SepalLengthCm": 4.7,
         "SepalWidthCm": 3.2,
         "PetalLengthCm": 1.3,
         "PetalWidthCm": 0.2,
         "Species": "Iris-setosa",
         "_deepnote_index_column": 2
        },
        {
         "Id": 4,
         "SepalLengthCm": 4.6,
         "SepalWidthCm": 3.1,
         "PetalLengthCm": 1.5,
         "PetalWidthCm": 0.2,
         "Species": "Iris-setosa",
         "_deepnote_index_column": 3
        },
        {
         "Id": 5,
         "SepalLengthCm": 5,
         "SepalWidthCm": 3.6,
         "PetalLengthCm": 1.4,
         "PetalWidthCm": 0.2,
         "Species": "Iris-setosa",
         "_deepnote_index_column": 4
        },
        {
         "Id": 6,
         "SepalLengthCm": 5.4,
         "SepalWidthCm": 3.9,
         "PetalLengthCm": 1.7,
         "PetalWidthCm": 0.4,
         "Species": "Iris-setosa",
         "_deepnote_index_column": 5
        },
        {
         "Id": 7,
         "SepalLengthCm": 4.6,
         "SepalWidthCm": 3.4,
         "PetalLengthCm": 1.4,
         "PetalWidthCm": 0.3,
         "Species": "Iris-setosa",
         "_deepnote_index_column": 6
        },
        {
         "Id": 8,
         "SepalLengthCm": 5,
         "SepalWidthCm": 3.4,
         "PetalLengthCm": 1.5,
         "PetalWidthCm": 0.2,
         "Species": "Iris-setosa",
         "_deepnote_index_column": 7
        },
        {
         "Id": 9,
         "SepalLengthCm": 4.4,
         "SepalWidthCm": 2.9,
         "PetalLengthCm": 1.4,
         "PetalWidthCm": 0.2,
         "Species": "Iris-setosa",
         "_deepnote_index_column": 8
        },
        {
         "Id": 10,
         "SepalLengthCm": 4.9,
         "SepalWidthCm": 3.1,
         "PetalLengthCm": 1.5,
         "PetalWidthCm": 0.1,
         "Species": "Iris-setosa",
         "_deepnote_index_column": 9
        }
       ]
      },
      "text/plain": "      Id  SepalLengthCm  SepalWidthCm  PetalLengthCm  PetalWidthCm  \\\n0      1            5.1           3.5            1.4           0.2   \n1      2            4.9           3.0            1.4           0.2   \n2      3            4.7           3.2            1.3           0.2   \n3      4            4.6           3.1            1.5           0.2   \n4      5            5.0           3.6            1.4           0.2   \n..   ...            ...           ...            ...           ...   \n145  146            6.7           3.0            5.2           2.3   \n146  147            6.3           2.5            5.0           1.9   \n147  148            6.5           3.0            5.2           2.0   \n148  149            6.2           3.4            5.4           2.3   \n149  150            5.9           3.0            5.1           1.8   \n\n            Species  \n0       Iris-setosa  \n1       Iris-setosa  \n2       Iris-setosa  \n3       Iris-setosa  \n4       Iris-setosa  \n..              ...  \n145  Iris-virginica  \n146  Iris-virginica  \n147  Iris-virginica  \n148  Iris-virginica  \n149  Iris-virginica  \n\n[150 rows x 6 columns]",
      "text/html": "<div>\n<style scoped>\n    .dataframe tbody tr th:only-of-type {\n        vertical-align: middle;\n    }\n\n    .dataframe tbody tr th {\n        vertical-align: top;\n    }\n\n    .dataframe thead th {\n        text-align: right;\n    }\n</style>\n<table border=\"1\" class=\"dataframe\">\n  <thead>\n    <tr style=\"text-align: right;\">\n      <th></th>\n      <th>Id</th>\n      <th>SepalLengthCm</th>\n      <th>SepalWidthCm</th>\n      <th>PetalLengthCm</th>\n      <th>PetalWidthCm</th>\n      <th>Species</th>\n    </tr>\n  </thead>\n  <tbody>\n    <tr>\n      <th>0</th>\n      <td>1</td>\n      <td>5.1</td>\n      <td>3.5</td>\n      <td>1.4</td>\n      <td>0.2</td>\n      <td>Iris-setosa</td>\n    </tr>\n    <tr>\n      <th>1</th>\n      <td>2</td>\n      <td>4.9</td>\n      <td>3.0</td>\n      <td>1.4</td>\n      <td>0.2</td>\n      <td>Iris-setosa</td>\n    </tr>\n    <tr>\n      <th>2</th>\n      <td>3</td>\n      <td>4.7</td>\n      <td>3.2</td>\n      <td>1.3</td>\n      <td>0.2</td>\n      <td>Iris-setosa</td>\n    </tr>\n    <tr>\n      <th>3</th>\n      <td>4</td>\n      <td>4.6</td>\n      <td>3.1</td>\n      <td>1.5</td>\n      <td>0.2</td>\n      <td>Iris-setosa</td>\n    </tr>\n    <tr>\n      <th>4</th>\n      <td>5</td>\n      <td>5.0</td>\n      <td>3.6</td>\n      <td>1.4</td>\n      <td>0.2</td>\n      <td>Iris-setosa</td>\n    </tr>\n    <tr>\n      <th>...</th>\n      <td>...</td>\n      <td>...</td>\n      <td>...</td>\n      <td>...</td>\n      <td>...</td>\n      <td>...</td>\n    </tr>\n    <tr>\n      <th>145</th>\n      <td>146</td>\n      <td>6.7</td>\n      <td>3.0</td>\n      <td>5.2</td>\n      <td>2.3</td>\n      <td>Iris-virginica</td>\n    </tr>\n    <tr>\n      <th>146</th>\n      <td>147</td>\n      <td>6.3</td>\n      <td>2.5</td>\n      <td>5.0</td>\n      <td>1.9</td>\n      <td>Iris-virginica</td>\n    </tr>\n    <tr>\n      <th>147</th>\n      <td>148</td>\n      <td>6.5</td>\n      <td>3.0</td>\n      <td>5.2</td>\n      <td>2.0</td>\n      <td>Iris-virginica</td>\n    </tr>\n    <tr>\n      <th>148</th>\n      <td>149</td>\n      <td>6.2</td>\n      <td>3.4</td>\n      <td>5.4</td>\n      <td>2.3</td>\n      <td>Iris-virginica</td>\n    </tr>\n    <tr>\n      <th>149</th>\n      <td>150</td>\n      <td>5.9</td>\n      <td>3.0</td>\n      <td>5.1</td>\n      <td>1.8</td>\n      <td>Iris-virginica</td>\n    </tr>\n  </tbody>\n</table>\n<p>150 rows × 6 columns</p>\n</div>"
     },
     "metadata": {}
    }
   ]
  },
  {
   "cell_type": "code",
   "metadata": {
    "cell_id": "80faa3b19fe44a0c9810bb61ed36bf0c",
    "tags": [],
    "deepnote_to_be_reexecuted": false,
    "source_hash": "c085b6ba",
    "execution_start": 1657855594210,
    "execution_millis": 45,
    "deepnote_cell_type": "code",
    "deepnote_cell_height": 395
   },
   "source": "df.head()",
   "execution_count": null,
   "outputs": [
    {
     "output_type": "execute_result",
     "execution_count": 7,
     "data": {
      "application/vnd.deepnote.dataframe.v3+json": {
       "column_count": 6,
       "row_count": 5,
       "columns": [
        {
         "name": "Id",
         "dtype": "int64",
         "stats": {
          "unique_count": 5,
          "nan_count": 0,
          "min": "1",
          "max": "5",
          "histogram": [
           {
            "bin_start": 1,
            "bin_end": 1.4,
            "count": 1
           },
           {
            "bin_start": 1.4,
            "bin_end": 1.8,
            "count": 0
           },
           {
            "bin_start": 1.8,
            "bin_end": 2.2,
            "count": 1
           },
           {
            "bin_start": 2.2,
            "bin_end": 2.6,
            "count": 0
           },
           {
            "bin_start": 2.6,
            "bin_end": 3,
            "count": 0
           },
           {
            "bin_start": 3,
            "bin_end": 3.4000000000000004,
            "count": 1
           },
           {
            "bin_start": 3.4000000000000004,
            "bin_end": 3.8000000000000003,
            "count": 0
           },
           {
            "bin_start": 3.8000000000000003,
            "bin_end": 4.2,
            "count": 1
           },
           {
            "bin_start": 4.2,
            "bin_end": 4.6,
            "count": 0
           },
           {
            "bin_start": 4.6,
            "bin_end": 5,
            "count": 1
           }
          ]
         }
        },
        {
         "name": "SepalLengthCm",
         "dtype": "float64",
         "stats": {
          "unique_count": 5,
          "nan_count": 0,
          "min": "4.6",
          "max": "5.1",
          "histogram": [
           {
            "bin_start": 4.6,
            "bin_end": 4.6499999999999995,
            "count": 1
           },
           {
            "bin_start": 4.6499999999999995,
            "bin_end": 4.699999999999999,
            "count": 0
           },
           {
            "bin_start": 4.699999999999999,
            "bin_end": 4.75,
            "count": 1
           },
           {
            "bin_start": 4.75,
            "bin_end": 4.8,
            "count": 0
           },
           {
            "bin_start": 4.8,
            "bin_end": 4.85,
            "count": 0
           },
           {
            "bin_start": 4.85,
            "bin_end": 4.8999999999999995,
            "count": 0
           },
           {
            "bin_start": 4.8999999999999995,
            "bin_end": 4.949999999999999,
            "count": 1
           },
           {
            "bin_start": 4.949999999999999,
            "bin_end": 5,
            "count": 0
           },
           {
            "bin_start": 5,
            "bin_end": 5.05,
            "count": 1
           },
           {
            "bin_start": 5.05,
            "bin_end": 5.1,
            "count": 1
           }
          ]
         }
        },
        {
         "name": "SepalWidthCm",
         "dtype": "float64",
         "stats": {
          "unique_count": 5,
          "nan_count": 0,
          "min": "3.0",
          "max": "3.6",
          "histogram": [
           {
            "bin_start": 3,
            "bin_end": 3.06,
            "count": 1
           },
           {
            "bin_start": 3.06,
            "bin_end": 3.12,
            "count": 1
           },
           {
            "bin_start": 3.12,
            "bin_end": 3.18,
            "count": 0
           },
           {
            "bin_start": 3.18,
            "bin_end": 3.24,
            "count": 1
           },
           {
            "bin_start": 3.24,
            "bin_end": 3.3,
            "count": 0
           },
           {
            "bin_start": 3.3,
            "bin_end": 3.3600000000000003,
            "count": 0
           },
           {
            "bin_start": 3.3600000000000003,
            "bin_end": 3.42,
            "count": 0
           },
           {
            "bin_start": 3.42,
            "bin_end": 3.48,
            "count": 0
           },
           {
            "bin_start": 3.48,
            "bin_end": 3.54,
            "count": 1
           },
           {
            "bin_start": 3.54,
            "bin_end": 3.6,
            "count": 1
           }
          ]
         }
        },
        {
         "name": "PetalLengthCm",
         "dtype": "float64",
         "stats": {
          "unique_count": 3,
          "nan_count": 0,
          "min": "1.3",
          "max": "1.5",
          "histogram": [
           {
            "bin_start": 1.3,
            "bin_end": 1.32,
            "count": 1
           },
           {
            "bin_start": 1.32,
            "bin_end": 1.34,
            "count": 0
           },
           {
            "bin_start": 1.34,
            "bin_end": 1.36,
            "count": 0
           },
           {
            "bin_start": 1.36,
            "bin_end": 1.3800000000000001,
            "count": 0
           },
           {
            "bin_start": 1.3800000000000001,
            "bin_end": 1.4,
            "count": 0
           },
           {
            "bin_start": 1.4,
            "bin_end": 1.42,
            "count": 3
           },
           {
            "bin_start": 1.42,
            "bin_end": 1.44,
            "count": 0
           },
           {
            "bin_start": 1.44,
            "bin_end": 1.46,
            "count": 0
           },
           {
            "bin_start": 1.46,
            "bin_end": 1.48,
            "count": 0
           },
           {
            "bin_start": 1.48,
            "bin_end": 1.5,
            "count": 1
           }
          ]
         }
        },
        {
         "name": "PetalWidthCm",
         "dtype": "float64",
         "stats": {
          "unique_count": 1,
          "nan_count": 0,
          "min": "0.2",
          "max": "0.2",
          "histogram": [
           {
            "bin_start": -0.3,
            "bin_end": -0.19999999999999998,
            "count": 0
           },
           {
            "bin_start": -0.19999999999999998,
            "bin_end": -0.09999999999999998,
            "count": 0
           },
           {
            "bin_start": -0.09999999999999998,
            "bin_end": 5.551115123125783e-17,
            "count": 0
           },
           {
            "bin_start": 5.551115123125783e-17,
            "bin_end": 0.10000000000000003,
            "count": 0
           },
           {
            "bin_start": 0.10000000000000003,
            "bin_end": 0.2,
            "count": 0
           },
           {
            "bin_start": 0.2,
            "bin_end": 0.3000000000000001,
            "count": 5
           },
           {
            "bin_start": 0.3000000000000001,
            "bin_end": 0.4000000000000001,
            "count": 0
           },
           {
            "bin_start": 0.4000000000000001,
            "bin_end": 0.5,
            "count": 0
           },
           {
            "bin_start": 0.5,
            "bin_end": 0.6000000000000001,
            "count": 0
           },
           {
            "bin_start": 0.6000000000000001,
            "bin_end": 0.7,
            "count": 0
           }
          ]
         }
        },
        {
         "name": "Species",
         "dtype": "object",
         "stats": {
          "unique_count": 1,
          "nan_count": 0,
          "categories": [
           {
            "name": "Iris-setosa",
            "count": 5
           }
          ]
         }
        },
        {
         "name": "_deepnote_index_column",
         "dtype": "int64"
        }
       ],
       "rows": [
        {
         "Id": 1,
         "SepalLengthCm": 5.1,
         "SepalWidthCm": 3.5,
         "PetalLengthCm": 1.4,
         "PetalWidthCm": 0.2,
         "Species": "Iris-setosa",
         "_deepnote_index_column": 0
        },
        {
         "Id": 2,
         "SepalLengthCm": 4.9,
         "SepalWidthCm": 3,
         "PetalLengthCm": 1.4,
         "PetalWidthCm": 0.2,
         "Species": "Iris-setosa",
         "_deepnote_index_column": 1
        },
        {
         "Id": 3,
         "SepalLengthCm": 4.7,
         "SepalWidthCm": 3.2,
         "PetalLengthCm": 1.3,
         "PetalWidthCm": 0.2,
         "Species": "Iris-setosa",
         "_deepnote_index_column": 2
        },
        {
         "Id": 4,
         "SepalLengthCm": 4.6,
         "SepalWidthCm": 3.1,
         "PetalLengthCm": 1.5,
         "PetalWidthCm": 0.2,
         "Species": "Iris-setosa",
         "_deepnote_index_column": 3
        },
        {
         "Id": 5,
         "SepalLengthCm": 5,
         "SepalWidthCm": 3.6,
         "PetalLengthCm": 1.4,
         "PetalWidthCm": 0.2,
         "Species": "Iris-setosa",
         "_deepnote_index_column": 4
        }
       ]
      },
      "text/plain": "   Id  SepalLengthCm  SepalWidthCm  PetalLengthCm  PetalWidthCm      Species\n0   1            5.1           3.5            1.4           0.2  Iris-setosa\n1   2            4.9           3.0            1.4           0.2  Iris-setosa\n2   3            4.7           3.2            1.3           0.2  Iris-setosa\n3   4            4.6           3.1            1.5           0.2  Iris-setosa\n4   5            5.0           3.6            1.4           0.2  Iris-setosa",
      "text/html": "<div>\n<style scoped>\n    .dataframe tbody tr th:only-of-type {\n        vertical-align: middle;\n    }\n\n    .dataframe tbody tr th {\n        vertical-align: top;\n    }\n\n    .dataframe thead th {\n        text-align: right;\n    }\n</style>\n<table border=\"1\" class=\"dataframe\">\n  <thead>\n    <tr style=\"text-align: right;\">\n      <th></th>\n      <th>Id</th>\n      <th>SepalLengthCm</th>\n      <th>SepalWidthCm</th>\n      <th>PetalLengthCm</th>\n      <th>PetalWidthCm</th>\n      <th>Species</th>\n    </tr>\n  </thead>\n  <tbody>\n    <tr>\n      <th>0</th>\n      <td>1</td>\n      <td>5.1</td>\n      <td>3.5</td>\n      <td>1.4</td>\n      <td>0.2</td>\n      <td>Iris-setosa</td>\n    </tr>\n    <tr>\n      <th>1</th>\n      <td>2</td>\n      <td>4.9</td>\n      <td>3.0</td>\n      <td>1.4</td>\n      <td>0.2</td>\n      <td>Iris-setosa</td>\n    </tr>\n    <tr>\n      <th>2</th>\n      <td>3</td>\n      <td>4.7</td>\n      <td>3.2</td>\n      <td>1.3</td>\n      <td>0.2</td>\n      <td>Iris-setosa</td>\n    </tr>\n    <tr>\n      <th>3</th>\n      <td>4</td>\n      <td>4.6</td>\n      <td>3.1</td>\n      <td>1.5</td>\n      <td>0.2</td>\n      <td>Iris-setosa</td>\n    </tr>\n    <tr>\n      <th>4</th>\n      <td>5</td>\n      <td>5.0</td>\n      <td>3.6</td>\n      <td>1.4</td>\n      <td>0.2</td>\n      <td>Iris-setosa</td>\n    </tr>\n  </tbody>\n</table>\n</div>"
     },
     "metadata": {}
    }
   ]
  },
  {
   "cell_type": "code",
   "metadata": {
    "cell_id": "e251a98bf4734936bb26de7baa37fca1",
    "tags": [],
    "deepnote_to_be_reexecuted": false,
    "source_hash": "7fcb40",
    "execution_start": 1657855720703,
    "execution_millis": 600,
    "deepnote_cell_type": "code",
    "deepnote_cell_height": 347.25,
    "deepnote_output_heights": [
     232.25
    ]
   },
   "source": "capitalize = lambda x: x.upper()\ndf['Species'].apply(capitalize)",
   "execution_count": null,
   "outputs": [
    {
     "output_type": "execute_result",
     "execution_count": 8,
     "data": {
      "text/plain": "0         IRIS-SETOSA\n1         IRIS-SETOSA\n2         IRIS-SETOSA\n3         IRIS-SETOSA\n4         IRIS-SETOSA\n            ...      \n145    IRIS-VIRGINICA\n146    IRIS-VIRGINICA\n147    IRIS-VIRGINICA\n148    IRIS-VIRGINICA\n149    IRIS-VIRGINICA\nName: Species, Length: 150, dtype: object"
     },
     "metadata": {}
    }
   ]
  },
  {
   "cell_type": "code",
   "metadata": {
    "cell_id": "e5ea9f16b0b5471a845542c7e3dcb0ba",
    "tags": [],
    "deepnote_cell_type": "code",
    "deepnote_cell_height": 66
   },
   "source": "",
   "execution_count": null,
   "outputs": []
  },
  {
   "cell_type": "code",
   "metadata": {
    "cell_id": "b4b689ad10ba42b38c0eb3e62a86ee7b",
    "tags": [],
    "deepnote_to_be_reexecuted": false,
    "source_hash": "aefc2479",
    "execution_start": 1657855853034,
    "execution_millis": 138,
    "deepnote_cell_type": "code",
    "deepnote_cell_height": 329.25,
    "deepnote_output_heights": [
     232.25
    ]
   },
   "source": "df['Species']",
   "execution_count": null,
   "outputs": [
    {
     "output_type": "execute_result",
     "execution_count": 9,
     "data": {
      "text/plain": "0         Iris-setosa\n1         Iris-setosa\n2         Iris-setosa\n3         Iris-setosa\n4         Iris-setosa\n            ...      \n145    Iris-virginica\n146    Iris-virginica\n147    Iris-virginica\n148    Iris-virginica\n149    Iris-virginica\nName: Species, Length: 150, dtype: object"
     },
     "metadata": {}
    }
   ]
  },
  {
   "cell_type": "code",
   "metadata": {
    "cell_id": "21859108dbc54c3a96337fb7ed0781b6",
    "tags": [],
    "deepnote_to_be_reexecuted": false,
    "source_hash": "c64c0498",
    "execution_start": 1657856030377,
    "execution_millis": 5,
    "deepnote_cell_type": "code",
    "deepnote_cell_height": 329.25,
    "deepnote_output_heights": [
     232.25
    ]
   },
   "source": "df['Species'].map(capitalize)",
   "execution_count": null,
   "outputs": [
    {
     "output_type": "execute_result",
     "execution_count": 12,
     "data": {
      "text/plain": "0         IRIS-SETOSA\n1         IRIS-SETOSA\n2         IRIS-SETOSA\n3         IRIS-SETOSA\n4         IRIS-SETOSA\n            ...      \n145    IRIS-VIRGINICA\n146    IRIS-VIRGINICA\n147    IRIS-VIRGINICA\n148    IRIS-VIRGINICA\n149    IRIS-VIRGINICA\nName: Species, Length: 150, dtype: object"
     },
     "metadata": {}
    }
   ]
  },
  {
   "cell_type": "code",
   "metadata": {
    "cell_id": "8062d10a527641cb9a32ad5c32f4becb",
    "tags": [],
    "deepnote_to_be_reexecuted": false,
    "source_hash": "772f0bb8",
    "execution_start": 1657856312647,
    "execution_millis": 174,
    "deepnote_cell_type": "code",
    "deepnote_cell_height": 413
   },
   "source": "df = df.drop(['Id','Species'], axis=1)\ndf.head()",
   "execution_count": null,
   "outputs": [
    {
     "output_type": "execute_result",
     "execution_count": 13,
     "data": {
      "application/vnd.deepnote.dataframe.v3+json": {
       "column_count": 4,
       "row_count": 5,
       "columns": [
        {
         "name": "SepalLengthCm",
         "dtype": "float64",
         "stats": {
          "unique_count": 5,
          "nan_count": 0,
          "min": "4.6",
          "max": "5.1",
          "histogram": [
           {
            "bin_start": 4.6,
            "bin_end": 4.6499999999999995,
            "count": 1
           },
           {
            "bin_start": 4.6499999999999995,
            "bin_end": 4.699999999999999,
            "count": 0
           },
           {
            "bin_start": 4.699999999999999,
            "bin_end": 4.75,
            "count": 1
           },
           {
            "bin_start": 4.75,
            "bin_end": 4.8,
            "count": 0
           },
           {
            "bin_start": 4.8,
            "bin_end": 4.85,
            "count": 0
           },
           {
            "bin_start": 4.85,
            "bin_end": 4.8999999999999995,
            "count": 0
           },
           {
            "bin_start": 4.8999999999999995,
            "bin_end": 4.949999999999999,
            "count": 1
           },
           {
            "bin_start": 4.949999999999999,
            "bin_end": 5,
            "count": 0
           },
           {
            "bin_start": 5,
            "bin_end": 5.05,
            "count": 1
           },
           {
            "bin_start": 5.05,
            "bin_end": 5.1,
            "count": 1
           }
          ]
         }
        },
        {
         "name": "SepalWidthCm",
         "dtype": "float64",
         "stats": {
          "unique_count": 5,
          "nan_count": 0,
          "min": "3.0",
          "max": "3.6",
          "histogram": [
           {
            "bin_start": 3,
            "bin_end": 3.06,
            "count": 1
           },
           {
            "bin_start": 3.06,
            "bin_end": 3.12,
            "count": 1
           },
           {
            "bin_start": 3.12,
            "bin_end": 3.18,
            "count": 0
           },
           {
            "bin_start": 3.18,
            "bin_end": 3.24,
            "count": 1
           },
           {
            "bin_start": 3.24,
            "bin_end": 3.3,
            "count": 0
           },
           {
            "bin_start": 3.3,
            "bin_end": 3.3600000000000003,
            "count": 0
           },
           {
            "bin_start": 3.3600000000000003,
            "bin_end": 3.42,
            "count": 0
           },
           {
            "bin_start": 3.42,
            "bin_end": 3.48,
            "count": 0
           },
           {
            "bin_start": 3.48,
            "bin_end": 3.54,
            "count": 1
           },
           {
            "bin_start": 3.54,
            "bin_end": 3.6,
            "count": 1
           }
          ]
         }
        },
        {
         "name": "PetalLengthCm",
         "dtype": "float64",
         "stats": {
          "unique_count": 3,
          "nan_count": 0,
          "min": "1.3",
          "max": "1.5",
          "histogram": [
           {
            "bin_start": 1.3,
            "bin_end": 1.32,
            "count": 1
           },
           {
            "bin_start": 1.32,
            "bin_end": 1.34,
            "count": 0
           },
           {
            "bin_start": 1.34,
            "bin_end": 1.36,
            "count": 0
           },
           {
            "bin_start": 1.36,
            "bin_end": 1.3800000000000001,
            "count": 0
           },
           {
            "bin_start": 1.3800000000000001,
            "bin_end": 1.4,
            "count": 0
           },
           {
            "bin_start": 1.4,
            "bin_end": 1.42,
            "count": 3
           },
           {
            "bin_start": 1.42,
            "bin_end": 1.44,
            "count": 0
           },
           {
            "bin_start": 1.44,
            "bin_end": 1.46,
            "count": 0
           },
           {
            "bin_start": 1.46,
            "bin_end": 1.48,
            "count": 0
           },
           {
            "bin_start": 1.48,
            "bin_end": 1.5,
            "count": 1
           }
          ]
         }
        },
        {
         "name": "PetalWidthCm",
         "dtype": "float64",
         "stats": {
          "unique_count": 1,
          "nan_count": 0,
          "min": "0.2",
          "max": "0.2",
          "histogram": [
           {
            "bin_start": -0.3,
            "bin_end": -0.19999999999999998,
            "count": 0
           },
           {
            "bin_start": -0.19999999999999998,
            "bin_end": -0.09999999999999998,
            "count": 0
           },
           {
            "bin_start": -0.09999999999999998,
            "bin_end": 5.551115123125783e-17,
            "count": 0
           },
           {
            "bin_start": 5.551115123125783e-17,
            "bin_end": 0.10000000000000003,
            "count": 0
           },
           {
            "bin_start": 0.10000000000000003,
            "bin_end": 0.2,
            "count": 0
           },
           {
            "bin_start": 0.2,
            "bin_end": 0.3000000000000001,
            "count": 5
           },
           {
            "bin_start": 0.3000000000000001,
            "bin_end": 0.4000000000000001,
            "count": 0
           },
           {
            "bin_start": 0.4000000000000001,
            "bin_end": 0.5,
            "count": 0
           },
           {
            "bin_start": 0.5,
            "bin_end": 0.6000000000000001,
            "count": 0
           },
           {
            "bin_start": 0.6000000000000001,
            "bin_end": 0.7,
            "count": 0
           }
          ]
         }
        },
        {
         "name": "_deepnote_index_column",
         "dtype": "int64"
        }
       ],
       "rows": [
        {
         "SepalLengthCm": 5.1,
         "SepalWidthCm": 3.5,
         "PetalLengthCm": 1.4,
         "PetalWidthCm": 0.2,
         "_deepnote_index_column": 0
        },
        {
         "SepalLengthCm": 4.9,
         "SepalWidthCm": 3,
         "PetalLengthCm": 1.4,
         "PetalWidthCm": 0.2,
         "_deepnote_index_column": 1
        },
        {
         "SepalLengthCm": 4.7,
         "SepalWidthCm": 3.2,
         "PetalLengthCm": 1.3,
         "PetalWidthCm": 0.2,
         "_deepnote_index_column": 2
        },
        {
         "SepalLengthCm": 4.6,
         "SepalWidthCm": 3.1,
         "PetalLengthCm": 1.5,
         "PetalWidthCm": 0.2,
         "_deepnote_index_column": 3
        },
        {
         "SepalLengthCm": 5,
         "SepalWidthCm": 3.6,
         "PetalLengthCm": 1.4,
         "PetalWidthCm": 0.2,
         "_deepnote_index_column": 4
        }
       ]
      },
      "text/plain": "   SepalLengthCm  SepalWidthCm  PetalLengthCm  PetalWidthCm\n0            5.1           3.5            1.4           0.2\n1            4.9           3.0            1.4           0.2\n2            4.7           3.2            1.3           0.2\n3            4.6           3.1            1.5           0.2\n4            5.0           3.6            1.4           0.2",
      "text/html": "<div>\n<style scoped>\n    .dataframe tbody tr th:only-of-type {\n        vertical-align: middle;\n    }\n\n    .dataframe tbody tr th {\n        vertical-align: top;\n    }\n\n    .dataframe thead th {\n        text-align: right;\n    }\n</style>\n<table border=\"1\" class=\"dataframe\">\n  <thead>\n    <tr style=\"text-align: right;\">\n      <th></th>\n      <th>SepalLengthCm</th>\n      <th>SepalWidthCm</th>\n      <th>PetalLengthCm</th>\n      <th>PetalWidthCm</th>\n    </tr>\n  </thead>\n  <tbody>\n    <tr>\n      <th>0</th>\n      <td>5.1</td>\n      <td>3.5</td>\n      <td>1.4</td>\n      <td>0.2</td>\n    </tr>\n    <tr>\n      <th>1</th>\n      <td>4.9</td>\n      <td>3.0</td>\n      <td>1.4</td>\n      <td>0.2</td>\n    </tr>\n    <tr>\n      <th>2</th>\n      <td>4.7</td>\n      <td>3.2</td>\n      <td>1.3</td>\n      <td>0.2</td>\n    </tr>\n    <tr>\n      <th>3</th>\n      <td>4.6</td>\n      <td>3.1</td>\n      <td>1.5</td>\n      <td>0.2</td>\n    </tr>\n    <tr>\n      <th>4</th>\n      <td>5.0</td>\n      <td>3.6</td>\n      <td>1.4</td>\n      <td>0.2</td>\n    </tr>\n  </tbody>\n</table>\n</div>"
     },
     "metadata": {}
    }
   ]
  },
  {
   "cell_type": "code",
   "metadata": {
    "cell_id": "3beea10512e34221b3033b1f8d95b15e",
    "tags": [],
    "deepnote_to_be_reexecuted": false,
    "source_hash": "4fdb0454",
    "execution_start": 1657856378477,
    "execution_millis": 26,
    "deepnote_cell_type": "code",
    "deepnote_cell_height": 600
   },
   "source": "df.applymap(np.sqrt)",
   "execution_count": null,
   "outputs": [
    {
     "output_type": "execute_result",
     "execution_count": 14,
     "data": {
      "application/vnd.deepnote.dataframe.v3+json": {
       "column_count": 4,
       "row_count": 150,
       "columns": [
        {
         "name": "SepalLengthCm",
         "dtype": "float64",
         "stats": {
          "unique_count": 35,
          "nan_count": 0,
          "min": "2.073644135332772",
          "max": "2.8106938645110393",
          "histogram": [
           {
            "bin_start": 2.073644135332772,
            "bin_end": 2.147349108250599,
            "count": 9
           },
           {
            "bin_start": 2.147349108250599,
            "bin_end": 2.2210540811684254,
            "count": 13
           },
           {
            "bin_start": 2.2210540811684254,
            "bin_end": 2.294759054086252,
            "count": 23
           },
           {
            "bin_start": 2.294759054086252,
            "bin_end": 2.368464027004079,
            "count": 20
           },
           {
            "bin_start": 2.368464027004079,
            "bin_end": 2.442168999921906,
            "count": 18
           },
           {
            "bin_start": 2.442168999921906,
            "bin_end": 2.5158739728397324,
            "count": 25
           },
           {
            "bin_start": 2.5158739728397324,
            "bin_end": 2.589578945757559,
            "count": 22
           },
           {
            "bin_start": 2.589578945757559,
            "bin_end": 2.663283918675386,
            "count": 8
           },
           {
            "bin_start": 2.663283918675386,
            "bin_end": 2.736988891593213,
            "count": 6
           },
           {
            "bin_start": 2.736988891593213,
            "bin_end": 2.8106938645110393,
            "count": 6
           }
          ]
         }
        },
        {
         "name": "SepalWidthCm",
         "dtype": "float64",
         "stats": {
          "unique_count": 23,
          "nan_count": 0,
          "min": "1.4142135623730951",
          "max": "2.0976176963403033",
          "histogram": [
           {
            "bin_start": 1.4142135623730951,
            "bin_end": 1.4825539757698158,
            "count": 1
           },
           {
            "bin_start": 1.4825539757698158,
            "bin_end": 1.5508943891665368,
            "count": 10
           },
           {
            "bin_start": 1.5508943891665368,
            "bin_end": 1.6192348025632577,
            "count": 13
           },
           {
            "bin_start": 1.6192348025632577,
            "bin_end": 1.6875752159599784,
            "count": 23
           },
           {
            "bin_start": 1.6875752159599784,
            "bin_end": 1.755915629356699,
            "count": 36
           },
           {
            "bin_start": 1.755915629356699,
            "bin_end": 1.82425604275342,
            "count": 31
           },
           {
            "bin_start": 1.82425604275342,
            "bin_end": 1.892596456150141,
            "count": 18
           },
           {
            "bin_start": 1.892596456150141,
            "bin_end": 1.9609368695468616,
            "count": 12
           },
           {
            "bin_start": 1.9609368695468616,
            "bin_end": 2.0292772829435823,
            "count": 4
           },
           {
            "bin_start": 2.0292772829435823,
            "bin_end": 2.0976176963403033,
            "count": 2
           }
          ]
         }
        },
        {
         "name": "PetalLengthCm",
         "dtype": "float64",
         "stats": {
          "unique_count": 43,
          "nan_count": 0,
          "min": "1.0",
          "max": "2.6267851073127395",
          "histogram": [
           {
            "bin_start": 1,
            "bin_end": 1.162678510731274,
            "count": 11
           },
           {
            "bin_start": 1.162678510731274,
            "bin_end": 1.3253570214625479,
            "count": 37
           },
           {
            "bin_start": 1.3253570214625479,
            "bin_end": 1.488035532193822,
            "count": 2
           },
           {
            "bin_start": 1.488035532193822,
            "bin_end": 1.6507140429250957,
            "count": 0
           },
           {
            "bin_start": 1.6507140429250957,
            "bin_end": 1.8133925536563698,
            "count": 1
           },
           {
            "bin_start": 1.8133925536563698,
            "bin_end": 1.9760710643876438,
            "count": 10
           },
           {
            "bin_start": 1.9760710643876438,
            "bin_end": 2.1387495751189176,
            "count": 26
           },
           {
            "bin_start": 2.1387495751189176,
            "bin_end": 2.3014280858501914,
            "count": 31
           },
           {
            "bin_start": 2.3014280858501914,
            "bin_end": 2.4641065965814657,
            "count": 23
           },
           {
            "bin_start": 2.4641065965814657,
            "bin_end": 2.6267851073127395,
            "count": 9
           }
          ]
         }
        },
        {
         "name": "PetalWidthCm",
         "dtype": "float64",
         "stats": {
          "unique_count": 22,
          "nan_count": 0,
          "min": "0.31622776601683794",
          "max": "1.5811388300841898",
          "histogram": [
           {
            "bin_start": 0.31622776601683794,
            "bin_end": 0.4427188724235731,
            "count": 6
           },
           {
            "bin_start": 0.4427188724235731,
            "bin_end": 0.5692099788303082,
            "count": 35
           },
           {
            "bin_start": 0.5692099788303082,
            "bin_end": 0.6957010852370434,
            "count": 7
           },
           {
            "bin_start": 0.6957010852370434,
            "bin_end": 0.8221921916437787,
            "count": 2
           },
           {
            "bin_start": 0.8221921916437787,
            "bin_end": 0.9486832980505138,
            "count": 0
           },
           {
            "bin_start": 0.9486832980505138,
            "bin_end": 1.0751744044572489,
            "count": 10
           },
           {
            "bin_start": 1.0751744044572489,
            "bin_end": 1.2016655108639842,
            "count": 26
           },
           {
            "bin_start": 1.2016655108639842,
            "bin_end": 1.3281566172707193,
            "count": 18
           },
           {
            "bin_start": 1.3281566172707193,
            "bin_end": 1.4546477236774544,
            "count": 29
           },
           {
            "bin_start": 1.4546477236774544,
            "bin_end": 1.5811388300841898,
            "count": 17
           }
          ]
         }
        },
        {
         "name": "_deepnote_index_column",
         "dtype": "int64"
        }
       ],
       "rows": [
        {
         "SepalLengthCm": 2.258317958127243,
         "SepalWidthCm": 1.8708286933869707,
         "PetalLengthCm": 1.1832159566199232,
         "PetalWidthCm": 0.4472135954999579,
         "_deepnote_index_column": 0
        },
        {
         "SepalLengthCm": 2.2135943621178655,
         "SepalWidthCm": 1.7320508075688772,
         "PetalLengthCm": 1.1832159566199232,
         "PetalWidthCm": 0.4472135954999579,
         "_deepnote_index_column": 1
        },
        {
         "SepalLengthCm": 2.16794833886788,
         "SepalWidthCm": 1.7888543819998317,
         "PetalLengthCm": 1.140175425099138,
         "PetalWidthCm": 0.4472135954999579,
         "_deepnote_index_column": 2
        },
        {
         "SepalLengthCm": 2.1447610589527217,
         "SepalWidthCm": 1.760681686165901,
         "PetalLengthCm": 1.224744871391589,
         "PetalWidthCm": 0.4472135954999579,
         "_deepnote_index_column": 3
        },
        {
         "SepalLengthCm": 2.23606797749979,
         "SepalWidthCm": 1.8973665961010275,
         "PetalLengthCm": 1.1832159566199232,
         "PetalWidthCm": 0.4472135954999579,
         "_deepnote_index_column": 4
        },
        {
         "SepalLengthCm": 2.32379000772445,
         "SepalWidthCm": 1.9748417658131499,
         "PetalLengthCm": 1.3038404810405297,
         "PetalWidthCm": 0.6324555320336759,
         "_deepnote_index_column": 5
        },
        {
         "SepalLengthCm": 2.1447610589527217,
         "SepalWidthCm": 1.8439088914585775,
         "PetalLengthCm": 1.1832159566199232,
         "PetalWidthCm": 0.5477225575051661,
         "_deepnote_index_column": 6
        },
        {
         "SepalLengthCm": 2.23606797749979,
         "SepalWidthCm": 1.8439088914585775,
         "PetalLengthCm": 1.224744871391589,
         "PetalWidthCm": 0.4472135954999579,
         "_deepnote_index_column": 7
        },
        {
         "SepalLengthCm": 2.0976176963403033,
         "SepalWidthCm": 1.70293863659264,
         "PetalLengthCm": 1.1832159566199232,
         "PetalWidthCm": 0.4472135954999579,
         "_deepnote_index_column": 8
        },
        {
         "SepalLengthCm": 2.2135943621178655,
         "SepalWidthCm": 1.760681686165901,
         "PetalLengthCm": 1.224744871391589,
         "PetalWidthCm": 0.31622776601683794,
         "_deepnote_index_column": 9
        }
       ]
      },
      "text/plain": "     SepalLengthCm  SepalWidthCm  PetalLengthCm  PetalWidthCm\n0         2.258318      1.870829       1.183216      0.447214\n1         2.213594      1.732051       1.183216      0.447214\n2         2.167948      1.788854       1.140175      0.447214\n3         2.144761      1.760682       1.224745      0.447214\n4         2.236068      1.897367       1.183216      0.447214\n..             ...           ...            ...           ...\n145       2.588436      1.732051       2.280351      1.516575\n146       2.509980      1.581139       2.236068      1.378405\n147       2.549510      1.732051       2.280351      1.414214\n148       2.489980      1.843909       2.323790      1.516575\n149       2.428992      1.732051       2.258318      1.341641\n\n[150 rows x 4 columns]",
      "text/html": "<div>\n<style scoped>\n    .dataframe tbody tr th:only-of-type {\n        vertical-align: middle;\n    }\n\n    .dataframe tbody tr th {\n        vertical-align: top;\n    }\n\n    .dataframe thead th {\n        text-align: right;\n    }\n</style>\n<table border=\"1\" class=\"dataframe\">\n  <thead>\n    <tr style=\"text-align: right;\">\n      <th></th>\n      <th>SepalLengthCm</th>\n      <th>SepalWidthCm</th>\n      <th>PetalLengthCm</th>\n      <th>PetalWidthCm</th>\n    </tr>\n  </thead>\n  <tbody>\n    <tr>\n      <th>0</th>\n      <td>2.258318</td>\n      <td>1.870829</td>\n      <td>1.183216</td>\n      <td>0.447214</td>\n    </tr>\n    <tr>\n      <th>1</th>\n      <td>2.213594</td>\n      <td>1.732051</td>\n      <td>1.183216</td>\n      <td>0.447214</td>\n    </tr>\n    <tr>\n      <th>2</th>\n      <td>2.167948</td>\n      <td>1.788854</td>\n      <td>1.140175</td>\n      <td>0.447214</td>\n    </tr>\n    <tr>\n      <th>3</th>\n      <td>2.144761</td>\n      <td>1.760682</td>\n      <td>1.224745</td>\n      <td>0.447214</td>\n    </tr>\n    <tr>\n      <th>4</th>\n      <td>2.236068</td>\n      <td>1.897367</td>\n      <td>1.183216</td>\n      <td>0.447214</td>\n    </tr>\n    <tr>\n      <th>...</th>\n      <td>...</td>\n      <td>...</td>\n      <td>...</td>\n      <td>...</td>\n    </tr>\n    <tr>\n      <th>145</th>\n      <td>2.588436</td>\n      <td>1.732051</td>\n      <td>2.280351</td>\n      <td>1.516575</td>\n    </tr>\n    <tr>\n      <th>146</th>\n      <td>2.509980</td>\n      <td>1.581139</td>\n      <td>2.236068</td>\n      <td>1.378405</td>\n    </tr>\n    <tr>\n      <th>147</th>\n      <td>2.549510</td>\n      <td>1.732051</td>\n      <td>2.280351</td>\n      <td>1.414214</td>\n    </tr>\n    <tr>\n      <th>148</th>\n      <td>2.489980</td>\n      <td>1.843909</td>\n      <td>2.323790</td>\n      <td>1.516575</td>\n    </tr>\n    <tr>\n      <th>149</th>\n      <td>2.428992</td>\n      <td>1.732051</td>\n      <td>2.258318</td>\n      <td>1.341641</td>\n    </tr>\n  </tbody>\n</table>\n<p>150 rows × 4 columns</p>\n</div>"
     },
     "metadata": {}
    }
   ]
  },
  {
   "cell_type": "code",
   "metadata": {
    "cell_id": "da0c23986c794a8b99ed281918cbe756",
    "tags": [],
    "deepnote_to_be_reexecuted": false,
    "source_hash": "4b50f45f",
    "execution_start": 1657857180136,
    "execution_millis": 6,
    "deepnote_cell_type": "code",
    "deepnote_cell_height": 153
   },
   "source": "def multiply50(x):\n    if type(x) is str:\n        return x\n    else:\n        return 50*x",
   "execution_count": null,
   "outputs": []
  },
  {
   "cell_type": "code",
   "metadata": {
    "cell_id": "b1d177b5393f424e8435f4bc78e9d997",
    "tags": [],
    "deepnote_to_be_reexecuted": false,
    "source_hash": "fea34a17",
    "execution_start": 1657857213912,
    "execution_millis": 26,
    "deepnote_cell_type": "code",
    "deepnote_cell_height": 600
   },
   "source": "df.applymap(multiply50)",
   "execution_count": null,
   "outputs": [
    {
     "output_type": "execute_result",
     "execution_count": 21,
     "data": {
      "application/vnd.deepnote.dataframe.v3+json": {
       "column_count": 4,
       "row_count": 150,
       "columns": [
        {
         "name": "SepalLengthCm",
         "dtype": "float64",
         "stats": {
          "unique_count": 35,
          "nan_count": 0,
          "min": "215.0",
          "max": "395.0",
          "histogram": [
           {
            "bin_start": 215,
            "bin_end": 233,
            "count": 9
           },
           {
            "bin_start": 233,
            "bin_end": 251,
            "count": 23
           },
           {
            "bin_start": 251,
            "bin_end": 269,
            "count": 14
           },
           {
            "bin_start": 269,
            "bin_end": 287,
            "count": 27
           },
           {
            "bin_start": 287,
            "bin_end": 305,
            "count": 16
           },
           {
            "bin_start": 305,
            "bin_end": 323,
            "count": 26
           },
           {
            "bin_start": 323,
            "bin_end": 341,
            "count": 18
           },
           {
            "bin_start": 341,
            "bin_end": 359,
            "count": 6
           },
           {
            "bin_start": 359,
            "bin_end": 377,
            "count": 5
           },
           {
            "bin_start": 377,
            "bin_end": 395,
            "count": 6
           }
          ]
         }
        },
        {
         "name": "SepalWidthCm",
         "dtype": "float64",
         "stats": {
          "unique_count": 23,
          "nan_count": 0,
          "min": "100.0",
          "max": "220.00000000000003",
          "histogram": [
           {
            "bin_start": 100,
            "bin_end": 112,
            "count": 4
           },
           {
            "bin_start": 112,
            "bin_end": 124,
            "count": 7
           },
           {
            "bin_start": 124,
            "bin_end": 136,
            "count": 22
           },
           {
            "bin_start": 136,
            "bin_end": 148,
            "count": 24
           },
           {
            "bin_start": 148,
            "bin_end": 160,
            "count": 38
           },
           {
            "bin_start": 160,
            "bin_end": 172.00000000000003,
            "count": 31
           },
           {
            "bin_start": 172.00000000000003,
            "bin_end": 184.00000000000003,
            "count": 9
           },
           {
            "bin_start": 184.00000000000003,
            "bin_end": 196.00000000000003,
            "count": 11
           },
           {
            "bin_start": 196.00000000000003,
            "bin_end": 208.00000000000003,
            "count": 2
           },
           {
            "bin_start": 208.00000000000003,
            "bin_end": 220.00000000000003,
            "count": 2
           }
          ]
         }
        },
        {
         "name": "PetalLengthCm",
         "dtype": "float64",
         "stats": {
          "unique_count": 43,
          "nan_count": 0,
          "min": "50.0",
          "max": "345.0",
          "histogram": [
           {
            "bin_start": 50,
            "bin_end": 79.5,
            "count": 37
           },
           {
            "bin_start": 79.5,
            "bin_end": 109,
            "count": 13
           },
           {
            "bin_start": 109,
            "bin_end": 138.5,
            "count": 0
           },
           {
            "bin_start": 138.5,
            "bin_end": 168,
            "count": 3
           },
           {
            "bin_start": 168,
            "bin_end": 197.5,
            "count": 8
           },
           {
            "bin_start": 197.5,
            "bin_end": 227,
            "count": 26
           },
           {
            "bin_start": 227,
            "bin_end": 256.5,
            "count": 29
           },
           {
            "bin_start": 256.5,
            "bin_end": 286,
            "count": 18
           },
           {
            "bin_start": 286,
            "bin_end": 315.5,
            "count": 11
           },
           {
            "bin_start": 315.5,
            "bin_end": 345,
            "count": 5
           }
          ]
         }
        },
        {
         "name": "PetalWidthCm",
         "dtype": "float64",
         "stats": {
          "unique_count": 22,
          "nan_count": 0,
          "min": "5.0",
          "max": "125.0",
          "histogram": [
           {
            "bin_start": 5,
            "bin_end": 17,
            "count": 41
           },
           {
            "bin_start": 17,
            "bin_end": 29,
            "count": 8
           },
           {
            "bin_start": 29,
            "bin_end": 41,
            "count": 1
           },
           {
            "bin_start": 41,
            "bin_end": 53,
            "count": 7
           },
           {
            "bin_start": 53,
            "bin_end": 65,
            "count": 8
           },
           {
            "bin_start": 65,
            "bin_end": 77,
            "count": 33
           },
           {
            "bin_start": 77,
            "bin_end": 89,
            "count": 6
           },
           {
            "bin_start": 89,
            "bin_end": 101,
            "count": 23
           },
           {
            "bin_start": 101,
            "bin_end": 113,
            "count": 9
           },
           {
            "bin_start": 113,
            "bin_end": 125,
            "count": 14
           }
          ]
         }
        },
        {
         "name": "_deepnote_index_column",
         "dtype": "int64"
        }
       ],
       "rows": [
        {
         "SepalLengthCm": 254.99999999999997,
         "SepalWidthCm": 175,
         "PetalLengthCm": 70,
         "PetalWidthCm": 10,
         "_deepnote_index_column": 0
        },
        {
         "SepalLengthCm": 245.00000000000003,
         "SepalWidthCm": 150,
         "PetalLengthCm": 70,
         "PetalWidthCm": 10,
         "_deepnote_index_column": 1
        },
        {
         "SepalLengthCm": 235,
         "SepalWidthCm": 160,
         "PetalLengthCm": 65,
         "PetalWidthCm": 10,
         "_deepnote_index_column": 2
        },
        {
         "SepalLengthCm": 229.99999999999997,
         "SepalWidthCm": 155,
         "PetalLengthCm": 75,
         "PetalWidthCm": 10,
         "_deepnote_index_column": 3
        },
        {
         "SepalLengthCm": 250,
         "SepalWidthCm": 180,
         "PetalLengthCm": 70,
         "PetalWidthCm": 10,
         "_deepnote_index_column": 4
        },
        {
         "SepalLengthCm": 270,
         "SepalWidthCm": 195,
         "PetalLengthCm": 85,
         "PetalWidthCm": 20,
         "_deepnote_index_column": 5
        },
        {
         "SepalLengthCm": 229.99999999999997,
         "SepalWidthCm": 170,
         "PetalLengthCm": 70,
         "PetalWidthCm": 15,
         "_deepnote_index_column": 6
        },
        {
         "SepalLengthCm": 250,
         "SepalWidthCm": 170,
         "PetalLengthCm": 75,
         "PetalWidthCm": 10,
         "_deepnote_index_column": 7
        },
        {
         "SepalLengthCm": 220.00000000000003,
         "SepalWidthCm": 145,
         "PetalLengthCm": 70,
         "PetalWidthCm": 10,
         "_deepnote_index_column": 8
        },
        {
         "SepalLengthCm": 245.00000000000003,
         "SepalWidthCm": 155,
         "PetalLengthCm": 75,
         "PetalWidthCm": 5,
         "_deepnote_index_column": 9
        }
       ]
      },
      "text/plain": "     SepalLengthCm  SepalWidthCm  PetalLengthCm  PetalWidthCm\n0            255.0         175.0           70.0          10.0\n1            245.0         150.0           70.0          10.0\n2            235.0         160.0           65.0          10.0\n3            230.0         155.0           75.0          10.0\n4            250.0         180.0           70.0          10.0\n..             ...           ...            ...           ...\n145          335.0         150.0          260.0         115.0\n146          315.0         125.0          250.0          95.0\n147          325.0         150.0          260.0         100.0\n148          310.0         170.0          270.0         115.0\n149          295.0         150.0          255.0          90.0\n\n[150 rows x 4 columns]",
      "text/html": "<div>\n<style scoped>\n    .dataframe tbody tr th:only-of-type {\n        vertical-align: middle;\n    }\n\n    .dataframe tbody tr th {\n        vertical-align: top;\n    }\n\n    .dataframe thead th {\n        text-align: right;\n    }\n</style>\n<table border=\"1\" class=\"dataframe\">\n  <thead>\n    <tr style=\"text-align: right;\">\n      <th></th>\n      <th>SepalLengthCm</th>\n      <th>SepalWidthCm</th>\n      <th>PetalLengthCm</th>\n      <th>PetalWidthCm</th>\n    </tr>\n  </thead>\n  <tbody>\n    <tr>\n      <th>0</th>\n      <td>255.0</td>\n      <td>175.0</td>\n      <td>70.0</td>\n      <td>10.0</td>\n    </tr>\n    <tr>\n      <th>1</th>\n      <td>245.0</td>\n      <td>150.0</td>\n      <td>70.0</td>\n      <td>10.0</td>\n    </tr>\n    <tr>\n      <th>2</th>\n      <td>235.0</td>\n      <td>160.0</td>\n      <td>65.0</td>\n      <td>10.0</td>\n    </tr>\n    <tr>\n      <th>3</th>\n      <td>230.0</td>\n      <td>155.0</td>\n      <td>75.0</td>\n      <td>10.0</td>\n    </tr>\n    <tr>\n      <th>4</th>\n      <td>250.0</td>\n      <td>180.0</td>\n      <td>70.0</td>\n      <td>10.0</td>\n    </tr>\n    <tr>\n      <th>...</th>\n      <td>...</td>\n      <td>...</td>\n      <td>...</td>\n      <td>...</td>\n    </tr>\n    <tr>\n      <th>145</th>\n      <td>335.0</td>\n      <td>150.0</td>\n      <td>260.0</td>\n      <td>115.0</td>\n    </tr>\n    <tr>\n      <th>146</th>\n      <td>315.0</td>\n      <td>125.0</td>\n      <td>250.0</td>\n      <td>95.0</td>\n    </tr>\n    <tr>\n      <th>147</th>\n      <td>325.0</td>\n      <td>150.0</td>\n      <td>260.0</td>\n      <td>100.0</td>\n    </tr>\n    <tr>\n      <th>148</th>\n      <td>310.0</td>\n      <td>170.0</td>\n      <td>270.0</td>\n      <td>115.0</td>\n    </tr>\n    <tr>\n      <th>149</th>\n      <td>295.0</td>\n      <td>150.0</td>\n      <td>255.0</td>\n      <td>90.0</td>\n    </tr>\n  </tbody>\n</table>\n<p>150 rows × 4 columns</p>\n</div>"
     },
     "metadata": {}
    }
   ]
  },
  {
   "cell_type": "code",
   "metadata": {
    "cell_id": "9903f84ec3b8449da92557efae8469b9",
    "tags": [],
    "deepnote_to_be_reexecuted": false,
    "source_hash": "88302b1a",
    "execution_start": 1657858787503,
    "execution_millis": 490,
    "deepnote_cell_type": "code",
    "deepnote_cell_height": 329.25,
    "deepnote_output_heights": [
     232.25
    ]
   },
   "source": "df[\"SepalLengthCm\"].apply(multiply50)",
   "execution_count": null,
   "outputs": [
    {
     "output_type": "execute_result",
     "execution_count": 28,
     "data": {
      "text/plain": "0      255.0\n1      245.0\n2      235.0\n3      230.0\n4      250.0\n       ...  \n145    335.0\n146    315.0\n147    325.0\n148    310.0\n149    295.0\nName: SepalLengthCm, Length: 150, dtype: float64"
     },
     "metadata": {}
    }
   ]
  },
  {
   "cell_type": "code",
   "metadata": {
    "cell_id": "2d562d0fe960486a8d86d2cf16a13658",
    "tags": [],
    "deepnote_to_be_reexecuted": false,
    "source_hash": "cc483e6a",
    "execution_start": 1657858909884,
    "execution_millis": 3,
    "deepnote_cell_type": "code",
    "deepnote_cell_height": 99
   },
   "source": "def mode(x):\n    return x.mode()",
   "execution_count": null,
   "outputs": []
  },
  {
   "cell_type": "code",
   "metadata": {
    "cell_id": "e5858e4825c148978246ca5c3f500b8b",
    "tags": [],
    "deepnote_to_be_reexecuted": false,
    "source_hash": "8beb7449",
    "execution_start": 1657858994956,
    "execution_millis": 23,
    "deepnote_cell_type": "code",
    "deepnote_cell_height": 231
   },
   "source": "df.apply(mode)",
   "execution_count": null,
   "outputs": [
    {
     "output_type": "execute_result",
     "execution_count": 31,
     "data": {
      "application/vnd.deepnote.dataframe.v3+json": {
       "column_count": 4,
       "row_count": 1,
       "columns": [
        {
         "name": "SepalLengthCm",
         "dtype": "float64",
         "stats": {
          "unique_count": 1,
          "nan_count": 0,
          "min": "5.0",
          "max": "5.0",
          "histogram": [
           {
            "bin_start": 4.5,
            "bin_end": 4.6,
            "count": 0
           },
           {
            "bin_start": 4.6,
            "bin_end": 4.7,
            "count": 0
           },
           {
            "bin_start": 4.7,
            "bin_end": 4.8,
            "count": 0
           },
           {
            "bin_start": 4.8,
            "bin_end": 4.9,
            "count": 0
           },
           {
            "bin_start": 4.9,
            "bin_end": 5,
            "count": 0
           },
           {
            "bin_start": 5,
            "bin_end": 5.1,
            "count": 1
           },
           {
            "bin_start": 5.1,
            "bin_end": 5.2,
            "count": 0
           },
           {
            "bin_start": 5.2,
            "bin_end": 5.3,
            "count": 0
           },
           {
            "bin_start": 5.3,
            "bin_end": 5.4,
            "count": 0
           },
           {
            "bin_start": 5.4,
            "bin_end": 5.5,
            "count": 0
           }
          ]
         }
        },
        {
         "name": "SepalWidthCm",
         "dtype": "float64",
         "stats": {
          "unique_count": 1,
          "nan_count": 0,
          "min": "3.0",
          "max": "3.0",
          "histogram": [
           {
            "bin_start": 2.5,
            "bin_end": 2.6,
            "count": 0
           },
           {
            "bin_start": 2.6,
            "bin_end": 2.7,
            "count": 0
           },
           {
            "bin_start": 2.7,
            "bin_end": 2.8,
            "count": 0
           },
           {
            "bin_start": 2.8,
            "bin_end": 2.9,
            "count": 0
           },
           {
            "bin_start": 2.9,
            "bin_end": 3,
            "count": 0
           },
           {
            "bin_start": 3,
            "bin_end": 3.1,
            "count": 1
           },
           {
            "bin_start": 3.1,
            "bin_end": 3.2,
            "count": 0
           },
           {
            "bin_start": 3.2,
            "bin_end": 3.3,
            "count": 0
           },
           {
            "bin_start": 3.3,
            "bin_end": 3.4,
            "count": 0
           },
           {
            "bin_start": 3.4,
            "bin_end": 3.5,
            "count": 0
           }
          ]
         }
        },
        {
         "name": "PetalLengthCm",
         "dtype": "float64",
         "stats": {
          "unique_count": 1,
          "nan_count": 0,
          "min": "1.5",
          "max": "1.5",
          "histogram": [
           {
            "bin_start": 1,
            "bin_end": 1.1,
            "count": 0
           },
           {
            "bin_start": 1.1,
            "bin_end": 1.2,
            "count": 0
           },
           {
            "bin_start": 1.2,
            "bin_end": 1.3,
            "count": 0
           },
           {
            "bin_start": 1.3,
            "bin_end": 1.4,
            "count": 0
           },
           {
            "bin_start": 1.4,
            "bin_end": 1.5,
            "count": 0
           },
           {
            "bin_start": 1.5,
            "bin_end": 1.6,
            "count": 1
           },
           {
            "bin_start": 1.6,
            "bin_end": 1.7000000000000002,
            "count": 0
           },
           {
            "bin_start": 1.7000000000000002,
            "bin_end": 1.8,
            "count": 0
           },
           {
            "bin_start": 1.8,
            "bin_end": 1.9,
            "count": 0
           },
           {
            "bin_start": 1.9,
            "bin_end": 2,
            "count": 0
           }
          ]
         }
        },
        {
         "name": "PetalWidthCm",
         "dtype": "float64",
         "stats": {
          "unique_count": 1,
          "nan_count": 0,
          "min": "0.2",
          "max": "0.2",
          "histogram": [
           {
            "bin_start": -0.3,
            "bin_end": -0.19999999999999998,
            "count": 0
           },
           {
            "bin_start": -0.19999999999999998,
            "bin_end": -0.09999999999999998,
            "count": 0
           },
           {
            "bin_start": -0.09999999999999998,
            "bin_end": 5.551115123125783e-17,
            "count": 0
           },
           {
            "bin_start": 5.551115123125783e-17,
            "bin_end": 0.10000000000000003,
            "count": 0
           },
           {
            "bin_start": 0.10000000000000003,
            "bin_end": 0.2,
            "count": 0
           },
           {
            "bin_start": 0.2,
            "bin_end": 0.3000000000000001,
            "count": 1
           },
           {
            "bin_start": 0.3000000000000001,
            "bin_end": 0.4000000000000001,
            "count": 0
           },
           {
            "bin_start": 0.4000000000000001,
            "bin_end": 0.5,
            "count": 0
           },
           {
            "bin_start": 0.5,
            "bin_end": 0.6000000000000001,
            "count": 0
           },
           {
            "bin_start": 0.6000000000000001,
            "bin_end": 0.7,
            "count": 0
           }
          ]
         }
        },
        {
         "name": "_deepnote_index_column",
         "dtype": "int64"
        }
       ],
       "rows": [
        {
         "SepalLengthCm": 5,
         "SepalWidthCm": 3,
         "PetalLengthCm": 1.5,
         "PetalWidthCm": 0.2,
         "_deepnote_index_column": 0
        }
       ]
      },
      "text/plain": "   SepalLengthCm  SepalWidthCm  PetalLengthCm  PetalWidthCm\n0            5.0           3.0            1.5           0.2",
      "text/html": "<div>\n<style scoped>\n    .dataframe tbody tr th:only-of-type {\n        vertical-align: middle;\n    }\n\n    .dataframe tbody tr th {\n        vertical-align: top;\n    }\n\n    .dataframe thead th {\n        text-align: right;\n    }\n</style>\n<table border=\"1\" class=\"dataframe\">\n  <thead>\n    <tr style=\"text-align: right;\">\n      <th></th>\n      <th>SepalLengthCm</th>\n      <th>SepalWidthCm</th>\n      <th>PetalLengthCm</th>\n      <th>PetalWidthCm</th>\n    </tr>\n  </thead>\n  <tbody>\n    <tr>\n      <th>0</th>\n      <td>5.0</td>\n      <td>3.0</td>\n      <td>1.5</td>\n      <td>0.2</td>\n    </tr>\n  </tbody>\n</table>\n</div>"
     },
     "metadata": {}
    }
   ]
  },
  {
   "cell_type": "code",
   "metadata": {
    "cell_id": "47932b824b504395a4eb83cf207ccc1c",
    "tags": [],
    "deepnote_to_be_reexecuted": false,
    "source_hash": "97a270d2",
    "execution_start": 1657859189315,
    "execution_millis": 2,
    "deepnote_cell_type": "code",
    "deepnote_cell_height": 99
   },
   "source": "def max_str_len(x):\n    return max([len(str(v)) for v in x])",
   "execution_count": null,
   "outputs": []
  },
  {
   "cell_type": "code",
   "metadata": {
    "cell_id": "1a555708a130499b8f65ce20f405881f",
    "tags": [],
    "deepnote_to_be_reexecuted": false,
    "source_hash": "9d8a2f08",
    "execution_start": 1657859277055,
    "execution_millis": 2,
    "deepnote_cell_type": "code",
    "deepnote_cell_height": 329.25,
    "deepnote_output_heights": [
     232.25
    ]
   },
   "source": "df.apply(max_str_len, axis=1)",
   "execution_count": null,
   "outputs": [
    {
     "output_type": "execute_result",
     "execution_count": 34,
     "data": {
      "text/plain": "0      3\n1      3\n2      3\n3      3\n4      3\n      ..\n145    3\n146    3\n147    3\n148    3\n149    3\nLength: 150, dtype: int64"
     },
     "metadata": {}
    }
   ]
  },
  {
   "cell_type": "code",
   "metadata": {
    "cell_id": "68a27892af5a48d8993b917865336027",
    "tags": [],
    "deepnote_to_be_reexecuted": false,
    "source_hash": "9b82ee11",
    "execution_start": 1657885026721,
    "execution_millis": 5,
    "deepnote_cell_type": "code",
    "deepnote_cell_height": 81
   },
   "source": "import pandas as pd",
   "execution_count": null,
   "outputs": []
  },
  {
   "cell_type": "code",
   "metadata": {
    "cell_id": "221014b10d3c4b6587688bd09c5727d3",
    "tags": [],
    "deepnote_to_be_reexecuted": false,
    "source_hash": "713c601f",
    "execution_start": 1657885031428,
    "execution_millis": 2977,
    "deepnote_cell_type": "code",
    "deepnote_cell_height": 99
   },
   "source": "data = pd.read_csv('/datasets/pandataset/survey_results_public.csv', index_col = 'Respondent')\nschema = pd.read_csv('/datasets/pandataset/survey_results_schema.csv', index_col='Column')",
   "execution_count": null,
   "outputs": []
  },
  {
   "cell_type": "code",
   "metadata": {
    "cell_id": "9a415c193b074227851b6d7cac9c7832",
    "tags": [],
    "deepnote_to_be_reexecuted": false,
    "source_hash": "2b95cfc8",
    "execution_start": 1657885190614,
    "execution_millis": 3,
    "deepnote_cell_type": "code",
    "deepnote_cell_height": 99
   },
   "source": "pd.set_option('display.max_columns', 85)\npd.set_option('display.max_rows', 85)",
   "execution_count": null,
   "outputs": []
  },
  {
   "cell_type": "code",
   "metadata": {
    "cell_id": "8493ab1fb1b245afaaf348105c47920f",
    "tags": [],
    "deepnote_to_be_reexecuted": false,
    "source_hash": "41313cfa",
    "execution_start": 1657885221760,
    "execution_millis": 258,
    "deepnote_cell_type": "code",
    "deepnote_cell_height": 412
   },
   "source": "data.head()",
   "execution_count": null,
   "outputs": [
    {
     "output_type": "execute_result",
     "execution_count": 4,
     "data": {
      "application/vnd.deepnote.dataframe.v3+json": {
       "column_count": 60,
       "row_count": 5,
       "columns": [
        {
         "name": "MainBranch",
         "dtype": "object",
         "stats": {
          "unique_count": 3,
          "nan_count": 0,
          "categories": [
           {
            "name": "I am a developer by profession",
            "count": 3
           },
           {
            "name": "I code primarily as a hobby",
            "count": 1
           },
           {
            "name": "I used to be a developer by profession, but no longer am",
            "count": 1
           }
          ]
         }
        },
        {
         "name": "Hobbyist",
         "dtype": "object",
         "stats": {
          "unique_count": 2,
          "nan_count": 0,
          "categories": [
           {
            "name": "Yes",
            "count": 4
           },
           {
            "name": "No",
            "count": 1
           }
          ]
         }
        },
        {
         "name": "Age",
         "dtype": "float64",
         "stats": {
          "unique_count": 2,
          "nan_count": 3,
          "min": "25.0",
          "max": "31.0",
          "histogram": [
           {
            "bin_start": 25,
            "bin_end": 25.6,
            "count": 1
           },
           {
            "bin_start": 25.6,
            "bin_end": 26.2,
            "count": 0
           },
           {
            "bin_start": 26.2,
            "bin_end": 26.8,
            "count": 0
           },
           {
            "bin_start": 26.8,
            "bin_end": 27.4,
            "count": 0
           },
           {
            "bin_start": 27.4,
            "bin_end": 28,
            "count": 0
           },
           {
            "bin_start": 28,
            "bin_end": 28.6,
            "count": 0
           },
           {
            "bin_start": 28.6,
            "bin_end": 29.2,
            "count": 0
           },
           {
            "bin_start": 29.2,
            "bin_end": 29.8,
            "count": 0
           },
           {
            "bin_start": 29.8,
            "bin_end": 30.4,
            "count": 0
           },
           {
            "bin_start": 30.4,
            "bin_end": 31,
            "count": 1
           }
          ]
         }
        },
        {
         "name": "Age1stCode",
         "dtype": "object",
         "stats": {
          "unique_count": 5,
          "nan_count": 0,
          "categories": [
           {
            "name": "13",
            "count": 1
           },
           {
            "name": "19",
            "count": 1
           },
           {
            "name": "3 others",
            "count": 3
           }
          ]
         }
        },
        {
         "name": "CompFreq",
         "dtype": "object",
         "stats": {
          "unique_count": 1,
          "nan_count": 4,
          "categories": [
           {
            "name": "Monthly",
            "count": 1
           },
           {
            "name": "Missing",
            "count": 4
           }
          ]
         }
        },
        {
         "name": "CompTotal",
         "dtype": "float64",
         "stats": {
          "unique_count": 0,
          "nan_count": 5,
          "min": null,
          "max": null,
          "histogram": [
           {
            "bin_start": 0,
            "bin_end": 0.1,
            "count": 0
           },
           {
            "bin_start": 0.1,
            "bin_end": 0.2,
            "count": 0
           },
           {
            "bin_start": 0.2,
            "bin_end": 0.30000000000000004,
            "count": 0
           },
           {
            "bin_start": 0.30000000000000004,
            "bin_end": 0.4,
            "count": 0
           },
           {
            "bin_start": 0.4,
            "bin_end": 0.5,
            "count": 0
           },
           {
            "bin_start": 0.5,
            "bin_end": 0.6000000000000001,
            "count": 0
           },
           {
            "bin_start": 0.6000000000000001,
            "bin_end": 0.7000000000000001,
            "count": 0
           },
           {
            "bin_start": 0.7000000000000001,
            "bin_end": 0.8,
            "count": 0
           },
           {
            "bin_start": 0.8,
            "bin_end": 0.9,
            "count": 0
           },
           {
            "bin_start": 0.9,
            "bin_end": 1,
            "count": 0
           }
          ]
         }
        },
        {
         "name": "ConvertedComp",
         "dtype": "float64",
         "stats": {
          "unique_count": 0,
          "nan_count": 5,
          "min": null,
          "max": null,
          "histogram": [
           {
            "bin_start": 0,
            "bin_end": 0.1,
            "count": 0
           },
           {
            "bin_start": 0.1,
            "bin_end": 0.2,
            "count": 0
           },
           {
            "bin_start": 0.2,
            "bin_end": 0.30000000000000004,
            "count": 0
           },
           {
            "bin_start": 0.30000000000000004,
            "bin_end": 0.4,
            "count": 0
           },
           {
            "bin_start": 0.4,
            "bin_end": 0.5,
            "count": 0
           },
           {
            "bin_start": 0.5,
            "bin_end": 0.6000000000000001,
            "count": 0
           },
           {
            "bin_start": 0.6000000000000001,
            "bin_end": 0.7000000000000001,
            "count": 0
           },
           {
            "bin_start": 0.7000000000000001,
            "bin_end": 0.8,
            "count": 0
           },
           {
            "bin_start": 0.8,
            "bin_end": 0.9,
            "count": 0
           },
           {
            "bin_start": 0.9,
            "bin_end": 1,
            "count": 0
           }
          ]
         }
        },
        {
         "name": "Country",
         "dtype": "object",
         "stats": {
          "unique_count": 5,
          "nan_count": 0,
          "categories": [
           {
            "name": "Germany",
            "count": 1
           },
           {
            "name": "United Kingdom",
            "count": 1
           },
           {
            "name": "3 others",
            "count": 3
           }
          ]
         }
        },
        {
         "name": "CurrencyDesc",
         "dtype": "object",
         "stats": {
          "unique_count": 3,
          "nan_count": 2,
          "categories": [
           {
            "name": "European Euro",
            "count": 1
           },
           {
            "name": "2 others",
            "count": 2
           },
           {
            "name": "Missing",
            "count": 2
           }
          ]
         }
        },
        {
         "name": "CurrencySymbol",
         "dtype": "object",
         "stats": {
          "unique_count": 3,
          "nan_count": 2,
          "categories": [
           {
            "name": "EUR",
            "count": 1
           },
           {
            "name": "2 others",
            "count": 2
           },
           {
            "name": "Missing",
            "count": 2
           }
          ]
         }
        },
        {
         "name": "DatabaseDesireNextYear",
         "dtype": "object",
         "stats": {
          "unique_count": 2,
          "nan_count": 3,
          "categories": [
           {
            "name": "Microsoft SQL Server",
            "count": 1
           },
           {
            "name": "MySQL;PostgreSQL",
            "count": 1
           },
           {
            "name": "Missing",
            "count": 3
           }
          ]
         }
        },
        {
         "name": "DatabaseWorkedWith",
         "dtype": "object",
         "stats": {
          "unique_count": 2,
          "nan_count": 3,
          "categories": [
           {
            "name": "Elasticsearch;Microsoft SQL Server;Oracle",
            "count": 1
           },
           {
            "name": "MySQL;PostgreSQL;Redis;SQLite",
            "count": 1
           },
           {
            "name": "Missing",
            "count": 3
           }
          ]
         }
        },
        {
         "name": "DevType",
         "dtype": "object",
         "stats": {
          "unique_count": 2,
          "nan_count": 3,
          "categories": [
           {
            "name": "Developer, desktop or enterprise applications;Developer, full-stack",
            "count": 1
           },
           {
            "name": "Developer, full-stack;Developer, mobile",
            "count": 1
           },
           {
            "name": "Missing",
            "count": 3
           }
          ]
         }
        },
        {
         "name": "EdLevel",
         "dtype": "object",
         "stats": {
          "unique_count": 2,
          "nan_count": 1,
          "categories": [
           {
            "name": "Master’s degree (M.A., M.S., M.Eng., MBA, etc.)",
            "count": 2
           },
           {
            "name": "Bachelor’s degree (B.A., B.S., B.Eng., etc.)",
            "count": 2
           },
           {
            "name": "Missing",
            "count": 1
           }
          ]
         }
        },
        {
         "name": "Employment",
         "dtype": "object",
         "stats": {
          "unique_count": 2,
          "nan_count": 2,
          "categories": [
           {
            "name": "Employed full-time",
            "count": 2
           },
           {
            "name": "Independent contractor, freelancer, or self-employed",
            "count": 1
           },
           {
            "name": "Missing",
            "count": 2
           }
          ]
         }
        },
        {
         "name": "Ethnicity",
         "dtype": "object",
         "stats": {
          "unique_count": 1,
          "nan_count": 2,
          "categories": [
           {
            "name": "White or of European descent",
            "count": 3
           },
           {
            "name": "Missing",
            "count": 2
           }
          ]
         }
        },
        {
         "name": "Gender",
         "dtype": "object",
         "stats": {
          "unique_count": 1,
          "nan_count": 2,
          "categories": [
           {
            "name": "Man",
            "count": 3
           },
           {
            "name": "Missing",
            "count": 2
           }
          ]
         }
        },
        {
         "name": "JobFactors",
         "dtype": "object",
         "stats": {
          "unique_count": 2,
          "nan_count": 3,
          "categories": [
           {
            "name": "Languages, frameworks, and other technologies I’d be working with;Remote work options;Opportunities for professional development",
            "count": 1
           },
           {
            "name": "Flex time or a flexible schedule;Office environment or company culture;Opportunities for professional development",
            "count": 1
           },
           {
            "name": "Missing",
            "count": 3
           }
          ]
         }
        },
        {
         "name": "JobSat",
         "dtype": "object",
         "stats": {
          "unique_count": 3,
          "nan_count": 2,
          "categories": [
           {
            "name": "Slightly satisfied",
            "count": 1
           },
           {
            "name": "2 others",
            "count": 2
           },
           {
            "name": "Missing",
            "count": 2
           }
          ]
         }
        },
        {
         "name": "JobSeek",
         "dtype": "object",
         "stats": {
          "unique_count": 2,
          "nan_count": 2,
          "categories": [
           {
            "name": "I am not interested in new job opportunities",
            "count": 2
           },
           {
            "name": "I’m not actively looking, but I am open to new opportunities",
            "count": 1
           },
           {
            "name": "Missing",
            "count": 2
           }
          ]
         }
        },
        {
         "name": "LanguageDesireNextYear",
         "dtype": "object",
         "stats": {
          "unique_count": 4,
          "nan_count": 1,
          "categories": [
           {
            "name": "C#;HTML/CSS;JavaScript",
            "count": 1
           },
           {
            "name": "3 others",
            "count": 3
           },
           {
            "name": "Missing",
            "count": 1
           }
          ]
         }
        },
        {
         "name": "LanguageWorkedWith",
         "dtype": "object",
         "stats": {
          "unique_count": 4,
          "nan_count": 1,
          "categories": [
           {
            "name": "C#;HTML/CSS;JavaScript",
            "count": 1
           },
           {
            "name": "3 others",
            "count": 3
           },
           {
            "name": "Missing",
            "count": 1
           }
          ]
         }
        },
        {
         "name": "MiscTechDesireNextYear",
         "dtype": "object",
         "stats": {
          "unique_count": 3,
          "nan_count": 2,
          "categories": [
           {
            "name": ".NET Core;Xamarin",
            "count": 1
           },
           {
            "name": "2 others",
            "count": 2
           },
           {
            "name": "Missing",
            "count": 2
           }
          ]
         }
        },
        {
         "name": "MiscTechWorkedWith",
         "dtype": "object",
         "stats": {
          "unique_count": 3,
          "nan_count": 2,
          "categories": [
           {
            "name": ".NET;.NET Core",
            "count": 1
           },
           {
            "name": "2 others",
            "count": 2
           },
           {
            "name": "Missing",
            "count": 2
           }
          ]
         }
        },
        {
         "name": "NEWCollabToolsDesireNextYear",
         "dtype": "object",
         "stats": {
          "unique_count": 3,
          "nan_count": 2,
          "categories": [
           {
            "name": "Microsoft Teams;Microsoft Azure;Trello",
            "count": 1
           },
           {
            "name": "2 others",
            "count": 2
           },
           {
            "name": "Missing",
            "count": 2
           }
          ]
         }
        },
        {
         "name": "NEWCollabToolsWorkedWith",
         "dtype": "object",
         "stats": {
          "unique_count": 3,
          "nan_count": 2,
          "categories": [
           {
            "name": "Confluence;Jira;Slack;Microsoft Azure;Trello",
            "count": 1
           },
           {
            "name": "2 others",
            "count": 2
           },
           {
            "name": "Missing",
            "count": 2
           }
          ]
         }
        },
        {
         "name": "NEWDevOps",
         "dtype": "object",
         "stats": {
          "unique_count": 1,
          "nan_count": 3,
          "categories": [
           {
            "name": "No",
            "count": 2
           },
           {
            "name": "Missing",
            "count": 3
           }
          ]
         }
        },
        {
         "name": "NEWDevOpsImpt",
         "dtype": "object",
         "stats": {
          "unique_count": 1,
          "nan_count": 4,
          "categories": [
           {
            "name": "Somewhat important",
            "count": 1
           },
           {
            "name": "Missing",
            "count": 4
           }
          ]
         }
        },
        {
         "name": "NEWEdImpt",
         "dtype": "object",
         "stats": {
          "unique_count": 3,
          "nan_count": 1,
          "categories": [
           {
            "name": "Fairly important",
            "count": 2
           },
           {
            "name": "2 others",
            "count": 2
           },
           {
            "name": "Missing",
            "count": 1
           }
          ]
         }
        },
        {
         "name": "NEWJobHunt",
         "dtype": "object",
         "stats": {
          "unique_count": 1,
          "nan_count": 4,
          "categories": [
           {
            "name": "Curious about other opportunities;Wanting to work with new technologies",
            "count": 1
           },
           {
            "name": "Missing",
            "count": 4
           }
          ]
         }
        },
        {
         "name": "NEWJobHuntResearch",
         "dtype": "object",
         "stats": {
          "unique_count": 0,
          "nan_count": 5,
          "categories": [
           {
            "name": "Missing",
            "count": 5
           }
          ]
         }
        },
        {
         "name": "NEWLearn",
         "dtype": "object",
         "stats": {
          "unique_count": 2,
          "nan_count": 0,
          "categories": [
           {
            "name": "Once a year",
            "count": 4
           },
           {
            "name": "Once a decade",
            "count": 1
           }
          ]
         }
        },
        {
         "name": "NEWOffTopic",
         "dtype": "object",
         "stats": {
          "unique_count": 2,
          "nan_count": 1,
          "categories": [
           {
            "name": "Not sure",
            "count": 3
           },
           {
            "name": "No",
            "count": 1
           },
           {
            "name": "Missing",
            "count": 1
           }
          ]
         }
        },
        {
         "name": "NEWOnboardGood",
         "dtype": "object",
         "stats": {
          "unique_count": 1,
          "nan_count": 4,
          "categories": [
           {
            "name": "Yes",
            "count": 1
           },
           {
            "name": "Missing",
            "count": 4
           }
          ]
         }
        },
        {
         "name": "NEWOtherComms",
         "dtype": "object",
         "stats": {
          "unique_count": 2,
          "nan_count": 0,
          "categories": [
           {
            "name": "No",
            "count": 3
           },
           {
            "name": "Yes",
            "count": 2
           }
          ]
         }
        },
        {
         "name": "NEWOvertime",
         "dtype": "object",
         "stats": {
          "unique_count": 2,
          "nan_count": 3,
          "categories": [
           {
            "name": "Often: 1-2 days per week or more",
            "count": 1
           },
           {
            "name": "Occasionally: 1-2 days per quarter but less than monthly",
            "count": 1
           },
           {
            "name": "Missing",
            "count": 3
           }
          ]
         }
        },
        {
         "name": "NEWPurchaseResearch",
         "dtype": "object",
         "stats": {
          "unique_count": 2,
          "nan_count": 3,
          "categories": [
           {
            "name": "Start a free trial;Ask developers I know/work with",
            "count": 1
           },
           {
            "name": "Start a free trial;Ask developers I know/work with;Visit developer communities like Stack Overflow;Read ratings or reviews on third party sites like G2Crowd;Research companies that have advertised on sites I visit",
            "count": 1
           },
           {
            "name": "Missing",
            "count": 3
           }
          ]
         }
        },
        {
         "name": "NEWPurpleLink",
         "dtype": "object",
         "stats": {
          "unique_count": 2,
          "nan_count": 2,
          "categories": [
           {
            "name": "Amused",
            "count": 2
           },
           {
            "name": "Hello, old friend",
            "count": 1
           },
           {
            "name": "Missing",
            "count": 2
           }
          ]
         }
        },
        {
         "name": "NEWSOSites",
         "dtype": "object",
         "stats": {
          "unique_count": 3,
          "nan_count": 0,
          "categories": [
           {
            "name": "Stack Overflow (public Q&A for anyone who codes)",
            "count": 2
           },
           {
            "name": "Stack Overflow (public Q&A for anyone who codes);Stack Exchange (public Q&A for a variety of topics);Stack Overflow Jobs (for job seekers)",
            "count": 2
           },
           {
            "name": "Stack Overflow (public Q&A for anyone who codes);Stack Exchange (public Q&A for a variety of topics);Stack Overflow Jobs (for job seekers);Stack Overflow for Teams (private Q&A for organizations);Stack Overflow Talent (for hiring companies/recruiters)",
            "count": 1
           }
          ]
         }
        },
        {
         "name": "NEWStuck",
         "dtype": "object",
         "stats": {
          "unique_count": 3,
          "nan_count": 2,
          "categories": [
           {
            "name": "Visit Stack Overflow;Go for a walk or other physical activity;Do other work and come back later",
            "count": 1
           },
           {
            "name": "2 others",
            "count": 2
           },
           {
            "name": "Missing",
            "count": 2
           }
          ]
         }
        },
        {
         "name": "OpSys",
         "dtype": "object",
         "stats": {
          "unique_count": 3,
          "nan_count": 0,
          "categories": [
           {
            "name": "Windows",
            "count": 2
           },
           {
            "name": "Linux-based",
            "count": 2
           },
           {
            "name": "MacOS",
            "count": 1
           }
          ]
         }
        },
        {
         "name": "OrgSize",
         "dtype": "object",
         "stats": {
          "unique_count": 3,
          "nan_count": 2,
          "categories": [
           {
            "name": "2 to 9 employees",
            "count": 1
           },
           {
            "name": "2 others",
            "count": 2
           },
           {
            "name": "Missing",
            "count": 2
           }
          ]
         }
        },
        {
         "name": "PlatformDesireNextYear",
         "dtype": "object",
         "stats": {
          "unique_count": 3,
          "nan_count": 2,
          "categories": [
           {
            "name": "Android;iOS;Kubernetes;Microsoft Azure;Windows",
            "count": 1
           },
           {
            "name": "2 others",
            "count": 2
           },
           {
            "name": "Missing",
            "count": 2
           }
          ]
         }
        },
        {
         "name": "PlatformWorkedWith",
         "dtype": "object",
         "stats": {
          "unique_count": 3,
          "nan_count": 2,
          "categories": [
           {
            "name": "Windows",
            "count": 1
           },
           {
            "name": "2 others",
            "count": 2
           },
           {
            "name": "Missing",
            "count": 2
           }
          ]
         }
        },
        {
         "name": "PurchaseWhat",
         "dtype": "object",
         "stats": {
          "unique_count": 2,
          "nan_count": 3,
          "categories": [
           {
            "name": "I have little or no influence",
            "count": 1
           },
           {
            "name": "I have a great deal of influence",
            "count": 1
           },
           {
            "name": "Missing",
            "count": 3
           }
          ]
         }
        },
        {
         "name": "Sexuality",
         "dtype": "object",
         "stats": {
          "unique_count": 1,
          "nan_count": 2,
          "categories": [
           {
            "name": "Straight / Heterosexual",
            "count": 3
           },
           {
            "name": "Missing",
            "count": 2
           }
          ]
         }
        },
        {
         "name": "SOAccount",
         "dtype": "object",
         "stats": {
          "unique_count": 2,
          "nan_count": 0,
          "categories": [
           {
            "name": "Yes",
            "count": 4
           },
           {
            "name": "No",
            "count": 1
           }
          ]
         }
        },
        {
         "name": "SOComm",
         "dtype": "object",
         "stats": {
          "unique_count": 3,
          "nan_count": 0,
          "categories": [
           {
            "name": "Yes, definitely",
            "count": 2
           },
           {
            "name": "Yes, somewhat",
            "count": 2
           },
           {
            "name": "No, not at all",
            "count": 1
           }
          ]
         }
        },
        {
         "name": "SOPartFreq",
         "dtype": "object",
         "stats": {
          "unique_count": 2,
          "nan_count": 1,
          "categories": [
           {
            "name": "Less than once per month or monthly",
            "count": 2
           },
           {
            "name": "A few times per month or weekly",
            "count": 2
           },
           {
            "name": "Missing",
            "count": 1
           }
          ]
         }
        },
        {
         "name": "SOVisitFreq",
         "dtype": "object",
         "stats": {
          "unique_count": 3,
          "nan_count": 0,
          "categories": [
           {
            "name": "Multiple times per day",
            "count": 3
           },
           {
            "name": "Daily or almost daily",
            "count": 1
           },
           {
            "name": "A few times per month or weekly",
            "count": 1
           }
          ]
         }
        },
        {
         "name": "SurveyEase",
         "dtype": "object",
         "stats": {
          "unique_count": 2,
          "nan_count": 2,
          "categories": [
           {
            "name": "Neither easy nor difficult",
            "count": 2
           },
           {
            "name": "Easy",
            "count": 1
           },
           {
            "name": "Missing",
            "count": 2
           }
          ]
         }
        },
        {
         "name": "SurveyLength",
         "dtype": "object",
         "stats": {
          "unique_count": 2,
          "nan_count": 2,
          "categories": [
           {
            "name": "Appropriate in length",
            "count": 2
           },
           {
            "name": "Too short",
            "count": 1
           },
           {
            "name": "Missing",
            "count": 2
           }
          ]
         }
        },
        {
         "name": "Trans",
         "dtype": "object",
         "stats": {
          "unique_count": 1,
          "nan_count": 2,
          "categories": [
           {
            "name": "No",
            "count": 3
           },
           {
            "name": "Missing",
            "count": 2
           }
          ]
         }
        },
        {
         "name": "UndergradMajor",
         "dtype": "object",
         "stats": {
          "unique_count": 1,
          "nan_count": 1,
          "categories": [
           {
            "name": "Computer science, computer engineering, or software engineering",
            "count": 4
           },
           {
            "name": "Missing",
            "count": 1
           }
          ]
         }
        },
        {
         "name": "WebframeDesireNextYear",
         "dtype": "object",
         "stats": {
          "unique_count": 2,
          "nan_count": 3,
          "categories": [
           {
            "name": "ASP.NET Core",
            "count": 1
           },
           {
            "name": "Django;Ruby on Rails",
            "count": 1
           },
           {
            "name": "Missing",
            "count": 3
           }
          ]
         }
        },
        {
         "name": "WebframeWorkedWith",
         "dtype": "object",
         "stats": {
          "unique_count": 2,
          "nan_count": 3,
          "categories": [
           {
            "name": "ASP.NET;ASP.NET Core",
            "count": 1
           },
           {
            "name": "Ruby on Rails",
            "count": 1
           },
           {
            "name": "Missing",
            "count": 3
           }
          ]
         }
        },
        {
         "name": "WelcomeChange",
         "dtype": "object",
         "stats": {
          "unique_count": 3,
          "nan_count": 0,
          "categories": [
           {
            "name": "Just as welcome now as I felt last year",
            "count": 2
           },
           {
            "name": "Somewhat more welcome now than last year",
            "count": 2
           },
           {
            "name": "Somewhat less welcome now than last year",
            "count": 1
           }
          ]
         }
        },
        {
         "name": "WorkWeekHrs",
         "dtype": "float64",
         "stats": {
          "unique_count": 2,
          "nan_count": 3,
          "min": "40.0",
          "max": "50.0",
          "histogram": [
           {
            "bin_start": 40,
            "bin_end": 41,
            "count": 1
           },
           {
            "bin_start": 41,
            "bin_end": 42,
            "count": 0
           },
           {
            "bin_start": 42,
            "bin_end": 43,
            "count": 0
           },
           {
            "bin_start": 43,
            "bin_end": 44,
            "count": 0
           },
           {
            "bin_start": 44,
            "bin_end": 45,
            "count": 0
           },
           {
            "bin_start": 45,
            "bin_end": 46,
            "count": 0
           },
           {
            "bin_start": 46,
            "bin_end": 47,
            "count": 0
           },
           {
            "bin_start": 47,
            "bin_end": 48,
            "count": 0
           },
           {
            "bin_start": 48,
            "bin_end": 49,
            "count": 0
           },
           {
            "bin_start": 49,
            "bin_end": 50,
            "count": 1
           }
          ]
         }
        },
        {
         "name": "YearsCode",
         "dtype": "object",
         "stats": {
          "unique_count": 4,
          "nan_count": 0,
          "categories": [
           {
            "name": "7",
            "count": 2
           },
           {
            "name": "36",
            "count": 1
           },
           {
            "name": "2 others",
            "count": 2
           }
          ]
         }
        },
        {
         "name": "YearsCodePro",
         "dtype": "object",
         "stats": {
          "unique_count": 3,
          "nan_count": 1,
          "categories": [
           {
            "name": "4",
            "count": 2
           },
           {
            "name": "2 others",
            "count": 2
           },
           {
            "name": "Missing",
            "count": 1
           }
          ]
         }
        },
        {
         "name": "_deepnote_index_column",
         "dtype": "int64"
        }
       ],
       "rows": [
        {
         "MainBranch": "I am a developer by profession",
         "Hobbyist": "Yes",
         "Age": "nan",
         "Age1stCode": "13",
         "CompFreq": "Monthly",
         "CompTotal": "nan",
         "ConvertedComp": "nan",
         "Country": "Germany",
         "CurrencyDesc": "European Euro",
         "CurrencySymbol": "EUR",
         "DatabaseDesireNextYear": "Microsoft SQL Server",
         "DatabaseWorkedWith": "Elasticsearch;Microsoft SQL Server;Oracle",
         "DevType": "Developer, desktop or enterprise applications;Developer, full-stack",
         "EdLevel": "Master’s degree (M.A., M.S., M.Eng., MBA, etc.)",
         "Employment": "Independent contractor, freelancer, or self-employed",
         "Ethnicity": "White or of European descent",
         "Gender": "Man",
         "JobFactors": "Languages, frameworks, and other technologies I’d be working with;Remote work options;Opportunities for professional development",
         "JobSat": "Slightly satisfied",
         "JobSeek": "I am not interested in new job opportunities",
         "LanguageDesireNextYear": "C#;HTML/CSS;JavaScript",
         "LanguageWorkedWith": "C#;HTML/CSS;JavaScript",
         "MiscTechDesireNextYear": ".NET Core;Xamarin",
         "MiscTechWorkedWith": ".NET;.NET Core",
         "NEWCollabToolsDesireNextYear": "Microsoft Teams;Microsoft Azure;Trello",
         "NEWCollabToolsWorkedWith": "Confluence;Jira;Slack;Microsoft Azure;Trello",
         "NEWDevOps": "No",
         "NEWDevOpsImpt": "Somewhat important",
         "NEWEdImpt": "Fairly important",
         "NEWJobHunt": "nan",
         "NEWJobHuntResearch": "nan",
         "NEWLearn": "Once a year",
         "NEWOffTopic": "Not sure",
         "NEWOnboardGood": "nan",
         "NEWOtherComms": "No",
         "NEWOvertime": "Often: 1-2 days per week or more",
         "NEWPurchaseResearch": "Start a free trial;Ask developers I know/work with",
         "NEWPurpleLink": "Amused",
         "NEWSOSites": "Stack Overflow (public Q&A for anyone who codes)",
         "NEWStuck": "Visit Stack Overflow;Go for a walk or other physical activity;Do other work and come back later",
         "OpSys": "Windows",
         "OrgSize": "2 to 9 employees",
         "PlatformDesireNextYear": "Android;iOS;Kubernetes;Microsoft Azure;Windows",
         "PlatformWorkedWith": "Windows",
         "PurchaseWhat": "nan",
         "Sexuality": "Straight / Heterosexual",
         "SOAccount": "No",
         "SOComm": "No, not at all",
         "SOPartFreq": "nan",
         "SOVisitFreq": "Multiple times per day",
         "SurveyEase": "Neither easy nor difficult",
         "SurveyLength": "Appropriate in length",
         "Trans": "No",
         "UndergradMajor": "Computer science, computer engineering, or software engineering",
         "WebframeDesireNextYear": "ASP.NET Core",
         "WebframeWorkedWith": "ASP.NET;ASP.NET Core",
         "WelcomeChange": "Just as welcome now as I felt last year",
         "WorkWeekHrs": 50,
         "YearsCode": "36",
         "YearsCodePro": "27",
         "_deepnote_index_column": 1
        },
        {
         "MainBranch": "I am a developer by profession",
         "Hobbyist": "No",
         "Age": "nan",
         "Age1stCode": "19",
         "CompFreq": "nan",
         "CompTotal": "nan",
         "ConvertedComp": "nan",
         "Country": "United Kingdom",
         "CurrencyDesc": "Pound sterling",
         "CurrencySymbol": "GBP",
         "DatabaseDesireNextYear": "nan",
         "DatabaseWorkedWith": "nan",
         "DevType": "Developer, full-stack;Developer, mobile",
         "EdLevel": "Bachelor’s degree (B.A., B.S., B.Eng., etc.)",
         "Employment": "Employed full-time",
         "Ethnicity": "nan",
         "Gender": "nan",
         "JobFactors": "nan",
         "JobSat": "Very dissatisfied",
         "JobSeek": "I am not interested in new job opportunities",
         "LanguageDesireNextYear": "Python;Swift",
         "LanguageWorkedWith": "JavaScript;Swift",
         "MiscTechDesireNextYear": "React Native;TensorFlow;Unity 3D",
         "MiscTechWorkedWith": "React Native",
         "NEWCollabToolsDesireNextYear": "Github;Slack",
         "NEWCollabToolsWorkedWith": "Confluence;Jira;Github;Gitlab;Slack",
         "NEWDevOps": "nan",
         "NEWDevOpsImpt": "nan",
         "NEWEdImpt": "Fairly important",
         "NEWJobHunt": "nan",
         "NEWJobHuntResearch": "nan",
         "NEWLearn": "Once a year",
         "NEWOffTopic": "Not sure",
         "NEWOnboardGood": "nan",
         "NEWOtherComms": "No",
         "NEWOvertime": "nan",
         "NEWPurchaseResearch": "nan",
         "NEWPurpleLink": "Amused",
         "NEWSOSites": "Stack Overflow (public Q&A for anyone who codes);Stack Exchange (public Q&A for a variety of topics);Stack Overflow Jobs (for job seekers)",
         "NEWStuck": "Visit Stack Overflow;Go for a walk or other physical activity",
         "OpSys": "MacOS",
         "OrgSize": "1,000 to 4,999 employees",
         "PlatformDesireNextYear": "iOS;Kubernetes;Linux;MacOS",
         "PlatformWorkedWith": "iOS",
         "PurchaseWhat": "I have little or no influence",
         "Sexuality": "nan",
         "SOAccount": "Yes",
         "SOComm": "Yes, definitely",
         "SOPartFreq": "Less than once per month or monthly",
         "SOVisitFreq": "Multiple times per day",
         "SurveyEase": "nan",
         "SurveyLength": "nan",
         "Trans": "nan",
         "UndergradMajor": "Computer science, computer engineering, or software engineering",
         "WebframeDesireNextYear": "nan",
         "WebframeWorkedWith": "nan",
         "WelcomeChange": "Somewhat more welcome now than last year",
         "WorkWeekHrs": "nan",
         "YearsCode": "7",
         "YearsCodePro": "4",
         "_deepnote_index_column": 2
        },
        {
         "MainBranch": "I code primarily as a hobby",
         "Hobbyist": "Yes",
         "Age": "nan",
         "Age1stCode": "15",
         "CompFreq": "nan",
         "CompTotal": "nan",
         "ConvertedComp": "nan",
         "Country": "Russian Federation",
         "CurrencyDesc": "nan",
         "CurrencySymbol": "nan",
         "DatabaseDesireNextYear": "nan",
         "DatabaseWorkedWith": "nan",
         "DevType": "nan",
         "EdLevel": "nan",
         "Employment": "nan",
         "Ethnicity": "nan",
         "Gender": "nan",
         "JobFactors": "nan",
         "JobSat": "nan",
         "JobSeek": "nan",
         "LanguageDesireNextYear": "Objective-C;Python;Swift",
         "LanguageWorkedWith": "Objective-C;Python;Swift",
         "MiscTechDesireNextYear": "nan",
         "MiscTechWorkedWith": "nan",
         "NEWCollabToolsDesireNextYear": "nan",
         "NEWCollabToolsWorkedWith": "nan",
         "NEWDevOps": "nan",
         "NEWDevOpsImpt": "nan",
         "NEWEdImpt": "nan",
         "NEWJobHunt": "nan",
         "NEWJobHuntResearch": "nan",
         "NEWLearn": "Once a decade",
         "NEWOffTopic": "nan",
         "NEWOnboardGood": "nan",
         "NEWOtherComms": "No",
         "NEWOvertime": "nan",
         "NEWPurchaseResearch": "nan",
         "NEWPurpleLink": "nan",
         "NEWSOSites": "Stack Overflow (public Q&A for anyone who codes)",
         "NEWStuck": "nan",
         "OpSys": "Linux-based",
         "OrgSize": "nan",
         "PlatformDesireNextYear": "nan",
         "PlatformWorkedWith": "nan",
         "PurchaseWhat": "nan",
         "Sexuality": "nan",
         "SOAccount": "Yes",
         "SOComm": "Yes, somewhat",
         "SOPartFreq": "A few times per month or weekly",
         "SOVisitFreq": "Daily or almost daily",
         "SurveyEase": "Neither easy nor difficult",
         "SurveyLength": "Appropriate in length",
         "Trans": "nan",
         "UndergradMajor": "nan",
         "WebframeDesireNextYear": "nan",
         "WebframeWorkedWith": "nan",
         "WelcomeChange": "Somewhat more welcome now than last year",
         "WorkWeekHrs": "nan",
         "YearsCode": "4",
         "YearsCodePro": "nan",
         "_deepnote_index_column": 3
        },
        {
         "MainBranch": "I am a developer by profession",
         "Hobbyist": "Yes",
         "Age": 25,
         "Age1stCode": "18",
         "CompFreq": "nan",
         "CompTotal": "nan",
         "ConvertedComp": "nan",
         "Country": "Albania",
         "CurrencyDesc": "Albanian lek",
         "CurrencySymbol": "ALL",
         "DatabaseDesireNextYear": "nan",
         "DatabaseWorkedWith": "nan",
         "DevType": "nan",
         "EdLevel": "Master’s degree (M.A., M.S., M.Eng., MBA, etc.)",
         "Employment": "nan",
         "Ethnicity": "White or of European descent",
         "Gender": "Man",
         "JobFactors": "Flex time or a flexible schedule;Office environment or company culture;Opportunities for professional development",
         "JobSat": "Slightly dissatisfied",
         "JobSeek": "I’m not actively looking, but I am open to new opportunities",
         "LanguageDesireNextYear": "nan",
         "LanguageWorkedWith": "nan",
         "MiscTechDesireNextYear": "nan",
         "MiscTechWorkedWith": "nan",
         "NEWCollabToolsDesireNextYear": "nan",
         "NEWCollabToolsWorkedWith": "nan",
         "NEWDevOps": "No",
         "NEWDevOpsImpt": "nan",
         "NEWEdImpt": "Not at all important/not necessary",
         "NEWJobHunt": "Curious about other opportunities;Wanting to work with new technologies",
         "NEWJobHuntResearch": "nan",
         "NEWLearn": "Once a year",
         "NEWOffTopic": "Not sure",
         "NEWOnboardGood": "Yes",
         "NEWOtherComms": "Yes",
         "NEWOvertime": "Occasionally: 1-2 days per quarter but less than monthly",
         "NEWPurchaseResearch": "nan",
         "NEWPurpleLink": "nan",
         "NEWSOSites": "Stack Overflow (public Q&A for anyone who codes);Stack Exchange (public Q&A for a variety of topics);Stack Overflow Jobs (for job seekers)",
         "NEWStuck": "nan",
         "OpSys": "Linux-based",
         "OrgSize": "20 to 99 employees",
         "PlatformDesireNextYear": "nan",
         "PlatformWorkedWith": "nan",
         "PurchaseWhat": "I have a great deal of influence",
         "Sexuality": "Straight / Heterosexual",
         "SOAccount": "Yes",
         "SOComm": "Yes, definitely",
         "SOPartFreq": "A few times per month or weekly",
         "SOVisitFreq": "Multiple times per day",
         "SurveyEase": "nan",
         "SurveyLength": "nan",
         "Trans": "No",
         "UndergradMajor": "Computer science, computer engineering, or software engineering",
         "WebframeDesireNextYear": "nan",
         "WebframeWorkedWith": "nan",
         "WelcomeChange": "Somewhat less welcome now than last year",
         "WorkWeekHrs": 40,
         "YearsCode": "7",
         "YearsCodePro": "4",
         "_deepnote_index_column": 4
        },
        {
         "MainBranch": "I used to be a developer by profession, but no longer am",
         "Hobbyist": "Yes",
         "Age": 31,
         "Age1stCode": "16",
         "CompFreq": "nan",
         "CompTotal": "nan",
         "ConvertedComp": "nan",
         "Country": "United States",
         "CurrencyDesc": "nan",
         "CurrencySymbol": "nan",
         "DatabaseDesireNextYear": "MySQL;PostgreSQL",
         "DatabaseWorkedWith": "MySQL;PostgreSQL;Redis;SQLite",
         "DevType": "nan",
         "EdLevel": "Bachelor’s degree (B.A., B.S., B.Eng., etc.)",
         "Employment": "Employed full-time",
         "Ethnicity": "White or of European descent",
         "Gender": "Man",
         "JobFactors": "nan",
         "JobSat": "nan",
         "JobSeek": "nan",
         "LanguageDesireNextYear": "Java;Ruby;Scala",
         "LanguageWorkedWith": "HTML/CSS;Ruby;SQL",
         "MiscTechDesireNextYear": "Ansible;Chef",
         "MiscTechWorkedWith": "Ansible",
         "NEWCollabToolsDesireNextYear": "Github;Google Suite (Docs, Meet, etc)",
         "NEWCollabToolsWorkedWith": "Confluence;Jira;Github;Slack;Google Suite (Docs, Meet, etc)",
         "NEWDevOps": "nan",
         "NEWDevOpsImpt": "nan",
         "NEWEdImpt": "Very important",
         "NEWJobHunt": "nan",
         "NEWJobHuntResearch": "nan",
         "NEWLearn": "Once a year",
         "NEWOffTopic": "No",
         "NEWOnboardGood": "nan",
         "NEWOtherComms": "Yes",
         "NEWOvertime": "nan",
         "NEWPurchaseResearch": "Start a free trial;Ask developers I know/work with;Visit developer communities like Stack Overflow;Read ratings or reviews on third party sites like G2Crowd;Research companies that have advertised on sites I visit",
         "NEWPurpleLink": "Hello, old friend",
         "NEWSOSites": "Stack Overflow (public Q&A for anyone who codes);Stack Exchange (public Q&A for a variety of topics);Stack Overflow Jobs (for job seekers);Stack Overflow for Teams (private Q&A for organizations);Stack Overflow Talent (for hiring companies/recruiters)",
         "NEWStuck": "Call a coworker or friend;Visit Stack Overflow;Watch help / tutorial videos;Do other work and come back later;Visit another developer community (please name):",
         "OpSys": "Windows",
         "OrgSize": "nan",
         "PlatformDesireNextYear": "Docker;Google Cloud Platform;Heroku;Linux;Windows",
         "PlatformWorkedWith": "AWS;Docker;Linux;MacOS;Windows",
         "PurchaseWhat": "nan",
         "Sexuality": "Straight / Heterosexual",
         "SOAccount": "Yes",
         "SOComm": "Yes, somewhat",
         "SOPartFreq": "Less than once per month or monthly",
         "SOVisitFreq": "A few times per month or weekly",
         "SurveyEase": "Easy",
         "SurveyLength": "Too short",
         "Trans": "No",
         "UndergradMajor": "Computer science, computer engineering, or software engineering",
         "WebframeDesireNextYear": "Django;Ruby on Rails",
         "WebframeWorkedWith": "Ruby on Rails",
         "WelcomeChange": "Just as welcome now as I felt last year",
         "WorkWeekHrs": "nan",
         "YearsCode": "15",
         "YearsCodePro": "8",
         "_deepnote_index_column": 5
        }
       ]
      },
      "text/plain": "                                                   MainBranch Hobbyist   Age  \\\nRespondent                                                                     \n1                              I am a developer by profession      Yes   NaN   \n2                              I am a developer by profession       No   NaN   \n3                                 I code primarily as a hobby      Yes   NaN   \n4                              I am a developer by profession      Yes  25.0   \n5           I used to be a developer by profession, but no...      Yes  31.0   \n\n           Age1stCode CompFreq  CompTotal  ConvertedComp             Country  \\\nRespondent                                                                     \n1                  13  Monthly        NaN            NaN             Germany   \n2                  19      NaN        NaN            NaN      United Kingdom   \n3                  15      NaN        NaN            NaN  Russian Federation   \n4                  18      NaN        NaN            NaN             Albania   \n5                  16      NaN        NaN            NaN       United States   \n\n              CurrencyDesc CurrencySymbol DatabaseDesireNextYear  \\\nRespondent                                                         \n1            European Euro            EUR   Microsoft SQL Server   \n2           Pound sterling            GBP                    NaN   \n3                      NaN            NaN                    NaN   \n4             Albanian lek            ALL                    NaN   \n5                      NaN            NaN       MySQL;PostgreSQL   \n\n                                   DatabaseWorkedWith  \\\nRespondent                                              \n1           Elasticsearch;Microsoft SQL Server;Oracle   \n2                                                 NaN   \n3                                                 NaN   \n4                                                 NaN   \n5                       MySQL;PostgreSQL;Redis;SQLite   \n\n                                                      DevType  \\\nRespondent                                                      \n1           Developer, desktop or enterprise applications;...   \n2                     Developer, full-stack;Developer, mobile   \n3                                                         NaN   \n4                                                         NaN   \n5                                                         NaN   \n\n                                                    EdLevel  \\\nRespondent                                                    \n1           Master’s degree (M.A., M.S., M.Eng., MBA, etc.)   \n2              Bachelor’s degree (B.A., B.S., B.Eng., etc.)   \n3                                                       NaN   \n4           Master’s degree (M.A., M.S., M.Eng., MBA, etc.)   \n5              Bachelor’s degree (B.A., B.S., B.Eng., etc.)   \n\n                                                   Employment  \\\nRespondent                                                      \n1           Independent contractor, freelancer, or self-em...   \n2                                          Employed full-time   \n3                                                         NaN   \n4                                                         NaN   \n5                                          Employed full-time   \n\n                               Ethnicity Gender  \\\nRespondent                                        \n1           White or of European descent    Man   \n2                                    NaN    NaN   \n3                                    NaN    NaN   \n4           White or of European descent    Man   \n5           White or of European descent    Man   \n\n                                                   JobFactors  \\\nRespondent                                                      \n1           Languages, frameworks, and other technologies ...   \n2                                                         NaN   \n3                                                         NaN   \n4           Flex time or a flexible schedule;Office enviro...   \n5                                                         NaN   \n\n                           JobSat  \\\nRespondent                          \n1              Slightly satisfied   \n2               Very dissatisfied   \n3                             NaN   \n4           Slightly dissatisfied   \n5                             NaN   \n\n                                                      JobSeek  \\\nRespondent                                                      \n1                I am not interested in new job opportunities   \n2                I am not interested in new job opportunities   \n3                                                         NaN   \n4           I’m not actively looking, but I am open to new...   \n5                                                         NaN   \n\n              LanguageDesireNextYear        LanguageWorkedWith  \\\nRespondent                                                       \n1             C#;HTML/CSS;JavaScript    C#;HTML/CSS;JavaScript   \n2                       Python;Swift          JavaScript;Swift   \n3           Objective-C;Python;Swift  Objective-C;Python;Swift   \n4                                NaN                       NaN   \n5                    Java;Ruby;Scala         HTML/CSS;Ruby;SQL   \n\n                      MiscTechDesireNextYear MiscTechWorkedWith  \\\nRespondent                                                        \n1                          .NET Core;Xamarin     .NET;.NET Core   \n2           React Native;TensorFlow;Unity 3D       React Native   \n3                                        NaN                NaN   \n4                                        NaN                NaN   \n5                               Ansible;Chef            Ansible   \n\n                      NEWCollabToolsDesireNextYear  \\\nRespondent                                           \n1           Microsoft Teams;Microsoft Azure;Trello   \n2                                     Github;Slack   \n3                                              NaN   \n4                                              NaN   \n5            Github;Google Suite (Docs, Meet, etc)   \n\n                                     NEWCollabToolsWorkedWith NEWDevOps  \\\nRespondent                                                                \n1                Confluence;Jira;Slack;Microsoft Azure;Trello        No   \n2                         Confluence;Jira;Github;Gitlab;Slack       NaN   \n3                                                         NaN       NaN   \n4                                                         NaN        No   \n5           Confluence;Jira;Github;Slack;Google Suite (Doc...       NaN   \n\n                 NEWDevOpsImpt                           NEWEdImpt  \\\nRespondent                                                           \n1           Somewhat important                    Fairly important   \n2                          NaN                    Fairly important   \n3                          NaN                                 NaN   \n4                          NaN  Not at all important/not necessary   \n5                          NaN                      Very important   \n\n                                                   NEWJobHunt  \\\nRespondent                                                      \n1                                                         NaN   \n2                                                         NaN   \n3                                                         NaN   \n4           Curious about other opportunities;Wanting to w...   \n5                                                         NaN   \n\n           NEWJobHuntResearch       NEWLearn NEWOffTopic NEWOnboardGood  \\\nRespondent                                                                \n1                         NaN    Once a year    Not sure            NaN   \n2                         NaN    Once a year    Not sure            NaN   \n3                         NaN  Once a decade         NaN            NaN   \n4                         NaN    Once a year    Not sure            Yes   \n5                         NaN    Once a year          No            NaN   \n\n           NEWOtherComms                                        NEWOvertime  \\\nRespondent                                                                    \n1                     No                   Often: 1-2 days per week or more   \n2                     No                                                NaN   \n3                     No                                                NaN   \n4                    Yes  Occasionally: 1-2 days per quarter but less th...   \n5                    Yes                                                NaN   \n\n                                          NEWPurchaseResearch  \\\nRespondent                                                      \n1           Start a free trial;Ask developers I know/work ...   \n2                                                         NaN   \n3                                                         NaN   \n4                                                         NaN   \n5           Start a free trial;Ask developers I know/work ...   \n\n                NEWPurpleLink  \\\nRespondent                      \n1                      Amused   \n2                      Amused   \n3                         NaN   \n4                         NaN   \n5           Hello, old friend   \n\n                                                   NEWSOSites  \\\nRespondent                                                      \n1            Stack Overflow (public Q&A for anyone who codes)   \n2           Stack Overflow (public Q&A for anyone who code...   \n3            Stack Overflow (public Q&A for anyone who codes)   \n4           Stack Overflow (public Q&A for anyone who code...   \n5           Stack Overflow (public Q&A for anyone who code...   \n\n                                                     NEWStuck        OpSys  \\\nRespondent                                                                   \n1           Visit Stack Overflow;Go for a walk or other ph...      Windows   \n2           Visit Stack Overflow;Go for a walk or other ph...        MacOS   \n3                                                         NaN  Linux-based   \n4                                                         NaN  Linux-based   \n5           Call a coworker or friend;Visit Stack Overflow...      Windows   \n\n                             OrgSize  \\\nRespondent                             \n1                   2 to 9 employees   \n2           1,000 to 4,999 employees   \n3                                NaN   \n4                 20 to 99 employees   \n5                                NaN   \n\n                                       PlatformDesireNextYear  \\\nRespondent                                                      \n1              Android;iOS;Kubernetes;Microsoft Azure;Windows   \n2                                  iOS;Kubernetes;Linux;MacOS   \n3                                                         NaN   \n4                                                         NaN   \n5           Docker;Google Cloud Platform;Heroku;Linux;Windows   \n\n                        PlatformWorkedWith                      PurchaseWhat  \\\nRespondent                                                                     \n1                                  Windows                               NaN   \n2                                      iOS     I have little or no influence   \n3                                      NaN                               NaN   \n4                                      NaN  I have a great deal of influence   \n5           AWS;Docker;Linux;MacOS;Windows                               NaN   \n\n                          Sexuality SOAccount           SOComm  \\\nRespondent                                                       \n1           Straight / Heterosexual        No   No, not at all   \n2                               NaN       Yes  Yes, definitely   \n3                               NaN       Yes    Yes, somewhat   \n4           Straight / Heterosexual       Yes  Yes, definitely   \n5           Straight / Heterosexual       Yes    Yes, somewhat   \n\n                                     SOPartFreq  \\\nRespondent                                        \n1                                           NaN   \n2           Less than once per month or monthly   \n3               A few times per month or weekly   \n4               A few times per month or weekly   \n5           Less than once per month or monthly   \n\n                                SOVisitFreq                  SurveyEase  \\\nRespondent                                                                \n1                    Multiple times per day  Neither easy nor difficult   \n2                    Multiple times per day                         NaN   \n3                     Daily or almost daily  Neither easy nor difficult   \n4                    Multiple times per day                         NaN   \n5           A few times per month or weekly                        Easy   \n\n                     SurveyLength Trans  \\\nRespondent                                \n1           Appropriate in length    No   \n2                             NaN   NaN   \n3           Appropriate in length   NaN   \n4                             NaN    No   \n5                       Too short    No   \n\n                                               UndergradMajor  \\\nRespondent                                                      \n1           Computer science, computer engineering, or sof...   \n2           Computer science, computer engineering, or sof...   \n3                                                         NaN   \n4           Computer science, computer engineering, or sof...   \n5           Computer science, computer engineering, or sof...   \n\n           WebframeDesireNextYear    WebframeWorkedWith  \\\nRespondent                                                \n1                    ASP.NET Core  ASP.NET;ASP.NET Core   \n2                             NaN                   NaN   \n3                             NaN                   NaN   \n4                             NaN                   NaN   \n5            Django;Ruby on Rails         Ruby on Rails   \n\n                                       WelcomeChange  WorkWeekHrs YearsCode  \\\nRespondent                                                                    \n1            Just as welcome now as I felt last year         50.0        36   \n2           Somewhat more welcome now than last year          NaN         7   \n3           Somewhat more welcome now than last year          NaN         4   \n4           Somewhat less welcome now than last year         40.0         7   \n5            Just as welcome now as I felt last year          NaN        15   \n\n           YearsCodePro  \nRespondent               \n1                    27  \n2                     4  \n3                   NaN  \n4                     4  \n5                     8  ",
      "text/html": "<div>\n<style scoped>\n    .dataframe tbody tr th:only-of-type {\n        vertical-align: middle;\n    }\n\n    .dataframe tbody tr th {\n        vertical-align: top;\n    }\n\n    .dataframe thead th {\n        text-align: right;\n    }\n</style>\n<table border=\"1\" class=\"dataframe\">\n  <thead>\n    <tr style=\"text-align: right;\">\n      <th></th>\n      <th>MainBranch</th>\n      <th>Hobbyist</th>\n      <th>Age</th>\n      <th>Age1stCode</th>\n      <th>CompFreq</th>\n      <th>CompTotal</th>\n      <th>ConvertedComp</th>\n      <th>Country</th>\n      <th>CurrencyDesc</th>\n      <th>CurrencySymbol</th>\n      <th>DatabaseDesireNextYear</th>\n      <th>DatabaseWorkedWith</th>\n      <th>DevType</th>\n      <th>EdLevel</th>\n      <th>Employment</th>\n      <th>Ethnicity</th>\n      <th>Gender</th>\n      <th>JobFactors</th>\n      <th>JobSat</th>\n      <th>JobSeek</th>\n      <th>LanguageDesireNextYear</th>\n      <th>LanguageWorkedWith</th>\n      <th>MiscTechDesireNextYear</th>\n      <th>MiscTechWorkedWith</th>\n      <th>NEWCollabToolsDesireNextYear</th>\n      <th>NEWCollabToolsWorkedWith</th>\n      <th>NEWDevOps</th>\n      <th>NEWDevOpsImpt</th>\n      <th>NEWEdImpt</th>\n      <th>NEWJobHunt</th>\n      <th>NEWJobHuntResearch</th>\n      <th>NEWLearn</th>\n      <th>NEWOffTopic</th>\n      <th>NEWOnboardGood</th>\n      <th>NEWOtherComms</th>\n      <th>NEWOvertime</th>\n      <th>NEWPurchaseResearch</th>\n      <th>NEWPurpleLink</th>\n      <th>NEWSOSites</th>\n      <th>NEWStuck</th>\n      <th>OpSys</th>\n      <th>OrgSize</th>\n      <th>PlatformDesireNextYear</th>\n      <th>PlatformWorkedWith</th>\n      <th>PurchaseWhat</th>\n      <th>Sexuality</th>\n      <th>SOAccount</th>\n      <th>SOComm</th>\n      <th>SOPartFreq</th>\n      <th>SOVisitFreq</th>\n      <th>SurveyEase</th>\n      <th>SurveyLength</th>\n      <th>Trans</th>\n      <th>UndergradMajor</th>\n      <th>WebframeDesireNextYear</th>\n      <th>WebframeWorkedWith</th>\n      <th>WelcomeChange</th>\n      <th>WorkWeekHrs</th>\n      <th>YearsCode</th>\n      <th>YearsCodePro</th>\n    </tr>\n    <tr>\n      <th>Respondent</th>\n      <th></th>\n      <th></th>\n      <th></th>\n      <th></th>\n      <th></th>\n      <th></th>\n      <th></th>\n      <th></th>\n      <th></th>\n      <th></th>\n      <th></th>\n      <th></th>\n      <th></th>\n      <th></th>\n      <th></th>\n      <th></th>\n      <th></th>\n      <th></th>\n      <th></th>\n      <th></th>\n      <th></th>\n      <th></th>\n      <th></th>\n      <th></th>\n      <th></th>\n      <th></th>\n      <th></th>\n      <th></th>\n      <th></th>\n      <th></th>\n      <th></th>\n      <th></th>\n      <th></th>\n      <th></th>\n      <th></th>\n      <th></th>\n      <th></th>\n      <th></th>\n      <th></th>\n      <th></th>\n      <th></th>\n      <th></th>\n      <th></th>\n      <th></th>\n      <th></th>\n      <th></th>\n      <th></th>\n      <th></th>\n      <th></th>\n      <th></th>\n      <th></th>\n      <th></th>\n      <th></th>\n      <th></th>\n      <th></th>\n      <th></th>\n      <th></th>\n      <th></th>\n      <th></th>\n      <th></th>\n    </tr>\n  </thead>\n  <tbody>\n    <tr>\n      <th>1</th>\n      <td>I am a developer by profession</td>\n      <td>Yes</td>\n      <td>NaN</td>\n      <td>13</td>\n      <td>Monthly</td>\n      <td>NaN</td>\n      <td>NaN</td>\n      <td>Germany</td>\n      <td>European Euro</td>\n      <td>EUR</td>\n      <td>Microsoft SQL Server</td>\n      <td>Elasticsearch;Microsoft SQL Server;Oracle</td>\n      <td>Developer, desktop or enterprise applications;...</td>\n      <td>Master’s degree (M.A., M.S., M.Eng., MBA, etc.)</td>\n      <td>Independent contractor, freelancer, or self-em...</td>\n      <td>White or of European descent</td>\n      <td>Man</td>\n      <td>Languages, frameworks, and other technologies ...</td>\n      <td>Slightly satisfied</td>\n      <td>I am not interested in new job opportunities</td>\n      <td>C#;HTML/CSS;JavaScript</td>\n      <td>C#;HTML/CSS;JavaScript</td>\n      <td>.NET Core;Xamarin</td>\n      <td>.NET;.NET Core</td>\n      <td>Microsoft Teams;Microsoft Azure;Trello</td>\n      <td>Confluence;Jira;Slack;Microsoft Azure;Trello</td>\n      <td>No</td>\n      <td>Somewhat important</td>\n      <td>Fairly important</td>\n      <td>NaN</td>\n      <td>NaN</td>\n      <td>Once a year</td>\n      <td>Not sure</td>\n      <td>NaN</td>\n      <td>No</td>\n      <td>Often: 1-2 days per week or more</td>\n      <td>Start a free trial;Ask developers I know/work ...</td>\n      <td>Amused</td>\n      <td>Stack Overflow (public Q&amp;A for anyone who codes)</td>\n      <td>Visit Stack Overflow;Go for a walk or other ph...</td>\n      <td>Windows</td>\n      <td>2 to 9 employees</td>\n      <td>Android;iOS;Kubernetes;Microsoft Azure;Windows</td>\n      <td>Windows</td>\n      <td>NaN</td>\n      <td>Straight / Heterosexual</td>\n      <td>No</td>\n      <td>No, not at all</td>\n      <td>NaN</td>\n      <td>Multiple times per day</td>\n      <td>Neither easy nor difficult</td>\n      <td>Appropriate in length</td>\n      <td>No</td>\n      <td>Computer science, computer engineering, or sof...</td>\n      <td>ASP.NET Core</td>\n      <td>ASP.NET;ASP.NET Core</td>\n      <td>Just as welcome now as I felt last year</td>\n      <td>50.0</td>\n      <td>36</td>\n      <td>27</td>\n    </tr>\n    <tr>\n      <th>2</th>\n      <td>I am a developer by profession</td>\n      <td>No</td>\n      <td>NaN</td>\n      <td>19</td>\n      <td>NaN</td>\n      <td>NaN</td>\n      <td>NaN</td>\n      <td>United Kingdom</td>\n      <td>Pound sterling</td>\n      <td>GBP</td>\n      <td>NaN</td>\n      <td>NaN</td>\n      <td>Developer, full-stack;Developer, mobile</td>\n      <td>Bachelor’s degree (B.A., B.S., B.Eng., etc.)</td>\n      <td>Employed full-time</td>\n      <td>NaN</td>\n      <td>NaN</td>\n      <td>NaN</td>\n      <td>Very dissatisfied</td>\n      <td>I am not interested in new job opportunities</td>\n      <td>Python;Swift</td>\n      <td>JavaScript;Swift</td>\n      <td>React Native;TensorFlow;Unity 3D</td>\n      <td>React Native</td>\n      <td>Github;Slack</td>\n      <td>Confluence;Jira;Github;Gitlab;Slack</td>\n      <td>NaN</td>\n      <td>NaN</td>\n      <td>Fairly important</td>\n      <td>NaN</td>\n      <td>NaN</td>\n      <td>Once a year</td>\n      <td>Not sure</td>\n      <td>NaN</td>\n      <td>No</td>\n      <td>NaN</td>\n      <td>NaN</td>\n      <td>Amused</td>\n      <td>Stack Overflow (public Q&amp;A for anyone who code...</td>\n      <td>Visit Stack Overflow;Go for a walk or other ph...</td>\n      <td>MacOS</td>\n      <td>1,000 to 4,999 employees</td>\n      <td>iOS;Kubernetes;Linux;MacOS</td>\n      <td>iOS</td>\n      <td>I have little or no influence</td>\n      <td>NaN</td>\n      <td>Yes</td>\n      <td>Yes, definitely</td>\n      <td>Less than once per month or monthly</td>\n      <td>Multiple times per day</td>\n      <td>NaN</td>\n      <td>NaN</td>\n      <td>NaN</td>\n      <td>Computer science, computer engineering, or sof...</td>\n      <td>NaN</td>\n      <td>NaN</td>\n      <td>Somewhat more welcome now than last year</td>\n      <td>NaN</td>\n      <td>7</td>\n      <td>4</td>\n    </tr>\n    <tr>\n      <th>3</th>\n      <td>I code primarily as a hobby</td>\n      <td>Yes</td>\n      <td>NaN</td>\n      <td>15</td>\n      <td>NaN</td>\n      <td>NaN</td>\n      <td>NaN</td>\n      <td>Russian Federation</td>\n      <td>NaN</td>\n      <td>NaN</td>\n      <td>NaN</td>\n      <td>NaN</td>\n      <td>NaN</td>\n      <td>NaN</td>\n      <td>NaN</td>\n      <td>NaN</td>\n      <td>NaN</td>\n      <td>NaN</td>\n      <td>NaN</td>\n      <td>NaN</td>\n      <td>Objective-C;Python;Swift</td>\n      <td>Objective-C;Python;Swift</td>\n      <td>NaN</td>\n      <td>NaN</td>\n      <td>NaN</td>\n      <td>NaN</td>\n      <td>NaN</td>\n      <td>NaN</td>\n      <td>NaN</td>\n      <td>NaN</td>\n      <td>NaN</td>\n      <td>Once a decade</td>\n      <td>NaN</td>\n      <td>NaN</td>\n      <td>No</td>\n      <td>NaN</td>\n      <td>NaN</td>\n      <td>NaN</td>\n      <td>Stack Overflow (public Q&amp;A for anyone who codes)</td>\n      <td>NaN</td>\n      <td>Linux-based</td>\n      <td>NaN</td>\n      <td>NaN</td>\n      <td>NaN</td>\n      <td>NaN</td>\n      <td>NaN</td>\n      <td>Yes</td>\n      <td>Yes, somewhat</td>\n      <td>A few times per month or weekly</td>\n      <td>Daily or almost daily</td>\n      <td>Neither easy nor difficult</td>\n      <td>Appropriate in length</td>\n      <td>NaN</td>\n      <td>NaN</td>\n      <td>NaN</td>\n      <td>NaN</td>\n      <td>Somewhat more welcome now than last year</td>\n      <td>NaN</td>\n      <td>4</td>\n      <td>NaN</td>\n    </tr>\n    <tr>\n      <th>4</th>\n      <td>I am a developer by profession</td>\n      <td>Yes</td>\n      <td>25.0</td>\n      <td>18</td>\n      <td>NaN</td>\n      <td>NaN</td>\n      <td>NaN</td>\n      <td>Albania</td>\n      <td>Albanian lek</td>\n      <td>ALL</td>\n      <td>NaN</td>\n      <td>NaN</td>\n      <td>NaN</td>\n      <td>Master’s degree (M.A., M.S., M.Eng., MBA, etc.)</td>\n      <td>NaN</td>\n      <td>White or of European descent</td>\n      <td>Man</td>\n      <td>Flex time or a flexible schedule;Office enviro...</td>\n      <td>Slightly dissatisfied</td>\n      <td>I’m not actively looking, but I am open to new...</td>\n      <td>NaN</td>\n      <td>NaN</td>\n      <td>NaN</td>\n      <td>NaN</td>\n      <td>NaN</td>\n      <td>NaN</td>\n      <td>No</td>\n      <td>NaN</td>\n      <td>Not at all important/not necessary</td>\n      <td>Curious about other opportunities;Wanting to w...</td>\n      <td>NaN</td>\n      <td>Once a year</td>\n      <td>Not sure</td>\n      <td>Yes</td>\n      <td>Yes</td>\n      <td>Occasionally: 1-2 days per quarter but less th...</td>\n      <td>NaN</td>\n      <td>NaN</td>\n      <td>Stack Overflow (public Q&amp;A for anyone who code...</td>\n      <td>NaN</td>\n      <td>Linux-based</td>\n      <td>20 to 99 employees</td>\n      <td>NaN</td>\n      <td>NaN</td>\n      <td>I have a great deal of influence</td>\n      <td>Straight / Heterosexual</td>\n      <td>Yes</td>\n      <td>Yes, definitely</td>\n      <td>A few times per month or weekly</td>\n      <td>Multiple times per day</td>\n      <td>NaN</td>\n      <td>NaN</td>\n      <td>No</td>\n      <td>Computer science, computer engineering, or sof...</td>\n      <td>NaN</td>\n      <td>NaN</td>\n      <td>Somewhat less welcome now than last year</td>\n      <td>40.0</td>\n      <td>7</td>\n      <td>4</td>\n    </tr>\n    <tr>\n      <th>5</th>\n      <td>I used to be a developer by profession, but no...</td>\n      <td>Yes</td>\n      <td>31.0</td>\n      <td>16</td>\n      <td>NaN</td>\n      <td>NaN</td>\n      <td>NaN</td>\n      <td>United States</td>\n      <td>NaN</td>\n      <td>NaN</td>\n      <td>MySQL;PostgreSQL</td>\n      <td>MySQL;PostgreSQL;Redis;SQLite</td>\n      <td>NaN</td>\n      <td>Bachelor’s degree (B.A., B.S., B.Eng., etc.)</td>\n      <td>Employed full-time</td>\n      <td>White or of European descent</td>\n      <td>Man</td>\n      <td>NaN</td>\n      <td>NaN</td>\n      <td>NaN</td>\n      <td>Java;Ruby;Scala</td>\n      <td>HTML/CSS;Ruby;SQL</td>\n      <td>Ansible;Chef</td>\n      <td>Ansible</td>\n      <td>Github;Google Suite (Docs, Meet, etc)</td>\n      <td>Confluence;Jira;Github;Slack;Google Suite (Doc...</td>\n      <td>NaN</td>\n      <td>NaN</td>\n      <td>Very important</td>\n      <td>NaN</td>\n      <td>NaN</td>\n      <td>Once a year</td>\n      <td>No</td>\n      <td>NaN</td>\n      <td>Yes</td>\n      <td>NaN</td>\n      <td>Start a free trial;Ask developers I know/work ...</td>\n      <td>Hello, old friend</td>\n      <td>Stack Overflow (public Q&amp;A for anyone who code...</td>\n      <td>Call a coworker or friend;Visit Stack Overflow...</td>\n      <td>Windows</td>\n      <td>NaN</td>\n      <td>Docker;Google Cloud Platform;Heroku;Linux;Windows</td>\n      <td>AWS;Docker;Linux;MacOS;Windows</td>\n      <td>NaN</td>\n      <td>Straight / Heterosexual</td>\n      <td>Yes</td>\n      <td>Yes, somewhat</td>\n      <td>Less than once per month or monthly</td>\n      <td>A few times per month or weekly</td>\n      <td>Easy</td>\n      <td>Too short</td>\n      <td>No</td>\n      <td>Computer science, computer engineering, or sof...</td>\n      <td>Django;Ruby on Rails</td>\n      <td>Ruby on Rails</td>\n      <td>Just as welcome now as I felt last year</td>\n      <td>NaN</td>\n      <td>15</td>\n      <td>8</td>\n    </tr>\n  </tbody>\n</table>\n</div>"
     },
     "metadata": {}
    }
   ]
  },
  {
   "cell_type": "code",
   "metadata": {
    "cell_id": "dcaea431f5734904a3921d1097a9fe0a",
    "tags": [],
    "deepnote_to_be_reexecuted": false,
    "source_hash": "4c715b31",
    "execution_start": 1657885424356,
    "execution_millis": 237,
    "deepnote_cell_type": "code",
    "deepnote_cell_height": 425.1875,
    "deepnote_output_heights": [
     328.1875
    ]
   },
   "source": "data['ConvertedComp'].head(15)",
   "execution_count": null,
   "outputs": [
    {
     "output_type": "execute_result",
     "execution_count": 5,
     "data": {
      "text/plain": "Respondent\n1          NaN\n2          NaN\n3          NaN\n4          NaN\n5          NaN\n6          NaN\n7          NaN\n8     116000.0\n9          NaN\n10     32315.0\n11     40070.0\n12     14268.0\n13     38916.0\n14     66000.0\n15         NaN\nName: ConvertedComp, dtype: float64"
     },
     "metadata": {}
    }
   ]
  },
  {
   "cell_type": "code",
   "metadata": {
    "cell_id": "c6d0d79963bd454593bf66ed04300c74",
    "tags": [],
    "deepnote_to_be_reexecuted": false,
    "source_hash": "4174a1b4",
    "execution_start": 1657885487446,
    "execution_millis": 8,
    "deepnote_cell_type": "code",
    "deepnote_cell_height": 118.1875,
    "deepnote_output_heights": [
     21.1875
    ]
   },
   "source": "data['ConvertedComp'].median()",
   "execution_count": null,
   "outputs": [
    {
     "output_type": "execute_result",
     "execution_count": 6,
     "data": {
      "text/plain": "54049.0"
     },
     "metadata": {}
    }
   ]
  },
  {
   "cell_type": "code",
   "metadata": {
    "cell_id": "1e77ff039c05482087aab1291e6a8c52",
    "tags": [],
    "deepnote_to_be_reexecuted": false,
    "source_hash": "24b7ad04",
    "execution_start": 1657885537051,
    "execution_millis": 183,
    "deepnote_cell_type": "code",
    "deepnote_cell_height": 194.9375,
    "deepnote_output_heights": [
     97.9375
    ]
   },
   "source": "data.median()",
   "execution_count": null,
   "outputs": [
    {
     "output_type": "execute_result",
     "execution_count": 7,
     "data": {
      "text/plain": "Age                 29.0\nCompTotal        63000.0\nConvertedComp    54049.0\nWorkWeekHrs         40.0\ndtype: float64"
     },
     "metadata": {}
    }
   ]
  },
  {
   "cell_type": "code",
   "metadata": {
    "cell_id": "e0fcb976345849cfb86663375f6e3ccd",
    "tags": [],
    "deepnote_to_be_reexecuted": false,
    "source_hash": "fe3b47e2",
    "execution_start": 1657885571366,
    "execution_millis": 29,
    "deepnote_cell_type": "code",
    "deepnote_cell_height": 704,
    "deepnote_output_heights": [
     607
    ]
   },
   "source": "data.describe",
   "execution_count": null,
   "outputs": [
    {
     "output_type": "execute_result",
     "execution_count": 8,
     "data": {
      "text/plain": "<bound method NDFrame.describe of                                                    MainBranch Hobbyist   Age  \\\nRespondent                                                                     \n1                              I am a developer by profession      Yes   NaN   \n2                              I am a developer by profession       No   NaN   \n3                                 I code primarily as a hobby      Yes   NaN   \n4                              I am a developer by profession      Yes  25.0   \n5           I used to be a developer by profession, but no...      Yes  31.0   \n...                                                       ...      ...   ...   \n64858                                                     NaN      Yes   NaN   \n64867                                                     NaN      Yes   NaN   \n64898                                                     NaN      Yes   NaN   \n64925                                                     NaN      Yes   NaN   \n65112                                                     NaN      Yes   NaN   \n\n           Age1stCode CompFreq  CompTotal  ConvertedComp             Country  \\\nRespondent                                                                     \n1                  13  Monthly        NaN            NaN             Germany   \n2                  19      NaN        NaN            NaN      United Kingdom   \n3                  15      NaN        NaN            NaN  Russian Federation   \n4                  18      NaN        NaN            NaN             Albania   \n5                  16      NaN        NaN            NaN       United States   \n...               ...      ...        ...            ...                 ...   \n64858              16      NaN        NaN            NaN       United States   \n64867             NaN      NaN        NaN            NaN             Morocco   \n64898             NaN      NaN        NaN            NaN            Viet Nam   \n64925             NaN      NaN        NaN            NaN              Poland   \n65112             NaN      NaN        NaN            NaN               Spain   \n\n              CurrencyDesc CurrencySymbol  \\\nRespondent                                  \n1            European Euro            EUR   \n2           Pound sterling            GBP   \n3                      NaN            NaN   \n4             Albanian lek            ALL   \n5                      NaN            NaN   \n...                    ...            ...   \n64858                  NaN            NaN   \n64867                  NaN            NaN   \n64898                  NaN            NaN   \n64925                  NaN            NaN   \n65112                  NaN            NaN   \n\n                                       DatabaseDesireNextYear  \\\nRespondent                                                      \n1                                        Microsoft SQL Server   \n2                                                         NaN   \n3                                                         NaN   \n4                                                         NaN   \n5                                            MySQL;PostgreSQL   \n...                                                       ...   \n64858                                                     NaN   \n64867       Cassandra;Couchbase;DynamoDB;Elasticsearch;Fir...   \n64898                                                     NaN   \n64925         DynamoDB;Elasticsearch;MongoDB;MySQL;PostgreSQL   \n65112                            MariaDB;Microsoft SQL Server   \n\n                                           DatabaseWorkedWith  \\\nRespondent                                                      \n1                   Elasticsearch;Microsoft SQL Server;Oracle   \n2                                                         NaN   \n3                                                         NaN   \n4                                                         NaN   \n5                               MySQL;PostgreSQL;Redis;SQLite   \n...                                                       ...   \n64858                                                     NaN   \n64867       Cassandra;Couchbase;DynamoDB;Elasticsearch;Fir...   \n64898                                                     NaN   \n64925                                                  Oracle   \n65112               MariaDB;Microsoft SQL Server;MySQL;Oracle   \n\n                                                      DevType  \\\nRespondent                                                      \n1           Developer, desktop or enterprise applications;...   \n2                     Developer, full-stack;Developer, mobile   \n3                                                         NaN   \n4                                                         NaN   \n5                                                         NaN   \n...                                                       ...   \n64858                                     Senior executive/VP   \n64867                                                     NaN   \n64898                                                     NaN   \n64925                                                     NaN   \n65112                                                     NaN   \n\n                                                    EdLevel  \\\nRespondent                                                    \n1           Master’s degree (M.A., M.S., M.Eng., MBA, etc.)   \n2              Bachelor’s degree (B.A., B.S., B.Eng., etc.)   \n3                                                       NaN   \n4           Master’s degree (M.A., M.S., M.Eng., MBA, etc.)   \n5              Bachelor’s degree (B.A., B.S., B.Eng., etc.)   \n...                                                     ...   \n64858       Master’s degree (M.A., M.S., M.Eng., MBA, etc.)   \n64867                                                   NaN   \n64898                             Primary/elementary school   \n64925                                                   NaN   \n65112            Other doctoral degree (Ph.D., Ed.D., etc.)   \n\n                                                   Employment  \\\nRespondent                                                      \n1           Independent contractor, freelancer, or self-em...   \n2                                          Employed full-time   \n3                                                         NaN   \n4                                                         NaN   \n5                                          Employed full-time   \n...                                                       ...   \n64858                                      Employed full-time   \n64867                                      Employed full-time   \n64898                                                     NaN   \n64925                                      Employed full-time   \n65112                                      Employed full-time   \n\n                               Ethnicity Gender  \\\nRespondent                                        \n1           White or of European descent    Man   \n2                                    NaN    NaN   \n3                                    NaN    NaN   \n4           White or of European descent    Man   \n5           White or of European descent    Man   \n...                                  ...    ...   \n64858                                NaN    NaN   \n64867                                NaN    NaN   \n64898                                NaN    NaN   \n64925                                NaN    NaN   \n65112                                NaN    NaN   \n\n                                                   JobFactors  \\\nRespondent                                                      \n1           Languages, frameworks, and other technologies ...   \n2                                                         NaN   \n3                                                         NaN   \n4           Flex time or a flexible schedule;Office enviro...   \n5                                                         NaN   \n...                                                       ...   \n64858                                                     NaN   \n64867                                                     NaN   \n64898                                                     NaN   \n64925                                                     NaN   \n65112                                                     NaN   \n\n                           JobSat  \\\nRespondent                          \n1              Slightly satisfied   \n2               Very dissatisfied   \n3                             NaN   \n4           Slightly dissatisfied   \n5                             NaN   \n...                           ...   \n64858                         NaN   \n64867                         NaN   \n64898                         NaN   \n64925                         NaN   \n65112                         NaN   \n\n                                                      JobSeek  \\\nRespondent                                                      \n1                I am not interested in new job opportunities   \n2                I am not interested in new job opportunities   \n3                                                         NaN   \n4           I’m not actively looking, but I am open to new...   \n5                                                         NaN   \n...                                                       ...   \n64858                                                     NaN   \n64867                                                     NaN   \n64898                                                     NaN   \n64925                                                     NaN   \n65112                                                     NaN   \n\n                                       LanguageDesireNextYear  \\\nRespondent                                                      \n1                                      C#;HTML/CSS;JavaScript   \n2                                                Python;Swift   \n3                                    Objective-C;Python;Swift   \n4                                                         NaN   \n5                                             Java;Ruby;Scala   \n...                                                       ...   \n64858                                                     NaN   \n64867       Assembly;Bash/Shell/PowerShell;C;C#;C++;Dart;G...   \n64898                                                     NaN   \n64925                                HTML/CSS;Java;JavaScript   \n65112                         C#;HTML/CSS;Java;JavaScript;SQL   \n\n                                           LanguageWorkedWith  \\\nRespondent                                                      \n1                                      C#;HTML/CSS;JavaScript   \n2                                            JavaScript;Swift   \n3                                    Objective-C;Python;Swift   \n4                                                         NaN   \n5                                           HTML/CSS;Ruby;SQL   \n...                                                       ...   \n64858                                                     NaN   \n64867       Assembly;Bash/Shell/PowerShell;C;C#;C++;Dart;G...   \n64898                                                     NaN   \n64925                                                HTML/CSS   \n65112                         C#;HTML/CSS;Java;JavaScript;SQL   \n\n                      MiscTechDesireNextYear MiscTechWorkedWith  \\\nRespondent                                                        \n1                          .NET Core;Xamarin     .NET;.NET Core   \n2           React Native;TensorFlow;Unity 3D       React Native   \n3                                        NaN                NaN   \n4                                        NaN                NaN   \n5                               Ansible;Chef            Ansible   \n...                                      ...                ...   \n64858                                    NaN                NaN   \n64867                                    NaN                NaN   \n64898                                    NaN                NaN   \n64925                                Node.js                NaN   \n65112                      .NET Core;Xamarin     .NET;.NET Core   \n\n                      NEWCollabToolsDesireNextYear  \\\nRespondent                                           \n1           Microsoft Teams;Microsoft Azure;Trello   \n2                                     Github;Slack   \n3                                              NaN   \n4                                              NaN   \n5            Github;Google Suite (Docs, Meet, etc)   \n...                                            ...   \n64858                                          NaN   \n64867                                          NaN   \n64898                                          NaN   \n64925                                Github;Gitlab   \n65112                       Github;Microsoft Teams   \n\n                                     NEWCollabToolsWorkedWith NEWDevOps  \\\nRespondent                                                                \n1                Confluence;Jira;Slack;Microsoft Azure;Trello        No   \n2                         Confluence;Jira;Github;Gitlab;Slack       NaN   \n3                                                         NaN       NaN   \n4                                                         NaN        No   \n5           Confluence;Jira;Github;Slack;Google Suite (Doc...       NaN   \n...                                                       ...       ...   \n64858                                                     NaN       NaN   \n64867                                                     NaN       NaN   \n64898                                                     NaN       NaN   \n64925                   Confluence;Jira;Slack;Microsoft Teams       NaN   \n65112                                                  Github       NaN   \n\n                 NEWDevOpsImpt                           NEWEdImpt  \\\nRespondent                                                           \n1           Somewhat important                    Fairly important   \n2                          NaN                    Fairly important   \n3                          NaN                                 NaN   \n4                          NaN  Not at all important/not necessary   \n5                          NaN                      Very important   \n...                        ...                                 ...   \n64858                      NaN                      Very important   \n64867                      NaN                                 NaN   \n64898                      NaN                                 NaN   \n64925                      NaN                                 NaN   \n65112                      NaN                Critically important   \n\n                                                   NEWJobHunt  \\\nRespondent                                                      \n1                                                         NaN   \n2                                                         NaN   \n3                                                         NaN   \n4           Curious about other opportunities;Wanting to w...   \n5                                                         NaN   \n...                                                       ...   \n64858                                                     NaN   \n64867                                                     NaN   \n64898                                                     NaN   \n64925                                                     NaN   \n65112                                                     NaN   \n\n           NEWJobHuntResearch       NEWLearn NEWOffTopic NEWOnboardGood  \\\nRespondent                                                                \n1                         NaN    Once a year    Not sure            NaN   \n2                         NaN    Once a year    Not sure            NaN   \n3                         NaN  Once a decade         NaN            NaN   \n4                         NaN    Once a year    Not sure            Yes   \n5                         NaN    Once a year          No            NaN   \n...                       ...            ...         ...            ...   \n64858                     NaN  Once a decade         NaN            NaN   \n64867                     NaN            NaN         NaN            NaN   \n64898                     NaN            NaN         NaN            NaN   \n64925                     NaN    Once a year         NaN            NaN   \n65112                     NaN    Once a year         NaN            NaN   \n\n           NEWOtherComms                                        NEWOvertime  \\\nRespondent                                                                    \n1                     No                   Often: 1-2 days per week or more   \n2                     No                                                NaN   \n3                     No                                                NaN   \n4                    Yes  Occasionally: 1-2 days per quarter but less th...   \n5                    Yes                                                NaN   \n...                  ...                                                ...   \n64858                NaN                                                NaN   \n64867                NaN                                                NaN   \n64898                NaN                                                NaN   \n64925                NaN                                                NaN   \n65112                NaN                                                NaN   \n\n                                          NEWPurchaseResearch  \\\nRespondent                                                      \n1           Start a free trial;Ask developers I know/work ...   \n2                                                         NaN   \n3                                                         NaN   \n4                                                         NaN   \n5           Start a free trial;Ask developers I know/work ...   \n...                                                       ...   \n64858                                      Start a free trial   \n64867                                                     NaN   \n64898                                                     NaN   \n64925                                      Start a free trial   \n65112       Start a free trial;Ask developers I know/work ...   \n\n                NEWPurpleLink  \\\nRespondent                      \n1                      Amused   \n2                      Amused   \n3                         NaN   \n4                         NaN   \n5           Hello, old friend   \n...                       ...   \n64858                  Amused   \n64867                     NaN   \n64898                     NaN   \n64925       Hello, old friend   \n65112             Indifferent   \n\n                                                   NEWSOSites  \\\nRespondent                                                      \n1            Stack Overflow (public Q&A for anyone who codes)   \n2           Stack Overflow (public Q&A for anyone who code...   \n3            Stack Overflow (public Q&A for anyone who codes)   \n4           Stack Overflow (public Q&A for anyone who code...   \n5           Stack Overflow (public Q&A for anyone who code...   \n...                                                       ...   \n64858        Stack Overflow (public Q&A for anyone who codes)   \n64867                                                     NaN   \n64898                                                     NaN   \n64925        Stack Overflow (public Q&A for anyone who codes)   \n65112                                                     NaN   \n\n                                                     NEWStuck        OpSys  \\\nRespondent                                                                   \n1           Visit Stack Overflow;Go for a walk or other ph...      Windows   \n2           Visit Stack Overflow;Go for a walk or other ph...        MacOS   \n3                                                         NaN  Linux-based   \n4                                                         NaN  Linux-based   \n5           Call a coworker or friend;Visit Stack Overflow...      Windows   \n...                                                       ...          ...   \n64858                               Call a coworker or friend      Windows   \n64867                                                     NaN          NaN   \n64898                                                     NaN          NaN   \n64925          Call a coworker or friend;Visit Stack Overflow      Windows   \n65112       Meditate;Visit Stack Overflow;Go for a walk or...      Windows   \n\n                             OrgSize  \\\nRespondent                             \n1                   2 to 9 employees   \n2           1,000 to 4,999 employees   \n3                                NaN   \n4                 20 to 99 employees   \n5                                NaN   \n...                              ...   \n64858                            NaN   \n64867                            NaN   \n64898                            NaN   \n64925                            NaN   \n65112                            NaN   \n\n                                       PlatformDesireNextYear  \\\nRespondent                                                      \n1              Android;iOS;Kubernetes;Microsoft Azure;Windows   \n2                                  iOS;Kubernetes;Linux;MacOS   \n3                                                         NaN   \n4                                                         NaN   \n5           Docker;Google Cloud Platform;Heroku;Linux;Windows   \n...                                                       ...   \n64858                                                     NaN   \n64867                                                     NaN   \n64898                                                     NaN   \n64925                                                     NaN   \n65112                      Arduino;Linux;Raspberry Pi;Windows   \n\n                                    PlatformWorkedWith  \\\nRespondent                                               \n1                                              Windows   \n2                                                  iOS   \n3                                                  NaN   \n4                                                  NaN   \n5                       AWS;Docker;Linux;MacOS;Windows   \n...                                                ...   \n64858                                              NaN   \n64867                                              NaN   \n64898                                              NaN   \n64925                                    Linux;Windows   \n65112       Android;Arduino;Linux;Raspberry Pi;Windows   \n\n                                PurchaseWhat                Sexuality  \\\nRespondent                                                              \n1                                        NaN  Straight / Heterosexual   \n2              I have little or no influence                      NaN   \n3                                        NaN                      NaN   \n4           I have a great deal of influence  Straight / Heterosexual   \n5                                        NaN  Straight / Heterosexual   \n...                                      ...                      ...   \n64858                                    NaN                      NaN   \n64867                                    NaN                      NaN   \n64898                                    NaN                      NaN   \n64925                                    NaN                      NaN   \n65112                                    NaN                      NaN   \n\n           SOAccount           SOComm                           SOPartFreq  \\\nRespondent                                                                   \n1                 No   No, not at all                                  NaN   \n2                Yes  Yes, definitely  Less than once per month or monthly   \n3                Yes    Yes, somewhat      A few times per month or weekly   \n4                Yes  Yes, definitely      A few times per month or weekly   \n5                Yes    Yes, somewhat  Less than once per month or monthly   \n...              ...              ...                                  ...   \n64858            NaN              NaN                                  NaN   \n64867            NaN              NaN                                  NaN   \n64898            NaN              NaN                                  NaN   \n64925            NaN              NaN                                  NaN   \n65112            NaN              NaN                                  NaN   \n\n                                SOVisitFreq                  SurveyEase  \\\nRespondent                                                                \n1                    Multiple times per day  Neither easy nor difficult   \n2                    Multiple times per day                         NaN   \n3                     Daily or almost daily  Neither easy nor difficult   \n4                    Multiple times per day                         NaN   \n5           A few times per month or weekly                        Easy   \n...                                     ...                         ...   \n64858                                   NaN                         NaN   \n64867                                   NaN                         NaN   \n64898                                   NaN                         NaN   \n64925                                   NaN                         NaN   \n65112                                   NaN                         NaN   \n\n                     SurveyLength Trans  \\\nRespondent                                \n1           Appropriate in length    No   \n2                             NaN   NaN   \n3           Appropriate in length   NaN   \n4                             NaN    No   \n5                       Too short    No   \n...                           ...   ...   \n64858                         NaN   NaN   \n64867                         NaN   NaN   \n64898                         NaN   NaN   \n64925                         NaN   NaN   \n65112                         NaN   NaN   \n\n                                               UndergradMajor  \\\nRespondent                                                      \n1           Computer science, computer engineering, or sof...   \n2           Computer science, computer engineering, or sof...   \n3                                                         NaN   \n4           Computer science, computer engineering, or sof...   \n5           Computer science, computer engineering, or sof...   \n...                                                       ...   \n64858       Computer science, computer engineering, or sof...   \n64867                                                     NaN   \n64898                                                     NaN   \n64925                                                     NaN   \n65112       Computer science, computer engineering, or sof...   \n\n                 WebframeDesireNextYear  \\\nRespondent                                \n1                          ASP.NET Core   \n2                                   NaN   \n3                                   NaN   \n4                                   NaN   \n5                  Django;Ruby on Rails   \n...                                 ...   \n64858                               NaN   \n64867                               NaN   \n64898                               NaN   \n64925       Angular;Angular.js;React.js   \n65112               ASP.NET Core;jQuery   \n\n                                WebframeWorkedWith  \\\nRespondent                                           \n1                             ASP.NET;ASP.NET Core   \n2                                              NaN   \n3                                              NaN   \n4                                              NaN   \n5                                    Ruby on Rails   \n...                                            ...   \n64858                                          NaN   \n64867                                          NaN   \n64898                                          NaN   \n64925                                          NaN   \n65112       Angular;Angular.js;ASP.NET Core;jQuery   \n\n                                       WelcomeChange  WorkWeekHrs YearsCode  \\\nRespondent                                                                    \n1            Just as welcome now as I felt last year         50.0        36   \n2           Somewhat more welcome now than last year          NaN         7   \n3           Somewhat more welcome now than last year          NaN         4   \n4           Somewhat less welcome now than last year         40.0         7   \n5            Just as welcome now as I felt last year          NaN        15   \n...                                              ...          ...       ...   \n64858                                            NaN          NaN        10   \n64867                                            NaN          NaN       NaN   \n64898                                            NaN          NaN       NaN   \n64925                                            NaN          NaN       NaN   \n65112                                            NaN          NaN       NaN   \n\n                YearsCodePro  \nRespondent                    \n1                         27  \n2                          4  \n3                        NaN  \n4                          4  \n5                          8  \n...                      ...  \n64858       Less than 1 year  \n64867                    NaN  \n64898                    NaN  \n64925                    NaN  \n65112                    NaN  \n\n[64461 rows x 60 columns]>"
     },
     "metadata": {}
    }
   ]
  },
  {
   "cell_type": "code",
   "metadata": {
    "cell_id": "9c1677385e0d4866b601597be4ad6ff6",
    "tags": [],
    "deepnote_to_be_reexecuted": false,
    "source_hash": "e78e8090",
    "execution_start": 1657885688268,
    "execution_millis": 163,
    "deepnote_cell_type": "code",
    "deepnote_cell_height": 704,
    "deepnote_output_heights": [
     607
    ]
   },
   "source": "data.count()",
   "execution_count": null,
   "outputs": [
    {
     "output_type": "execute_result",
     "execution_count": 9,
     "data": {
      "text/plain": "MainBranch                      64162\nHobbyist                        64416\nAge                             45446\nAge1stCode                      57900\nCompFreq                        40069\nCompTotal                       34826\nConvertedComp                   34756\nCountry                         64072\nCurrencyDesc                    45472\nCurrencySymbol                  45472\nDatabaseDesireNextYear          44070\nDatabaseWorkedWith              49537\nDevType                         49370\nEdLevel                         57431\nEmployment                      63854\nEthnicity                       45948\nGender                          50557\nJobFactors                      49349\nJobSat                          45194\nJobSeek                         51727\nLanguageDesireNextYear          54113\nLanguageWorkedWith              57378\nMiscTechDesireNextYear          42379\nMiscTechWorkedWith              40314\nNEWCollabToolsDesireNextYear    47287\nNEWCollabToolsWorkedWith        52883\nNEWDevOps                       42686\nNEWDevOpsImpt                   41732\nNEWEdImpt                       48465\nNEWJobHunt                      42286\nNEWJobHuntResearch              41022\nNEWLearn                        56156\nNEWOffTopic                     50804\nNEWOnboardGood                  42623\nNEWOtherComms                   57205\nNEWOvertime                     43231\nNEWPurchaseResearch             37321\nNEWPurpleLink                   54803\nNEWSOSites                      58275\nNEWStuck                        54983\nOpSys                           56228\nOrgSize                         44334\nPlatformDesireNextYear          50605\nPlatformWorkedWith              53843\nPurchaseWhat                    39364\nSexuality                       43992\nSOAccount                       56805\nSOComm                          56476\nSOPartFreq                      46792\nSOVisitFreq                     56970\nSurveyEase                      51802\nSurveyLength                    51701\nTrans                           49345\nUndergradMajor                  50995\nWebframeDesireNextYear          40024\nWebframeWorkedWith              42279\nWelcomeChange                   52683\nWorkWeekHrs                     41151\nYearsCode                       57684\nYearsCodePro                    46349\ndtype: int64"
     },
     "metadata": {}
    }
   ]
  },
  {
   "cell_type": "code",
   "metadata": {
    "cell_id": "a76bf995aefc4e83b3b1e463ece5679d",
    "tags": [],
    "deepnote_to_be_reexecuted": false,
    "source_hash": "264511c5",
    "execution_start": 1657885724623,
    "execution_millis": 3,
    "deepnote_cell_type": "code",
    "deepnote_cell_height": 118.1875,
    "deepnote_output_heights": [
     21.1875
    ]
   },
   "source": "data['ConvertedComp'].count()",
   "execution_count": null,
   "outputs": [
    {
     "output_type": "execute_result",
     "execution_count": 10,
     "data": {
      "text/plain": "34756"
     },
     "metadata": {}
    }
   ]
  },
  {
   "cell_type": "code",
   "metadata": {
    "cell_id": "7b54e8206ec049c1a21fa34a7bf6cb3b",
    "tags": [],
    "deepnote_to_be_reexecuted": false,
    "source_hash": "94a78790",
    "execution_start": 1657885744435,
    "execution_millis": 5,
    "deepnote_cell_type": "code",
    "deepnote_cell_height": 348.4375,
    "deepnote_output_heights": [
     251.4375
    ]
   },
   "source": "data['Hobbyist']",
   "execution_count": null,
   "outputs": [
    {
     "output_type": "execute_result",
     "execution_count": 11,
     "data": {
      "text/plain": "Respondent\n1        Yes\n2         No\n3        Yes\n4        Yes\n5        Yes\n        ... \n64858    Yes\n64867    Yes\n64898    Yes\n64925    Yes\n65112    Yes\nName: Hobbyist, Length: 64461, dtype: object"
     },
     "metadata": {}
    }
   ]
  },
  {
   "cell_type": "code",
   "metadata": {
    "cell_id": "def82806f4b8436c920608ce8e5acdc0",
    "tags": [],
    "deepnote_to_be_reexecuted": false,
    "source_hash": "afa02164",
    "execution_start": 1657885794041,
    "execution_millis": 15,
    "deepnote_cell_type": "code",
    "deepnote_cell_height": 156.5625,
    "deepnote_output_heights": [
     59.5625
    ]
   },
   "source": "data['Hobbyist'].value_counts()",
   "execution_count": null,
   "outputs": [
    {
     "output_type": "execute_result",
     "execution_count": 12,
     "data": {
      "text/plain": "Yes    50388\nNo     14028\nName: Hobbyist, dtype: int64"
     },
     "metadata": {}
    }
   ]
  },
  {
   "cell_type": "code",
   "metadata": {
    "cell_id": "a77e7df628444c01ad463b677db43d1b",
    "tags": [],
    "deepnote_to_be_reexecuted": false,
    "source_hash": "4bcb1c62",
    "execution_start": 1657886062249,
    "execution_millis": 402,
    "deepnote_cell_type": "code",
    "deepnote_cell_height": 348.4375,
    "deepnote_output_heights": [
     251.4375
    ]
   },
   "source": "data['OpSys']",
   "execution_count": null,
   "outputs": [
    {
     "output_type": "execute_result",
     "execution_count": 15,
     "data": {
      "text/plain": "Respondent\n1            Windows\n2              MacOS\n3        Linux-based\n4        Linux-based\n5            Windows\n            ...     \n64858        Windows\n64867            NaN\n64898            NaN\n64925        Windows\n65112        Windows\nName: OpSys, Length: 64461, dtype: object"
     },
     "metadata": {}
    }
   ]
  },
  {
   "cell_type": "code",
   "metadata": {
    "cell_id": "b6219978737c4350bb671b63b74e5482",
    "tags": [],
    "deepnote_to_be_reexecuted": false,
    "source_hash": "b6a8f1b9",
    "execution_start": 1657886139933,
    "execution_millis": 31,
    "deepnote_cell_type": "code",
    "deepnote_cell_height": 137.375,
    "deepnote_output_heights": [
     40.375
    ]
   },
   "source": "schema.loc['OpSys']",
   "execution_count": null,
   "outputs": [
    {
     "output_type": "execute_result",
     "execution_count": 16,
     "data": {
      "text/plain": "QuestionText    What is the primary operating system in which ...\nName: OpSys, dtype: object"
     },
     "metadata": {}
    }
   ]
  },
  {
   "cell_type": "code",
   "metadata": {
    "cell_id": "383fb2618ee4420d9b3284194bc55c67",
    "tags": [],
    "deepnote_to_be_reexecuted": false,
    "source_hash": "78761cb8",
    "execution_start": 1657886201247,
    "execution_millis": 75,
    "deepnote_cell_type": "code",
    "deepnote_cell_height": 194.9375,
    "deepnote_output_heights": [
     97.9375
    ]
   },
   "source": "data['OpSys'].value_counts()",
   "execution_count": null,
   "outputs": [
    {
     "output_type": "execute_result",
     "execution_count": 17,
     "data": {
      "text/plain": "Windows        27170\nLinux-based    14932\nMacOS          14075\nBSD               51\nName: OpSys, dtype: int64"
     },
     "metadata": {}
    }
   ]
  },
  {
   "cell_type": "code",
   "metadata": {
    "cell_id": "ce05b721bb514991b96cfed6feabd620",
    "tags": [],
    "deepnote_to_be_reexecuted": false,
    "source_hash": "ef06ebf4",
    "execution_start": 1657886272435,
    "execution_millis": 59,
    "deepnote_cell_type": "code",
    "deepnote_cell_height": 194.9375,
    "deepnote_output_heights": [
     97.9375
    ]
   },
   "source": "data['OpSys'].value_counts(normalize=True)",
   "execution_count": null,
   "outputs": [
    {
     "output_type": "execute_result",
     "execution_count": 19,
     "data": {
      "text/plain": "Windows        0.483211\nLinux-based    0.265562\nMacOS          0.250320\nBSD            0.000907\nName: OpSys, dtype: float64"
     },
     "metadata": {}
    }
   ]
  },
  {
   "cell_type": "code",
   "metadata": {
    "cell_id": "aa0f78d087aa4d55977d9d83459e0b81",
    "tags": [],
    "deepnote_to_be_reexecuted": false,
    "source_hash": "44922f3b",
    "execution_start": 1657886426575,
    "execution_millis": 37,
    "deepnote_cell_type": "code",
    "deepnote_cell_height": 329.25,
    "deepnote_output_heights": [
     232.25
    ]
   },
   "source": "data['Country'].value_counts()",
   "execution_count": null,
   "outputs": [
    {
     "output_type": "execute_result",
     "execution_count": 21,
     "data": {
      "text/plain": "United States     12469\nIndia              8403\nUnited Kingdom     3896\nGermany            3890\nCanada             2191\n                  ...  \nLesotho               1\nKiribati              1\nGabon                 1\nNauru                 1\nChad                  1\nName: Country, Length: 183, dtype: int64"
     },
     "metadata": {}
    }
   ]
  },
  {
   "cell_type": "code",
   "metadata": {
    "cell_id": "63126c88324a4f69b67593c4eed3a9b6",
    "tags": [],
    "deepnote_to_be_reexecuted": false,
    "source_hash": "62f3e1a7",
    "execution_start": 1657886824173,
    "execution_millis": 0,
    "deepnote_cell_type": "code",
    "deepnote_cell_height": 81,
    "deepnote_output_heights": [
     21.1875
    ]
   },
   "source": "contry= data.groupby(['Country'])",
   "execution_count": null,
   "outputs": []
  },
  {
   "cell_type": "code",
   "metadata": {
    "cell_id": "41223bc8a3f64cb4bb28afff5e218075",
    "tags": [],
    "deepnote_to_be_reexecuted": false,
    "source_hash": "f94db73",
    "execution_start": 1657886842414,
    "execution_millis": 281,
    "deepnote_cell_type": "code",
    "deepnote_cell_height": 617
   },
   "source": "contry.get_group('United States')",
   "execution_count": null,
   "outputs": [
    {
     "output_type": "execute_result",
     "execution_count": 26,
     "data": {
      "application/vnd.deepnote.dataframe.v3+json": {
       "column_count": 60,
       "row_count": 12469,
       "columns": [
        {
         "name": "MainBranch",
         "dtype": "object",
         "stats": {
          "unique_count": 5,
          "nan_count": 31,
          "categories": [
           {
            "name": "I am a developer by profession",
            "count": 9456
           },
           {
            "name": "4 others",
            "count": 2982
           },
           {
            "name": "Missing",
            "count": 31
           }
          ]
         }
        },
        {
         "name": "Hobbyist",
         "dtype": "object",
         "stats": {
          "unique_count": 2,
          "nan_count": 0,
          "categories": [
           {
            "name": "Yes",
            "count": 9718
           },
           {
            "name": "No",
            "count": 2751
           }
          ]
         }
        },
        {
         "name": "Age",
         "dtype": "float64",
         "stats": {
          "unique_count": 85,
          "nan_count": 2850,
          "min": "1.0",
          "max": "99.0",
          "histogram": [
           {
            "bin_start": 1,
            "bin_end": 10.8,
            "count": 1
           },
           {
            "bin_start": 10.8,
            "bin_end": 20.6,
            "count": 609
           },
           {
            "bin_start": 20.6,
            "bin_end": 30.400000000000002,
            "count": 3857
           },
           {
            "bin_start": 30.400000000000002,
            "bin_end": 40.2,
            "count": 3090
           },
           {
            "bin_start": 40.2,
            "bin_end": 50,
            "count": 1106
           },
           {
            "bin_start": 50,
            "bin_end": 59.800000000000004,
            "count": 660
           },
           {
            "bin_start": 59.800000000000004,
            "bin_end": 69.60000000000001,
            "count": 234
           },
           {
            "bin_start": 69.60000000000001,
            "bin_end": 79.4,
            "count": 50
           },
           {
            "bin_start": 79.4,
            "bin_end": 89.2,
            "count": 11
           },
           {
            "bin_start": 89.2,
            "bin_end": 99,
            "count": 1
           }
          ]
         }
        },
        {
         "name": "Age1stCode",
         "dtype": "object",
         "stats": {
          "unique_count": 55,
          "nan_count": 684,
          "categories": [
           {
            "name": "12",
            "count": 1259
           },
           {
            "name": "54 others",
            "count": 10526
           },
           {
            "name": "Missing",
            "count": 684
           }
          ]
         }
        },
        {
         "name": "CompFreq",
         "dtype": "object",
         "stats": {
          "unique_count": 3,
          "nan_count": 3837,
          "categories": [
           {
            "name": "Yearly",
            "count": 7510
           },
           {
            "name": "2 others",
            "count": 1122
           },
           {
            "name": "Missing",
            "count": 3837
           }
          ]
         }
        },
        {
         "name": "CompTotal",
         "dtype": "float64",
         "stats": {
          "unique_count": 907,
          "nan_count": 4298,
          "min": "0.0",
          "max": "1.11111111111111e+247",
          "histogram": [
           {
            "bin_start": 0,
            "bin_end": 1.11111111111111e+246,
            "count": 8170
           },
           {
            "bin_start": 1.11111111111111e+246,
            "bin_end": 2.22222222222222e+246,
            "count": 0
           },
           {
            "bin_start": 2.22222222222222e+246,
            "bin_end": 3.33333333333333e+246,
            "count": 0
           },
           {
            "bin_start": 3.33333333333333e+246,
            "bin_end": 4.44444444444444e+246,
            "count": 0
           },
           {
            "bin_start": 4.44444444444444e+246,
            "bin_end": 5.55555555555555e+246,
            "count": 0
           },
           {
            "bin_start": 5.55555555555555e+246,
            "bin_end": 6.66666666666666e+246,
            "count": 0
           },
           {
            "bin_start": 6.66666666666666e+246,
            "bin_end": 7.77777777777777e+246,
            "count": 0
           },
           {
            "bin_start": 7.77777777777777e+246,
            "bin_end": 8.88888888888888e+246,
            "count": 0
           },
           {
            "bin_start": 8.88888888888888e+246,
            "bin_end": 9.99999999999999e+246,
            "count": 0
           },
           {
            "bin_start": 9.99999999999999e+246,
            "bin_end": 1.11111111111111e+247,
            "count": 1
           }
          ]
         }
        },
        {
         "name": "ConvertedComp",
         "dtype": "float64",
         "stats": {
          "unique_count": 902,
          "nan_count": 4317,
          "min": "0.0",
          "max": "2000000.0",
          "histogram": [
           {
            "bin_start": 0,
            "bin_end": 200000,
            "count": 6866
           },
           {
            "bin_start": 200000,
            "bin_end": 400000,
            "count": 734
           },
           {
            "bin_start": 400000,
            "bin_end": 600000,
            "count": 87
           },
           {
            "bin_start": 600000,
            "bin_end": 800000,
            "count": 41
           },
           {
            "bin_start": 800000,
            "bin_end": 1000000,
            "count": 35
           },
           {
            "bin_start": 1000000,
            "bin_end": 1200000,
            "count": 37
           },
           {
            "bin_start": 1200000,
            "bin_end": 1400000,
            "count": 34
           },
           {
            "bin_start": 1400000,
            "bin_end": 1600000,
            "count": 27
           },
           {
            "bin_start": 1600000,
            "bin_end": 1800000,
            "count": 18
           },
           {
            "bin_start": 1800000,
            "bin_end": 2000000,
            "count": 273
           }
          ]
         }
        },
        {
         "name": "Country",
         "dtype": "object",
         "stats": {
          "unique_count": 1,
          "nan_count": 0,
          "categories": [
           {
            "name": "United States",
            "count": 12469
           }
          ]
         }
        },
        {
         "name": "CurrencyDesc",
         "dtype": "object"
        },
        {
         "name": "CurrencySymbol",
         "dtype": "object"
        },
        {
         "name": "DatabaseDesireNextYear",
         "dtype": "object"
        },
        {
         "name": "DatabaseWorkedWith",
         "dtype": "object"
        },
        {
         "name": "DevType",
         "dtype": "object"
        },
        {
         "name": "EdLevel",
         "dtype": "object"
        },
        {
         "name": "Employment",
         "dtype": "object"
        },
        {
         "name": "Ethnicity",
         "dtype": "object"
        },
        {
         "name": "Gender",
         "dtype": "object"
        },
        {
         "name": "JobFactors",
         "dtype": "object"
        },
        {
         "name": "JobSat",
         "dtype": "object"
        },
        {
         "name": "JobSeek",
         "dtype": "object"
        },
        {
         "name": "LanguageDesireNextYear",
         "dtype": "object"
        },
        {
         "name": "LanguageWorkedWith",
         "dtype": "object"
        },
        {
         "name": "MiscTechDesireNextYear",
         "dtype": "object"
        },
        {
         "name": "MiscTechWorkedWith",
         "dtype": "object"
        },
        {
         "name": "NEWCollabToolsDesireNextYear",
         "dtype": "object"
        },
        {
         "name": "NEWCollabToolsWorkedWith",
         "dtype": "object"
        },
        {
         "name": "NEWDevOps",
         "dtype": "object"
        },
        {
         "name": "NEWDevOpsImpt",
         "dtype": "object"
        },
        {
         "name": "NEWEdImpt",
         "dtype": "object"
        },
        {
         "name": "NEWJobHunt",
         "dtype": "object"
        },
        {
         "name": "NEWJobHuntResearch",
         "dtype": "object"
        },
        {
         "name": "NEWLearn",
         "dtype": "object"
        },
        {
         "name": "NEWOffTopic",
         "dtype": "object"
        },
        {
         "name": "NEWOnboardGood",
         "dtype": "object"
        },
        {
         "name": "NEWOtherComms",
         "dtype": "object"
        },
        {
         "name": "NEWOvertime",
         "dtype": "object"
        },
        {
         "name": "NEWPurchaseResearch",
         "dtype": "object"
        },
        {
         "name": "NEWPurpleLink",
         "dtype": "object"
        },
        {
         "name": "NEWSOSites",
         "dtype": "object"
        },
        {
         "name": "NEWStuck",
         "dtype": "object"
        },
        {
         "name": "OpSys",
         "dtype": "object"
        },
        {
         "name": "OrgSize",
         "dtype": "object"
        },
        {
         "name": "PlatformDesireNextYear",
         "dtype": "object"
        },
        {
         "name": "PlatformWorkedWith",
         "dtype": "object"
        },
        {
         "name": "PurchaseWhat",
         "dtype": "object"
        },
        {
         "name": "Sexuality",
         "dtype": "object"
        },
        {
         "name": "SOAccount",
         "dtype": "object"
        },
        {
         "name": "SOComm",
         "dtype": "object"
        },
        {
         "name": "SOPartFreq",
         "dtype": "object"
        },
        {
         "name": "SOVisitFreq",
         "dtype": "object"
        },
        {
         "name": "SurveyEase",
         "dtype": "object"
        },
        {
         "name": "SurveyLength",
         "dtype": "object"
        },
        {
         "name": "Trans",
         "dtype": "object"
        },
        {
         "name": "UndergradMajor",
         "dtype": "object"
        },
        {
         "name": "WebframeDesireNextYear",
         "dtype": "object"
        },
        {
         "name": "WebframeWorkedWith",
         "dtype": "object"
        },
        {
         "name": "WelcomeChange",
         "dtype": "object"
        },
        {
         "name": "WorkWeekHrs",
         "dtype": "float64"
        },
        {
         "name": "YearsCode",
         "dtype": "object"
        },
        {
         "name": "YearsCodePro",
         "dtype": "object"
        },
        {
         "name": "_deepnote_index_column",
         "dtype": "int64"
        }
       ],
       "rows": [
        {
         "MainBranch": "I used to be a developer by profession, but no longer am",
         "Hobbyist": "Yes",
         "Age": 31,
         "Age1stCode": "16",
         "CompFreq": "nan",
         "CompTotal": "nan",
         "ConvertedComp": "nan",
         "Country": "United States",
         "CurrencyDesc": "nan",
         "CurrencySymbol": "nan",
         "DatabaseDesireNextYear": "MySQL;PostgreSQL",
         "DatabaseWorkedWith": "MySQL;PostgreSQL;Redis;SQLite",
         "DevType": "nan",
         "EdLevel": "Bachelor’s degree (B.A., B.S., B.Eng., etc.)",
         "Employment": "Employed full-time",
         "Ethnicity": "White or of European descent",
         "Gender": "Man",
         "JobFactors": "nan",
         "JobSat": "nan",
         "JobSeek": "nan",
         "LanguageDesireNextYear": "Java;Ruby;Scala",
         "LanguageWorkedWith": "HTML/CSS;Ruby;SQL",
         "MiscTechDesireNextYear": "Ansible;Chef",
         "MiscTechWorkedWith": "Ansible",
         "NEWCollabToolsDesireNextYear": "Github;Google Suite (Docs, Meet, etc)",
         "NEWCollabToolsWorkedWith": "Confluence;Jira;Github;Slack;Google Suite (Docs, Meet, etc)",
         "NEWDevOps": "nan",
         "NEWDevOpsImpt": "nan",
         "NEWEdImpt": "Very important",
         "NEWJobHunt": "nan",
         "NEWJobHuntResearch": "nan",
         "NEWLearn": "Once a year",
         "NEWOffTopic": "No",
         "NEWOnboardGood": "nan",
         "NEWOtherComms": "Yes",
         "NEWOvertime": "nan",
         "NEWPurchaseResearch": "Start a free trial;Ask developers I know/work with;Visit developer communities like Stack Overflow;Read ratings or reviews on third party sites like G2Crowd;Research companies that have advertised on sites I visit",
         "NEWPurpleLink": "Hello, old friend",
         "NEWSOSites": "Stack Overflow (public Q&A for anyone who codes);Stack Exchange (public Q&A for a variety of topics);Stack Overflow Jobs (for job seekers);Stack Overflow for Teams (private Q&A for organizations);Stack Overflow Talent (for hiring companies/recruiters)",
         "NEWStuck": "Call a coworker or friend;Visit Stack Overflow;Watch help / tutorial videos;Do other work and come back later;Visit another developer community (please name):",
         "OpSys": "Windows",
         "OrgSize": "nan",
         "PlatformDesireNextYear": "Docker;Google Cloud Platform;Heroku;Linux;Windows",
         "PlatformWorkedWith": "AWS;Docker;Linux;MacOS;Windows",
         "PurchaseWhat": "nan",
         "Sexuality": "Straight / Heterosexual",
         "SOAccount": "Yes",
         "SOComm": "Yes, somewhat",
         "SOPartFreq": "Less than once per month or monthly",
         "SOVisitFreq": "A few times per month or weekly",
         "SurveyEase": "Easy",
         "SurveyLength": "Too short",
         "Trans": "No",
         "UndergradMajor": "Computer science, computer engineering, or software engineering",
         "WebframeDesireNextYear": "Django;Ruby on Rails",
         "WebframeWorkedWith": "Ruby on Rails",
         "WelcomeChange": "Just as welcome now as I felt last year",
         "WorkWeekHrs": "nan",
         "YearsCode": "15",
         "YearsCodePro": "8",
         "_deepnote_index_column": 5
        },
        {
         "MainBranch": "I am a developer by profession",
         "Hobbyist": "Yes",
         "Age": 36,
         "Age1stCode": "12",
         "CompFreq": "Yearly",
         "CompTotal": 116000,
         "ConvertedComp": 116000,
         "Country": "United States",
         "CurrencyDesc": "United States dollar",
         "CurrencySymbol": "USD",
         "DatabaseDesireNextYear": "MongoDB",
         "DatabaseWorkedWith": "MariaDB;MySQL;Redis",
         "DevType": "Developer, back-end;Developer, desktop or enterprise applications;Developer, game or graphics",
         "EdLevel": "Bachelor’s degree (B.A., B.S., B.Eng., etc.)",
         "Employment": "Employed full-time",
         "Ethnicity": "White or of European descent",
         "Gender": "Man",
         "JobFactors": "Remote work options;Opportunities for professional development;Family friendliness",
         "JobSat": "Slightly dissatisfied",
         "JobSeek": "I’m not actively looking, but I am open to new opportunities",
         "LanguageDesireNextYear": "JavaScript",
         "LanguageWorkedWith": "Python;SQL",
         "MiscTechDesireNextYear": "Unity 3D",
         "MiscTechWorkedWith": "Ansible",
         "NEWCollabToolsDesireNextYear": "nan",
         "NEWCollabToolsWorkedWith": "Confluence;Jira;Github;Slack;Microsoft Teams;Google Suite (Docs, Meet, etc)",
         "NEWDevOps": "Yes",
         "NEWDevOpsImpt": "Extremely important",
         "NEWEdImpt": "Not at all important/not necessary",
         "NEWJobHunt": "Curious about other opportunities;Better compensation;Trouble with my direct manager;Trouble with leadership at my company;Better work/life balance;Wanting to work with new technologies;Growth or leadership opportunities",
         "NEWJobHuntResearch": "Read company media, such as employee blogs or company culture videos;Company reviews from third party sites (e.g. Glassdoor, Blind);Personal network - friends or family;Read other media like news articles, founder profiles, etc. about the company",
         "NEWLearn": "Once a year",
         "NEWOffTopic": "Not sure",
         "NEWOnboardGood": "Yes",
         "NEWOtherComms": "No",
         "NEWOvertime": "Occasionally: 1-2 days per quarter but less than monthly",
         "NEWPurchaseResearch": "Start a free trial;Ask developers I know/work with;Visit developer communities like Stack Overflow;Read ratings or reviews on third party sites like G2Crowd",
         "NEWPurpleLink": "Hello, old friend",
         "NEWSOSites": "Stack Overflow (public Q&A for anyone who codes);Stack Overflow Jobs (for job seekers)",
         "NEWStuck": "Play games;Call a coworker or friend;Visit Stack Overflow;Go for a walk or other physical activity;Watch help / tutorial videos;Do other work and come back later",
         "OpSys": "Linux-based",
         "OrgSize": "20 to 99 employees",
         "PlatformDesireNextYear": "iOS;Slack Apps and Integrations",
         "PlatformWorkedWith": "Docker",
         "PurchaseWhat": "I have some influence",
         "Sexuality": "Straight / Heterosexual",
         "SOAccount": "Yes",
         "SOComm": "No, not really",
         "SOPartFreq": "Less than once per month or monthly",
         "SOVisitFreq": "Multiple times per day",
         "SurveyEase": "Easy",
         "SurveyLength": "Appropriate in length",
         "Trans": "No",
         "UndergradMajor": "Computer science, computer engineering, or software engineering",
         "WebframeDesireNextYear": "Django;React.js;Vue.js",
         "WebframeWorkedWith": "Flask",
         "WelcomeChange": "Just as welcome now as I felt last year",
         "WorkWeekHrs": 39,
         "YearsCode": "17",
         "YearsCodePro": "13",
         "_deepnote_index_column": 8
        },
        {
         "MainBranch": "I am a developer by profession",
         "Hobbyist": "Yes",
         "Age": 27,
         "Age1stCode": "13",
         "CompFreq": "Yearly",
         "CompTotal": 66000,
         "ConvertedComp": 66000,
         "Country": "United States",
         "CurrencyDesc": "United States dollar",
         "CurrencySymbol": "USD",
         "DatabaseDesireNextYear": "Firebase;Microsoft SQL Server",
         "DatabaseWorkedWith": "Firebase;Microsoft SQL Server",
         "DevType": "Developer, desktop or enterprise applications;Developer, front-end",
         "EdLevel": "Associate degree (A.A., A.S., etc.)",
         "Employment": "Employed full-time",
         "Ethnicity": "White or of European descent",
         "Gender": "Man",
         "JobFactors": "Industry that I’d be working in;Flex time or a flexible schedule;Office environment or company culture",
         "JobSat": "Slightly satisfied",
         "JobSeek": "I’m not actively looking, but I am open to new opportunities",
         "LanguageDesireNextYear": "HTML/CSS;JavaScript;SQL;TypeScript",
         "LanguageWorkedWith": "HTML/CSS;JavaScript;SQL;TypeScript",
         "MiscTechDesireNextYear": "Node.js",
         "MiscTechWorkedWith": "Node.js",
         "NEWCollabToolsDesireNextYear": "Confluence;Jira;Github;Microsoft Teams;Google Suite (Docs, Meet, etc)",
         "NEWCollabToolsWorkedWith": "Confluence;Jira;Github;Microsoft Teams",
         "NEWDevOps": "Yes",
         "NEWDevOpsImpt": "Extremely important",
         "NEWEdImpt": "Somewhat important",
         "NEWJobHunt": "Wanting to share accomplishments with a wider network;Curious about other opportunities;Better compensation;Wanting to work with new technologies;Growth or leadership opportunities",
         "NEWJobHuntResearch": "Read company media, such as employee blogs or company culture videos;Company reviews from third party sites (e.g. Glassdoor, Blind);Publicly available financial information (e.g. Crunchbase);Read other media like news articles, founder profiles, etc. about the company",
         "NEWLearn": "Every few months",
         "NEWOffTopic": "No",
         "NEWOnboardGood": "Yes",
         "NEWOtherComms": "No",
         "NEWOvertime": "Occasionally: 1-2 days per quarter but less than monthly",
         "NEWPurchaseResearch": "nan",
         "NEWPurpleLink": "Amused",
         "NEWSOSites": "Stack Overflow (public Q&A for anyone who codes);Stack Exchange (public Q&A for a variety of topics)",
         "NEWStuck": "Call a coworker or friend;Visit Stack Overflow;Go for a walk or other physical activity;Do other work and come back later",
         "OpSys": "Windows",
         "OrgSize": "100 to 499 employees",
         "PlatformDesireNextYear": "Google Cloud Platform;Raspberry Pi;Windows",
         "PlatformWorkedWith": "Google Cloud Platform;Windows",
         "PurchaseWhat": "I have little or no influence",
         "Sexuality": "Straight / Heterosexual",
         "SOAccount": "Yes",
         "SOComm": "Yes, definitely",
         "SOPartFreq": "A few times per week",
         "SOVisitFreq": "Multiple times per day",
         "SurveyEase": "Neither easy nor difficult",
         "SurveyLength": "Appropriate in length",
         "Trans": "No",
         "UndergradMajor": "Computer science, computer engineering, or software engineering",
         "WebframeDesireNextYear": "Angular;Vue.js",
         "WebframeWorkedWith": "Angular;Vue.js",
         "WelcomeChange": "Just as welcome now as I felt last year",
         "WorkWeekHrs": 40,
         "YearsCode": "5",
         "YearsCodePro": "1",
         "_deepnote_index_column": 14
        },
        {
         "MainBranch": "I am a developer by profession",
         "Hobbyist": "Yes",
         "Age": 25,
         "Age1stCode": "14",
         "CompFreq": "Yearly",
         "CompTotal": 79000,
         "ConvertedComp": 79000,
         "Country": "United States",
         "CurrencyDesc": "United States dollar",
         "CurrencySymbol": "USD",
         "DatabaseDesireNextYear": "Cassandra;Elasticsearch;MariaDB;PostgreSQL;Redis",
         "DatabaseWorkedWith": "Microsoft SQL Server;PostgreSQL",
         "DevType": "Developer, full-stack",
         "EdLevel": "Bachelor’s degree (B.A., B.S., B.Eng., etc.)",
         "Employment": "Employed full-time",
         "Ethnicity": "White or of European descent",
         "Gender": "Man",
         "JobFactors": "Industry that I’d be working in;Languages, frameworks, and other technologies I’d be working with;Office environment or company culture",
         "JobSat": "Slightly dissatisfied",
         "JobSeek": "I’m not actively looking, but I am open to new opportunities",
         "LanguageDesireNextYear": "C#;Go;Haskell;HTML/CSS;JavaScript;Python;Ruby;Rust;SQL",
         "LanguageWorkedWith": "C#;HTML/CSS;JavaScript;Python;SQL;VBA",
         "MiscTechDesireNextYear": ".NET Core;Teraform",
         "MiscTechWorkedWith": ".NET;Node.js",
         "NEWCollabToolsDesireNextYear": "Github;Gitlab;Slack;Google Suite (Docs, Meet, etc)",
         "NEWCollabToolsWorkedWith": "Github;Gitlab;Slack;Microsoft Teams;Google Suite (Docs, Meet, etc)",
         "NEWDevOps": "Yes",
         "NEWDevOpsImpt": "Extremely important",
         "NEWEdImpt": "Fairly important",
         "NEWJobHunt": "Having a bad day (or week or month) at work;Better compensation;Trouble with leadership at my company;Wanting to work with new technologies;Growth or leadership opportunities",
         "NEWJobHuntResearch": "Company reviews from third party sites (e.g. Glassdoor, Blind);Personal network - friends or family;Read other media like news articles, founder profiles, etc. about the company;Directly asking current or past employees at the company",
         "NEWLearn": "Once a year",
         "NEWOffTopic": "Not sure",
         "NEWOnboardGood": "No",
         "NEWOtherComms": "No",
         "NEWOvertime": "Rarely: 1-2 days per year or less",
         "NEWPurchaseResearch": "nan",
         "NEWPurpleLink": "Hello, old friend",
         "NEWSOSites": "Stack Overflow (public Q&A for anyone who codes);Stack Exchange (public Q&A for a variety of topics);Stack Overflow Jobs (for job seekers)",
         "NEWStuck": "Call a coworker or friend;Visit Stack Overflow;Do other work and come back later",
         "OpSys": "Windows",
         "OrgSize": "20 to 99 employees",
         "PlatformDesireNextYear": "Docker;Kubernetes;Microsoft Azure",
         "PlatformWorkedWith": "nan",
         "PurchaseWhat": "I have little or no influence",
         "Sexuality": "Straight / Heterosexual",
         "SOAccount": "Yes",
         "SOComm": "No, not at all",
         "SOPartFreq": "I have never participated in Q&A on Stack Overflow",
         "SOVisitFreq": "Daily or almost daily",
         "SurveyEase": "Easy",
         "SurveyLength": "Appropriate in length",
         "Trans": "No",
         "UndergradMajor": "Computer science, computer engineering, or software engineering",
         "WebframeDesireNextYear": "ASP.NET Core;Gatsby;React.js;Vue.js",
         "WebframeWorkedWith": "ASP.NET;Gatsby;jQuery;React.js;Vue.js",
         "WelcomeChange": "Just as welcome now as I felt last year",
         "WorkWeekHrs": 40,
         "YearsCode": "7",
         "YearsCodePro": "3",
         "_deepnote_index_column": 17
        },
        {
         "MainBranch": "I am a developer by profession",
         "Hobbyist": "Yes",
         "Age": 32,
         "Age1stCode": "12",
         "CompFreq": "Monthly",
         "CompTotal": 105000,
         "ConvertedComp": 1260000,
         "Country": "United States",
         "CurrencyDesc": "United States dollar",
         "CurrencySymbol": "USD",
         "DatabaseDesireNextYear": "Elasticsearch;PostgreSQL;Redis;SQLite",
         "DatabaseWorkedWith": "Elasticsearch;MariaDB;MySQL;Redis;SQLite",
         "DevType": "Developer, back-end",
         "EdLevel": "Bachelor’s degree (B.A., B.S., B.Eng., etc.)",
         "Employment": "Employed full-time",
         "Ethnicity": "White or of European descent",
         "Gender": "Man",
         "JobFactors": "Languages, frameworks, and other technologies I’d be working with;Remote work options;Office environment or company culture",
         "JobSat": "Very satisfied",
         "JobSeek": "I am not interested in new job opportunities",
         "LanguageDesireNextYear": "HTML/CSS;Perl",
         "LanguageWorkedWith": "Bash/Shell/PowerShell;HTML/CSS;Perl",
         "MiscTechDesireNextYear": "nan",
         "MiscTechWorkedWith": "nan",
         "NEWCollabToolsDesireNextYear": "Github",
         "NEWCollabToolsWorkedWith": "Github;Slack",
         "NEWDevOps": "Not sure",
         "NEWDevOpsImpt": "Neutral",
         "NEWEdImpt": "Very important",
         "NEWJobHunt": "Looking to relocate",
         "NEWJobHuntResearch": "nan",
         "NEWLearn": "Once every few years",
         "NEWOffTopic": "Yes",
         "NEWOnboardGood": "Onboarding? What onboarding?",
         "NEWOtherComms": "Yes",
         "NEWOvertime": "Occasionally: 1-2 days per quarter but less than monthly",
         "NEWPurchaseResearch": "Start a free trial;Ask developers I know/work with;Visit developer communities like Stack Overflow",
         "NEWPurpleLink": "Hello, old friend",
         "NEWSOSites": "Stack Overflow (public Q&A for anyone who codes);Stack Exchange (public Q&A for a variety of topics)",
         "NEWStuck": "Play games;Visit Stack Overflow;Do other work and come back later",
         "OpSys": "Linux-based",
         "OrgSize": "100 to 499 employees",
         "PlatformDesireNextYear": "Linux",
         "PlatformWorkedWith": "AWS;Linux",
         "PurchaseWhat": "I have some influence",
         "Sexuality": "Straight / Heterosexual",
         "SOAccount": "Yes",
         "SOComm": "Yes, somewhat",
         "SOPartFreq": "I have never participated in Q&A on Stack Overflow",
         "SOVisitFreq": "Daily or almost daily",
         "SurveyEase": "Neither easy nor difficult",
         "SurveyLength": "Appropriate in length",
         "Trans": "No",
         "UndergradMajor": "Computer science, computer engineering, or software engineering",
         "WebframeDesireNextYear": "nan",
         "WebframeWorkedWith": "nan",
         "WelcomeChange": "Just as welcome now as I felt last year",
         "WorkWeekHrs": 45,
         "YearsCode": "19",
         "YearsCodePro": "12",
         "_deepnote_index_column": 18
        },
        {
         "MainBranch": "I am a developer by profession",
         "Hobbyist": "No",
         "Age": 24,
         "Age1stCode": "15",
         "CompFreq": "Yearly",
         "CompTotal": 83400,
         "ConvertedComp": 83400,
         "Country": "United States",
         "CurrencyDesc": "United States dollar",
         "CurrencySymbol": "USD",
         "DatabaseDesireNextYear": "MariaDB;MongoDB",
         "DatabaseWorkedWith": "MariaDB;Microsoft SQL Server",
         "DevType": "Developer, full-stack",
         "EdLevel": "Bachelor’s degree (B.A., B.S., B.Eng., etc.)",
         "Employment": "Employed full-time",
         "Ethnicity": "White or of European descent",
         "Gender": "Man",
         "JobFactors": "Flex time or a flexible schedule;Office environment or company culture;Opportunities for professional development",
         "JobSat": "Slightly dissatisfied",
         "JobSeek": "I’m not actively looking, but I am open to new opportunities",
         "LanguageDesireNextYear": "C#;Go;Python;TypeScript",
         "LanguageWorkedWith": "Bash/Shell/PowerShell;C#;HTML/CSS;JavaScript;SQL;TypeScript",
         "MiscTechDesireNextYear": "Node.js;React Native;Unity 3D;Unreal Engine",
         "MiscTechWorkedWith": ".NET;.NET Core;Node.js",
         "NEWCollabToolsDesireNextYear": "Github;Slack",
         "NEWCollabToolsWorkedWith": "Confluence;Jira;Github;Slack",
         "NEWDevOps": "Yes",
         "NEWDevOpsImpt": "Extremely important",
         "NEWEdImpt": "Fairly important",
         "NEWJobHunt": "Having a bad day (or week or month) at work;Trouble with my teammates;Growth or leadership opportunities",
         "NEWJobHuntResearch": "Company reviews from third party sites (e.g. Glassdoor, Blind);Personal network - friends or family;Directly asking current or past employees at the company",
         "NEWLearn": "Once a year",
         "NEWOffTopic": "Yes",
         "NEWOnboardGood": "No",
         "NEWOtherComms": "No",
         "NEWOvertime": "Occasionally: 1-2 days per quarter but less than monthly",
         "NEWPurchaseResearch": "nan",
         "NEWPurpleLink": "Hello, old friend",
         "NEWSOSites": "Stack Overflow (public Q&A for anyone who codes);Stack Exchange (public Q&A for a variety of topics);Stack Overflow Jobs (for job seekers)",
         "NEWStuck": "Call a coworker or friend;Visit Stack Overflow;Go for a walk or other physical activity",
         "OpSys": "Windows",
         "OrgSize": "10,000 or more employees",
         "PlatformDesireNextYear": "iOS;Slack Apps and Integrations",
         "PlatformWorkedWith": "Windows",
         "PurchaseWhat": "I have little or no influence",
         "Sexuality": "Straight / Heterosexual",
         "SOAccount": "Yes",
         "SOComm": "Neutral",
         "SOPartFreq": "Less than once per month or monthly",
         "SOVisitFreq": "A few times per week",
         "SurveyEase": "Easy",
         "SurveyLength": "Appropriate in length",
         "Trans": "No",
         "UndergradMajor": "Computer science, computer engineering, or software engineering",
         "WebframeDesireNextYear": "Django;Express;React.js",
         "WebframeWorkedWith": "Angular;Angular.js;ASP.NET Core",
         "WelcomeChange": "Just as welcome now as I felt last year",
         "WorkWeekHrs": 35,
         "YearsCode": "9",
         "YearsCodePro": "3",
         "_deepnote_index_column": 19
        },
        {
         "MainBranch": "I used to be a developer by profession, but no longer am",
         "Hobbyist": "Yes",
         "Age": "nan",
         "Age1stCode": "12",
         "CompFreq": "nan",
         "CompTotal": "nan",
         "ConvertedComp": "nan",
         "Country": "United States",
         "CurrencyDesc": "nan",
         "CurrencySymbol": "nan",
         "DatabaseDesireNextYear": "PostgreSQL;SQLite",
         "DatabaseWorkedWith": "Elasticsearch;MySQL;PostgreSQL;SQLite",
         "DevType": "Database administrator;Developer, full-stack;Engineering manager;Product manager;System administrator",
         "EdLevel": "Bachelor’s degree (B.A., B.S., B.Eng., etc.)",
         "Employment": "Employed full-time",
         "Ethnicity": "White or of European descent",
         "Gender": "Man",
         "JobFactors": "nan",
         "JobSat": "nan",
         "JobSeek": "nan",
         "LanguageDesireNextYear": "Bash/Shell/PowerShell;C;C++;Perl;Python;SQL",
         "LanguageWorkedWith": "Bash/Shell/PowerShell;C;C++;Java;Python;SQL",
         "MiscTechDesireNextYear": "TensorFlow",
         "MiscTechWorkedWith": "nan",
         "NEWCollabToolsDesireNextYear": "Github;Gitlab;Google Suite (Docs, Meet, etc)",
         "NEWCollabToolsWorkedWith": "Jira;Github;Gitlab;Microsoft Teams;Trello;Google Suite (Docs, Meet, etc)",
         "NEWDevOps": "nan",
         "NEWDevOpsImpt": "nan",
         "NEWEdImpt": "Somewhat important",
         "NEWJobHunt": "nan",
         "NEWJobHuntResearch": "nan",
         "NEWLearn": "Once every few years",
         "NEWOffTopic": "No",
         "NEWOnboardGood": "nan",
         "NEWOtherComms": "Yes",
         "NEWOvertime": "nan",
         "NEWPurchaseResearch": "Ask developers I know/work with;Visit developer communities like Stack Overflow",
         "NEWPurpleLink": "Annoyed",
         "NEWSOSites": "Stack Overflow (public Q&A for anyone who codes)",
         "NEWStuck": "Call a coworker or friend;Visit Stack Overflow",
         "OpSys": "Linux-based",
         "OrgSize": "nan",
         "PlatformDesireNextYear": "AWS;Docker;Linux",
         "PlatformWorkedWith": "AWS;Linux",
         "PurchaseWhat": "nan",
         "Sexuality": "Straight / Heterosexual",
         "SOAccount": "Yes",
         "SOComm": "Yes, somewhat",
         "SOPartFreq": "A few times per week",
         "SOVisitFreq": "Daily or almost daily",
         "SurveyEase": "Easy",
         "SurveyLength": "Appropriate in length",
         "Trans": "No",
         "UndergradMajor": "A humanities discipline (such as literature, history, philosophy, etc.)",
         "WebframeDesireNextYear": "Flask",
         "WebframeWorkedWith": "Flask",
         "WelcomeChange": "Just as welcome now as I felt last year",
         "WorkWeekHrs": "nan",
         "YearsCode": "20",
         "YearsCodePro": "20",
         "_deepnote_index_column": 27
        },
        {
         "MainBranch": "I am a student who is learning to code",
         "Hobbyist": "Yes",
         "Age": 16,
         "Age1stCode": "13",
         "CompFreq": "nan",
         "CompTotal": "nan",
         "ConvertedComp": "nan",
         "Country": "United States",
         "CurrencyDesc": "nan",
         "CurrencySymbol": "nan",
         "DatabaseDesireNextYear": "MongoDB;MySQL",
         "DatabaseWorkedWith": "MongoDB;MySQL",
         "DevType": "Designer;Developer, front-end",
         "EdLevel": "Bachelor’s degree (B.A., B.S., B.Eng., etc.)",
         "Employment": "Not employed, but looking for work",
         "Ethnicity": "White or of European descent",
         "Gender": "Woman",
         "JobFactors": "Flex time or a flexible schedule;Remote work options;Office environment or company culture",
         "JobSat": "nan",
         "JobSeek": "I’m not actively looking, but I am open to new opportunities",
         "LanguageDesireNextYear": "HTML/CSS;JavaScript;Python;TypeScript",
         "LanguageWorkedWith": "HTML/CSS;Java;JavaScript;Ruby",
         "MiscTechDesireNextYear": "Node.js",
         "MiscTechWorkedWith": "Node.js;React Native",
         "NEWCollabToolsDesireNextYear": "Github",
         "NEWCollabToolsWorkedWith": "Github;Trello",
         "NEWDevOps": "nan",
         "NEWDevOpsImpt": "nan",
         "NEWEdImpt": "nan",
         "NEWJobHunt": "nan",
         "NEWJobHuntResearch": "nan",
         "NEWLearn": "Once a year",
         "NEWOffTopic": "nan",
         "NEWOnboardGood": "nan",
         "NEWOtherComms": "Yes",
         "NEWOvertime": "nan",
         "NEWPurchaseResearch": "Visit developer communities like Stack Overflow;Read ratings or reviews on third party sites like G2Crowd",
         "NEWPurpleLink": "Hello, old friend",
         "NEWSOSites": "Stack Overflow (public Q&A for anyone who codes);Stack Exchange (public Q&A for a variety of topics)",
         "NEWStuck": "Visit Stack Overflow;Go for a walk or other physical activity;Watch help / tutorial videos;Do other work and come back later",
         "OpSys": "MacOS",
         "OrgSize": "nan",
         "PlatformDesireNextYear": "nan",
         "PlatformWorkedWith": "AWS;iOS;Linux;WordPress",
         "PurchaseWhat": "nan",
         "Sexuality": "Straight / Heterosexual",
         "SOAccount": "Yes",
         "SOComm": "Yes, somewhat",
         "SOPartFreq": "Less than once per month or monthly",
         "SOVisitFreq": "A few times per month or weekly",
         "SurveyEase": "Easy",
         "SurveyLength": "Too long",
         "Trans": "No",
         "UndergradMajor": "Information systems, information technology, or system administration",
         "WebframeDesireNextYear": "Angular;Angular.js;Express;jQuery;React.js;Vue.js",
         "WebframeWorkedWith": "Express;jQuery",
         "WelcomeChange": "Just as welcome now as I felt last year",
         "WorkWeekHrs": "nan",
         "YearsCode": "3",
         "YearsCodePro": "nan",
         "_deepnote_index_column": 35
        },
        {
         "MainBranch": "I am a student who is learning to code",
         "Hobbyist": "Yes",
         "Age": 20,
         "Age1stCode": "14",
         "CompFreq": "nan",
         "CompTotal": "nan",
         "ConvertedComp": "nan",
         "Country": "United States",
         "CurrencyDesc": "nan",
         "CurrencySymbol": "nan",
         "DatabaseDesireNextYear": "MySQL",
         "DatabaseWorkedWith": "MySQL;SQLite",
         "DevType": "nan",
         "EdLevel": "Associate degree (A.A., A.S., etc.)",
         "Employment": "Student",
         "Ethnicity": "Hispanic or Latino/a/x",
         "Gender": "Woman",
         "JobFactors": "Industry that I’d be working in;Flex time or a flexible schedule;Office environment or company culture",
         "JobSat": "nan",
         "JobSeek": "I’m not actively looking, but I am open to new opportunities",
         "LanguageDesireNextYear": "C#;HTML/CSS;JavaScript;Python",
         "LanguageWorkedWith": "C;C#;C++;HTML/CSS;JavaScript;PHP;Python;SQL",
         "MiscTechDesireNextYear": "Unity 3D;Unreal Engine",
         "MiscTechWorkedWith": ".NET;Unity 3D;Unreal Engine",
         "NEWCollabToolsDesireNextYear": "Jira;Github;Gitlab;Slack;Trello;Google Suite (Docs, Meet, etc)",
         "NEWCollabToolsWorkedWith": "Confluence;Jira;Github;Gitlab;Slack;Trello;Google Suite (Docs, Meet, etc)",
         "NEWDevOps": "nan",
         "NEWDevOpsImpt": "nan",
         "NEWEdImpt": "nan",
         "NEWJobHunt": "nan",
         "NEWJobHuntResearch": "nan",
         "NEWLearn": "Once a year",
         "NEWOffTopic": "Not sure",
         "NEWOnboardGood": "nan",
         "NEWOtherComms": "No",
         "NEWOvertime": "nan",
         "NEWPurchaseResearch": "nan",
         "NEWPurpleLink": "nan",
         "NEWSOSites": "Stack Overflow (public Q&A for anyone who codes);Stack Exchange (public Q&A for a variety of topics)",
         "NEWStuck": "nan",
         "OpSys": "Windows",
         "OrgSize": "nan",
         "PlatformDesireNextYear": "Android;iOS;Linux;Windows",
         "PlatformWorkedWith": "Android;iOS;Linux;Windows",
         "PurchaseWhat": "nan",
         "Sexuality": "Straight / Heterosexual",
         "SOAccount": "Yes",
         "SOComm": "No, not really",
         "SOPartFreq": "I have never participated in Q&A on Stack Overflow",
         "SOVisitFreq": "A few times per month or weekly",
         "SurveyEase": "Easy",
         "SurveyLength": "Appropriate in length",
         "Trans": "No",
         "UndergradMajor": "nan",
         "WebframeDesireNextYear": "nan",
         "WebframeWorkedWith": "nan",
         "WelcomeChange": "Just as welcome now as I felt last year",
         "WorkWeekHrs": "nan",
         "YearsCode": "6",
         "YearsCodePro": "nan",
         "_deepnote_index_column": 40
        },
        {
         "MainBranch": "I am a developer by profession",
         "Hobbyist": "No",
         "Age": "nan",
         "Age1stCode": "15",
         "CompFreq": "Yearly",
         "CompTotal": 106000,
         "ConvertedComp": 106000,
         "Country": "United States",
         "CurrencyDesc": "United States dollar",
         "CurrencySymbol": "USD",
         "DatabaseDesireNextYear": "Microsoft SQL Server",
         "DatabaseWorkedWith": "Microsoft SQL Server",
         "DevType": "Developer, back-end;Developer, front-end;Developer, full-stack",
         "EdLevel": "Master’s degree (M.A., M.S., M.Eng., MBA, etc.)",
         "Employment": "Employed full-time",
         "Ethnicity": "nan",
         "Gender": "nan",
         "JobFactors": "Remote work options;Financial performance or funding status of the company or organization;Opportunities for professional development",
         "JobSat": "Slightly dissatisfied",
         "JobSeek": "I’m not actively looking, but I am open to new opportunities",
         "LanguageDesireNextYear": "C;C#;Java;SQL",
         "LanguageWorkedWith": "C;C#;Java;SQL",
         "MiscTechDesireNextYear": ".NET;.NET Core;Node.js",
         "MiscTechWorkedWith": ".NET;Hadoop",
         "NEWCollabToolsDesireNextYear": "Microsoft Teams",
         "NEWCollabToolsWorkedWith": "Slack;Microsoft Teams;Trello",
         "NEWDevOps": "No",
         "NEWDevOpsImpt": "Neutral",
         "NEWEdImpt": "Very important",
         "NEWJobHunt": "Better compensation;Wanting to work with new technologies;Growth or leadership opportunities",
         "NEWJobHuntResearch": "Read company media, such as employee blogs or company culture videos;Company reviews from third party sites (e.g. Glassdoor, Blind);Publicly available financial information (e.g. Crunchbase)",
         "NEWLearn": "Once a year",
         "NEWOffTopic": "No",
         "NEWOnboardGood": "No",
         "NEWOtherComms": "No",
         "NEWOvertime": "Never",
         "NEWPurchaseResearch": "Start a free trial;Visit developer communities like Stack Overflow;Read ratings or reviews on third party sites like G2Crowd",
         "NEWPurpleLink": "Hello, old friend",
         "NEWSOSites": "Stack Overflow (public Q&A for anyone who codes);Stack Exchange (public Q&A for a variety of topics)",
         "NEWStuck": "Visit Stack Overflow;Do other work and come back later",
         "OpSys": "Windows",
         "OrgSize": "500 to 999 employees",
         "PlatformDesireNextYear": "Windows",
         "PlatformWorkedWith": "Windows",
         "PurchaseWhat": "I have some influence",
         "Sexuality": "nan",
         "SOAccount": "Yes",
         "SOComm": "Neutral",
         "SOPartFreq": "Daily or almost daily",
         "SOVisitFreq": "Daily or almost daily",
         "SurveyEase": "nan",
         "SurveyLength": "nan",
         "Trans": "nan",
         "UndergradMajor": "Computer science, computer engineering, or software engineering",
         "WebframeDesireNextYear": "Vue.js",
         "WebframeWorkedWith": "ASP.NET;Vue.js",
         "WelcomeChange": "A lot less welcome now than last year",
         "WorkWeekHrs": 40,
         "YearsCode": "25",
         "YearsCodePro": "20",
         "_deepnote_index_column": 41
        }
       ]
      },
      "text/plain": "                                                   MainBranch Hobbyist   Age  \\\nRespondent                                                                     \n5           I used to be a developer by profession, but no...      Yes  31.0   \n8                              I am a developer by profession      Yes  36.0   \n14                             I am a developer by profession      Yes  27.0   \n17                             I am a developer by profession      Yes  25.0   \n18                             I am a developer by profession      Yes  32.0   \n...                                                       ...      ...   ...   \n58498                                                     NaN      Yes  32.0   \n58896                                                     NaN      Yes  29.0   \n60931                                                     NaN      Yes   NaN   \n63077                                                     NaN      Yes   NaN   \n64858                                                     NaN      Yes   NaN   \n\n           Age1stCode CompFreq  CompTotal  ConvertedComp        Country  \\\nRespondent                                                                \n5                  16      NaN        NaN            NaN  United States   \n8                  12   Yearly   116000.0       116000.0  United States   \n14                 13   Yearly    66000.0        66000.0  United States   \n17                 14   Yearly    79000.0        79000.0  United States   \n18                 12  Monthly   105000.0      1260000.0  United States   \n...               ...      ...        ...            ...            ...   \n58498              23      NaN        NaN            NaN  United States   \n58896              10      NaN        NaN            NaN  United States   \n60931              17      NaN        NaN            NaN  United States   \n63077              20      NaN        NaN            NaN  United States   \n64858              16      NaN        NaN            NaN  United States   \n\n                    CurrencyDesc CurrencySymbol  \\\nRespondent                                        \n5                            NaN            NaN   \n8           United States dollar            USD   \n14          United States dollar            USD   \n17          United States dollar            USD   \n18          United States dollar            USD   \n...                          ...            ...   \n58498                        NaN            NaN   \n58896                        NaN            NaN   \n60931                        NaN            NaN   \n63077                        NaN            NaN   \n64858                        NaN            NaN   \n\n                                      DatabaseDesireNextYear  \\\nRespondent                                                     \n5                                           MySQL;PostgreSQL   \n8                                                    MongoDB   \n14                             Firebase;Microsoft SQL Server   \n17          Cassandra;Elasticsearch;MariaDB;PostgreSQL;Redis   \n18                     Elasticsearch;PostgreSQL;Redis;SQLite   \n...                                                      ...   \n58498             Firebase;Microsoft SQL Server;MySQL;SQLite   \n58896                                                    NaN   \n60931                               MariaDB;MySQL;PostgreSQL   \n63077                                                  MySQL   \n64858                                                    NaN   \n\n                                    DatabaseWorkedWith  \\\nRespondent                                               \n5                        MySQL;PostgreSQL;Redis;SQLite   \n8                                  MariaDB;MySQL;Redis   \n14                       Firebase;Microsoft SQL Server   \n17                     Microsoft SQL Server;PostgreSQL   \n18            Elasticsearch;MariaDB;MySQL;Redis;SQLite   \n...                                                ...   \n58498       Firebase;Microsoft SQL Server;MySQL;SQLite   \n58896                                              NaN   \n60931                                    MariaDB;MySQL   \n63077                                            MySQL   \n64858                                              NaN   \n\n                                                      DevType  \\\nRespondent                                                      \n5                                                         NaN   \n8           Developer, back-end;Developer, desktop or ente...   \n14          Developer, desktop or enterprise applications;...   \n17                                      Developer, full-stack   \n18                                        Developer, back-end   \n...                                                       ...   \n58498       Data or business analyst;Developer, back-end;S...   \n58896                                                     NaN   \n60931                                    System administrator   \n63077                                                     NaN   \n64858                                     Senior executive/VP   \n\n                                                      EdLevel  \\\nRespondent                                                      \n5                Bachelor’s degree (B.A., B.S., B.Eng., etc.)   \n8                Bachelor’s degree (B.A., B.S., B.Eng., etc.)   \n14                        Associate degree (A.A., A.S., etc.)   \n17               Bachelor’s degree (B.A., B.S., B.Eng., etc.)   \n18               Bachelor’s degree (B.A., B.S., B.Eng., etc.)   \n...                                                       ...   \n58498       Some college/university study without earning ...   \n58896            Bachelor’s degree (B.A., B.S., B.Eng., etc.)   \n60931       Some college/university study without earning ...   \n63077            Bachelor’s degree (B.A., B.S., B.Eng., etc.)   \n64858         Master’s degree (M.A., M.S., M.Eng., MBA, etc.)   \n\n                                                   Employment  \\\nRespondent                                                      \n5                                          Employed full-time   \n8                                          Employed full-time   \n14                                         Employed full-time   \n17                                         Employed full-time   \n18                                         Employed full-time   \n...                                                       ...   \n58498       Independent contractor, freelancer, or self-em...   \n58896                                                 Student   \n60931                                      Employed full-time   \n63077                      Not employed, but looking for work   \n64858                                      Employed full-time   \n\n                               Ethnicity Gender  \\\nRespondent                                        \n5           White or of European descent    Man   \n8           White or of European descent    Man   \n14          White or of European descent    Man   \n17          White or of European descent    Man   \n18          White or of European descent    Man   \n...                                  ...    ...   \n58498       White or of European descent    Man   \n58896       White or of European descent    Man   \n60931                                NaN    Man   \n63077                                NaN    NaN   \n64858                                NaN    NaN   \n\n                                                   JobFactors  \\\nRespondent                                                      \n5                                                         NaN   \n8           Remote work options;Opportunities for professi...   \n14          Industry that I’d be working in;Flex time or a...   \n17          Industry that I’d be working in;Languages, fra...   \n18          Languages, frameworks, and other technologies ...   \n...                                                       ...   \n58498                                                     NaN   \n58896                                                     NaN   \n60931                                                     NaN   \n63077                                                     NaN   \n64858                                                     NaN   \n\n                           JobSat  \\\nRespondent                          \n5                             NaN   \n8           Slightly dissatisfied   \n14             Slightly satisfied   \n17          Slightly dissatisfied   \n18                 Very satisfied   \n...                           ...   \n58498                         NaN   \n58896                         NaN   \n60931                         NaN   \n63077                         NaN   \n64858                         NaN   \n\n                                                      JobSeek  \\\nRespondent                                                      \n5                                                         NaN   \n8           I’m not actively looking, but I am open to new...   \n14          I’m not actively looking, but I am open to new...   \n17          I’m not actively looking, but I am open to new...   \n18               I am not interested in new job opportunities   \n...                                                       ...   \n58498                                                     NaN   \n58896                                                     NaN   \n60931                                                     NaN   \n63077                                                     NaN   \n64858                                                     NaN   \n\n                                       LanguageDesireNextYear  \\\nRespondent                                                      \n5                                             Java;Ruby;Scala   \n8                                                  JavaScript   \n14                         HTML/CSS;JavaScript;SQL;TypeScript   \n17          C#;Go;Haskell;HTML/CSS;JavaScript;Python;Ruby;...   \n18                                              HTML/CSS;Perl   \n...                                                       ...   \n58498       Assembly;Bash/Shell/PowerShell;C;C#;C++;Dart;G...   \n58896                                                 Haskell   \n60931               Bash/Shell/PowerShell;C;C#;C++;PHP;Python   \n63077                                            C++;Rust;SQL   \n64858                                                     NaN   \n\n                                           LanguageWorkedWith  \\\nRespondent                                                      \n5                                           HTML/CSS;Ruby;SQL   \n8                                                  Python;SQL   \n14                         HTML/CSS;JavaScript;SQL;TypeScript   \n17                      C#;HTML/CSS;JavaScript;Python;SQL;VBA   \n18                        Bash/Shell/PowerShell;HTML/CSS;Perl   \n...                                                       ...   \n58498       Assembly;Bash/Shell/PowerShell;C;C#;C++;Dart;G...   \n58896                                                 Haskell   \n60931                      Bash/Shell/PowerShell;HTML/CSS;PHP   \n63077                 C++;HTML/CSS;Java;JavaScript;Python;SQL   \n64858                                                     NaN   \n\n                                       MiscTechDesireNextYear  \\\nRespondent                                                      \n5                                                Ansible;Chef   \n8                                                    Unity 3D   \n14                                                    Node.js   \n17                                         .NET Core;Teraform   \n18                                                        NaN   \n...                                                       ...   \n58498       .NET;.NET Core;Apache Spark;Cordova;Flutter;No...   \n58896                                                     NaN   \n60931                                  Unity 3D;Unreal Engine   \n63077                                                     NaN   \n64858                                                     NaN   \n\n                                           MiscTechWorkedWith  \\\nRespondent                                                      \n5                                                     Ansible   \n8                                                     Ansible   \n14                                                    Node.js   \n17                                               .NET;Node.js   \n18                                                        NaN   \n...                                                       ...   \n58498       .NET;.NET Core;Apache Spark;Cordova;Flutter;No...   \n58896                                                     NaN   \n60931                                                     NaN   \n63077                                                     NaN   \n64858                                                     NaN   \n\n                                 NEWCollabToolsDesireNextYear  \\\nRespondent                                                      \n5                       Github;Google Suite (Docs, Meet, etc)   \n8                                                         NaN   \n14          Confluence;Jira;Github;Microsoft Teams;Google ...   \n17          Github;Gitlab;Slack;Google Suite (Docs, Meet, ...   \n18                                                     Github   \n...                                                       ...   \n58498       Github;Gitlab;Facebook Workplace;Slack;Microso...   \n58896                                            Gitlab;Slack   \n60931                         Github;Stack Overflow for Teams   \n63077                                                     NaN   \n64858                                                     NaN   \n\n                                     NEWCollabToolsWorkedWith NEWDevOps  \\\nRespondent                                                                \n5           Confluence;Jira;Github;Slack;Google Suite (Doc...       NaN   \n8           Confluence;Jira;Github;Slack;Microsoft Teams;G...       Yes   \n14                     Confluence;Jira;Github;Microsoft Teams       Yes   \n17          Github;Gitlab;Slack;Microsoft Teams;Google Sui...       Yes   \n18                                               Github;Slack  Not sure   \n...                                                       ...       ...   \n58498       Github;Gitlab;Facebook Workplace;Slack;Microso...       NaN   \n58896                                     Github;Gitlab;Slack       NaN   \n60931                                                  Github       NaN   \n63077                                                     NaN       NaN   \n64858                                                     NaN       NaN   \n\n                  NEWDevOpsImpt                           NEWEdImpt  \\\nRespondent                                                            \n5                           NaN                      Very important   \n8           Extremely important  Not at all important/not necessary   \n14          Extremely important                  Somewhat important   \n17          Extremely important                    Fairly important   \n18                      Neutral                      Very important   \n...                         ...                                 ...   \n58498                       NaN                      Very important   \n58896                       NaN                                 NaN   \n60931                       NaN  Not at all important/not necessary   \n63077                       NaN                    Fairly important   \n64858                       NaN                      Very important   \n\n                                                   NEWJobHunt  \\\nRespondent                                                      \n5                                                         NaN   \n8           Curious about other opportunities;Better compe...   \n14          Wanting to share accomplishments with a wider ...   \n17          Having a bad day (or week or month) at work;Be...   \n18                                        Looking to relocate   \n...                                                       ...   \n58498                                                     NaN   \n58896                                                     NaN   \n60931                                                     NaN   \n63077                                                     NaN   \n64858                                                     NaN   \n\n                                           NEWJobHuntResearch  \\\nRespondent                                                      \n5                                                         NaN   \n8           Read company media, such as employee blogs or ...   \n14          Read company media, such as employee blogs or ...   \n17          Company reviews from third party sites (e.g. G...   \n18                                                        NaN   \n...                                                       ...   \n58498                                                     NaN   \n58896                                                     NaN   \n60931                                                     NaN   \n63077                                                     NaN   \n64858                                                     NaN   \n\n                        NEWLearn NEWOffTopic                NEWOnboardGood  \\\nRespondent                                                                   \n5                    Once a year          No                           NaN   \n8                    Once a year    Not sure                           Yes   \n14              Every few months          No                           Yes   \n17                   Once a year    Not sure                            No   \n18          Once every few years         Yes  Onboarding? What onboarding?   \n...                          ...         ...                           ...   \n58498                        NaN         NaN                           NaN   \n58896                Once a year          No                           NaN   \n60931                        NaN    Not sure                           NaN   \n63077                        NaN         NaN                           NaN   \n64858              Once a decade         NaN                           NaN   \n\n           NEWOtherComms                                        NEWOvertime  \\\nRespondent                                                                    \n5                    Yes                                                NaN   \n8                     No  Occasionally: 1-2 days per quarter but less th...   \n14                    No  Occasionally: 1-2 days per quarter but less th...   \n17                    No                  Rarely: 1-2 days per year or less   \n18                   Yes  Occasionally: 1-2 days per quarter but less th...   \n...                  ...                                                ...   \n58498                NaN                                                NaN   \n58896                NaN                                                NaN   \n60931                NaN                                                NaN   \n63077                NaN                                                NaN   \n64858                NaN                                                NaN   \n\n                                          NEWPurchaseResearch  \\\nRespondent                                                      \n5           Start a free trial;Ask developers I know/work ...   \n8           Start a free trial;Ask developers I know/work ...   \n14                                                        NaN   \n17                                                        NaN   \n18          Start a free trial;Ask developers I know/work ...   \n...                                                       ...   \n58498       Start a free trial;Visit developer communities...   \n58896       Ask developers I know/work with;Visit develope...   \n60931       Start a free trial;Visit developer communities...   \n63077                                                     NaN   \n64858                                      Start a free trial   \n\n                NEWPurpleLink  \\\nRespondent                      \n5           Hello, old friend   \n8           Hello, old friend   \n14                     Amused   \n17          Hello, old friend   \n18          Hello, old friend   \n...                       ...   \n58498                  Amused   \n58896                  Amused   \n60931       Hello, old friend   \n63077                     NaN   \n64858                  Amused   \n\n                                                   NEWSOSites  \\\nRespondent                                                      \n5           Stack Overflow (public Q&A for anyone who code...   \n8           Stack Overflow (public Q&A for anyone who code...   \n14          Stack Overflow (public Q&A for anyone who code...   \n17          Stack Overflow (public Q&A for anyone who code...   \n18          Stack Overflow (public Q&A for anyone who code...   \n...                                                       ...   \n58498       Stack Exchange (public Q&A for a variety of to...   \n58896       Stack Overflow (public Q&A for anyone who code...   \n60931        Stack Overflow (public Q&A for anyone who codes)   \n63077        Stack Overflow (public Q&A for anyone who codes)   \n64858        Stack Overflow (public Q&A for anyone who codes)   \n\n                                                     NEWStuck        OpSys  \\\nRespondent                                                                   \n5           Call a coworker or friend;Visit Stack Overflow...      Windows   \n8           Play games;Call a coworker or friend;Visit Sta...  Linux-based   \n14          Call a coworker or friend;Visit Stack Overflow...      Windows   \n17          Call a coworker or friend;Visit Stack Overflow...      Windows   \n18          Play games;Visit Stack Overflow;Do other work ...  Linux-based   \n...                                                       ...          ...   \n58498       Watch help / tutorial videos;Visit another dev...  Linux-based   \n58896       Play games;Call a coworker or friend;Visit Sta...        MacOS   \n60931       Play games;Visit Stack Overflow;Watch help / t...  Linux-based   \n63077                                                     NaN          NaN   \n64858                               Call a coworker or friend      Windows   \n\n                         OrgSize  \\\nRespondent                         \n5                            NaN   \n8             20 to 99 employees   \n14          100 to 499 employees   \n17            20 to 99 employees   \n18          100 to 499 employees   \n...                          ...   \n58498                        NaN   \n58896                        NaN   \n60931                        NaN   \n63077                        NaN   \n64858                        NaN   \n\n                                       PlatformDesireNextYear  \\\nRespondent                                                      \n5           Docker;Google Cloud Platform;Heroku;Linux;Windows   \n8                             iOS;Slack Apps and Integrations   \n14                 Google Cloud Platform;Raspberry Pi;Windows   \n17                          Docker;Kubernetes;Microsoft Azure   \n18                                                      Linux   \n...                                                       ...   \n58498       Android;Google Cloud Platform;Linux;MacOS;Micr...   \n58896                                                     NaN   \n60931              Android;Arduino;Linux;Raspberry Pi;Windows   \n63077                                                     NaN   \n64858                                                     NaN   \n\n                                           PlatformWorkedWith  \\\nRespondent                                                      \n5                              AWS;Docker;Linux;MacOS;Windows   \n8                                                      Docker   \n14                              Google Cloud Platform;Windows   \n17                                                        NaN   \n18                                                  AWS;Linux   \n...                                                       ...   \n58498       Android;Google Cloud Platform;Linux;MacOS;Micr...   \n58896                                                     NaN   \n60931                                               WordPress   \n63077                                                     NaN   \n64858                                                     NaN   \n\n                             PurchaseWhat                Sexuality SOAccount  \\\nRespondent                                                                     \n5                                     NaN  Straight / Heterosexual       Yes   \n8                   I have some influence  Straight / Heterosexual       Yes   \n14          I have little or no influence  Straight / Heterosexual       Yes   \n17          I have little or no influence  Straight / Heterosexual       Yes   \n18                  I have some influence  Straight / Heterosexual       Yes   \n...                                   ...                      ...       ...   \n58498                                 NaN  Straight / Heterosexual       NaN   \n58896                                 NaN     Gay or Lesbian;Queer       Yes   \n60931                                 NaN                      NaN       Yes   \n63077                                 NaN                      NaN       Yes   \n64858                                 NaN                      NaN       NaN   \n\n                     SOComm  \\\nRespondent                    \n5             Yes, somewhat   \n8            No, not really   \n14          Yes, definitely   \n17           No, not at all   \n18            Yes, somewhat   \n...                     ...   \n58498                   NaN   \n58896         Yes, somewhat   \n60931               Neutral   \n63077        No, not really   \n64858                   NaN   \n\n                                                   SOPartFreq  \\\nRespondent                                                      \n5                         Less than once per month or monthly   \n8                         Less than once per month or monthly   \n14                                       A few times per week   \n17          I have never participated in Q&A on Stack Over...   \n18          I have never participated in Q&A on Stack Over...   \n...                                                       ...   \n58498                                                     NaN   \n58896                                    A few times per week   \n60931       I have never participated in Q&A on Stack Over...   \n63077       I have never participated in Q&A on Stack Over...   \n64858                                                     NaN   \n\n                                    SOVisitFreq                  SurveyEase  \\\nRespondent                                                                    \n5               A few times per month or weekly                        Easy   \n8                        Multiple times per day                        Easy   \n14                       Multiple times per day  Neither easy nor difficult   \n17                        Daily or almost daily                        Easy   \n18                        Daily or almost daily  Neither easy nor difficult   \n...                                         ...                         ...   \n58498                                       NaN  Neither easy nor difficult   \n58896                     Daily or almost daily  Neither easy nor difficult   \n60931       Less than once per month or monthly  Neither easy nor difficult   \n63077                      A few times per week                         NaN   \n64858                                       NaN                         NaN   \n\n                     SurveyLength Trans  \\\nRespondent                                \n5                       Too short    No   \n8           Appropriate in length    No   \n14          Appropriate in length    No   \n17          Appropriate in length    No   \n18          Appropriate in length    No   \n...                           ...   ...   \n58498       Appropriate in length    No   \n58896       Appropriate in length    No   \n60931                    Too long    No   \n63077                         NaN   NaN   \n64858                         NaN   NaN   \n\n                                               UndergradMajor  \\\nRespondent                                                      \n5           Computer science, computer engineering, or sof...   \n8           Computer science, computer engineering, or sof...   \n14          Computer science, computer engineering, or sof...   \n17          Computer science, computer engineering, or sof...   \n18          Computer science, computer engineering, or sof...   \n...                                                       ...   \n58498                               Mathematics or statistics   \n58896       Computer science, computer engineering, or sof...   \n60931                           Web development or web design   \n63077       Computer science, computer engineering, or sof...   \n64858       Computer science, computer engineering, or sof...   \n\n                                       WebframeDesireNextYear  \\\nRespondent                                                      \n5                                        Django;Ruby on Rails   \n8                                      Django;React.js;Vue.js   \n14                                             Angular;Vue.js   \n17                        ASP.NET Core;Gatsby;React.js;Vue.js   \n18                                                        NaN   \n...                                                       ...   \n58498       ASP.NET;ASP.NET Core;Flask;Gatsby;jQuery;React...   \n58896                                                     NaN   \n60931                                                     NaN   \n63077                                                     NaN   \n64858                                                     NaN   \n\n                                           WebframeWorkedWith  \\\nRespondent                                                      \n5                                               Ruby on Rails   \n8                                                       Flask   \n14                                             Angular;Vue.js   \n17                      ASP.NET;Gatsby;jQuery;React.js;Vue.js   \n18                                                        NaN   \n...                                                       ...   \n58498       ASP.NET;ASP.NET Core;Flask;Gatsby;jQuery;React...   \n58896                                                     NaN   \n60931                                                  Drupal   \n63077                                                     NaN   \n64858                                                     NaN   \n\n                                                WelcomeChange  WorkWeekHrs  \\\nRespondent                                                                   \n5                     Just as welcome now as I felt last year          NaN   \n8                     Just as welcome now as I felt last year         39.0   \n14                    Just as welcome now as I felt last year         40.0   \n17                    Just as welcome now as I felt last year         40.0   \n18                    Just as welcome now as I felt last year         45.0   \n...                                                       ...          ...   \n58498                                                     NaN          NaN   \n58896                 Just as welcome now as I felt last year          NaN   \n60931       Not applicable - I did not use Stack Overflow ...          NaN   \n63077                                                     NaN          NaN   \n64858                                                     NaN          NaN   \n\n           YearsCode      YearsCodePro  \nRespondent                              \n5                 15                 8  \n8                 17                13  \n14                 5                 1  \n17                 7                 3  \n18                19                12  \n...              ...               ...  \n58498              8  Less than 1 year  \n58896             29               NaN  \n60931              5               NaN  \n63077              4               NaN  \n64858             10  Less than 1 year  \n\n[12469 rows x 60 columns]",
      "text/html": "<div>\n<style scoped>\n    .dataframe tbody tr th:only-of-type {\n        vertical-align: middle;\n    }\n\n    .dataframe tbody tr th {\n        vertical-align: top;\n    }\n\n    .dataframe thead th {\n        text-align: right;\n    }\n</style>\n<table border=\"1\" class=\"dataframe\">\n  <thead>\n    <tr style=\"text-align: right;\">\n      <th></th>\n      <th>MainBranch</th>\n      <th>Hobbyist</th>\n      <th>Age</th>\n      <th>Age1stCode</th>\n      <th>CompFreq</th>\n      <th>CompTotal</th>\n      <th>ConvertedComp</th>\n      <th>Country</th>\n      <th>CurrencyDesc</th>\n      <th>CurrencySymbol</th>\n      <th>DatabaseDesireNextYear</th>\n      <th>DatabaseWorkedWith</th>\n      <th>DevType</th>\n      <th>EdLevel</th>\n      <th>Employment</th>\n      <th>Ethnicity</th>\n      <th>Gender</th>\n      <th>JobFactors</th>\n      <th>JobSat</th>\n      <th>JobSeek</th>\n      <th>LanguageDesireNextYear</th>\n      <th>LanguageWorkedWith</th>\n      <th>MiscTechDesireNextYear</th>\n      <th>MiscTechWorkedWith</th>\n      <th>NEWCollabToolsDesireNextYear</th>\n      <th>NEWCollabToolsWorkedWith</th>\n      <th>NEWDevOps</th>\n      <th>NEWDevOpsImpt</th>\n      <th>NEWEdImpt</th>\n      <th>NEWJobHunt</th>\n      <th>NEWJobHuntResearch</th>\n      <th>NEWLearn</th>\n      <th>NEWOffTopic</th>\n      <th>NEWOnboardGood</th>\n      <th>NEWOtherComms</th>\n      <th>NEWOvertime</th>\n      <th>NEWPurchaseResearch</th>\n      <th>NEWPurpleLink</th>\n      <th>NEWSOSites</th>\n      <th>NEWStuck</th>\n      <th>OpSys</th>\n      <th>OrgSize</th>\n      <th>PlatformDesireNextYear</th>\n      <th>PlatformWorkedWith</th>\n      <th>PurchaseWhat</th>\n      <th>Sexuality</th>\n      <th>SOAccount</th>\n      <th>SOComm</th>\n      <th>SOPartFreq</th>\n      <th>SOVisitFreq</th>\n      <th>SurveyEase</th>\n      <th>SurveyLength</th>\n      <th>Trans</th>\n      <th>UndergradMajor</th>\n      <th>WebframeDesireNextYear</th>\n      <th>WebframeWorkedWith</th>\n      <th>WelcomeChange</th>\n      <th>WorkWeekHrs</th>\n      <th>YearsCode</th>\n      <th>YearsCodePro</th>\n    </tr>\n    <tr>\n      <th>Respondent</th>\n      <th></th>\n      <th></th>\n      <th></th>\n      <th></th>\n      <th></th>\n      <th></th>\n      <th></th>\n      <th></th>\n      <th></th>\n      <th></th>\n      <th></th>\n      <th></th>\n      <th></th>\n      <th></th>\n      <th></th>\n      <th></th>\n      <th></th>\n      <th></th>\n      <th></th>\n      <th></th>\n      <th></th>\n      <th></th>\n      <th></th>\n      <th></th>\n      <th></th>\n      <th></th>\n      <th></th>\n      <th></th>\n      <th></th>\n      <th></th>\n      <th></th>\n      <th></th>\n      <th></th>\n      <th></th>\n      <th></th>\n      <th></th>\n      <th></th>\n      <th></th>\n      <th></th>\n      <th></th>\n      <th></th>\n      <th></th>\n      <th></th>\n      <th></th>\n      <th></th>\n      <th></th>\n      <th></th>\n      <th></th>\n      <th></th>\n      <th></th>\n      <th></th>\n      <th></th>\n      <th></th>\n      <th></th>\n      <th></th>\n      <th></th>\n      <th></th>\n      <th></th>\n      <th></th>\n      <th></th>\n    </tr>\n  </thead>\n  <tbody>\n    <tr>\n      <th>5</th>\n      <td>I used to be a developer by profession, but no...</td>\n      <td>Yes</td>\n      <td>31.0</td>\n      <td>16</td>\n      <td>NaN</td>\n      <td>NaN</td>\n      <td>NaN</td>\n      <td>United States</td>\n      <td>NaN</td>\n      <td>NaN</td>\n      <td>MySQL;PostgreSQL</td>\n      <td>MySQL;PostgreSQL;Redis;SQLite</td>\n      <td>NaN</td>\n      <td>Bachelor’s degree (B.A., B.S., B.Eng., etc.)</td>\n      <td>Employed full-time</td>\n      <td>White or of European descent</td>\n      <td>Man</td>\n      <td>NaN</td>\n      <td>NaN</td>\n      <td>NaN</td>\n      <td>Java;Ruby;Scala</td>\n      <td>HTML/CSS;Ruby;SQL</td>\n      <td>Ansible;Chef</td>\n      <td>Ansible</td>\n      <td>Github;Google Suite (Docs, Meet, etc)</td>\n      <td>Confluence;Jira;Github;Slack;Google Suite (Doc...</td>\n      <td>NaN</td>\n      <td>NaN</td>\n      <td>Very important</td>\n      <td>NaN</td>\n      <td>NaN</td>\n      <td>Once a year</td>\n      <td>No</td>\n      <td>NaN</td>\n      <td>Yes</td>\n      <td>NaN</td>\n      <td>Start a free trial;Ask developers I know/work ...</td>\n      <td>Hello, old friend</td>\n      <td>Stack Overflow (public Q&amp;A for anyone who code...</td>\n      <td>Call a coworker or friend;Visit Stack Overflow...</td>\n      <td>Windows</td>\n      <td>NaN</td>\n      <td>Docker;Google Cloud Platform;Heroku;Linux;Windows</td>\n      <td>AWS;Docker;Linux;MacOS;Windows</td>\n      <td>NaN</td>\n      <td>Straight / Heterosexual</td>\n      <td>Yes</td>\n      <td>Yes, somewhat</td>\n      <td>Less than once per month or monthly</td>\n      <td>A few times per month or weekly</td>\n      <td>Easy</td>\n      <td>Too short</td>\n      <td>No</td>\n      <td>Computer science, computer engineering, or sof...</td>\n      <td>Django;Ruby on Rails</td>\n      <td>Ruby on Rails</td>\n      <td>Just as welcome now as I felt last year</td>\n      <td>NaN</td>\n      <td>15</td>\n      <td>8</td>\n    </tr>\n    <tr>\n      <th>8</th>\n      <td>I am a developer by profession</td>\n      <td>Yes</td>\n      <td>36.0</td>\n      <td>12</td>\n      <td>Yearly</td>\n      <td>116000.0</td>\n      <td>116000.0</td>\n      <td>United States</td>\n      <td>United States dollar</td>\n      <td>USD</td>\n      <td>MongoDB</td>\n      <td>MariaDB;MySQL;Redis</td>\n      <td>Developer, back-end;Developer, desktop or ente...</td>\n      <td>Bachelor’s degree (B.A., B.S., B.Eng., etc.)</td>\n      <td>Employed full-time</td>\n      <td>White or of European descent</td>\n      <td>Man</td>\n      <td>Remote work options;Opportunities for professi...</td>\n      <td>Slightly dissatisfied</td>\n      <td>I’m not actively looking, but I am open to new...</td>\n      <td>JavaScript</td>\n      <td>Python;SQL</td>\n      <td>Unity 3D</td>\n      <td>Ansible</td>\n      <td>NaN</td>\n      <td>Confluence;Jira;Github;Slack;Microsoft Teams;G...</td>\n      <td>Yes</td>\n      <td>Extremely important</td>\n      <td>Not at all important/not necessary</td>\n      <td>Curious about other opportunities;Better compe...</td>\n      <td>Read company media, such as employee blogs or ...</td>\n      <td>Once a year</td>\n      <td>Not sure</td>\n      <td>Yes</td>\n      <td>No</td>\n      <td>Occasionally: 1-2 days per quarter but less th...</td>\n      <td>Start a free trial;Ask developers I know/work ...</td>\n      <td>Hello, old friend</td>\n      <td>Stack Overflow (public Q&amp;A for anyone who code...</td>\n      <td>Play games;Call a coworker or friend;Visit Sta...</td>\n      <td>Linux-based</td>\n      <td>20 to 99 employees</td>\n      <td>iOS;Slack Apps and Integrations</td>\n      <td>Docker</td>\n      <td>I have some influence</td>\n      <td>Straight / Heterosexual</td>\n      <td>Yes</td>\n      <td>No, not really</td>\n      <td>Less than once per month or monthly</td>\n      <td>Multiple times per day</td>\n      <td>Easy</td>\n      <td>Appropriate in length</td>\n      <td>No</td>\n      <td>Computer science, computer engineering, or sof...</td>\n      <td>Django;React.js;Vue.js</td>\n      <td>Flask</td>\n      <td>Just as welcome now as I felt last year</td>\n      <td>39.0</td>\n      <td>17</td>\n      <td>13</td>\n    </tr>\n    <tr>\n      <th>14</th>\n      <td>I am a developer by profession</td>\n      <td>Yes</td>\n      <td>27.0</td>\n      <td>13</td>\n      <td>Yearly</td>\n      <td>66000.0</td>\n      <td>66000.0</td>\n      <td>United States</td>\n      <td>United States dollar</td>\n      <td>USD</td>\n      <td>Firebase;Microsoft SQL Server</td>\n      <td>Firebase;Microsoft SQL Server</td>\n      <td>Developer, desktop or enterprise applications;...</td>\n      <td>Associate degree (A.A., A.S., etc.)</td>\n      <td>Employed full-time</td>\n      <td>White or of European descent</td>\n      <td>Man</td>\n      <td>Industry that I’d be working in;Flex time or a...</td>\n      <td>Slightly satisfied</td>\n      <td>I’m not actively looking, but I am open to new...</td>\n      <td>HTML/CSS;JavaScript;SQL;TypeScript</td>\n      <td>HTML/CSS;JavaScript;SQL;TypeScript</td>\n      <td>Node.js</td>\n      <td>Node.js</td>\n      <td>Confluence;Jira;Github;Microsoft Teams;Google ...</td>\n      <td>Confluence;Jira;Github;Microsoft Teams</td>\n      <td>Yes</td>\n      <td>Extremely important</td>\n      <td>Somewhat important</td>\n      <td>Wanting to share accomplishments with a wider ...</td>\n      <td>Read company media, such as employee blogs or ...</td>\n      <td>Every few months</td>\n      <td>No</td>\n      <td>Yes</td>\n      <td>No</td>\n      <td>Occasionally: 1-2 days per quarter but less th...</td>\n      <td>NaN</td>\n      <td>Amused</td>\n      <td>Stack Overflow (public Q&amp;A for anyone who code...</td>\n      <td>Call a coworker or friend;Visit Stack Overflow...</td>\n      <td>Windows</td>\n      <td>100 to 499 employees</td>\n      <td>Google Cloud Platform;Raspberry Pi;Windows</td>\n      <td>Google Cloud Platform;Windows</td>\n      <td>I have little or no influence</td>\n      <td>Straight / Heterosexual</td>\n      <td>Yes</td>\n      <td>Yes, definitely</td>\n      <td>A few times per week</td>\n      <td>Multiple times per day</td>\n      <td>Neither easy nor difficult</td>\n      <td>Appropriate in length</td>\n      <td>No</td>\n      <td>Computer science, computer engineering, or sof...</td>\n      <td>Angular;Vue.js</td>\n      <td>Angular;Vue.js</td>\n      <td>Just as welcome now as I felt last year</td>\n      <td>40.0</td>\n      <td>5</td>\n      <td>1</td>\n    </tr>\n    <tr>\n      <th>17</th>\n      <td>I am a developer by profession</td>\n      <td>Yes</td>\n      <td>25.0</td>\n      <td>14</td>\n      <td>Yearly</td>\n      <td>79000.0</td>\n      <td>79000.0</td>\n      <td>United States</td>\n      <td>United States dollar</td>\n      <td>USD</td>\n      <td>Cassandra;Elasticsearch;MariaDB;PostgreSQL;Redis</td>\n      <td>Microsoft SQL Server;PostgreSQL</td>\n      <td>Developer, full-stack</td>\n      <td>Bachelor’s degree (B.A., B.S., B.Eng., etc.)</td>\n      <td>Employed full-time</td>\n      <td>White or of European descent</td>\n      <td>Man</td>\n      <td>Industry that I’d be working in;Languages, fra...</td>\n      <td>Slightly dissatisfied</td>\n      <td>I’m not actively looking, but I am open to new...</td>\n      <td>C#;Go;Haskell;HTML/CSS;JavaScript;Python;Ruby;...</td>\n      <td>C#;HTML/CSS;JavaScript;Python;SQL;VBA</td>\n      <td>.NET Core;Teraform</td>\n      <td>.NET;Node.js</td>\n      <td>Github;Gitlab;Slack;Google Suite (Docs, Meet, ...</td>\n      <td>Github;Gitlab;Slack;Microsoft Teams;Google Sui...</td>\n      <td>Yes</td>\n      <td>Extremely important</td>\n      <td>Fairly important</td>\n      <td>Having a bad day (or week or month) at work;Be...</td>\n      <td>Company reviews from third party sites (e.g. G...</td>\n      <td>Once a year</td>\n      <td>Not sure</td>\n      <td>No</td>\n      <td>No</td>\n      <td>Rarely: 1-2 days per year or less</td>\n      <td>NaN</td>\n      <td>Hello, old friend</td>\n      <td>Stack Overflow (public Q&amp;A for anyone who code...</td>\n      <td>Call a coworker or friend;Visit Stack Overflow...</td>\n      <td>Windows</td>\n      <td>20 to 99 employees</td>\n      <td>Docker;Kubernetes;Microsoft Azure</td>\n      <td>NaN</td>\n      <td>I have little or no influence</td>\n      <td>Straight / Heterosexual</td>\n      <td>Yes</td>\n      <td>No, not at all</td>\n      <td>I have never participated in Q&amp;A on Stack Over...</td>\n      <td>Daily or almost daily</td>\n      <td>Easy</td>\n      <td>Appropriate in length</td>\n      <td>No</td>\n      <td>Computer science, computer engineering, or sof...</td>\n      <td>ASP.NET Core;Gatsby;React.js;Vue.js</td>\n      <td>ASP.NET;Gatsby;jQuery;React.js;Vue.js</td>\n      <td>Just as welcome now as I felt last year</td>\n      <td>40.0</td>\n      <td>7</td>\n      <td>3</td>\n    </tr>\n    <tr>\n      <th>18</th>\n      <td>I am a developer by profession</td>\n      <td>Yes</td>\n      <td>32.0</td>\n      <td>12</td>\n      <td>Monthly</td>\n      <td>105000.0</td>\n      <td>1260000.0</td>\n      <td>United States</td>\n      <td>United States dollar</td>\n      <td>USD</td>\n      <td>Elasticsearch;PostgreSQL;Redis;SQLite</td>\n      <td>Elasticsearch;MariaDB;MySQL;Redis;SQLite</td>\n      <td>Developer, back-end</td>\n      <td>Bachelor’s degree (B.A., B.S., B.Eng., etc.)</td>\n      <td>Employed full-time</td>\n      <td>White or of European descent</td>\n      <td>Man</td>\n      <td>Languages, frameworks, and other technologies ...</td>\n      <td>Very satisfied</td>\n      <td>I am not interested in new job opportunities</td>\n      <td>HTML/CSS;Perl</td>\n      <td>Bash/Shell/PowerShell;HTML/CSS;Perl</td>\n      <td>NaN</td>\n      <td>NaN</td>\n      <td>Github</td>\n      <td>Github;Slack</td>\n      <td>Not sure</td>\n      <td>Neutral</td>\n      <td>Very important</td>\n      <td>Looking to relocate</td>\n      <td>NaN</td>\n      <td>Once every few years</td>\n      <td>Yes</td>\n      <td>Onboarding? What onboarding?</td>\n      <td>Yes</td>\n      <td>Occasionally: 1-2 days per quarter but less th...</td>\n      <td>Start a free trial;Ask developers I know/work ...</td>\n      <td>Hello, old friend</td>\n      <td>Stack Overflow (public Q&amp;A for anyone who code...</td>\n      <td>Play games;Visit Stack Overflow;Do other work ...</td>\n      <td>Linux-based</td>\n      <td>100 to 499 employees</td>\n      <td>Linux</td>\n      <td>AWS;Linux</td>\n      <td>I have some influence</td>\n      <td>Straight / Heterosexual</td>\n      <td>Yes</td>\n      <td>Yes, somewhat</td>\n      <td>I have never participated in Q&amp;A on Stack Over...</td>\n      <td>Daily or almost daily</td>\n      <td>Neither easy nor difficult</td>\n      <td>Appropriate in length</td>\n      <td>No</td>\n      <td>Computer science, computer engineering, or sof...</td>\n      <td>NaN</td>\n      <td>NaN</td>\n      <td>Just as welcome now as I felt last year</td>\n      <td>45.0</td>\n      <td>19</td>\n      <td>12</td>\n    </tr>\n    <tr>\n      <th>...</th>\n      <td>...</td>\n      <td>...</td>\n      <td>...</td>\n      <td>...</td>\n      <td>...</td>\n      <td>...</td>\n      <td>...</td>\n      <td>...</td>\n      <td>...</td>\n      <td>...</td>\n      <td>...</td>\n      <td>...</td>\n      <td>...</td>\n      <td>...</td>\n      <td>...</td>\n      <td>...</td>\n      <td>...</td>\n      <td>...</td>\n      <td>...</td>\n      <td>...</td>\n      <td>...</td>\n      <td>...</td>\n      <td>...</td>\n      <td>...</td>\n      <td>...</td>\n      <td>...</td>\n      <td>...</td>\n      <td>...</td>\n      <td>...</td>\n      <td>...</td>\n      <td>...</td>\n      <td>...</td>\n      <td>...</td>\n      <td>...</td>\n      <td>...</td>\n      <td>...</td>\n      <td>...</td>\n      <td>...</td>\n      <td>...</td>\n      <td>...</td>\n      <td>...</td>\n      <td>...</td>\n      <td>...</td>\n      <td>...</td>\n      <td>...</td>\n      <td>...</td>\n      <td>...</td>\n      <td>...</td>\n      <td>...</td>\n      <td>...</td>\n      <td>...</td>\n      <td>...</td>\n      <td>...</td>\n      <td>...</td>\n      <td>...</td>\n      <td>...</td>\n      <td>...</td>\n      <td>...</td>\n      <td>...</td>\n      <td>...</td>\n    </tr>\n    <tr>\n      <th>58498</th>\n      <td>NaN</td>\n      <td>Yes</td>\n      <td>32.0</td>\n      <td>23</td>\n      <td>NaN</td>\n      <td>NaN</td>\n      <td>NaN</td>\n      <td>United States</td>\n      <td>NaN</td>\n      <td>NaN</td>\n      <td>Firebase;Microsoft SQL Server;MySQL;SQLite</td>\n      <td>Firebase;Microsoft SQL Server;MySQL;SQLite</td>\n      <td>Data or business analyst;Developer, back-end;S...</td>\n      <td>Some college/university study without earning ...</td>\n      <td>Independent contractor, freelancer, or self-em...</td>\n      <td>White or of European descent</td>\n      <td>Man</td>\n      <td>NaN</td>\n      <td>NaN</td>\n      <td>NaN</td>\n      <td>Assembly;Bash/Shell/PowerShell;C;C#;C++;Dart;G...</td>\n      <td>Assembly;Bash/Shell/PowerShell;C;C#;C++;Dart;G...</td>\n      <td>.NET;.NET Core;Apache Spark;Cordova;Flutter;No...</td>\n      <td>.NET;.NET Core;Apache Spark;Cordova;Flutter;No...</td>\n      <td>Github;Gitlab;Facebook Workplace;Slack;Microso...</td>\n      <td>Github;Gitlab;Facebook Workplace;Slack;Microso...</td>\n      <td>NaN</td>\n      <td>NaN</td>\n      <td>Very important</td>\n      <td>NaN</td>\n      <td>NaN</td>\n      <td>NaN</td>\n      <td>NaN</td>\n      <td>NaN</td>\n      <td>NaN</td>\n      <td>NaN</td>\n      <td>Start a free trial;Visit developer communities...</td>\n      <td>Amused</td>\n      <td>Stack Exchange (public Q&amp;A for a variety of to...</td>\n      <td>Watch help / tutorial videos;Visit another dev...</td>\n      <td>Linux-based</td>\n      <td>NaN</td>\n      <td>Android;Google Cloud Platform;Linux;MacOS;Micr...</td>\n      <td>Android;Google Cloud Platform;Linux;MacOS;Micr...</td>\n      <td>NaN</td>\n      <td>Straight / Heterosexual</td>\n      <td>NaN</td>\n      <td>NaN</td>\n      <td>NaN</td>\n      <td>NaN</td>\n      <td>Neither easy nor difficult</td>\n      <td>Appropriate in length</td>\n      <td>No</td>\n      <td>Mathematics or statistics</td>\n      <td>ASP.NET;ASP.NET Core;Flask;Gatsby;jQuery;React...</td>\n      <td>ASP.NET;ASP.NET Core;Flask;Gatsby;jQuery;React...</td>\n      <td>NaN</td>\n      <td>NaN</td>\n      <td>8</td>\n      <td>Less than 1 year</td>\n    </tr>\n    <tr>\n      <th>58896</th>\n      <td>NaN</td>\n      <td>Yes</td>\n      <td>29.0</td>\n      <td>10</td>\n      <td>NaN</td>\n      <td>NaN</td>\n      <td>NaN</td>\n      <td>United States</td>\n      <td>NaN</td>\n      <td>NaN</td>\n      <td>NaN</td>\n      <td>NaN</td>\n      <td>NaN</td>\n      <td>Bachelor’s degree (B.A., B.S., B.Eng., etc.)</td>\n      <td>Student</td>\n      <td>White or of European descent</td>\n      <td>Man</td>\n      <td>NaN</td>\n      <td>NaN</td>\n      <td>NaN</td>\n      <td>Haskell</td>\n      <td>Haskell</td>\n      <td>NaN</td>\n      <td>NaN</td>\n      <td>Gitlab;Slack</td>\n      <td>Github;Gitlab;Slack</td>\n      <td>NaN</td>\n      <td>NaN</td>\n      <td>NaN</td>\n      <td>NaN</td>\n      <td>NaN</td>\n      <td>Once a year</td>\n      <td>No</td>\n      <td>NaN</td>\n      <td>NaN</td>\n      <td>NaN</td>\n      <td>Ask developers I know/work with;Visit develope...</td>\n      <td>Amused</td>\n      <td>Stack Overflow (public Q&amp;A for anyone who code...</td>\n      <td>Play games;Call a coworker or friend;Visit Sta...</td>\n      <td>MacOS</td>\n      <td>NaN</td>\n      <td>NaN</td>\n      <td>NaN</td>\n      <td>NaN</td>\n      <td>Gay or Lesbian;Queer</td>\n      <td>Yes</td>\n      <td>Yes, somewhat</td>\n      <td>A few times per week</td>\n      <td>Daily or almost daily</td>\n      <td>Neither easy nor difficult</td>\n      <td>Appropriate in length</td>\n      <td>No</td>\n      <td>Computer science, computer engineering, or sof...</td>\n      <td>NaN</td>\n      <td>NaN</td>\n      <td>Just as welcome now as I felt last year</td>\n      <td>NaN</td>\n      <td>29</td>\n      <td>NaN</td>\n    </tr>\n    <tr>\n      <th>60931</th>\n      <td>NaN</td>\n      <td>Yes</td>\n      <td>NaN</td>\n      <td>17</td>\n      <td>NaN</td>\n      <td>NaN</td>\n      <td>NaN</td>\n      <td>United States</td>\n      <td>NaN</td>\n      <td>NaN</td>\n      <td>MariaDB;MySQL;PostgreSQL</td>\n      <td>MariaDB;MySQL</td>\n      <td>System administrator</td>\n      <td>Some college/university study without earning ...</td>\n      <td>Employed full-time</td>\n      <td>NaN</td>\n      <td>Man</td>\n      <td>NaN</td>\n      <td>NaN</td>\n      <td>NaN</td>\n      <td>Bash/Shell/PowerShell;C;C#;C++;PHP;Python</td>\n      <td>Bash/Shell/PowerShell;HTML/CSS;PHP</td>\n      <td>Unity 3D;Unreal Engine</td>\n      <td>NaN</td>\n      <td>Github;Stack Overflow for Teams</td>\n      <td>Github</td>\n      <td>NaN</td>\n      <td>NaN</td>\n      <td>Not at all important/not necessary</td>\n      <td>NaN</td>\n      <td>NaN</td>\n      <td>NaN</td>\n      <td>Not sure</td>\n      <td>NaN</td>\n      <td>NaN</td>\n      <td>NaN</td>\n      <td>Start a free trial;Visit developer communities...</td>\n      <td>Hello, old friend</td>\n      <td>Stack Overflow (public Q&amp;A for anyone who codes)</td>\n      <td>Play games;Visit Stack Overflow;Watch help / t...</td>\n      <td>Linux-based</td>\n      <td>NaN</td>\n      <td>Android;Arduino;Linux;Raspberry Pi;Windows</td>\n      <td>WordPress</td>\n      <td>NaN</td>\n      <td>NaN</td>\n      <td>Yes</td>\n      <td>Neutral</td>\n      <td>I have never participated in Q&amp;A on Stack Over...</td>\n      <td>Less than once per month or monthly</td>\n      <td>Neither easy nor difficult</td>\n      <td>Too long</td>\n      <td>No</td>\n      <td>Web development or web design</td>\n      <td>NaN</td>\n      <td>Drupal</td>\n      <td>Not applicable - I did not use Stack Overflow ...</td>\n      <td>NaN</td>\n      <td>5</td>\n      <td>NaN</td>\n    </tr>\n    <tr>\n      <th>63077</th>\n      <td>NaN</td>\n      <td>Yes</td>\n      <td>NaN</td>\n      <td>20</td>\n      <td>NaN</td>\n      <td>NaN</td>\n      <td>NaN</td>\n      <td>United States</td>\n      <td>NaN</td>\n      <td>NaN</td>\n      <td>MySQL</td>\n      <td>MySQL</td>\n      <td>NaN</td>\n      <td>Bachelor’s degree (B.A., B.S., B.Eng., etc.)</td>\n      <td>Not employed, but looking for work</td>\n      <td>NaN</td>\n      <td>NaN</td>\n      <td>NaN</td>\n      <td>NaN</td>\n      <td>NaN</td>\n      <td>C++;Rust;SQL</td>\n      <td>C++;HTML/CSS;Java;JavaScript;Python;SQL</td>\n      <td>NaN</td>\n      <td>NaN</td>\n      <td>NaN</td>\n      <td>NaN</td>\n      <td>NaN</td>\n      <td>NaN</td>\n      <td>Fairly important</td>\n      <td>NaN</td>\n      <td>NaN</td>\n      <td>NaN</td>\n      <td>NaN</td>\n      <td>NaN</td>\n      <td>NaN</td>\n      <td>NaN</td>\n      <td>NaN</td>\n      <td>NaN</td>\n      <td>Stack Overflow (public Q&amp;A for anyone who codes)</td>\n      <td>NaN</td>\n      <td>NaN</td>\n      <td>NaN</td>\n      <td>NaN</td>\n      <td>NaN</td>\n      <td>NaN</td>\n      <td>NaN</td>\n      <td>Yes</td>\n      <td>No, not really</td>\n      <td>I have never participated in Q&amp;A on Stack Over...</td>\n      <td>A few times per week</td>\n      <td>NaN</td>\n      <td>NaN</td>\n      <td>NaN</td>\n      <td>Computer science, computer engineering, or sof...</td>\n      <td>NaN</td>\n      <td>NaN</td>\n      <td>NaN</td>\n      <td>NaN</td>\n      <td>4</td>\n      <td>NaN</td>\n    </tr>\n    <tr>\n      <th>64858</th>\n      <td>NaN</td>\n      <td>Yes</td>\n      <td>NaN</td>\n      <td>16</td>\n      <td>NaN</td>\n      <td>NaN</td>\n      <td>NaN</td>\n      <td>United States</td>\n      <td>NaN</td>\n      <td>NaN</td>\n      <td>NaN</td>\n      <td>NaN</td>\n      <td>Senior executive/VP</td>\n      <td>Master’s degree (M.A., M.S., M.Eng., MBA, etc.)</td>\n      <td>Employed full-time</td>\n      <td>NaN</td>\n      <td>NaN</td>\n      <td>NaN</td>\n      <td>NaN</td>\n      <td>NaN</td>\n      <td>NaN</td>\n      <td>NaN</td>\n      <td>NaN</td>\n      <td>NaN</td>\n      <td>NaN</td>\n      <td>NaN</td>\n      <td>NaN</td>\n      <td>NaN</td>\n      <td>Very important</td>\n      <td>NaN</td>\n      <td>NaN</td>\n      <td>Once a decade</td>\n      <td>NaN</td>\n      <td>NaN</td>\n      <td>NaN</td>\n      <td>NaN</td>\n      <td>Start a free trial</td>\n      <td>Amused</td>\n      <td>Stack Overflow (public Q&amp;A for anyone who codes)</td>\n      <td>Call a coworker or friend</td>\n      <td>Windows</td>\n      <td>NaN</td>\n      <td>NaN</td>\n      <td>NaN</td>\n      <td>NaN</td>\n      <td>NaN</td>\n      <td>NaN</td>\n      <td>NaN</td>\n      <td>NaN</td>\n      <td>NaN</td>\n      <td>NaN</td>\n      <td>NaN</td>\n      <td>NaN</td>\n      <td>Computer science, computer engineering, or sof...</td>\n      <td>NaN</td>\n      <td>NaN</td>\n      <td>NaN</td>\n      <td>NaN</td>\n      <td>10</td>\n      <td>Less than 1 year</td>\n    </tr>\n  </tbody>\n</table>\n<p>12469 rows × 60 columns</p>\n</div>"
     },
     "metadata": {}
    }
   ]
  },
  {
   "cell_type": "code",
   "metadata": {
    "cell_id": "6e65eaad3764495798f52a673de5b58e",
    "tags": [],
    "deepnote_to_be_reexecuted": false,
    "source_hash": "603a52e2",
    "execution_start": 1657887034068,
    "execution_millis": 310,
    "deepnote_cell_type": "code",
    "deepnote_cell_height": 617
   },
   "source": "contry.get_group('India')",
   "execution_count": null,
   "outputs": [
    {
     "output_type": "execute_result",
     "execution_count": 27,
     "data": {
      "application/vnd.deepnote.dataframe.v3+json": {
       "column_count": 60,
       "row_count": 8403,
       "columns": [
        {
         "name": "MainBranch",
         "dtype": "object",
         "stats": {
          "unique_count": 5,
          "nan_count": 19,
          "categories": [
           {
            "name": "I am a developer by profession",
            "count": 6080
           },
           {
            "name": "4 others",
            "count": 2304
           },
           {
            "name": "Missing",
            "count": 19
           }
          ]
         }
        },
        {
         "name": "Hobbyist",
         "dtype": "object",
         "stats": {
          "unique_count": 2,
          "nan_count": 0,
          "categories": [
           {
            "name": "Yes",
            "count": 6645
           },
           {
            "name": "No",
            "count": 1758
           }
          ]
         }
        },
        {
         "name": "Age",
         "dtype": "float64",
         "stats": {
          "unique_count": 61,
          "nan_count": 3990,
          "min": "3.0",
          "max": "99.0",
          "histogram": [
           {
            "bin_start": 3,
            "bin_end": 12.6,
            "count": 5
           },
           {
            "bin_start": 12.6,
            "bin_end": 22.2,
            "count": 1144
           },
           {
            "bin_start": 22.2,
            "bin_end": 31.799999999999997,
            "count": 2747
           },
           {
            "bin_start": 31.799999999999997,
            "bin_end": 41.4,
            "count": 452
           },
           {
            "bin_start": 41.4,
            "bin_end": 51,
            "count": 44
           },
           {
            "bin_start": 51,
            "bin_end": 60.599999999999994,
            "count": 12
           },
           {
            "bin_start": 60.599999999999994,
            "bin_end": 70.2,
            "count": 4
           },
           {
            "bin_start": 70.2,
            "bin_end": 79.8,
            "count": 1
           },
           {
            "bin_start": 79.8,
            "bin_end": 89.39999999999999,
            "count": 0
           },
           {
            "bin_start": 89.39999999999999,
            "bin_end": 99,
            "count": 4
           }
          ]
         }
        },
        {
         "name": "Age1stCode",
         "dtype": "object",
         "stats": {
          "unique_count": 44,
          "nan_count": 1491,
          "categories": [
           {
            "name": "18",
            "count": 1140
           },
           {
            "name": "43 others",
            "count": 5772
           },
           {
            "name": "Missing",
            "count": 1491
           }
          ]
         }
        },
        {
         "name": "CompFreq",
         "dtype": "object",
         "stats": {
          "unique_count": 3,
          "nan_count": 4142,
          "categories": [
           {
            "name": "Monthly",
            "count": 2507
           },
           {
            "name": "2 others",
            "count": 1754
           },
           {
            "name": "Missing",
            "count": 4142
           }
          ]
         }
        },
        {
         "name": "CompTotal",
         "dtype": "float64",
         "stats": {
          "unique_count": 546,
          "nan_count": 5722,
          "min": "0.0",
          "max": "1e+36",
          "histogram": [
           {
            "bin_start": 0,
            "bin_end": 1e+35,
            "count": 2680
           },
           {
            "bin_start": 1e+35,
            "bin_end": 2e+35,
            "count": 0
           },
           {
            "bin_start": 2e+35,
            "bin_end": 3e+35,
            "count": 0
           },
           {
            "bin_start": 3e+35,
            "bin_end": 4e+35,
            "count": 0
           },
           {
            "bin_start": 4e+35,
            "bin_end": 4.9999999999999995e+35,
            "count": 0
           },
           {
            "bin_start": 4.9999999999999995e+35,
            "bin_end": 6e+35,
            "count": 0
           },
           {
            "bin_start": 6e+35,
            "bin_end": 7e+35,
            "count": 0
           },
           {
            "bin_start": 7e+35,
            "bin_end": 8e+35,
            "count": 0
           },
           {
            "bin_start": 8e+35,
            "bin_end": 9e+35,
            "count": 0
           },
           {
            "bin_start": 9e+35,
            "bin_end": 1e+36,
            "count": 1
           }
          ]
         }
        },
        {
         "name": "ConvertedComp",
         "dtype": "float64",
         "stats": {
          "unique_count": 620,
          "nan_count": 5735,
          "min": "0.0",
          "max": "1800000.0",
          "histogram": [
           {
            "bin_start": 0,
            "bin_end": 180000,
            "count": 2592
           },
           {
            "bin_start": 180000,
            "bin_end": 360000,
            "count": 43
           },
           {
            "bin_start": 360000,
            "bin_end": 540000,
            "count": 13
           },
           {
            "bin_start": 540000,
            "bin_end": 720000,
            "count": 8
           },
           {
            "bin_start": 720000,
            "bin_end": 900000,
            "count": 3
           },
           {
            "bin_start": 900000,
            "bin_end": 1080000,
            "count": 7
           },
           {
            "bin_start": 1080000,
            "bin_end": 1260000,
            "count": 0
           },
           {
            "bin_start": 1260000,
            "bin_end": 1440000,
            "count": 0
           },
           {
            "bin_start": 1440000,
            "bin_end": 1620000,
            "count": 1
           },
           {
            "bin_start": 1620000,
            "bin_end": 1800000,
            "count": 1
           }
          ]
         }
        },
        {
         "name": "Country",
         "dtype": "object",
         "stats": {
          "unique_count": 1,
          "nan_count": 0,
          "categories": [
           {
            "name": "India",
            "count": 8403
           }
          ]
         }
        },
        {
         "name": "CurrencyDesc",
         "dtype": "object",
         "stats": {
          "unique_count": 35,
          "nan_count": 3268,
          "categories": [
           {
            "name": "Indian rupee",
            "count": 4918
           },
           {
            "name": "34 others",
            "count": 217
           },
           {
            "name": "Missing",
            "count": 3268
           }
          ]
         }
        },
        {
         "name": "CurrencySymbol",
         "dtype": "object",
         "stats": {
          "unique_count": 35,
          "nan_count": 3268,
          "categories": [
           {
            "name": "INR",
            "count": 4918
           },
           {
            "name": "34 others",
            "count": 217
           },
           {
            "name": "Missing",
            "count": 3268
           }
          ]
         }
        },
        {
         "name": "DatabaseDesireNextYear",
         "dtype": "object",
         "stats": {
          "unique_count": 1360,
          "nan_count": 2701,
          "categories": [
           {
            "name": "MongoDB",
            "count": 301
           },
           {
            "name": "1359 others",
            "count": 5401
           },
           {
            "name": "Missing",
            "count": 2701
           }
          ]
         }
        },
        {
         "name": "DatabaseWorkedWith",
         "dtype": "object"
        },
        {
         "name": "DevType",
         "dtype": "object"
        },
        {
         "name": "EdLevel",
         "dtype": "object"
        },
        {
         "name": "Employment",
         "dtype": "object"
        },
        {
         "name": "Ethnicity",
         "dtype": "object"
        },
        {
         "name": "Gender",
         "dtype": "object"
        },
        {
         "name": "JobFactors",
         "dtype": "object"
        },
        {
         "name": "JobSat",
         "dtype": "object"
        },
        {
         "name": "JobSeek",
         "dtype": "object"
        },
        {
         "name": "LanguageDesireNextYear",
         "dtype": "object"
        },
        {
         "name": "LanguageWorkedWith",
         "dtype": "object"
        },
        {
         "name": "MiscTechDesireNextYear",
         "dtype": "object"
        },
        {
         "name": "MiscTechWorkedWith",
         "dtype": "object"
        },
        {
         "name": "NEWCollabToolsDesireNextYear",
         "dtype": "object"
        },
        {
         "name": "NEWCollabToolsWorkedWith",
         "dtype": "object"
        },
        {
         "name": "NEWDevOps",
         "dtype": "object"
        },
        {
         "name": "NEWDevOpsImpt",
         "dtype": "object"
        },
        {
         "name": "NEWEdImpt",
         "dtype": "object"
        },
        {
         "name": "NEWJobHunt",
         "dtype": "object"
        },
        {
         "name": "NEWJobHuntResearch",
         "dtype": "object"
        },
        {
         "name": "NEWLearn",
         "dtype": "object"
        },
        {
         "name": "NEWOffTopic",
         "dtype": "object"
        },
        {
         "name": "NEWOnboardGood",
         "dtype": "object"
        },
        {
         "name": "NEWOtherComms",
         "dtype": "object"
        },
        {
         "name": "NEWOvertime",
         "dtype": "object"
        },
        {
         "name": "NEWPurchaseResearch",
         "dtype": "object"
        },
        {
         "name": "NEWPurpleLink",
         "dtype": "object"
        },
        {
         "name": "NEWSOSites",
         "dtype": "object"
        },
        {
         "name": "NEWStuck",
         "dtype": "object"
        },
        {
         "name": "OpSys",
         "dtype": "object"
        },
        {
         "name": "OrgSize",
         "dtype": "object"
        },
        {
         "name": "PlatformDesireNextYear",
         "dtype": "object"
        },
        {
         "name": "PlatformWorkedWith",
         "dtype": "object"
        },
        {
         "name": "PurchaseWhat",
         "dtype": "object"
        },
        {
         "name": "Sexuality",
         "dtype": "object"
        },
        {
         "name": "SOAccount",
         "dtype": "object"
        },
        {
         "name": "SOComm",
         "dtype": "object"
        },
        {
         "name": "SOPartFreq",
         "dtype": "object"
        },
        {
         "name": "SOVisitFreq",
         "dtype": "object"
        },
        {
         "name": "SurveyEase",
         "dtype": "object"
        },
        {
         "name": "SurveyLength",
         "dtype": "object"
        },
        {
         "name": "Trans",
         "dtype": "object"
        },
        {
         "name": "UndergradMajor",
         "dtype": "object"
        },
        {
         "name": "WebframeDesireNextYear",
         "dtype": "object"
        },
        {
         "name": "WebframeWorkedWith",
         "dtype": "object"
        },
        {
         "name": "WelcomeChange",
         "dtype": "object"
        },
        {
         "name": "WorkWeekHrs",
         "dtype": "float64"
        },
        {
         "name": "YearsCode",
         "dtype": "object"
        },
        {
         "name": "YearsCodePro",
         "dtype": "object"
        },
        {
         "name": "_deepnote_index_column",
         "dtype": "int64"
        }
       ],
       "rows": [
        {
         "MainBranch": "I am a developer by profession",
         "Hobbyist": "Yes",
         "Age": "nan",
         "Age1stCode": "18",
         "CompFreq": "Monthly",
         "CompTotal": "nan",
         "ConvertedComp": "nan",
         "Country": "India",
         "CurrencyDesc": "United States dollar",
         "CurrencySymbol": "USD",
         "DatabaseDesireNextYear": "nan",
         "DatabaseWorkedWith": "nan",
         "DevType": "Developer, back-end;Developer, front-end;Developer, QA or test;DevOps specialist",
         "EdLevel": "Bachelor’s degree (B.A., B.S., B.Eng., etc.)",
         "Employment": "Employed full-time",
         "Ethnicity": "nan",
         "Gender": "nan",
         "JobFactors": "nan",
         "JobSat": "Very satisfied",
         "JobSeek": "I’m not actively looking, but I am open to new opportunities",
         "LanguageDesireNextYear": "C#;HTML/CSS;PHP",
         "LanguageWorkedWith": "C#;HTML/CSS;PHP",
         "MiscTechDesireNextYear": "nan",
         "MiscTechWorkedWith": "nan",
         "NEWCollabToolsDesireNextYear": "nan",
         "NEWCollabToolsWorkedWith": "nan",
         "NEWDevOps": "Yes",
         "NEWDevOpsImpt": "Extremely important",
         "NEWEdImpt": "Very important",
         "NEWJobHunt": "Better compensation;Growth or leadership opportunities",
         "NEWJobHuntResearch": "Read company media, such as employee blogs or company culture videos;Company reviews from third party sites (e.g. Glassdoor, Blind);Publicly available financial information (e.g. Crunchbase);Personal network - friends or family",
         "NEWLearn": "Every few months",
         "NEWOffTopic": "Yes",
         "NEWOnboardGood": "Yes",
         "NEWOtherComms": "No",
         "NEWOvertime": "Sometimes: 1-2 days per month but less than weekly",
         "NEWPurchaseResearch": "Start a free trial;Ask developers I know/work with",
         "NEWPurpleLink": "nan",
         "NEWSOSites": "Stack Overflow (public Q&A for anyone who codes)",
         "NEWStuck": "nan",
         "OpSys": "Windows",
         "OrgSize": "20 to 99 employees",
         "PlatformDesireNextYear": "nan",
         "PlatformWorkedWith": "nan",
         "PurchaseWhat": "nan",
         "Sexuality": "nan",
         "SOAccount": "Yes",
         "SOComm": "Yes, definitely",
         "SOPartFreq": "Multiple times per day",
         "SOVisitFreq": "Multiple times per day",
         "SurveyEase": "nan",
         "SurveyLength": "nan",
         "Trans": "nan",
         "UndergradMajor": "Computer science, computer engineering, or software engineering",
         "WebframeDesireNextYear": "nan",
         "WebframeWorkedWith": "nan",
         "WelcomeChange": "A lot more welcome now than last year",
         "WorkWeekHrs": "nan",
         "YearsCode": "6",
         "YearsCodePro": "4",
         "_deepnote_index_column": 7
        },
        {
         "MainBranch": "I am a developer by profession",
         "Hobbyist": "Yes",
         "Age": "nan",
         "Age1stCode": "18",
         "CompFreq": "Monthly",
         "CompTotal": "nan",
         "ConvertedComp": "nan",
         "Country": "India",
         "CurrencyDesc": "Indian rupee",
         "CurrencySymbol": "INR",
         "DatabaseDesireNextYear": "nan",
         "DatabaseWorkedWith": "nan",
         "DevType": "Developer, full-stack;Engineer, data",
         "EdLevel": "Bachelor’s degree (B.A., B.S., B.Eng., etc.)",
         "Employment": "Employed full-time",
         "Ethnicity": "nan",
         "Gender": "Man",
         "JobFactors": "nan",
         "JobSat": "Slightly dissatisfied",
         "JobSeek": "I am actively looking for a job",
         "LanguageDesireNextYear": "Java;JavaScript;Python",
         "LanguageWorkedWith": "Java;Python",
         "MiscTechDesireNextYear": "nan",
         "MiscTechWorkedWith": "nan",
         "NEWCollabToolsDesireNextYear": "nan",
         "NEWCollabToolsWorkedWith": "nan",
         "NEWDevOps": "Not sure",
         "NEWDevOpsImpt": "nan",
         "NEWEdImpt": "Very important",
         "NEWJobHunt": "Better compensation;Better work/life balance;Wanting to work with new technologies;Looking to relocate",
         "NEWJobHuntResearch": "Company reviews from third party sites (e.g. Glassdoor, Blind)",
         "NEWLearn": "Every few months",
         "NEWOffTopic": "No",
         "NEWOnboardGood": "Yes",
         "NEWOtherComms": "No",
         "NEWOvertime": "Often: 1-2 days per week or more",
         "NEWPurchaseResearch": "nan",
         "NEWPurpleLink": "nan",
         "NEWSOSites": "Stack Overflow (public Q&A for anyone who codes);Stack Exchange (public Q&A for a variety of topics);Stack Overflow Jobs (for job seekers)",
         "NEWStuck": "nan",
         "OpSys": "Windows",
         "OrgSize": "500 to 999 employees",
         "PlatformDesireNextYear": "nan",
         "PlatformWorkedWith": "nan",
         "PurchaseWhat": "nan",
         "Sexuality": "nan",
         "SOAccount": "Yes",
         "SOComm": "Yes, definitely",
         "SOPartFreq": "Multiple times per day",
         "SOVisitFreq": "Multiple times per day",
         "SurveyEase": "Easy",
         "SurveyLength": "Appropriate in length",
         "Trans": "nan",
         "UndergradMajor": "Computer science, computer engineering, or software engineering",
         "WebframeDesireNextYear": "nan",
         "WebframeWorkedWith": "nan",
         "WelcomeChange": "Just as welcome now as I felt last year",
         "WorkWeekHrs": 50,
         "YearsCode": "10",
         "YearsCodePro": "2",
         "_deepnote_index_column": 22
        },
        {
         "MainBranch": "I am a developer by profession",
         "Hobbyist": "Yes",
         "Age": "nan",
         "Age1stCode": "22",
         "CompFreq": "nan",
         "CompTotal": "nan",
         "ConvertedComp": "nan",
         "Country": "India",
         "CurrencyDesc": "Indian rupee",
         "CurrencySymbol": "INR",
         "DatabaseDesireNextYear": "Microsoft SQL Server",
         "DatabaseWorkedWith": "Microsoft SQL Server",
         "DevType": "Developer, back-end",
         "EdLevel": "nan",
         "Employment": "Independent contractor, freelancer, or self-employed",
         "Ethnicity": "South Asian",
         "Gender": "nan",
         "JobFactors": "Family friendliness",
         "JobSat": "Very satisfied",
         "JobSeek": "I am not interested in new job opportunities",
         "LanguageDesireNextYear": "C#;JavaScript;SQL;TypeScript",
         "LanguageWorkedWith": "C#;JavaScript;SQL;TypeScript",
         "MiscTechDesireNextYear": ".NET;.NET Core;Node.js",
         "MiscTechWorkedWith": ".NET;.NET Core;Node.js",
         "NEWCollabToolsDesireNextYear": "Stack Overflow for Teams",
         "NEWCollabToolsWorkedWith": "Stack Overflow for Teams",
         "NEWDevOps": "Yes",
         "NEWDevOpsImpt": "Extremely important",
         "NEWEdImpt": "Very important",
         "NEWJobHunt": "nan",
         "NEWJobHuntResearch": "nan",
         "NEWLearn": "Once every few years",
         "NEWOffTopic": "nan",
         "NEWOnboardGood": "Yes",
         "NEWOtherComms": "No",
         "NEWOvertime": "Often: 1-2 days per week or more",
         "NEWPurchaseResearch": "Ask developers I know/work with",
         "NEWPurpleLink": "Hello, old friend",
         "NEWSOSites": "Stack Overflow (public Q&A for anyone who codes);Stack Exchange (public Q&A for a variety of topics);Stack Overflow Jobs (for job seekers);Stack Overflow for Teams (private Q&A for organizations);Stack Overflow Talent (for hiring companies/recruiters);Stack Overflow Advertising (for technology companies)",
         "NEWStuck": "Call a coworker or friend;Visit Stack Overflow;Go for a walk or other physical activity;Do other work and come back later",
         "OpSys": "Windows",
         "OrgSize": "nan",
         "PlatformDesireNextYear": "nan",
         "PlatformWorkedWith": "nan",
         "PurchaseWhat": "nan",
         "Sexuality": "nan",
         "SOAccount": "Yes",
         "SOComm": "Yes, definitely",
         "SOPartFreq": "nan",
         "SOVisitFreq": "Multiple times per day",
         "SurveyEase": "Neither easy nor difficult",
         "SurveyLength": "Too long",
         "Trans": "nan",
         "UndergradMajor": "Web development or web design",
         "WebframeDesireNextYear": "Angular;Angular.js;ASP.NET;ASP.NET Core;jQuery",
         "WebframeWorkedWith": "Angular;Angular.js;ASP.NET;ASP.NET Core;jQuery",
         "WelcomeChange": "nan",
         "WorkWeekHrs": "nan",
         "YearsCode": "nan",
         "YearsCodePro": "nan",
         "_deepnote_index_column": 58
        },
        {
         "MainBranch": "I am a student who is learning to code",
         "Hobbyist": "Yes",
         "Age": 21,
         "Age1stCode": "17",
         "CompFreq": "nan",
         "CompTotal": "nan",
         "ConvertedComp": "nan",
         "Country": "India",
         "CurrencyDesc": "nan",
         "CurrencySymbol": "nan",
         "DatabaseDesireNextYear": "DynamoDB",
         "DatabaseWorkedWith": "Firebase;MongoDB;MySQL",
         "DevType": "Designer;Developer, back-end;Developer, front-end;Developer, mobile;Developer, QA or test",
         "EdLevel": "Secondary school (e.g. American high school, German Realschule or Gymnasium, etc.)",
         "Employment": "Not employed, but looking for work",
         "Ethnicity": "South Asian",
         "Gender": "Man",
         "JobFactors": "Flex time or a flexible schedule;How widely used or impactful my work output would be;Office environment or company culture",
         "JobSat": "nan",
         "JobSeek": "I am actively looking for a job",
         "LanguageDesireNextYear": "Go;Kotlin;TypeScript",
         "LanguageWorkedWith": "C;C++;HTML/CSS;Java;JavaScript;Python",
         "MiscTechDesireNextYear": "Flutter;Node.js;React Native;TensorFlow",
         "MiscTechWorkedWith": "nan",
         "NEWCollabToolsDesireNextYear": "Confluence;Stack Overflow for Teams",
         "NEWCollabToolsWorkedWith": "Github;Facebook Workplace;Slack;Microsoft Teams;Google Suite (Docs, Meet, etc)",
         "NEWDevOps": "nan",
         "NEWDevOpsImpt": "nan",
         "NEWEdImpt": "nan",
         "NEWJobHunt": "nan",
         "NEWJobHuntResearch": "nan",
         "NEWLearn": "Once a year",
         "NEWOffTopic": "Yes",
         "NEWOnboardGood": "nan",
         "NEWOtherComms": "No",
         "NEWOvertime": "nan",
         "NEWPurchaseResearch": "Start a free trial;Ask developers I know/work with;Research companies that have advertised on sites I visit",
         "NEWPurpleLink": "Hello, old friend",
         "NEWSOSites": "Stack Overflow (public Q&A for anyone who codes);Stack Exchange (public Q&A for a variety of topics)",
         "NEWStuck": "Visit Stack Overflow;Go for a walk or other physical activity;Watch help / tutorial videos",
         "OpSys": "Windows",
         "OrgSize": "nan",
         "PlatformDesireNextYear": "AWS;Docker;Heroku;iOS",
         "PlatformWorkedWith": "Android;Arduino;Google Cloud Platform;Raspberry Pi;Slack Apps and Integrations;Windows",
         "PurchaseWhat": "nan",
         "Sexuality": "Straight / Heterosexual",
         "SOAccount": "Yes",
         "SOComm": "Neutral",
         "SOPartFreq": "A few times per week",
         "SOVisitFreq": "Daily or almost daily",
         "SurveyEase": "Easy",
         "SurveyLength": "Appropriate in length",
         "Trans": "No",
         "UndergradMajor": "nan",
         "WebframeDesireNextYear": "Angular.js;Django;jQuery;Laravel;Vue.js",
         "WebframeWorkedWith": "nan",
         "WelcomeChange": "Not applicable - I did not use Stack Overflow last year",
         "WorkWeekHrs": "nan",
         "YearsCode": "4",
         "YearsCodePro": "nan",
         "_deepnote_index_column": 63
        },
        {
         "MainBranch": "I am a developer by profession",
         "Hobbyist": "Yes",
         "Age": 36,
         "Age1stCode": "31",
         "CompFreq": "Yearly",
         "CompTotal": 21000000,
         "ConvertedComp": 293196,
         "Country": "India",
         "CurrencyDesc": "Indian rupee",
         "CurrencySymbol": "INR",
         "DatabaseDesireNextYear": "Cassandra;MySQL;PostgreSQL",
         "DatabaseWorkedWith": "MySQL;PostgreSQL",
         "DevType": "Developer, back-end;Developer, QA or test;DevOps specialist;Engineer, data;System administrator",
         "EdLevel": "Bachelor’s degree (B.A., B.S., B.Eng., etc.)",
         "Employment": "Employed full-time",
         "Ethnicity": "East Asian",
         "Gender": "Man",
         "JobFactors": "Languages, frameworks, and other technologies I’d be working with;Financial performance or funding status of the company or organization;Office environment or company culture",
         "JobSat": "Very satisfied",
         "JobSeek": "I am not interested in new job opportunities",
         "LanguageDesireNextYear": "Bash/Shell/PowerShell;C;C++;Java;Perl;Scala",
         "LanguageWorkedWith": "Bash/Shell/PowerShell;C++;Perl",
         "MiscTechDesireNextYear": "Apache Spark",
         "MiscTechWorkedWith": "nan",
         "NEWCollabToolsDesireNextYear": "Confluence;Jira;Github;Gitlab;Google Suite (Docs, Meet, etc)",
         "NEWCollabToolsWorkedWith": "Confluence;Jira;Github;Google Suite (Docs, Meet, etc)",
         "NEWDevOps": "Not sure",
         "NEWDevOpsImpt": "Neutral",
         "NEWEdImpt": "Critically important",
         "NEWJobHunt": "Just because;Curious about other opportunities;Better compensation;Wanting to work with new technologies",
         "NEWJobHuntResearch": "Read company media, such as employee blogs or company culture videos;Company reviews from third party sites (e.g. Glassdoor, Blind);Personal network - friends or family;Read other media like news articles, founder profiles, etc. about the company;Directly asking current or past employees at the company",
         "NEWLearn": "Once a year",
         "NEWOffTopic": "Not sure",
         "NEWOnboardGood": "Onboarding? What onboarding?",
         "NEWOtherComms": "No",
         "NEWOvertime": "Sometimes: 1-2 days per month but less than weekly",
         "NEWPurchaseResearch": "nan",
         "NEWPurpleLink": "Indifferent",
         "NEWSOSites": "Stack Overflow (public Q&A for anyone who codes)",
         "NEWStuck": "Visit Stack Overflow;Go for a walk or other physical activity;Watch help / tutorial videos;Do other work and come back later;Visit another developer community (please name):",
         "OpSys": "Linux-based",
         "OrgSize": "500 to 999 employees",
         "PlatformDesireNextYear": "Google Cloud Platform;Linux",
         "PlatformWorkedWith": "Linux",
         "PurchaseWhat": "I have little or no influence",
         "Sexuality": "Straight / Heterosexual",
         "SOAccount": "Yes",
         "SOComm": "Yes, somewhat",
         "SOPartFreq": "A few times per month or weekly",
         "SOVisitFreq": "Multiple times per day",
         "SurveyEase": "Neither easy nor difficult",
         "SurveyLength": "Appropriate in length",
         "Trans": "No",
         "UndergradMajor": "Computer science, computer engineering, or software engineering",
         "WebframeDesireNextYear": "nan",
         "WebframeWorkedWith": "nan",
         "WelcomeChange": "Somewhat more welcome now than last year",
         "WorkWeekHrs": 70,
         "YearsCode": "5",
         "YearsCodePro": "3",
         "_deepnote_index_column": 149
        },
        {
         "MainBranch": "I am a developer by profession",
         "Hobbyist": "Yes",
         "Age": "nan",
         "Age1stCode": "18",
         "CompFreq": "Monthly",
         "CompTotal": "nan",
         "ConvertedComp": "nan",
         "Country": "India",
         "CurrencyDesc": "Indian rupee",
         "CurrencySymbol": "INR",
         "DatabaseDesireNextYear": "SQLite",
         "DatabaseWorkedWith": "SQLite",
         "DevType": "Developer, desktop or enterprise applications;Developer, mobile",
         "EdLevel": "Master’s degree (M.A., M.S., M.Eng., MBA, etc.)",
         "Employment": "Employed full-time",
         "Ethnicity": "South Asian",
         "Gender": "Man",
         "JobFactors": "nan",
         "JobSat": "Very satisfied",
         "JobSeek": "I’m not actively looking, but I am open to new opportunities",
         "LanguageDesireNextYear": "Objective-C;Swift",
         "LanguageWorkedWith": "Objective-C;Swift",
         "MiscTechDesireNextYear": "nan",
         "MiscTechWorkedWith": "nan",
         "NEWCollabToolsDesireNextYear": "Github;Slack;Trello",
         "NEWCollabToolsWorkedWith": "Github;Slack",
         "NEWDevOps": "No",
         "NEWDevOpsImpt": "Somewhat important",
         "NEWEdImpt": "nan",
         "NEWJobHunt": "Better compensation",
         "NEWJobHuntResearch": "nan",
         "NEWLearn": "Once a year",
         "NEWOffTopic": "Yes",
         "NEWOnboardGood": "Yes",
         "NEWOtherComms": "Yes",
         "NEWOvertime": "Occasionally: 1-2 days per quarter but less than monthly",
         "NEWPurchaseResearch": "Start a free trial;Visit developer communities like Stack Overflow",
         "NEWPurpleLink": "Hello, old friend",
         "NEWSOSites": "Stack Overflow (public Q&A for anyone who codes);Stack Exchange (public Q&A for a variety of topics);Stack Overflow Jobs (for job seekers)",
         "NEWStuck": "Call a coworker or friend;Visit Stack Overflow",
         "OpSys": "MacOS",
         "OrgSize": "20 to 99 employees",
         "PlatformDesireNextYear": "iOS",
         "PlatformWorkedWith": "Android;iOS;Windows",
         "PurchaseWhat": "I have some influence",
         "Sexuality": "Straight / Heterosexual",
         "SOAccount": "Yes",
         "SOComm": "Yes, definitely",
         "SOPartFreq": "Less than once per month or monthly",
         "SOVisitFreq": "A few times per week",
         "SurveyEase": "Neither easy nor difficult",
         "SurveyLength": "Too long",
         "Trans": "No",
         "UndergradMajor": "Computer science, computer engineering, or software engineering",
         "WebframeDesireNextYear": "nan",
         "WebframeWorkedWith": "nan",
         "WelcomeChange": "Somewhat more welcome now than last year",
         "WorkWeekHrs": "nan",
         "YearsCode": "12",
         "YearsCodePro": "8",
         "_deepnote_index_column": 177
        },
        {
         "MainBranch": "I am a developer by profession",
         "Hobbyist": "Yes",
         "Age": 24,
         "Age1stCode": "19",
         "CompFreq": "Yearly",
         "CompTotal": 840000,
         "ConvertedComp": 11728,
         "Country": "India",
         "CurrencyDesc": "Indian rupee",
         "CurrencySymbol": "INR",
         "DatabaseDesireNextYear": "MongoDB",
         "DatabaseWorkedWith": "MySQL",
         "DevType": "Developer, back-end",
         "EdLevel": "Bachelor’s degree (B.A., B.S., B.Eng., etc.)",
         "Employment": "Employed full-time",
         "Ethnicity": "nan",
         "Gender": "Man",
         "JobFactors": "Languages, frameworks, and other technologies I’d be working with;Remote work options;Office environment or company culture",
         "JobSat": "Neither satisfied nor dissatisfied",
         "JobSeek": "I am actively looking for a job",
         "LanguageDesireNextYear": "Python",
         "LanguageWorkedWith": "Java;JavaScript;Python",
         "MiscTechDesireNextYear": "Keras;Pandas;TensorFlow",
         "MiscTechWorkedWith": "Keras;Pandas;TensorFlow",
         "NEWCollabToolsDesireNextYear": "Confluence;Jira;Github;Slack;Stack Overflow for Teams",
         "NEWCollabToolsWorkedWith": "Confluence;Jira;Github;Slack",
         "NEWDevOps": "Yes",
         "NEWDevOpsImpt": "Somewhat important",
         "NEWEdImpt": "Fairly important",
         "NEWJobHunt": "Having a bad day (or week or month) at work;Curious about other opportunities;Better compensation;Better work/life balance;Wanting to work with new technologies",
         "NEWJobHuntResearch": "Company reviews from third party sites (e.g. Glassdoor, Blind);Personal network - friends or family",
         "NEWLearn": "Once a year",
         "NEWOffTopic": "Yes",
         "NEWOnboardGood": "Yes",
         "NEWOtherComms": "Yes",
         "NEWOvertime": "Sometimes: 1-2 days per month but less than weekly",
         "NEWPurchaseResearch": "Start a free trial",
         "NEWPurpleLink": "Hello, old friend",
         "NEWSOSites": "Stack Overflow (public Q&A for anyone who codes);Stack Exchange (public Q&A for a variety of topics);Stack Overflow Jobs (for job seekers);Stack Overflow for Teams (private Q&A for organizations);Stack Overflow Talent (for hiring companies/recruiters)",
         "NEWStuck": "Call a coworker or friend;Visit Stack Overflow",
         "OpSys": "Windows",
         "OrgSize": "100 to 499 employees",
         "PlatformDesireNextYear": "Docker;Google Cloud Platform;MacOS",
         "PlatformWorkedWith": "Android;Docker;Linux;MacOS;Windows",
         "PurchaseWhat": "I have some influence",
         "Sexuality": "Straight / Heterosexual",
         "SOAccount": "Yes",
         "SOComm": "Yes, definitely",
         "SOPartFreq": "A few times per week",
         "SOVisitFreq": "Multiple times per day",
         "SurveyEase": "Easy",
         "SurveyLength": "Appropriate in length",
         "Trans": "No",
         "UndergradMajor": "Computer science, computer engineering, or software engineering",
         "WebframeDesireNextYear": "Gatsby",
         "WebframeWorkedWith": "Flask;Spring",
         "WelcomeChange": "Somewhat more welcome now than last year",
         "WorkWeekHrs": 45,
         "YearsCode": "5",
         "YearsCodePro": "2",
         "_deepnote_index_column": 227
        },
        {
         "MainBranch": "I am a student who is learning to code",
         "Hobbyist": "No",
         "Age": 20,
         "Age1stCode": "12",
         "CompFreq": "nan",
         "CompTotal": "nan",
         "ConvertedComp": "nan",
         "Country": "India",
         "CurrencyDesc": "nan",
         "CurrencySymbol": "nan",
         "DatabaseDesireNextYear": "MongoDB",
         "DatabaseWorkedWith": "Firebase;MySQL;Oracle;SQLite",
         "DevType": "nan",
         "EdLevel": "Bachelor’s degree (B.A., B.S., B.Eng., etc.)",
         "Employment": "Student",
         "Ethnicity": "nan",
         "Gender": "Man",
         "JobFactors": "Diversity of the company or organization;Flex time or a flexible schedule;Remote work options",
         "JobSat": "nan",
         "JobSeek": "I am actively looking for a job",
         "LanguageDesireNextYear": "Kotlin;PHP;VBA",
         "LanguageWorkedWith": "C;C++;HTML/CSS;Java;JavaScript;Python;VBA",
         "MiscTechDesireNextYear": ".NET;Flutter;Keras;Node.js;Pandas;TensorFlow",
         "MiscTechWorkedWith": ".NET;Keras;TensorFlow",
         "NEWCollabToolsDesireNextYear": "Github;Facebook Workplace;Slack;Trello;Stack Overflow for Teams",
         "NEWCollabToolsWorkedWith": "Github",
         "NEWDevOps": "nan",
         "NEWDevOpsImpt": "nan",
         "NEWEdImpt": "nan",
         "NEWJobHunt": "nan",
         "NEWJobHuntResearch": "nan",
         "NEWLearn": "Every few months",
         "NEWOffTopic": "Not sure",
         "NEWOnboardGood": "nan",
         "NEWOtherComms": "No",
         "NEWOvertime": "nan",
         "NEWPurchaseResearch": "Start a free trial;Ask developers I know/work with;Visit developer communities like Stack Overflow",
         "NEWPurpleLink": "Hello, old friend",
         "NEWSOSites": "Stack Overflow (public Q&A for anyone who codes);Stack Exchange (public Q&A for a variety of topics);Stack Overflow Jobs (for job seekers);Stack Overflow Talent (for hiring companies/recruiters)",
         "NEWStuck": "Visit Stack Overflow;Do other work and come back later",
         "OpSys": "Windows",
         "OrgSize": "nan",
         "PlatformDesireNextYear": "nan",
         "PlatformWorkedWith": "Android;Windows",
         "PurchaseWhat": "nan",
         "Sexuality": "Straight / Heterosexual",
         "SOAccount": "No",
         "SOComm": "Yes, somewhat",
         "SOPartFreq": "nan",
         "SOVisitFreq": "Multiple times per day",
         "SurveyEase": "Neither easy nor difficult",
         "SurveyLength": "Appropriate in length",
         "Trans": "No",
         "UndergradMajor": "Computer science, computer engineering, or software engineering",
         "WebframeDesireNextYear": "Django;jQuery;Laravel",
         "WebframeWorkedWith": "Flask",
         "WelcomeChange": "Just as welcome now as I felt last year",
         "WorkWeekHrs": "nan",
         "YearsCode": "7",
         "YearsCodePro": "nan",
         "_deepnote_index_column": 232
        },
        {
         "MainBranch": "I am a developer by profession",
         "Hobbyist": "Yes",
         "Age": 22,
         "Age1stCode": "16",
         "CompFreq": "nan",
         "CompTotal": "nan",
         "ConvertedComp": "nan",
         "Country": "India",
         "CurrencyDesc": "nan",
         "CurrencySymbol": "nan",
         "DatabaseDesireNextYear": "DynamoDB;Firebase;MongoDB",
         "DatabaseWorkedWith": "Firebase;MariaDB;Microsoft SQL Server;MongoDB;MySQL;Oracle;PostgreSQL;SQLite",
         "DevType": "nan",
         "EdLevel": "Some college/university study without earning a degree",
         "Employment": "Student",
         "Ethnicity": "South Asian",
         "Gender": "Man",
         "JobFactors": "Languages, frameworks, and other technologies I’d be working with;Specific department or team I’d be working on;Office environment or company culture",
         "JobSat": "nan",
         "JobSeek": "I’m not actively looking, but I am open to new opportunities",
         "LanguageDesireNextYear": "Python",
         "LanguageWorkedWith": "C;C++;HTML/CSS;Java;JavaScript;PHP;Python;SQL;TypeScript",
         "MiscTechDesireNextYear": "Keras;Pandas;TensorFlow;Torch/PyTorch",
         "MiscTechWorkedWith": "Keras;Pandas;TensorFlow",
         "NEWCollabToolsDesireNextYear": "Github;Microsoft Azure",
         "NEWCollabToolsWorkedWith": "Github;Google Suite (Docs, Meet, etc)",
         "NEWDevOps": "nan",
         "NEWDevOpsImpt": "nan",
         "NEWEdImpt": "nan",
         "NEWJobHunt": "nan",
         "NEWJobHuntResearch": "nan",
         "NEWLearn": "Once every few years",
         "NEWOffTopic": "No",
         "NEWOnboardGood": "nan",
         "NEWOtherComms": "No",
         "NEWOvertime": "nan",
         "NEWPurchaseResearch": "Ask developers I know/work with;Read ratings or reviews on third party sites like G2Crowd",
         "NEWPurpleLink": "Indifferent",
         "NEWSOSites": "Stack Overflow (public Q&A for anyone who codes);Stack Exchange (public Q&A for a variety of topics)",
         "NEWStuck": "Visit Stack Overflow",
         "OpSys": "Windows",
         "OrgSize": "nan",
         "PlatformDesireNextYear": "AWS;Google Cloud Platform;Kubernetes;Microsoft Azure;Windows",
         "PlatformWorkedWith": "Android;AWS;Heroku;Linux;Windows",
         "PurchaseWhat": "nan",
         "Sexuality": "Straight / Heterosexual",
         "SOAccount": "Yes",
         "SOComm": "Yes, definitely",
         "SOPartFreq": "Multiple times per day",
         "SOVisitFreq": "Multiple times per day",
         "SurveyEase": "Easy",
         "SurveyLength": "Appropriate in length",
         "Trans": "No",
         "UndergradMajor": "Computer science, computer engineering, or software engineering",
         "WebframeDesireNextYear": "Django;Flask",
         "WebframeWorkedWith": "Angular;Angular.js;Django;Flask;jQuery",
         "WelcomeChange": "Just as welcome now as I felt last year",
         "WorkWeekHrs": "nan",
         "YearsCode": "4",
         "YearsCodePro": "nan",
         "_deepnote_index_column": 234
        },
        {
         "MainBranch": "I am a developer by profession",
         "Hobbyist": "Yes",
         "Age": "nan",
         "Age1stCode": "27",
         "CompFreq": "nan",
         "CompTotal": "nan",
         "ConvertedComp": "nan",
         "Country": "India",
         "CurrencyDesc": "Indian rupee",
         "CurrencySymbol": "INR",
         "DatabaseDesireNextYear": "MySQL",
         "DatabaseWorkedWith": "MySQL",
         "DevType": "Developer, full-stack;System administrator",
         "EdLevel": "Bachelor’s degree (B.A., B.S., B.Eng., etc.)",
         "Employment": "Independent contractor, freelancer, or self-employed",
         "Ethnicity": "nan",
         "Gender": "nan",
         "JobFactors": "nan",
         "JobSat": "Very satisfied",
         "JobSeek": "I am not interested in new job opportunities",
         "LanguageDesireNextYear": "HTML/CSS;Java;JavaScript;PHP;SQL",
         "LanguageWorkedWith": "HTML/CSS;Java;JavaScript;PHP;SQL",
         "MiscTechDesireNextYear": "nan",
         "MiscTechWorkedWith": "nan",
         "NEWCollabToolsDesireNextYear": "Gitlab;Slack",
         "NEWCollabToolsWorkedWith": "Gitlab;Slack",
         "NEWDevOps": "No",
         "NEWDevOpsImpt": "Extremely important",
         "NEWEdImpt": "Somewhat important",
         "NEWJobHunt": "nan",
         "NEWJobHuntResearch": "nan",
         "NEWLearn": "Every few months",
         "NEWOffTopic": "No",
         "NEWOnboardGood": "Onboarding? What onboarding?",
         "NEWOtherComms": "Yes",
         "NEWOvertime": "Often: 1-2 days per week or more",
         "NEWPurchaseResearch": "Start a free trial;Visit developer communities like Stack Overflow",
         "NEWPurpleLink": "Hello, old friend",
         "NEWSOSites": "Stack Overflow (public Q&A for anyone who codes);Stack Exchange (public Q&A for a variety of topics)",
         "NEWStuck": "Visit Stack Overflow;Go for a walk or other physical activity;Watch help / tutorial videos;Do other work and come back later",
         "OpSys": "Linux-based",
         "OrgSize": "Just me - I am a freelancer, sole proprietor, etc.",
         "PlatformDesireNextYear": "Android;Linux;MacOS",
         "PlatformWorkedWith": "Android;Docker;Heroku;Linux;MacOS",
         "PurchaseWhat": "nan",
         "Sexuality": "nan",
         "SOAccount": "Yes",
         "SOComm": "Yes, definitely",
         "SOPartFreq": "A few times per week",
         "SOVisitFreq": "Multiple times per day",
         "SurveyEase": "Neither easy nor difficult",
         "SurveyLength": "Appropriate in length",
         "Trans": "nan",
         "UndergradMajor": "Computer science, computer engineering, or software engineering",
         "WebframeDesireNextYear": "jQuery;Laravel",
         "WebframeWorkedWith": "jQuery;Laravel",
         "WelcomeChange": "A lot more welcome now than last year",
         "WorkWeekHrs": 90,
         "YearsCode": "2",
         "YearsCodePro": "nan",
         "_deepnote_index_column": 268
        }
       ]
      },
      "text/plain": "                                        MainBranch Hobbyist   Age Age1stCode  \\\nRespondent                                                                     \n7                   I am a developer by profession      Yes   NaN         18   \n22                  I am a developer by profession      Yes   NaN         18   \n58                  I am a developer by profession      Yes   NaN         22   \n63          I am a student who is learning to code      Yes  21.0         17   \n149                 I am a developer by profession      Yes  36.0         31   \n...                                            ...      ...   ...        ...   \n54757                                          NaN      Yes   NaN         18   \n55407                                          NaN      Yes   NaN        NaN   \n62464                                          NaN      Yes   NaN        NaN   \n62954                                          NaN      Yes   NaN        NaN   \n64236                                          NaN      Yes   NaN        NaN   \n\n           CompFreq   CompTotal  ConvertedComp Country          CurrencyDesc  \\\nRespondent                                                                     \n7           Monthly         NaN            NaN   India  United States dollar   \n22          Monthly         NaN            NaN   India          Indian rupee   \n58              NaN         NaN            NaN   India          Indian rupee   \n63              NaN         NaN            NaN   India                   NaN   \n149          Yearly  21000000.0       293196.0   India          Indian rupee   \n...             ...         ...            ...     ...                   ...   \n54757           NaN         NaN            NaN   India                   NaN   \n55407           NaN         NaN            NaN   India                   NaN   \n62464           NaN         NaN            NaN   India                   NaN   \n62954           NaN         NaN            NaN   India                   NaN   \n64236           NaN         NaN            NaN   India                   NaN   \n\n           CurrencySymbol      DatabaseDesireNextYear      DatabaseWorkedWith  \\\nRespondent                                                                      \n7                     USD                         NaN                     NaN   \n22                    INR                         NaN                     NaN   \n58                    INR        Microsoft SQL Server    Microsoft SQL Server   \n63                    NaN                    DynamoDB  Firebase;MongoDB;MySQL   \n149                   INR  Cassandra;MySQL;PostgreSQL        MySQL;PostgreSQL   \n...                   ...                         ...                     ...   \n54757                 NaN               MongoDB;MySQL                   MySQL   \n55407                 NaN                         NaN                     NaN   \n62464                 NaN                         NaN                     NaN   \n62954                 NaN                         NaN                     NaN   \n64236                 NaN                         NaN                     NaN   \n\n                                                      DevType  \\\nRespondent                                                      \n7           Developer, back-end;Developer, front-end;Devel...   \n22                       Developer, full-stack;Engineer, data   \n58                                        Developer, back-end   \n63          Designer;Developer, back-end;Developer, front-...   \n149         Developer, back-end;Developer, QA or test;DevO...   \n...                                                       ...   \n54757             Developer, full-stack;Developer, QA or test   \n55407                                                     NaN   \n62464                                                     NaN   \n62954                                                     NaN   \n64236                                                     NaN   \n\n                                                      EdLevel  \\\nRespondent                                                      \n7                Bachelor’s degree (B.A., B.S., B.Eng., etc.)   \n22               Bachelor’s degree (B.A., B.S., B.Eng., etc.)   \n58                                                        NaN   \n63          Secondary school (e.g. American high school, G...   \n149              Bachelor’s degree (B.A., B.S., B.Eng., etc.)   \n...                                                       ...   \n54757            Bachelor’s degree (B.A., B.S., B.Eng., etc.)   \n55407                     Associate degree (A.A., A.S., etc.)   \n62464            Bachelor’s degree (B.A., B.S., B.Eng., etc.)   \n62954                                                     NaN   \n64236                                                     NaN   \n\n                                                   Employment    Ethnicity  \\\nRespondent                                                                   \n7                                          Employed full-time          NaN   \n22                                         Employed full-time          NaN   \n58          Independent contractor, freelancer, or self-em...  South Asian   \n63                         Not employed, but looking for work  South Asian   \n149                                        Employed full-time   East Asian   \n...                                                       ...          ...   \n54757                                      Employed full-time          NaN   \n55407                                                     NaN          NaN   \n62464                                                     NaN          NaN   \n62954                                      Employed full-time          NaN   \n64236                                      Employed full-time          NaN   \n\n           Gender                                         JobFactors  \\\nRespondent                                                             \n7             NaN                                                NaN   \n22            Man                                                NaN   \n58            NaN                                Family friendliness   \n63            Man  Flex time or a flexible schedule;How widely us...   \n149           Man  Languages, frameworks, and other technologies ...   \n...           ...                                                ...   \n54757         Man                                                NaN   \n55407         NaN                                                NaN   \n62464         Man                                                NaN   \n62954         NaN                                                NaN   \n64236         NaN                                                NaN   \n\n                           JobSat  \\\nRespondent                          \n7                  Very satisfied   \n22          Slightly dissatisfied   \n58                 Very satisfied   \n63                            NaN   \n149                Very satisfied   \n...                           ...   \n54757                         NaN   \n55407                         NaN   \n62464                         NaN   \n62954                         NaN   \n64236                         NaN   \n\n                                                      JobSeek  \\\nRespondent                                                      \n7           I’m not actively looking, but I am open to new...   \n22                            I am actively looking for a job   \n58               I am not interested in new job opportunities   \n63                            I am actively looking for a job   \n149              I am not interested in new job opportunities   \n...                                                       ...   \n54757                                                     NaN   \n55407                                                     NaN   \n62464                                                     NaN   \n62954                                                     NaN   \n64236                                                     NaN   \n\n                                 LanguageDesireNextYear  \\\nRespondent                                                \n7                                       C#;HTML/CSS;PHP   \n22                               Java;JavaScript;Python   \n58                         C#;JavaScript;SQL;TypeScript   \n63                                 Go;Kotlin;TypeScript   \n149         Bash/Shell/PowerShell;C;C++;Java;Perl;Scala   \n...                                                 ...   \n54757               HTML/CSS;Java;JavaScript;Python;SQL   \n55407                                               NaN   \n62464                                               NaN   \n62954                                               NaN   \n64236                                               NaN   \n\n                                   LanguageWorkedWith  \\\nRespondent                                              \n7                                     C#;HTML/CSS;PHP   \n22                                        Java;Python   \n58                       C#;JavaScript;SQL;TypeScript   \n63              C;C++;HTML/CSS;Java;JavaScript;Python   \n149                    Bash/Shell/PowerShell;C++;Perl   \n...                                               ...   \n54757       C;HTML/CSS;Java;JavaScript;PHP;Python;SQL   \n55407                                             NaN   \n62464                                             NaN   \n62954                                             SQL   \n64236                                             NaN   \n\n                             MiscTechDesireNextYear      MiscTechWorkedWith  \\\nRespondent                                                                    \n7                                               NaN                     NaN   \n22                                              NaN                     NaN   \n58                           .NET;.NET Core;Node.js  .NET;.NET Core;Node.js   \n63          Flutter;Node.js;React Native;TensorFlow                     NaN   \n149                                    Apache Spark                     NaN   \n...                                             ...                     ...   \n54757                                           NaN                     NaN   \n55407                                           NaN                     NaN   \n62464                                           NaN                     NaN   \n62954                                           NaN                     NaN   \n64236                                           NaN                     NaN   \n\n                                 NEWCollabToolsDesireNextYear  \\\nRespondent                                                      \n7                                                         NaN   \n22                                                        NaN   \n58                                   Stack Overflow for Teams   \n63                        Confluence;Stack Overflow for Teams   \n149         Confluence;Jira;Github;Gitlab;Google Suite (Do...   \n...                                                       ...   \n54757                                Jira;Github;Gitlab;Slack   \n55407                                                     NaN   \n62464                                                     NaN   \n62954                                                     NaN   \n64236                                                     NaN   \n\n                                     NEWCollabToolsWorkedWith NEWDevOps  \\\nRespondent                                                                \n7                                                         NaN       Yes   \n22                                                        NaN  Not sure   \n58                                   Stack Overflow for Teams       Yes   \n63          Github;Facebook Workplace;Slack;Microsoft Team...       NaN   \n149         Confluence;Jira;Github;Google Suite (Docs, Mee...  Not sure   \n...                                                       ...       ...   \n54757                                Jira;Github;Gitlab;Slack       NaN   \n55407                                                     NaN       NaN   \n62464                                                     NaN       NaN   \n62954                                                     NaN       NaN   \n64236                                                     NaN       NaN   \n\n                  NEWDevOpsImpt             NEWEdImpt  \\\nRespondent                                              \n7           Extremely important        Very important   \n22                          NaN        Very important   \n58          Extremely important        Very important   \n63                          NaN                   NaN   \n149                     Neutral  Critically important   \n...                         ...                   ...   \n54757                       NaN                   NaN   \n55407                       NaN                   NaN   \n62464                       NaN                   NaN   \n62954                       NaN                   NaN   \n64236                       NaN                   NaN   \n\n                                                   NEWJobHunt  \\\nRespondent                                                      \n7           Better compensation;Growth or leadership oppor...   \n22          Better compensation;Better work/life balance;W...   \n58                                                        NaN   \n63                                                        NaN   \n149         Just because;Curious about other opportunities...   \n...                                                       ...   \n54757                                                     NaN   \n55407                                                     NaN   \n62464                                                     NaN   \n62954                                                     NaN   \n64236                                                     NaN   \n\n                                           NEWJobHuntResearch  \\\nRespondent                                                      \n7           Read company media, such as employee blogs or ...   \n22          Company reviews from third party sites (e.g. G...   \n58                                                        NaN   \n63                                                        NaN   \n149         Read company media, such as employee blogs or ...   \n...                                                       ...   \n54757                                                     NaN   \n55407                                                     NaN   \n62464                                                     NaN   \n62954                                                     NaN   \n64236                                                     NaN   \n\n                        NEWLearn NEWOffTopic                NEWOnboardGood  \\\nRespondent                                                                   \n7               Every few months         Yes                           Yes   \n22              Every few months          No                           Yes   \n58          Once every few years         NaN                           Yes   \n63                   Once a year         Yes                           NaN   \n149                  Once a year    Not sure  Onboarding? What onboarding?   \n...                          ...         ...                           ...   \n54757                Once a year          No                           NaN   \n55407                        NaN         NaN                           NaN   \n62464                        NaN         NaN                           NaN   \n62954                        NaN         NaN                           NaN   \n64236                        NaN         NaN                           NaN   \n\n           NEWOtherComms                                        NEWOvertime  \\\nRespondent                                                                    \n7                     No  Sometimes: 1-2 days per month but less than we...   \n22                    No                   Often: 1-2 days per week or more   \n58                    No                   Often: 1-2 days per week or more   \n63                    No                                                NaN   \n149                   No  Sometimes: 1-2 days per month but less than we...   \n...                  ...                                                ...   \n54757                NaN                                                NaN   \n55407                NaN                                                NaN   \n62464                NaN                                                NaN   \n62954                NaN                                                NaN   \n64236                NaN                                                NaN   \n\n                                          NEWPurchaseResearch  \\\nRespondent                                                      \n7           Start a free trial;Ask developers I know/work ...   \n22                                                        NaN   \n58                            Ask developers I know/work with   \n63          Start a free trial;Ask developers I know/work ...   \n149                                                       NaN   \n...                                                       ...   \n54757                         Ask developers I know/work with   \n55407                                                     NaN   \n62464                                                     NaN   \n62954                                                     NaN   \n64236                                                     NaN   \n\n                NEWPurpleLink  \\\nRespondent                      \n7                         NaN   \n22                        NaN   \n58          Hello, old friend   \n63          Hello, old friend   \n149               Indifferent   \n...                       ...   \n54757                  Amused   \n55407                     NaN   \n62464                     NaN   \n62954                     NaN   \n64236                     NaN   \n\n                                                   NEWSOSites  \\\nRespondent                                                      \n7            Stack Overflow (public Q&A for anyone who codes)   \n22          Stack Overflow (public Q&A for anyone who code...   \n58          Stack Overflow (public Q&A for anyone who code...   \n63          Stack Overflow (public Q&A for anyone who code...   \n149          Stack Overflow (public Q&A for anyone who codes)   \n...                                                       ...   \n54757       Stack Overflow (public Q&A for anyone who code...   \n55407                                                     NaN   \n62464                                                     NaN   \n62954                                                     NaN   \n64236                                                     NaN   \n\n                                                     NEWStuck        OpSys  \\\nRespondent                                                                   \n7                                                         NaN      Windows   \n22                                                        NaN      Windows   \n58          Call a coworker or friend;Visit Stack Overflow...      Windows   \n63          Visit Stack Overflow;Go for a walk or other ph...      Windows   \n149         Visit Stack Overflow;Go for a walk or other ph...  Linux-based   \n...                                                       ...          ...   \n54757                                    Visit Stack Overflow  Linux-based   \n55407                                                     NaN          NaN   \n62464                                                     NaN          NaN   \n62954                                                     NaN          NaN   \n64236                                                     NaN          NaN   \n\n                         OrgSize       PlatformDesireNextYear  \\\nRespondent                                                      \n7             20 to 99 employees                          NaN   \n22          500 to 999 employees                          NaN   \n58                           NaN                          NaN   \n63                           NaN        AWS;Docker;Heroku;iOS   \n149         500 to 999 employees  Google Cloud Platform;Linux   \n...                          ...                          ...   \n54757                        NaN                Linux;Windows   \n55407                        NaN                          NaN   \n62464                        NaN                          NaN   \n62954                        NaN                          NaN   \n64236                        NaN                          NaN   \n\n                                           PlatformWorkedWith  \\\nRespondent                                                      \n7                                                         NaN   \n22                                                        NaN   \n58                                                        NaN   \n63          Android;Arduino;Google Cloud Platform;Raspberr...   \n149                                                     Linux   \n...                                                       ...   \n54757                                           Linux;Windows   \n55407                                                     NaN   \n62464                                                     NaN   \n62954                                                     NaN   \n64236                                                     NaN   \n\n                             PurchaseWhat                Sexuality  \\\nRespondent                                                           \n7                                     NaN                      NaN   \n22                                    NaN                      NaN   \n58                                    NaN                      NaN   \n63                                    NaN  Straight / Heterosexual   \n149         I have little or no influence  Straight / Heterosexual   \n...                                   ...                      ...   \n54757                                 NaN  Straight / Heterosexual   \n55407                                 NaN                      NaN   \n62464                                 NaN                      NaN   \n62954                                 NaN                      NaN   \n64236                                 NaN                      NaN   \n\n                          SOAccount           SOComm  \\\nRespondent                                             \n7                               Yes  Yes, definitely   \n22                              Yes  Yes, definitely   \n58                              Yes  Yes, definitely   \n63                              Yes          Neutral   \n149                             Yes    Yes, somewhat   \n...                             ...              ...   \n54757       Not sure/can't remember          Neutral   \n55407                           NaN              NaN   \n62464                           NaN              NaN   \n62954                           NaN              NaN   \n64236                           NaN              NaN   \n\n                                 SOPartFreq                      SOVisitFreq  \\\nRespondent                                                                     \n7                    Multiple times per day           Multiple times per day   \n22                   Multiple times per day           Multiple times per day   \n58                                      NaN           Multiple times per day   \n63                     A few times per week            Daily or almost daily   \n149         A few times per month or weekly           Multiple times per day   \n...                                     ...                              ...   \n54757                                   NaN  A few times per month or weekly   \n55407                                   NaN                              NaN   \n62464                                   NaN                              NaN   \n62954                                   NaN                              NaN   \n64236                                   NaN                              NaN   \n\n                            SurveyEase           SurveyLength Trans  \\\nRespondent                                                            \n7                                  NaN                    NaN   NaN   \n22                                Easy  Appropriate in length   NaN   \n58          Neither easy nor difficult               Too long   NaN   \n63                                Easy  Appropriate in length    No   \n149         Neither easy nor difficult  Appropriate in length    No   \n...                                ...                    ...   ...   \n54757                             Easy  Appropriate in length    No   \n55407                              NaN                    NaN   NaN   \n62464                              NaN                    NaN   NaN   \n62954                              NaN                    NaN   NaN   \n64236                              NaN                    NaN   NaN   \n\n                                               UndergradMajor  \\\nRespondent                                                      \n7           Computer science, computer engineering, or sof...   \n22          Computer science, computer engineering, or sof...   \n58                              Web development or web design   \n63                                                        NaN   \n149         Computer science, computer engineering, or sof...   \n...                                                       ...   \n54757       Computer science, computer engineering, or sof...   \n55407                                                     NaN   \n62464                                I never declared a major   \n62954                                                     NaN   \n64236                                                     NaN   \n\n                                    WebframeDesireNextYear  \\\nRespondent                                                   \n7                                                      NaN   \n22                                                     NaN   \n58          Angular;Angular.js;ASP.NET;ASP.NET Core;jQuery   \n63                 Angular.js;Django;jQuery;Laravel;Vue.js   \n149                                                    NaN   \n...                                                    ...   \n54757                                               jQuery   \n55407                                                  NaN   \n62464                                                  NaN   \n62954                                                  NaN   \n64236                                                  NaN   \n\n                                           WebframeWorkedWith  \\\nRespondent                                                      \n7                                                         NaN   \n22                                                        NaN   \n58             Angular;Angular.js;ASP.NET;ASP.NET Core;jQuery   \n63                                                        NaN   \n149                                                       NaN   \n...                                                       ...   \n54757                                                  jQuery   \n55407                                                     NaN   \n62464                                                     NaN   \n62954       ASP.NET;ASP.NET Core;Django;jQuery;Symfony;Vue.js   \n64236                                                     NaN   \n\n                                                WelcomeChange  WorkWeekHrs  \\\nRespondent                                                                   \n7                       A lot more welcome now than last year          NaN   \n22                    Just as welcome now as I felt last year         50.0   \n58                                                        NaN          NaN   \n63          Not applicable - I did not use Stack Overflow ...          NaN   \n149                  Somewhat more welcome now than last year         70.0   \n...                                                       ...          ...   \n54757                   A lot less welcome now than last year          NaN   \n55407                                                     NaN          NaN   \n62464                                                     NaN          NaN   \n62954                                                     NaN          NaN   \n64236                                                     NaN          NaN   \n\n           YearsCode      YearsCodePro  \nRespondent                              \n7                  6                 4  \n22                10                 2  \n58               NaN               NaN  \n63                 4               NaN  \n149                5                 3  \n...              ...               ...  \n54757              5  Less than 1 year  \n55407            NaN               NaN  \n62464            NaN               NaN  \n62954            NaN               NaN  \n64236            NaN               NaN  \n\n[8403 rows x 60 columns]",
      "text/html": "<div>\n<style scoped>\n    .dataframe tbody tr th:only-of-type {\n        vertical-align: middle;\n    }\n\n    .dataframe tbody tr th {\n        vertical-align: top;\n    }\n\n    .dataframe thead th {\n        text-align: right;\n    }\n</style>\n<table border=\"1\" class=\"dataframe\">\n  <thead>\n    <tr style=\"text-align: right;\">\n      <th></th>\n      <th>MainBranch</th>\n      <th>Hobbyist</th>\n      <th>Age</th>\n      <th>Age1stCode</th>\n      <th>CompFreq</th>\n      <th>CompTotal</th>\n      <th>ConvertedComp</th>\n      <th>Country</th>\n      <th>CurrencyDesc</th>\n      <th>CurrencySymbol</th>\n      <th>DatabaseDesireNextYear</th>\n      <th>DatabaseWorkedWith</th>\n      <th>DevType</th>\n      <th>EdLevel</th>\n      <th>Employment</th>\n      <th>Ethnicity</th>\n      <th>Gender</th>\n      <th>JobFactors</th>\n      <th>JobSat</th>\n      <th>JobSeek</th>\n      <th>LanguageDesireNextYear</th>\n      <th>LanguageWorkedWith</th>\n      <th>MiscTechDesireNextYear</th>\n      <th>MiscTechWorkedWith</th>\n      <th>NEWCollabToolsDesireNextYear</th>\n      <th>NEWCollabToolsWorkedWith</th>\n      <th>NEWDevOps</th>\n      <th>NEWDevOpsImpt</th>\n      <th>NEWEdImpt</th>\n      <th>NEWJobHunt</th>\n      <th>NEWJobHuntResearch</th>\n      <th>NEWLearn</th>\n      <th>NEWOffTopic</th>\n      <th>NEWOnboardGood</th>\n      <th>NEWOtherComms</th>\n      <th>NEWOvertime</th>\n      <th>NEWPurchaseResearch</th>\n      <th>NEWPurpleLink</th>\n      <th>NEWSOSites</th>\n      <th>NEWStuck</th>\n      <th>OpSys</th>\n      <th>OrgSize</th>\n      <th>PlatformDesireNextYear</th>\n      <th>PlatformWorkedWith</th>\n      <th>PurchaseWhat</th>\n      <th>Sexuality</th>\n      <th>SOAccount</th>\n      <th>SOComm</th>\n      <th>SOPartFreq</th>\n      <th>SOVisitFreq</th>\n      <th>SurveyEase</th>\n      <th>SurveyLength</th>\n      <th>Trans</th>\n      <th>UndergradMajor</th>\n      <th>WebframeDesireNextYear</th>\n      <th>WebframeWorkedWith</th>\n      <th>WelcomeChange</th>\n      <th>WorkWeekHrs</th>\n      <th>YearsCode</th>\n      <th>YearsCodePro</th>\n    </tr>\n    <tr>\n      <th>Respondent</th>\n      <th></th>\n      <th></th>\n      <th></th>\n      <th></th>\n      <th></th>\n      <th></th>\n      <th></th>\n      <th></th>\n      <th></th>\n      <th></th>\n      <th></th>\n      <th></th>\n      <th></th>\n      <th></th>\n      <th></th>\n      <th></th>\n      <th></th>\n      <th></th>\n      <th></th>\n      <th></th>\n      <th></th>\n      <th></th>\n      <th></th>\n      <th></th>\n      <th></th>\n      <th></th>\n      <th></th>\n      <th></th>\n      <th></th>\n      <th></th>\n      <th></th>\n      <th></th>\n      <th></th>\n      <th></th>\n      <th></th>\n      <th></th>\n      <th></th>\n      <th></th>\n      <th></th>\n      <th></th>\n      <th></th>\n      <th></th>\n      <th></th>\n      <th></th>\n      <th></th>\n      <th></th>\n      <th></th>\n      <th></th>\n      <th></th>\n      <th></th>\n      <th></th>\n      <th></th>\n      <th></th>\n      <th></th>\n      <th></th>\n      <th></th>\n      <th></th>\n      <th></th>\n      <th></th>\n      <th></th>\n    </tr>\n  </thead>\n  <tbody>\n    <tr>\n      <th>7</th>\n      <td>I am a developer by profession</td>\n      <td>Yes</td>\n      <td>NaN</td>\n      <td>18</td>\n      <td>Monthly</td>\n      <td>NaN</td>\n      <td>NaN</td>\n      <td>India</td>\n      <td>United States dollar</td>\n      <td>USD</td>\n      <td>NaN</td>\n      <td>NaN</td>\n      <td>Developer, back-end;Developer, front-end;Devel...</td>\n      <td>Bachelor’s degree (B.A., B.S., B.Eng., etc.)</td>\n      <td>Employed full-time</td>\n      <td>NaN</td>\n      <td>NaN</td>\n      <td>NaN</td>\n      <td>Very satisfied</td>\n      <td>I’m not actively looking, but I am open to new...</td>\n      <td>C#;HTML/CSS;PHP</td>\n      <td>C#;HTML/CSS;PHP</td>\n      <td>NaN</td>\n      <td>NaN</td>\n      <td>NaN</td>\n      <td>NaN</td>\n      <td>Yes</td>\n      <td>Extremely important</td>\n      <td>Very important</td>\n      <td>Better compensation;Growth or leadership oppor...</td>\n      <td>Read company media, such as employee blogs or ...</td>\n      <td>Every few months</td>\n      <td>Yes</td>\n      <td>Yes</td>\n      <td>No</td>\n      <td>Sometimes: 1-2 days per month but less than we...</td>\n      <td>Start a free trial;Ask developers I know/work ...</td>\n      <td>NaN</td>\n      <td>Stack Overflow (public Q&amp;A for anyone who codes)</td>\n      <td>NaN</td>\n      <td>Windows</td>\n      <td>20 to 99 employees</td>\n      <td>NaN</td>\n      <td>NaN</td>\n      <td>NaN</td>\n      <td>NaN</td>\n      <td>Yes</td>\n      <td>Yes, definitely</td>\n      <td>Multiple times per day</td>\n      <td>Multiple times per day</td>\n      <td>NaN</td>\n      <td>NaN</td>\n      <td>NaN</td>\n      <td>Computer science, computer engineering, or sof...</td>\n      <td>NaN</td>\n      <td>NaN</td>\n      <td>A lot more welcome now than last year</td>\n      <td>NaN</td>\n      <td>6</td>\n      <td>4</td>\n    </tr>\n    <tr>\n      <th>22</th>\n      <td>I am a developer by profession</td>\n      <td>Yes</td>\n      <td>NaN</td>\n      <td>18</td>\n      <td>Monthly</td>\n      <td>NaN</td>\n      <td>NaN</td>\n      <td>India</td>\n      <td>Indian rupee</td>\n      <td>INR</td>\n      <td>NaN</td>\n      <td>NaN</td>\n      <td>Developer, full-stack;Engineer, data</td>\n      <td>Bachelor’s degree (B.A., B.S., B.Eng., etc.)</td>\n      <td>Employed full-time</td>\n      <td>NaN</td>\n      <td>Man</td>\n      <td>NaN</td>\n      <td>Slightly dissatisfied</td>\n      <td>I am actively looking for a job</td>\n      <td>Java;JavaScript;Python</td>\n      <td>Java;Python</td>\n      <td>NaN</td>\n      <td>NaN</td>\n      <td>NaN</td>\n      <td>NaN</td>\n      <td>Not sure</td>\n      <td>NaN</td>\n      <td>Very important</td>\n      <td>Better compensation;Better work/life balance;W...</td>\n      <td>Company reviews from third party sites (e.g. G...</td>\n      <td>Every few months</td>\n      <td>No</td>\n      <td>Yes</td>\n      <td>No</td>\n      <td>Often: 1-2 days per week or more</td>\n      <td>NaN</td>\n      <td>NaN</td>\n      <td>Stack Overflow (public Q&amp;A for anyone who code...</td>\n      <td>NaN</td>\n      <td>Windows</td>\n      <td>500 to 999 employees</td>\n      <td>NaN</td>\n      <td>NaN</td>\n      <td>NaN</td>\n      <td>NaN</td>\n      <td>Yes</td>\n      <td>Yes, definitely</td>\n      <td>Multiple times per day</td>\n      <td>Multiple times per day</td>\n      <td>Easy</td>\n      <td>Appropriate in length</td>\n      <td>NaN</td>\n      <td>Computer science, computer engineering, or sof...</td>\n      <td>NaN</td>\n      <td>NaN</td>\n      <td>Just as welcome now as I felt last year</td>\n      <td>50.0</td>\n      <td>10</td>\n      <td>2</td>\n    </tr>\n    <tr>\n      <th>58</th>\n      <td>I am a developer by profession</td>\n      <td>Yes</td>\n      <td>NaN</td>\n      <td>22</td>\n      <td>NaN</td>\n      <td>NaN</td>\n      <td>NaN</td>\n      <td>India</td>\n      <td>Indian rupee</td>\n      <td>INR</td>\n      <td>Microsoft SQL Server</td>\n      <td>Microsoft SQL Server</td>\n      <td>Developer, back-end</td>\n      <td>NaN</td>\n      <td>Independent contractor, freelancer, or self-em...</td>\n      <td>South Asian</td>\n      <td>NaN</td>\n      <td>Family friendliness</td>\n      <td>Very satisfied</td>\n      <td>I am not interested in new job opportunities</td>\n      <td>C#;JavaScript;SQL;TypeScript</td>\n      <td>C#;JavaScript;SQL;TypeScript</td>\n      <td>.NET;.NET Core;Node.js</td>\n      <td>.NET;.NET Core;Node.js</td>\n      <td>Stack Overflow for Teams</td>\n      <td>Stack Overflow for Teams</td>\n      <td>Yes</td>\n      <td>Extremely important</td>\n      <td>Very important</td>\n      <td>NaN</td>\n      <td>NaN</td>\n      <td>Once every few years</td>\n      <td>NaN</td>\n      <td>Yes</td>\n      <td>No</td>\n      <td>Often: 1-2 days per week or more</td>\n      <td>Ask developers I know/work with</td>\n      <td>Hello, old friend</td>\n      <td>Stack Overflow (public Q&amp;A for anyone who code...</td>\n      <td>Call a coworker or friend;Visit Stack Overflow...</td>\n      <td>Windows</td>\n      <td>NaN</td>\n      <td>NaN</td>\n      <td>NaN</td>\n      <td>NaN</td>\n      <td>NaN</td>\n      <td>Yes</td>\n      <td>Yes, definitely</td>\n      <td>NaN</td>\n      <td>Multiple times per day</td>\n      <td>Neither easy nor difficult</td>\n      <td>Too long</td>\n      <td>NaN</td>\n      <td>Web development or web design</td>\n      <td>Angular;Angular.js;ASP.NET;ASP.NET Core;jQuery</td>\n      <td>Angular;Angular.js;ASP.NET;ASP.NET Core;jQuery</td>\n      <td>NaN</td>\n      <td>NaN</td>\n      <td>NaN</td>\n      <td>NaN</td>\n    </tr>\n    <tr>\n      <th>63</th>\n      <td>I am a student who is learning to code</td>\n      <td>Yes</td>\n      <td>21.0</td>\n      <td>17</td>\n      <td>NaN</td>\n      <td>NaN</td>\n      <td>NaN</td>\n      <td>India</td>\n      <td>NaN</td>\n      <td>NaN</td>\n      <td>DynamoDB</td>\n      <td>Firebase;MongoDB;MySQL</td>\n      <td>Designer;Developer, back-end;Developer, front-...</td>\n      <td>Secondary school (e.g. American high school, G...</td>\n      <td>Not employed, but looking for work</td>\n      <td>South Asian</td>\n      <td>Man</td>\n      <td>Flex time or a flexible schedule;How widely us...</td>\n      <td>NaN</td>\n      <td>I am actively looking for a job</td>\n      <td>Go;Kotlin;TypeScript</td>\n      <td>C;C++;HTML/CSS;Java;JavaScript;Python</td>\n      <td>Flutter;Node.js;React Native;TensorFlow</td>\n      <td>NaN</td>\n      <td>Confluence;Stack Overflow for Teams</td>\n      <td>Github;Facebook Workplace;Slack;Microsoft Team...</td>\n      <td>NaN</td>\n      <td>NaN</td>\n      <td>NaN</td>\n      <td>NaN</td>\n      <td>NaN</td>\n      <td>Once a year</td>\n      <td>Yes</td>\n      <td>NaN</td>\n      <td>No</td>\n      <td>NaN</td>\n      <td>Start a free trial;Ask developers I know/work ...</td>\n      <td>Hello, old friend</td>\n      <td>Stack Overflow (public Q&amp;A for anyone who code...</td>\n      <td>Visit Stack Overflow;Go for a walk or other ph...</td>\n      <td>Windows</td>\n      <td>NaN</td>\n      <td>AWS;Docker;Heroku;iOS</td>\n      <td>Android;Arduino;Google Cloud Platform;Raspberr...</td>\n      <td>NaN</td>\n      <td>Straight / Heterosexual</td>\n      <td>Yes</td>\n      <td>Neutral</td>\n      <td>A few times per week</td>\n      <td>Daily or almost daily</td>\n      <td>Easy</td>\n      <td>Appropriate in length</td>\n      <td>No</td>\n      <td>NaN</td>\n      <td>Angular.js;Django;jQuery;Laravel;Vue.js</td>\n      <td>NaN</td>\n      <td>Not applicable - I did not use Stack Overflow ...</td>\n      <td>NaN</td>\n      <td>4</td>\n      <td>NaN</td>\n    </tr>\n    <tr>\n      <th>149</th>\n      <td>I am a developer by profession</td>\n      <td>Yes</td>\n      <td>36.0</td>\n      <td>31</td>\n      <td>Yearly</td>\n      <td>21000000.0</td>\n      <td>293196.0</td>\n      <td>India</td>\n      <td>Indian rupee</td>\n      <td>INR</td>\n      <td>Cassandra;MySQL;PostgreSQL</td>\n      <td>MySQL;PostgreSQL</td>\n      <td>Developer, back-end;Developer, QA or test;DevO...</td>\n      <td>Bachelor’s degree (B.A., B.S., B.Eng., etc.)</td>\n      <td>Employed full-time</td>\n      <td>East Asian</td>\n      <td>Man</td>\n      <td>Languages, frameworks, and other technologies ...</td>\n      <td>Very satisfied</td>\n      <td>I am not interested in new job opportunities</td>\n      <td>Bash/Shell/PowerShell;C;C++;Java;Perl;Scala</td>\n      <td>Bash/Shell/PowerShell;C++;Perl</td>\n      <td>Apache Spark</td>\n      <td>NaN</td>\n      <td>Confluence;Jira;Github;Gitlab;Google Suite (Do...</td>\n      <td>Confluence;Jira;Github;Google Suite (Docs, Mee...</td>\n      <td>Not sure</td>\n      <td>Neutral</td>\n      <td>Critically important</td>\n      <td>Just because;Curious about other opportunities...</td>\n      <td>Read company media, such as employee blogs or ...</td>\n      <td>Once a year</td>\n      <td>Not sure</td>\n      <td>Onboarding? What onboarding?</td>\n      <td>No</td>\n      <td>Sometimes: 1-2 days per month but less than we...</td>\n      <td>NaN</td>\n      <td>Indifferent</td>\n      <td>Stack Overflow (public Q&amp;A for anyone who codes)</td>\n      <td>Visit Stack Overflow;Go for a walk or other ph...</td>\n      <td>Linux-based</td>\n      <td>500 to 999 employees</td>\n      <td>Google Cloud Platform;Linux</td>\n      <td>Linux</td>\n      <td>I have little or no influence</td>\n      <td>Straight / Heterosexual</td>\n      <td>Yes</td>\n      <td>Yes, somewhat</td>\n      <td>A few times per month or weekly</td>\n      <td>Multiple times per day</td>\n      <td>Neither easy nor difficult</td>\n      <td>Appropriate in length</td>\n      <td>No</td>\n      <td>Computer science, computer engineering, or sof...</td>\n      <td>NaN</td>\n      <td>NaN</td>\n      <td>Somewhat more welcome now than last year</td>\n      <td>70.0</td>\n      <td>5</td>\n      <td>3</td>\n    </tr>\n    <tr>\n      <th>...</th>\n      <td>...</td>\n      <td>...</td>\n      <td>...</td>\n      <td>...</td>\n      <td>...</td>\n      <td>...</td>\n      <td>...</td>\n      <td>...</td>\n      <td>...</td>\n      <td>...</td>\n      <td>...</td>\n      <td>...</td>\n      <td>...</td>\n      <td>...</td>\n      <td>...</td>\n      <td>...</td>\n      <td>...</td>\n      <td>...</td>\n      <td>...</td>\n      <td>...</td>\n      <td>...</td>\n      <td>...</td>\n      <td>...</td>\n      <td>...</td>\n      <td>...</td>\n      <td>...</td>\n      <td>...</td>\n      <td>...</td>\n      <td>...</td>\n      <td>...</td>\n      <td>...</td>\n      <td>...</td>\n      <td>...</td>\n      <td>...</td>\n      <td>...</td>\n      <td>...</td>\n      <td>...</td>\n      <td>...</td>\n      <td>...</td>\n      <td>...</td>\n      <td>...</td>\n      <td>...</td>\n      <td>...</td>\n      <td>...</td>\n      <td>...</td>\n      <td>...</td>\n      <td>...</td>\n      <td>...</td>\n      <td>...</td>\n      <td>...</td>\n      <td>...</td>\n      <td>...</td>\n      <td>...</td>\n      <td>...</td>\n      <td>...</td>\n      <td>...</td>\n      <td>...</td>\n      <td>...</td>\n      <td>...</td>\n      <td>...</td>\n    </tr>\n    <tr>\n      <th>54757</th>\n      <td>NaN</td>\n      <td>Yes</td>\n      <td>NaN</td>\n      <td>18</td>\n      <td>NaN</td>\n      <td>NaN</td>\n      <td>NaN</td>\n      <td>India</td>\n      <td>NaN</td>\n      <td>NaN</td>\n      <td>MongoDB;MySQL</td>\n      <td>MySQL</td>\n      <td>Developer, full-stack;Developer, QA or test</td>\n      <td>Bachelor’s degree (B.A., B.S., B.Eng., etc.)</td>\n      <td>Employed full-time</td>\n      <td>NaN</td>\n      <td>Man</td>\n      <td>NaN</td>\n      <td>NaN</td>\n      <td>NaN</td>\n      <td>HTML/CSS;Java;JavaScript;Python;SQL</td>\n      <td>C;HTML/CSS;Java;JavaScript;PHP;Python;SQL</td>\n      <td>NaN</td>\n      <td>NaN</td>\n      <td>Jira;Github;Gitlab;Slack</td>\n      <td>Jira;Github;Gitlab;Slack</td>\n      <td>NaN</td>\n      <td>NaN</td>\n      <td>NaN</td>\n      <td>NaN</td>\n      <td>NaN</td>\n      <td>Once a year</td>\n      <td>No</td>\n      <td>NaN</td>\n      <td>NaN</td>\n      <td>NaN</td>\n      <td>Ask developers I know/work with</td>\n      <td>Amused</td>\n      <td>Stack Overflow (public Q&amp;A for anyone who code...</td>\n      <td>Visit Stack Overflow</td>\n      <td>Linux-based</td>\n      <td>NaN</td>\n      <td>Linux;Windows</td>\n      <td>Linux;Windows</td>\n      <td>NaN</td>\n      <td>Straight / Heterosexual</td>\n      <td>Not sure/can't remember</td>\n      <td>Neutral</td>\n      <td>NaN</td>\n      <td>A few times per month or weekly</td>\n      <td>Easy</td>\n      <td>Appropriate in length</td>\n      <td>No</td>\n      <td>Computer science, computer engineering, or sof...</td>\n      <td>jQuery</td>\n      <td>jQuery</td>\n      <td>A lot less welcome now than last year</td>\n      <td>NaN</td>\n      <td>5</td>\n      <td>Less than 1 year</td>\n    </tr>\n    <tr>\n      <th>55407</th>\n      <td>NaN</td>\n      <td>Yes</td>\n      <td>NaN</td>\n      <td>NaN</td>\n      <td>NaN</td>\n      <td>NaN</td>\n      <td>NaN</td>\n      <td>India</td>\n      <td>NaN</td>\n      <td>NaN</td>\n      <td>NaN</td>\n      <td>NaN</td>\n      <td>NaN</td>\n      <td>Associate degree (A.A., A.S., etc.)</td>\n      <td>NaN</td>\n      <td>NaN</td>\n      <td>NaN</td>\n      <td>NaN</td>\n      <td>NaN</td>\n      <td>NaN</td>\n      <td>NaN</td>\n      <td>NaN</td>\n      <td>NaN</td>\n      <td>NaN</td>\n      <td>NaN</td>\n      <td>NaN</td>\n      <td>NaN</td>\n      <td>NaN</td>\n      <td>NaN</td>\n      <td>NaN</td>\n      <td>NaN</td>\n      <td>NaN</td>\n      <td>NaN</td>\n      <td>NaN</td>\n      <td>NaN</td>\n      <td>NaN</td>\n      <td>NaN</td>\n      <td>NaN</td>\n      <td>NaN</td>\n      <td>NaN</td>\n      <td>NaN</td>\n      <td>NaN</td>\n      <td>NaN</td>\n      <td>NaN</td>\n      <td>NaN</td>\n      <td>NaN</td>\n      <td>NaN</td>\n      <td>NaN</td>\n      <td>NaN</td>\n      <td>NaN</td>\n      <td>NaN</td>\n      <td>NaN</td>\n      <td>NaN</td>\n      <td>NaN</td>\n      <td>NaN</td>\n      <td>NaN</td>\n      <td>NaN</td>\n      <td>NaN</td>\n      <td>NaN</td>\n      <td>NaN</td>\n    </tr>\n    <tr>\n      <th>62464</th>\n      <td>NaN</td>\n      <td>Yes</td>\n      <td>NaN</td>\n      <td>NaN</td>\n      <td>NaN</td>\n      <td>NaN</td>\n      <td>NaN</td>\n      <td>India</td>\n      <td>NaN</td>\n      <td>NaN</td>\n      <td>NaN</td>\n      <td>NaN</td>\n      <td>NaN</td>\n      <td>Bachelor’s degree (B.A., B.S., B.Eng., etc.)</td>\n      <td>NaN</td>\n      <td>NaN</td>\n      <td>Man</td>\n      <td>NaN</td>\n      <td>NaN</td>\n      <td>NaN</td>\n      <td>NaN</td>\n      <td>NaN</td>\n      <td>NaN</td>\n      <td>NaN</td>\n      <td>NaN</td>\n      <td>NaN</td>\n      <td>NaN</td>\n      <td>NaN</td>\n      <td>NaN</td>\n      <td>NaN</td>\n      <td>NaN</td>\n      <td>NaN</td>\n      <td>NaN</td>\n      <td>NaN</td>\n      <td>NaN</td>\n      <td>NaN</td>\n      <td>NaN</td>\n      <td>NaN</td>\n      <td>NaN</td>\n      <td>NaN</td>\n      <td>NaN</td>\n      <td>NaN</td>\n      <td>NaN</td>\n      <td>NaN</td>\n      <td>NaN</td>\n      <td>NaN</td>\n      <td>NaN</td>\n      <td>NaN</td>\n      <td>NaN</td>\n      <td>NaN</td>\n      <td>NaN</td>\n      <td>NaN</td>\n      <td>NaN</td>\n      <td>I never declared a major</td>\n      <td>NaN</td>\n      <td>NaN</td>\n      <td>NaN</td>\n      <td>NaN</td>\n      <td>NaN</td>\n      <td>NaN</td>\n    </tr>\n    <tr>\n      <th>62954</th>\n      <td>NaN</td>\n      <td>Yes</td>\n      <td>NaN</td>\n      <td>NaN</td>\n      <td>NaN</td>\n      <td>NaN</td>\n      <td>NaN</td>\n      <td>India</td>\n      <td>NaN</td>\n      <td>NaN</td>\n      <td>NaN</td>\n      <td>NaN</td>\n      <td>NaN</td>\n      <td>NaN</td>\n      <td>Employed full-time</td>\n      <td>NaN</td>\n      <td>NaN</td>\n      <td>NaN</td>\n      <td>NaN</td>\n      <td>NaN</td>\n      <td>NaN</td>\n      <td>SQL</td>\n      <td>NaN</td>\n      <td>NaN</td>\n      <td>NaN</td>\n      <td>NaN</td>\n      <td>NaN</td>\n      <td>NaN</td>\n      <td>NaN</td>\n      <td>NaN</td>\n      <td>NaN</td>\n      <td>NaN</td>\n      <td>NaN</td>\n      <td>NaN</td>\n      <td>NaN</td>\n      <td>NaN</td>\n      <td>NaN</td>\n      <td>NaN</td>\n      <td>NaN</td>\n      <td>NaN</td>\n      <td>NaN</td>\n      <td>NaN</td>\n      <td>NaN</td>\n      <td>NaN</td>\n      <td>NaN</td>\n      <td>NaN</td>\n      <td>NaN</td>\n      <td>NaN</td>\n      <td>NaN</td>\n      <td>NaN</td>\n      <td>NaN</td>\n      <td>NaN</td>\n      <td>NaN</td>\n      <td>NaN</td>\n      <td>NaN</td>\n      <td>ASP.NET;ASP.NET Core;Django;jQuery;Symfony;Vue.js</td>\n      <td>NaN</td>\n      <td>NaN</td>\n      <td>NaN</td>\n      <td>NaN</td>\n    </tr>\n    <tr>\n      <th>64236</th>\n      <td>NaN</td>\n      <td>Yes</td>\n      <td>NaN</td>\n      <td>NaN</td>\n      <td>NaN</td>\n      <td>NaN</td>\n      <td>NaN</td>\n      <td>India</td>\n      <td>NaN</td>\n      <td>NaN</td>\n      <td>NaN</td>\n      <td>NaN</td>\n      <td>NaN</td>\n      <td>NaN</td>\n      <td>Employed full-time</td>\n      <td>NaN</td>\n      <td>NaN</td>\n      <td>NaN</td>\n      <td>NaN</td>\n      <td>NaN</td>\n      <td>NaN</td>\n      <td>NaN</td>\n      <td>NaN</td>\n      <td>NaN</td>\n      <td>NaN</td>\n      <td>NaN</td>\n      <td>NaN</td>\n      <td>NaN</td>\n      <td>NaN</td>\n      <td>NaN</td>\n      <td>NaN</td>\n      <td>NaN</td>\n      <td>NaN</td>\n      <td>NaN</td>\n      <td>NaN</td>\n      <td>NaN</td>\n      <td>NaN</td>\n      <td>NaN</td>\n      <td>NaN</td>\n      <td>NaN</td>\n      <td>NaN</td>\n      <td>NaN</td>\n      <td>NaN</td>\n      <td>NaN</td>\n      <td>NaN</td>\n      <td>NaN</td>\n      <td>NaN</td>\n      <td>NaN</td>\n      <td>NaN</td>\n      <td>NaN</td>\n      <td>NaN</td>\n      <td>NaN</td>\n      <td>NaN</td>\n      <td>NaN</td>\n      <td>NaN</td>\n      <td>NaN</td>\n      <td>NaN</td>\n      <td>NaN</td>\n      <td>NaN</td>\n      <td>NaN</td>\n    </tr>\n  </tbody>\n</table>\n<p>8403 rows × 60 columns</p>\n</div>"
     },
     "metadata": {}
    }
   ]
  },
  {
   "cell_type": "code",
   "metadata": {
    "cell_id": "97c7bf2e093c48f6a302f2b52388b7bf",
    "tags": [],
    "deepnote_to_be_reexecuted": false,
    "source_hash": "e6e18744",
    "execution_start": 1657887130078,
    "execution_millis": 419,
    "deepnote_cell_type": "code",
    "deepnote_cell_height": 635
   },
   "source": "filt = data['Country'] == 'United States'\ndata.loc[filt]",
   "execution_count": null,
   "outputs": [
    {
     "output_type": "execute_result",
     "execution_count": 28,
     "data": {
      "application/vnd.deepnote.dataframe.v3+json": {
       "column_count": 60,
       "row_count": 12469,
       "columns": [
        {
         "name": "MainBranch",
         "dtype": "object",
         "stats": {
          "unique_count": 5,
          "nan_count": 31,
          "categories": [
           {
            "name": "I am a developer by profession",
            "count": 9456
           },
           {
            "name": "4 others",
            "count": 2982
           },
           {
            "name": "Missing",
            "count": 31
           }
          ]
         }
        },
        {
         "name": "Hobbyist",
         "dtype": "object",
         "stats": {
          "unique_count": 2,
          "nan_count": 0,
          "categories": [
           {
            "name": "Yes",
            "count": 9718
           },
           {
            "name": "No",
            "count": 2751
           }
          ]
         }
        },
        {
         "name": "Age",
         "dtype": "float64",
         "stats": {
          "unique_count": 85,
          "nan_count": 2850,
          "min": "1.0",
          "max": "99.0",
          "histogram": [
           {
            "bin_start": 1,
            "bin_end": 10.8,
            "count": 1
           },
           {
            "bin_start": 10.8,
            "bin_end": 20.6,
            "count": 609
           },
           {
            "bin_start": 20.6,
            "bin_end": 30.400000000000002,
            "count": 3857
           },
           {
            "bin_start": 30.400000000000002,
            "bin_end": 40.2,
            "count": 3090
           },
           {
            "bin_start": 40.2,
            "bin_end": 50,
            "count": 1106
           },
           {
            "bin_start": 50,
            "bin_end": 59.800000000000004,
            "count": 660
           },
           {
            "bin_start": 59.800000000000004,
            "bin_end": 69.60000000000001,
            "count": 234
           },
           {
            "bin_start": 69.60000000000001,
            "bin_end": 79.4,
            "count": 50
           },
           {
            "bin_start": 79.4,
            "bin_end": 89.2,
            "count": 11
           },
           {
            "bin_start": 89.2,
            "bin_end": 99,
            "count": 1
           }
          ]
         }
        },
        {
         "name": "Age1stCode",
         "dtype": "object",
         "stats": {
          "unique_count": 55,
          "nan_count": 684,
          "categories": [
           {
            "name": "12",
            "count": 1259
           },
           {
            "name": "54 others",
            "count": 10526
           },
           {
            "name": "Missing",
            "count": 684
           }
          ]
         }
        },
        {
         "name": "CompFreq",
         "dtype": "object",
         "stats": {
          "unique_count": 3,
          "nan_count": 3837,
          "categories": [
           {
            "name": "Yearly",
            "count": 7510
           },
           {
            "name": "2 others",
            "count": 1122
           },
           {
            "name": "Missing",
            "count": 3837
           }
          ]
         }
        },
        {
         "name": "CompTotal",
         "dtype": "float64",
         "stats": {
          "unique_count": 907,
          "nan_count": 4298,
          "min": "0.0",
          "max": "1.11111111111111e+247",
          "histogram": [
           {
            "bin_start": 0,
            "bin_end": 1.11111111111111e+246,
            "count": 8170
           },
           {
            "bin_start": 1.11111111111111e+246,
            "bin_end": 2.22222222222222e+246,
            "count": 0
           },
           {
            "bin_start": 2.22222222222222e+246,
            "bin_end": 3.33333333333333e+246,
            "count": 0
           },
           {
            "bin_start": 3.33333333333333e+246,
            "bin_end": 4.44444444444444e+246,
            "count": 0
           },
           {
            "bin_start": 4.44444444444444e+246,
            "bin_end": 5.55555555555555e+246,
            "count": 0
           },
           {
            "bin_start": 5.55555555555555e+246,
            "bin_end": 6.66666666666666e+246,
            "count": 0
           },
           {
            "bin_start": 6.66666666666666e+246,
            "bin_end": 7.77777777777777e+246,
            "count": 0
           },
           {
            "bin_start": 7.77777777777777e+246,
            "bin_end": 8.88888888888888e+246,
            "count": 0
           },
           {
            "bin_start": 8.88888888888888e+246,
            "bin_end": 9.99999999999999e+246,
            "count": 0
           },
           {
            "bin_start": 9.99999999999999e+246,
            "bin_end": 1.11111111111111e+247,
            "count": 1
           }
          ]
         }
        },
        {
         "name": "ConvertedComp",
         "dtype": "float64",
         "stats": {
          "unique_count": 902,
          "nan_count": 4317,
          "min": "0.0",
          "max": "2000000.0",
          "histogram": [
           {
            "bin_start": 0,
            "bin_end": 200000,
            "count": 6866
           },
           {
            "bin_start": 200000,
            "bin_end": 400000,
            "count": 734
           },
           {
            "bin_start": 400000,
            "bin_end": 600000,
            "count": 87
           },
           {
            "bin_start": 600000,
            "bin_end": 800000,
            "count": 41
           },
           {
            "bin_start": 800000,
            "bin_end": 1000000,
            "count": 35
           },
           {
            "bin_start": 1000000,
            "bin_end": 1200000,
            "count": 37
           },
           {
            "bin_start": 1200000,
            "bin_end": 1400000,
            "count": 34
           },
           {
            "bin_start": 1400000,
            "bin_end": 1600000,
            "count": 27
           },
           {
            "bin_start": 1600000,
            "bin_end": 1800000,
            "count": 18
           },
           {
            "bin_start": 1800000,
            "bin_end": 2000000,
            "count": 273
           }
          ]
         }
        },
        {
         "name": "Country",
         "dtype": "object",
         "stats": {
          "unique_count": 1,
          "nan_count": 0,
          "categories": [
           {
            "name": "United States",
            "count": 12469
           }
          ]
         }
        },
        {
         "name": "CurrencyDesc",
         "dtype": "object"
        },
        {
         "name": "CurrencySymbol",
         "dtype": "object"
        },
        {
         "name": "DatabaseDesireNextYear",
         "dtype": "object"
        },
        {
         "name": "DatabaseWorkedWith",
         "dtype": "object"
        },
        {
         "name": "DevType",
         "dtype": "object"
        },
        {
         "name": "EdLevel",
         "dtype": "object"
        },
        {
         "name": "Employment",
         "dtype": "object"
        },
        {
         "name": "Ethnicity",
         "dtype": "object"
        },
        {
         "name": "Gender",
         "dtype": "object"
        },
        {
         "name": "JobFactors",
         "dtype": "object"
        },
        {
         "name": "JobSat",
         "dtype": "object"
        },
        {
         "name": "JobSeek",
         "dtype": "object"
        },
        {
         "name": "LanguageDesireNextYear",
         "dtype": "object"
        },
        {
         "name": "LanguageWorkedWith",
         "dtype": "object"
        },
        {
         "name": "MiscTechDesireNextYear",
         "dtype": "object"
        },
        {
         "name": "MiscTechWorkedWith",
         "dtype": "object"
        },
        {
         "name": "NEWCollabToolsDesireNextYear",
         "dtype": "object"
        },
        {
         "name": "NEWCollabToolsWorkedWith",
         "dtype": "object"
        },
        {
         "name": "NEWDevOps",
         "dtype": "object"
        },
        {
         "name": "NEWDevOpsImpt",
         "dtype": "object"
        },
        {
         "name": "NEWEdImpt",
         "dtype": "object"
        },
        {
         "name": "NEWJobHunt",
         "dtype": "object"
        },
        {
         "name": "NEWJobHuntResearch",
         "dtype": "object"
        },
        {
         "name": "NEWLearn",
         "dtype": "object"
        },
        {
         "name": "NEWOffTopic",
         "dtype": "object"
        },
        {
         "name": "NEWOnboardGood",
         "dtype": "object"
        },
        {
         "name": "NEWOtherComms",
         "dtype": "object"
        },
        {
         "name": "NEWOvertime",
         "dtype": "object"
        },
        {
         "name": "NEWPurchaseResearch",
         "dtype": "object"
        },
        {
         "name": "NEWPurpleLink",
         "dtype": "object"
        },
        {
         "name": "NEWSOSites",
         "dtype": "object"
        },
        {
         "name": "NEWStuck",
         "dtype": "object"
        },
        {
         "name": "OpSys",
         "dtype": "object"
        },
        {
         "name": "OrgSize",
         "dtype": "object"
        },
        {
         "name": "PlatformDesireNextYear",
         "dtype": "object"
        },
        {
         "name": "PlatformWorkedWith",
         "dtype": "object"
        },
        {
         "name": "PurchaseWhat",
         "dtype": "object"
        },
        {
         "name": "Sexuality",
         "dtype": "object"
        },
        {
         "name": "SOAccount",
         "dtype": "object"
        },
        {
         "name": "SOComm",
         "dtype": "object"
        },
        {
         "name": "SOPartFreq",
         "dtype": "object"
        },
        {
         "name": "SOVisitFreq",
         "dtype": "object"
        },
        {
         "name": "SurveyEase",
         "dtype": "object"
        },
        {
         "name": "SurveyLength",
         "dtype": "object"
        },
        {
         "name": "Trans",
         "dtype": "object"
        },
        {
         "name": "UndergradMajor",
         "dtype": "object"
        },
        {
         "name": "WebframeDesireNextYear",
         "dtype": "object"
        },
        {
         "name": "WebframeWorkedWith",
         "dtype": "object"
        },
        {
         "name": "WelcomeChange",
         "dtype": "object"
        },
        {
         "name": "WorkWeekHrs",
         "dtype": "float64"
        },
        {
         "name": "YearsCode",
         "dtype": "object"
        },
        {
         "name": "YearsCodePro",
         "dtype": "object"
        },
        {
         "name": "_deepnote_index_column",
         "dtype": "int64"
        }
       ],
       "rows": [
        {
         "MainBranch": "I used to be a developer by profession, but no longer am",
         "Hobbyist": "Yes",
         "Age": 31,
         "Age1stCode": "16",
         "CompFreq": "nan",
         "CompTotal": "nan",
         "ConvertedComp": "nan",
         "Country": "United States",
         "CurrencyDesc": "nan",
         "CurrencySymbol": "nan",
         "DatabaseDesireNextYear": "MySQL;PostgreSQL",
         "DatabaseWorkedWith": "MySQL;PostgreSQL;Redis;SQLite",
         "DevType": "nan",
         "EdLevel": "Bachelor’s degree (B.A., B.S., B.Eng., etc.)",
         "Employment": "Employed full-time",
         "Ethnicity": "White or of European descent",
         "Gender": "Man",
         "JobFactors": "nan",
         "JobSat": "nan",
         "JobSeek": "nan",
         "LanguageDesireNextYear": "Java;Ruby;Scala",
         "LanguageWorkedWith": "HTML/CSS;Ruby;SQL",
         "MiscTechDesireNextYear": "Ansible;Chef",
         "MiscTechWorkedWith": "Ansible",
         "NEWCollabToolsDesireNextYear": "Github;Google Suite (Docs, Meet, etc)",
         "NEWCollabToolsWorkedWith": "Confluence;Jira;Github;Slack;Google Suite (Docs, Meet, etc)",
         "NEWDevOps": "nan",
         "NEWDevOpsImpt": "nan",
         "NEWEdImpt": "Very important",
         "NEWJobHunt": "nan",
         "NEWJobHuntResearch": "nan",
         "NEWLearn": "Once a year",
         "NEWOffTopic": "No",
         "NEWOnboardGood": "nan",
         "NEWOtherComms": "Yes",
         "NEWOvertime": "nan",
         "NEWPurchaseResearch": "Start a free trial;Ask developers I know/work with;Visit developer communities like Stack Overflow;Read ratings or reviews on third party sites like G2Crowd;Research companies that have advertised on sites I visit",
         "NEWPurpleLink": "Hello, old friend",
         "NEWSOSites": "Stack Overflow (public Q&A for anyone who codes);Stack Exchange (public Q&A for a variety of topics);Stack Overflow Jobs (for job seekers);Stack Overflow for Teams (private Q&A for organizations);Stack Overflow Talent (for hiring companies/recruiters)",
         "NEWStuck": "Call a coworker or friend;Visit Stack Overflow;Watch help / tutorial videos;Do other work and come back later;Visit another developer community (please name):",
         "OpSys": "Windows",
         "OrgSize": "nan",
         "PlatformDesireNextYear": "Docker;Google Cloud Platform;Heroku;Linux;Windows",
         "PlatformWorkedWith": "AWS;Docker;Linux;MacOS;Windows",
         "PurchaseWhat": "nan",
         "Sexuality": "Straight / Heterosexual",
         "SOAccount": "Yes",
         "SOComm": "Yes, somewhat",
         "SOPartFreq": "Less than once per month or monthly",
         "SOVisitFreq": "A few times per month or weekly",
         "SurveyEase": "Easy",
         "SurveyLength": "Too short",
         "Trans": "No",
         "UndergradMajor": "Computer science, computer engineering, or software engineering",
         "WebframeDesireNextYear": "Django;Ruby on Rails",
         "WebframeWorkedWith": "Ruby on Rails",
         "WelcomeChange": "Just as welcome now as I felt last year",
         "WorkWeekHrs": "nan",
         "YearsCode": "15",
         "YearsCodePro": "8",
         "_deepnote_index_column": 5
        },
        {
         "MainBranch": "I am a developer by profession",
         "Hobbyist": "Yes",
         "Age": 36,
         "Age1stCode": "12",
         "CompFreq": "Yearly",
         "CompTotal": 116000,
         "ConvertedComp": 116000,
         "Country": "United States",
         "CurrencyDesc": "United States dollar",
         "CurrencySymbol": "USD",
         "DatabaseDesireNextYear": "MongoDB",
         "DatabaseWorkedWith": "MariaDB;MySQL;Redis",
         "DevType": "Developer, back-end;Developer, desktop or enterprise applications;Developer, game or graphics",
         "EdLevel": "Bachelor’s degree (B.A., B.S., B.Eng., etc.)",
         "Employment": "Employed full-time",
         "Ethnicity": "White or of European descent",
         "Gender": "Man",
         "JobFactors": "Remote work options;Opportunities for professional development;Family friendliness",
         "JobSat": "Slightly dissatisfied",
         "JobSeek": "I’m not actively looking, but I am open to new opportunities",
         "LanguageDesireNextYear": "JavaScript",
         "LanguageWorkedWith": "Python;SQL",
         "MiscTechDesireNextYear": "Unity 3D",
         "MiscTechWorkedWith": "Ansible",
         "NEWCollabToolsDesireNextYear": "nan",
         "NEWCollabToolsWorkedWith": "Confluence;Jira;Github;Slack;Microsoft Teams;Google Suite (Docs, Meet, etc)",
         "NEWDevOps": "Yes",
         "NEWDevOpsImpt": "Extremely important",
         "NEWEdImpt": "Not at all important/not necessary",
         "NEWJobHunt": "Curious about other opportunities;Better compensation;Trouble with my direct manager;Trouble with leadership at my company;Better work/life balance;Wanting to work with new technologies;Growth or leadership opportunities",
         "NEWJobHuntResearch": "Read company media, such as employee blogs or company culture videos;Company reviews from third party sites (e.g. Glassdoor, Blind);Personal network - friends or family;Read other media like news articles, founder profiles, etc. about the company",
         "NEWLearn": "Once a year",
         "NEWOffTopic": "Not sure",
         "NEWOnboardGood": "Yes",
         "NEWOtherComms": "No",
         "NEWOvertime": "Occasionally: 1-2 days per quarter but less than monthly",
         "NEWPurchaseResearch": "Start a free trial;Ask developers I know/work with;Visit developer communities like Stack Overflow;Read ratings or reviews on third party sites like G2Crowd",
         "NEWPurpleLink": "Hello, old friend",
         "NEWSOSites": "Stack Overflow (public Q&A for anyone who codes);Stack Overflow Jobs (for job seekers)",
         "NEWStuck": "Play games;Call a coworker or friend;Visit Stack Overflow;Go for a walk or other physical activity;Watch help / tutorial videos;Do other work and come back later",
         "OpSys": "Linux-based",
         "OrgSize": "20 to 99 employees",
         "PlatformDesireNextYear": "iOS;Slack Apps and Integrations",
         "PlatformWorkedWith": "Docker",
         "PurchaseWhat": "I have some influence",
         "Sexuality": "Straight / Heterosexual",
         "SOAccount": "Yes",
         "SOComm": "No, not really",
         "SOPartFreq": "Less than once per month or monthly",
         "SOVisitFreq": "Multiple times per day",
         "SurveyEase": "Easy",
         "SurveyLength": "Appropriate in length",
         "Trans": "No",
         "UndergradMajor": "Computer science, computer engineering, or software engineering",
         "WebframeDesireNextYear": "Django;React.js;Vue.js",
         "WebframeWorkedWith": "Flask",
         "WelcomeChange": "Just as welcome now as I felt last year",
         "WorkWeekHrs": 39,
         "YearsCode": "17",
         "YearsCodePro": "13",
         "_deepnote_index_column": 8
        },
        {
         "MainBranch": "I am a developer by profession",
         "Hobbyist": "Yes",
         "Age": 27,
         "Age1stCode": "13",
         "CompFreq": "Yearly",
         "CompTotal": 66000,
         "ConvertedComp": 66000,
         "Country": "United States",
         "CurrencyDesc": "United States dollar",
         "CurrencySymbol": "USD",
         "DatabaseDesireNextYear": "Firebase;Microsoft SQL Server",
         "DatabaseWorkedWith": "Firebase;Microsoft SQL Server",
         "DevType": "Developer, desktop or enterprise applications;Developer, front-end",
         "EdLevel": "Associate degree (A.A., A.S., etc.)",
         "Employment": "Employed full-time",
         "Ethnicity": "White or of European descent",
         "Gender": "Man",
         "JobFactors": "Industry that I’d be working in;Flex time or a flexible schedule;Office environment or company culture",
         "JobSat": "Slightly satisfied",
         "JobSeek": "I’m not actively looking, but I am open to new opportunities",
         "LanguageDesireNextYear": "HTML/CSS;JavaScript;SQL;TypeScript",
         "LanguageWorkedWith": "HTML/CSS;JavaScript;SQL;TypeScript",
         "MiscTechDesireNextYear": "Node.js",
         "MiscTechWorkedWith": "Node.js",
         "NEWCollabToolsDesireNextYear": "Confluence;Jira;Github;Microsoft Teams;Google Suite (Docs, Meet, etc)",
         "NEWCollabToolsWorkedWith": "Confluence;Jira;Github;Microsoft Teams",
         "NEWDevOps": "Yes",
         "NEWDevOpsImpt": "Extremely important",
         "NEWEdImpt": "Somewhat important",
         "NEWJobHunt": "Wanting to share accomplishments with a wider network;Curious about other opportunities;Better compensation;Wanting to work with new technologies;Growth or leadership opportunities",
         "NEWJobHuntResearch": "Read company media, such as employee blogs or company culture videos;Company reviews from third party sites (e.g. Glassdoor, Blind);Publicly available financial information (e.g. Crunchbase);Read other media like news articles, founder profiles, etc. about the company",
         "NEWLearn": "Every few months",
         "NEWOffTopic": "No",
         "NEWOnboardGood": "Yes",
         "NEWOtherComms": "No",
         "NEWOvertime": "Occasionally: 1-2 days per quarter but less than monthly",
         "NEWPurchaseResearch": "nan",
         "NEWPurpleLink": "Amused",
         "NEWSOSites": "Stack Overflow (public Q&A for anyone who codes);Stack Exchange (public Q&A for a variety of topics)",
         "NEWStuck": "Call a coworker or friend;Visit Stack Overflow;Go for a walk or other physical activity;Do other work and come back later",
         "OpSys": "Windows",
         "OrgSize": "100 to 499 employees",
         "PlatformDesireNextYear": "Google Cloud Platform;Raspberry Pi;Windows",
         "PlatformWorkedWith": "Google Cloud Platform;Windows",
         "PurchaseWhat": "I have little or no influence",
         "Sexuality": "Straight / Heterosexual",
         "SOAccount": "Yes",
         "SOComm": "Yes, definitely",
         "SOPartFreq": "A few times per week",
         "SOVisitFreq": "Multiple times per day",
         "SurveyEase": "Neither easy nor difficult",
         "SurveyLength": "Appropriate in length",
         "Trans": "No",
         "UndergradMajor": "Computer science, computer engineering, or software engineering",
         "WebframeDesireNextYear": "Angular;Vue.js",
         "WebframeWorkedWith": "Angular;Vue.js",
         "WelcomeChange": "Just as welcome now as I felt last year",
         "WorkWeekHrs": 40,
         "YearsCode": "5",
         "YearsCodePro": "1",
         "_deepnote_index_column": 14
        },
        {
         "MainBranch": "I am a developer by profession",
         "Hobbyist": "Yes",
         "Age": 25,
         "Age1stCode": "14",
         "CompFreq": "Yearly",
         "CompTotal": 79000,
         "ConvertedComp": 79000,
         "Country": "United States",
         "CurrencyDesc": "United States dollar",
         "CurrencySymbol": "USD",
         "DatabaseDesireNextYear": "Cassandra;Elasticsearch;MariaDB;PostgreSQL;Redis",
         "DatabaseWorkedWith": "Microsoft SQL Server;PostgreSQL",
         "DevType": "Developer, full-stack",
         "EdLevel": "Bachelor’s degree (B.A., B.S., B.Eng., etc.)",
         "Employment": "Employed full-time",
         "Ethnicity": "White or of European descent",
         "Gender": "Man",
         "JobFactors": "Industry that I’d be working in;Languages, frameworks, and other technologies I’d be working with;Office environment or company culture",
         "JobSat": "Slightly dissatisfied",
         "JobSeek": "I’m not actively looking, but I am open to new opportunities",
         "LanguageDesireNextYear": "C#;Go;Haskell;HTML/CSS;JavaScript;Python;Ruby;Rust;SQL",
         "LanguageWorkedWith": "C#;HTML/CSS;JavaScript;Python;SQL;VBA",
         "MiscTechDesireNextYear": ".NET Core;Teraform",
         "MiscTechWorkedWith": ".NET;Node.js",
         "NEWCollabToolsDesireNextYear": "Github;Gitlab;Slack;Google Suite (Docs, Meet, etc)",
         "NEWCollabToolsWorkedWith": "Github;Gitlab;Slack;Microsoft Teams;Google Suite (Docs, Meet, etc)",
         "NEWDevOps": "Yes",
         "NEWDevOpsImpt": "Extremely important",
         "NEWEdImpt": "Fairly important",
         "NEWJobHunt": "Having a bad day (or week or month) at work;Better compensation;Trouble with leadership at my company;Wanting to work with new technologies;Growth or leadership opportunities",
         "NEWJobHuntResearch": "Company reviews from third party sites (e.g. Glassdoor, Blind);Personal network - friends or family;Read other media like news articles, founder profiles, etc. about the company;Directly asking current or past employees at the company",
         "NEWLearn": "Once a year",
         "NEWOffTopic": "Not sure",
         "NEWOnboardGood": "No",
         "NEWOtherComms": "No",
         "NEWOvertime": "Rarely: 1-2 days per year or less",
         "NEWPurchaseResearch": "nan",
         "NEWPurpleLink": "Hello, old friend",
         "NEWSOSites": "Stack Overflow (public Q&A for anyone who codes);Stack Exchange (public Q&A for a variety of topics);Stack Overflow Jobs (for job seekers)",
         "NEWStuck": "Call a coworker or friend;Visit Stack Overflow;Do other work and come back later",
         "OpSys": "Windows",
         "OrgSize": "20 to 99 employees",
         "PlatformDesireNextYear": "Docker;Kubernetes;Microsoft Azure",
         "PlatformWorkedWith": "nan",
         "PurchaseWhat": "I have little or no influence",
         "Sexuality": "Straight / Heterosexual",
         "SOAccount": "Yes",
         "SOComm": "No, not at all",
         "SOPartFreq": "I have never participated in Q&A on Stack Overflow",
         "SOVisitFreq": "Daily or almost daily",
         "SurveyEase": "Easy",
         "SurveyLength": "Appropriate in length",
         "Trans": "No",
         "UndergradMajor": "Computer science, computer engineering, or software engineering",
         "WebframeDesireNextYear": "ASP.NET Core;Gatsby;React.js;Vue.js",
         "WebframeWorkedWith": "ASP.NET;Gatsby;jQuery;React.js;Vue.js",
         "WelcomeChange": "Just as welcome now as I felt last year",
         "WorkWeekHrs": 40,
         "YearsCode": "7",
         "YearsCodePro": "3",
         "_deepnote_index_column": 17
        },
        {
         "MainBranch": "I am a developer by profession",
         "Hobbyist": "Yes",
         "Age": 32,
         "Age1stCode": "12",
         "CompFreq": "Monthly",
         "CompTotal": 105000,
         "ConvertedComp": 1260000,
         "Country": "United States",
         "CurrencyDesc": "United States dollar",
         "CurrencySymbol": "USD",
         "DatabaseDesireNextYear": "Elasticsearch;PostgreSQL;Redis;SQLite",
         "DatabaseWorkedWith": "Elasticsearch;MariaDB;MySQL;Redis;SQLite",
         "DevType": "Developer, back-end",
         "EdLevel": "Bachelor’s degree (B.A., B.S., B.Eng., etc.)",
         "Employment": "Employed full-time",
         "Ethnicity": "White or of European descent",
         "Gender": "Man",
         "JobFactors": "Languages, frameworks, and other technologies I’d be working with;Remote work options;Office environment or company culture",
         "JobSat": "Very satisfied",
         "JobSeek": "I am not interested in new job opportunities",
         "LanguageDesireNextYear": "HTML/CSS;Perl",
         "LanguageWorkedWith": "Bash/Shell/PowerShell;HTML/CSS;Perl",
         "MiscTechDesireNextYear": "nan",
         "MiscTechWorkedWith": "nan",
         "NEWCollabToolsDesireNextYear": "Github",
         "NEWCollabToolsWorkedWith": "Github;Slack",
         "NEWDevOps": "Not sure",
         "NEWDevOpsImpt": "Neutral",
         "NEWEdImpt": "Very important",
         "NEWJobHunt": "Looking to relocate",
         "NEWJobHuntResearch": "nan",
         "NEWLearn": "Once every few years",
         "NEWOffTopic": "Yes",
         "NEWOnboardGood": "Onboarding? What onboarding?",
         "NEWOtherComms": "Yes",
         "NEWOvertime": "Occasionally: 1-2 days per quarter but less than monthly",
         "NEWPurchaseResearch": "Start a free trial;Ask developers I know/work with;Visit developer communities like Stack Overflow",
         "NEWPurpleLink": "Hello, old friend",
         "NEWSOSites": "Stack Overflow (public Q&A for anyone who codes);Stack Exchange (public Q&A for a variety of topics)",
         "NEWStuck": "Play games;Visit Stack Overflow;Do other work and come back later",
         "OpSys": "Linux-based",
         "OrgSize": "100 to 499 employees",
         "PlatformDesireNextYear": "Linux",
         "PlatformWorkedWith": "AWS;Linux",
         "PurchaseWhat": "I have some influence",
         "Sexuality": "Straight / Heterosexual",
         "SOAccount": "Yes",
         "SOComm": "Yes, somewhat",
         "SOPartFreq": "I have never participated in Q&A on Stack Overflow",
         "SOVisitFreq": "Daily or almost daily",
         "SurveyEase": "Neither easy nor difficult",
         "SurveyLength": "Appropriate in length",
         "Trans": "No",
         "UndergradMajor": "Computer science, computer engineering, or software engineering",
         "WebframeDesireNextYear": "nan",
         "WebframeWorkedWith": "nan",
         "WelcomeChange": "Just as welcome now as I felt last year",
         "WorkWeekHrs": 45,
         "YearsCode": "19",
         "YearsCodePro": "12",
         "_deepnote_index_column": 18
        },
        {
         "MainBranch": "I am a developer by profession",
         "Hobbyist": "No",
         "Age": 24,
         "Age1stCode": "15",
         "CompFreq": "Yearly",
         "CompTotal": 83400,
         "ConvertedComp": 83400,
         "Country": "United States",
         "CurrencyDesc": "United States dollar",
         "CurrencySymbol": "USD",
         "DatabaseDesireNextYear": "MariaDB;MongoDB",
         "DatabaseWorkedWith": "MariaDB;Microsoft SQL Server",
         "DevType": "Developer, full-stack",
         "EdLevel": "Bachelor’s degree (B.A., B.S., B.Eng., etc.)",
         "Employment": "Employed full-time",
         "Ethnicity": "White or of European descent",
         "Gender": "Man",
         "JobFactors": "Flex time or a flexible schedule;Office environment or company culture;Opportunities for professional development",
         "JobSat": "Slightly dissatisfied",
         "JobSeek": "I’m not actively looking, but I am open to new opportunities",
         "LanguageDesireNextYear": "C#;Go;Python;TypeScript",
         "LanguageWorkedWith": "Bash/Shell/PowerShell;C#;HTML/CSS;JavaScript;SQL;TypeScript",
         "MiscTechDesireNextYear": "Node.js;React Native;Unity 3D;Unreal Engine",
         "MiscTechWorkedWith": ".NET;.NET Core;Node.js",
         "NEWCollabToolsDesireNextYear": "Github;Slack",
         "NEWCollabToolsWorkedWith": "Confluence;Jira;Github;Slack",
         "NEWDevOps": "Yes",
         "NEWDevOpsImpt": "Extremely important",
         "NEWEdImpt": "Fairly important",
         "NEWJobHunt": "Having a bad day (or week or month) at work;Trouble with my teammates;Growth or leadership opportunities",
         "NEWJobHuntResearch": "Company reviews from third party sites (e.g. Glassdoor, Blind);Personal network - friends or family;Directly asking current or past employees at the company",
         "NEWLearn": "Once a year",
         "NEWOffTopic": "Yes",
         "NEWOnboardGood": "No",
         "NEWOtherComms": "No",
         "NEWOvertime": "Occasionally: 1-2 days per quarter but less than monthly",
         "NEWPurchaseResearch": "nan",
         "NEWPurpleLink": "Hello, old friend",
         "NEWSOSites": "Stack Overflow (public Q&A for anyone who codes);Stack Exchange (public Q&A for a variety of topics);Stack Overflow Jobs (for job seekers)",
         "NEWStuck": "Call a coworker or friend;Visit Stack Overflow;Go for a walk or other physical activity",
         "OpSys": "Windows",
         "OrgSize": "10,000 or more employees",
         "PlatformDesireNextYear": "iOS;Slack Apps and Integrations",
         "PlatformWorkedWith": "Windows",
         "PurchaseWhat": "I have little or no influence",
         "Sexuality": "Straight / Heterosexual",
         "SOAccount": "Yes",
         "SOComm": "Neutral",
         "SOPartFreq": "Less than once per month or monthly",
         "SOVisitFreq": "A few times per week",
         "SurveyEase": "Easy",
         "SurveyLength": "Appropriate in length",
         "Trans": "No",
         "UndergradMajor": "Computer science, computer engineering, or software engineering",
         "WebframeDesireNextYear": "Django;Express;React.js",
         "WebframeWorkedWith": "Angular;Angular.js;ASP.NET Core",
         "WelcomeChange": "Just as welcome now as I felt last year",
         "WorkWeekHrs": 35,
         "YearsCode": "9",
         "YearsCodePro": "3",
         "_deepnote_index_column": 19
        },
        {
         "MainBranch": "I used to be a developer by profession, but no longer am",
         "Hobbyist": "Yes",
         "Age": "nan",
         "Age1stCode": "12",
         "CompFreq": "nan",
         "CompTotal": "nan",
         "ConvertedComp": "nan",
         "Country": "United States",
         "CurrencyDesc": "nan",
         "CurrencySymbol": "nan",
         "DatabaseDesireNextYear": "PostgreSQL;SQLite",
         "DatabaseWorkedWith": "Elasticsearch;MySQL;PostgreSQL;SQLite",
         "DevType": "Database administrator;Developer, full-stack;Engineering manager;Product manager;System administrator",
         "EdLevel": "Bachelor’s degree (B.A., B.S., B.Eng., etc.)",
         "Employment": "Employed full-time",
         "Ethnicity": "White or of European descent",
         "Gender": "Man",
         "JobFactors": "nan",
         "JobSat": "nan",
         "JobSeek": "nan",
         "LanguageDesireNextYear": "Bash/Shell/PowerShell;C;C++;Perl;Python;SQL",
         "LanguageWorkedWith": "Bash/Shell/PowerShell;C;C++;Java;Python;SQL",
         "MiscTechDesireNextYear": "TensorFlow",
         "MiscTechWorkedWith": "nan",
         "NEWCollabToolsDesireNextYear": "Github;Gitlab;Google Suite (Docs, Meet, etc)",
         "NEWCollabToolsWorkedWith": "Jira;Github;Gitlab;Microsoft Teams;Trello;Google Suite (Docs, Meet, etc)",
         "NEWDevOps": "nan",
         "NEWDevOpsImpt": "nan",
         "NEWEdImpt": "Somewhat important",
         "NEWJobHunt": "nan",
         "NEWJobHuntResearch": "nan",
         "NEWLearn": "Once every few years",
         "NEWOffTopic": "No",
         "NEWOnboardGood": "nan",
         "NEWOtherComms": "Yes",
         "NEWOvertime": "nan",
         "NEWPurchaseResearch": "Ask developers I know/work with;Visit developer communities like Stack Overflow",
         "NEWPurpleLink": "Annoyed",
         "NEWSOSites": "Stack Overflow (public Q&A for anyone who codes)",
         "NEWStuck": "Call a coworker or friend;Visit Stack Overflow",
         "OpSys": "Linux-based",
         "OrgSize": "nan",
         "PlatformDesireNextYear": "AWS;Docker;Linux",
         "PlatformWorkedWith": "AWS;Linux",
         "PurchaseWhat": "nan",
         "Sexuality": "Straight / Heterosexual",
         "SOAccount": "Yes",
         "SOComm": "Yes, somewhat",
         "SOPartFreq": "A few times per week",
         "SOVisitFreq": "Daily or almost daily",
         "SurveyEase": "Easy",
         "SurveyLength": "Appropriate in length",
         "Trans": "No",
         "UndergradMajor": "A humanities discipline (such as literature, history, philosophy, etc.)",
         "WebframeDesireNextYear": "Flask",
         "WebframeWorkedWith": "Flask",
         "WelcomeChange": "Just as welcome now as I felt last year",
         "WorkWeekHrs": "nan",
         "YearsCode": "20",
         "YearsCodePro": "20",
         "_deepnote_index_column": 27
        },
        {
         "MainBranch": "I am a student who is learning to code",
         "Hobbyist": "Yes",
         "Age": 16,
         "Age1stCode": "13",
         "CompFreq": "nan",
         "CompTotal": "nan",
         "ConvertedComp": "nan",
         "Country": "United States",
         "CurrencyDesc": "nan",
         "CurrencySymbol": "nan",
         "DatabaseDesireNextYear": "MongoDB;MySQL",
         "DatabaseWorkedWith": "MongoDB;MySQL",
         "DevType": "Designer;Developer, front-end",
         "EdLevel": "Bachelor’s degree (B.A., B.S., B.Eng., etc.)",
         "Employment": "Not employed, but looking for work",
         "Ethnicity": "White or of European descent",
         "Gender": "Woman",
         "JobFactors": "Flex time or a flexible schedule;Remote work options;Office environment or company culture",
         "JobSat": "nan",
         "JobSeek": "I’m not actively looking, but I am open to new opportunities",
         "LanguageDesireNextYear": "HTML/CSS;JavaScript;Python;TypeScript",
         "LanguageWorkedWith": "HTML/CSS;Java;JavaScript;Ruby",
         "MiscTechDesireNextYear": "Node.js",
         "MiscTechWorkedWith": "Node.js;React Native",
         "NEWCollabToolsDesireNextYear": "Github",
         "NEWCollabToolsWorkedWith": "Github;Trello",
         "NEWDevOps": "nan",
         "NEWDevOpsImpt": "nan",
         "NEWEdImpt": "nan",
         "NEWJobHunt": "nan",
         "NEWJobHuntResearch": "nan",
         "NEWLearn": "Once a year",
         "NEWOffTopic": "nan",
         "NEWOnboardGood": "nan",
         "NEWOtherComms": "Yes",
         "NEWOvertime": "nan",
         "NEWPurchaseResearch": "Visit developer communities like Stack Overflow;Read ratings or reviews on third party sites like G2Crowd",
         "NEWPurpleLink": "Hello, old friend",
         "NEWSOSites": "Stack Overflow (public Q&A for anyone who codes);Stack Exchange (public Q&A for a variety of topics)",
         "NEWStuck": "Visit Stack Overflow;Go for a walk or other physical activity;Watch help / tutorial videos;Do other work and come back later",
         "OpSys": "MacOS",
         "OrgSize": "nan",
         "PlatformDesireNextYear": "nan",
         "PlatformWorkedWith": "AWS;iOS;Linux;WordPress",
         "PurchaseWhat": "nan",
         "Sexuality": "Straight / Heterosexual",
         "SOAccount": "Yes",
         "SOComm": "Yes, somewhat",
         "SOPartFreq": "Less than once per month or monthly",
         "SOVisitFreq": "A few times per month or weekly",
         "SurveyEase": "Easy",
         "SurveyLength": "Too long",
         "Trans": "No",
         "UndergradMajor": "Information systems, information technology, or system administration",
         "WebframeDesireNextYear": "Angular;Angular.js;Express;jQuery;React.js;Vue.js",
         "WebframeWorkedWith": "Express;jQuery",
         "WelcomeChange": "Just as welcome now as I felt last year",
         "WorkWeekHrs": "nan",
         "YearsCode": "3",
         "YearsCodePro": "nan",
         "_deepnote_index_column": 35
        },
        {
         "MainBranch": "I am a student who is learning to code",
         "Hobbyist": "Yes",
         "Age": 20,
         "Age1stCode": "14",
         "CompFreq": "nan",
         "CompTotal": "nan",
         "ConvertedComp": "nan",
         "Country": "United States",
         "CurrencyDesc": "nan",
         "CurrencySymbol": "nan",
         "DatabaseDesireNextYear": "MySQL",
         "DatabaseWorkedWith": "MySQL;SQLite",
         "DevType": "nan",
         "EdLevel": "Associate degree (A.A., A.S., etc.)",
         "Employment": "Student",
         "Ethnicity": "Hispanic or Latino/a/x",
         "Gender": "Woman",
         "JobFactors": "Industry that I’d be working in;Flex time or a flexible schedule;Office environment or company culture",
         "JobSat": "nan",
         "JobSeek": "I’m not actively looking, but I am open to new opportunities",
         "LanguageDesireNextYear": "C#;HTML/CSS;JavaScript;Python",
         "LanguageWorkedWith": "C;C#;C++;HTML/CSS;JavaScript;PHP;Python;SQL",
         "MiscTechDesireNextYear": "Unity 3D;Unreal Engine",
         "MiscTechWorkedWith": ".NET;Unity 3D;Unreal Engine",
         "NEWCollabToolsDesireNextYear": "Jira;Github;Gitlab;Slack;Trello;Google Suite (Docs, Meet, etc)",
         "NEWCollabToolsWorkedWith": "Confluence;Jira;Github;Gitlab;Slack;Trello;Google Suite (Docs, Meet, etc)",
         "NEWDevOps": "nan",
         "NEWDevOpsImpt": "nan",
         "NEWEdImpt": "nan",
         "NEWJobHunt": "nan",
         "NEWJobHuntResearch": "nan",
         "NEWLearn": "Once a year",
         "NEWOffTopic": "Not sure",
         "NEWOnboardGood": "nan",
         "NEWOtherComms": "No",
         "NEWOvertime": "nan",
         "NEWPurchaseResearch": "nan",
         "NEWPurpleLink": "nan",
         "NEWSOSites": "Stack Overflow (public Q&A for anyone who codes);Stack Exchange (public Q&A for a variety of topics)",
         "NEWStuck": "nan",
         "OpSys": "Windows",
         "OrgSize": "nan",
         "PlatformDesireNextYear": "Android;iOS;Linux;Windows",
         "PlatformWorkedWith": "Android;iOS;Linux;Windows",
         "PurchaseWhat": "nan",
         "Sexuality": "Straight / Heterosexual",
         "SOAccount": "Yes",
         "SOComm": "No, not really",
         "SOPartFreq": "I have never participated in Q&A on Stack Overflow",
         "SOVisitFreq": "A few times per month or weekly",
         "SurveyEase": "Easy",
         "SurveyLength": "Appropriate in length",
         "Trans": "No",
         "UndergradMajor": "nan",
         "WebframeDesireNextYear": "nan",
         "WebframeWorkedWith": "nan",
         "WelcomeChange": "Just as welcome now as I felt last year",
         "WorkWeekHrs": "nan",
         "YearsCode": "6",
         "YearsCodePro": "nan",
         "_deepnote_index_column": 40
        },
        {
         "MainBranch": "I am a developer by profession",
         "Hobbyist": "No",
         "Age": "nan",
         "Age1stCode": "15",
         "CompFreq": "Yearly",
         "CompTotal": 106000,
         "ConvertedComp": 106000,
         "Country": "United States",
         "CurrencyDesc": "United States dollar",
         "CurrencySymbol": "USD",
         "DatabaseDesireNextYear": "Microsoft SQL Server",
         "DatabaseWorkedWith": "Microsoft SQL Server",
         "DevType": "Developer, back-end;Developer, front-end;Developer, full-stack",
         "EdLevel": "Master’s degree (M.A., M.S., M.Eng., MBA, etc.)",
         "Employment": "Employed full-time",
         "Ethnicity": "nan",
         "Gender": "nan",
         "JobFactors": "Remote work options;Financial performance or funding status of the company or organization;Opportunities for professional development",
         "JobSat": "Slightly dissatisfied",
         "JobSeek": "I’m not actively looking, but I am open to new opportunities",
         "LanguageDesireNextYear": "C;C#;Java;SQL",
         "LanguageWorkedWith": "C;C#;Java;SQL",
         "MiscTechDesireNextYear": ".NET;.NET Core;Node.js",
         "MiscTechWorkedWith": ".NET;Hadoop",
         "NEWCollabToolsDesireNextYear": "Microsoft Teams",
         "NEWCollabToolsWorkedWith": "Slack;Microsoft Teams;Trello",
         "NEWDevOps": "No",
         "NEWDevOpsImpt": "Neutral",
         "NEWEdImpt": "Very important",
         "NEWJobHunt": "Better compensation;Wanting to work with new technologies;Growth or leadership opportunities",
         "NEWJobHuntResearch": "Read company media, such as employee blogs or company culture videos;Company reviews from third party sites (e.g. Glassdoor, Blind);Publicly available financial information (e.g. Crunchbase)",
         "NEWLearn": "Once a year",
         "NEWOffTopic": "No",
         "NEWOnboardGood": "No",
         "NEWOtherComms": "No",
         "NEWOvertime": "Never",
         "NEWPurchaseResearch": "Start a free trial;Visit developer communities like Stack Overflow;Read ratings or reviews on third party sites like G2Crowd",
         "NEWPurpleLink": "Hello, old friend",
         "NEWSOSites": "Stack Overflow (public Q&A for anyone who codes);Stack Exchange (public Q&A for a variety of topics)",
         "NEWStuck": "Visit Stack Overflow;Do other work and come back later",
         "OpSys": "Windows",
         "OrgSize": "500 to 999 employees",
         "PlatformDesireNextYear": "Windows",
         "PlatformWorkedWith": "Windows",
         "PurchaseWhat": "I have some influence",
         "Sexuality": "nan",
         "SOAccount": "Yes",
         "SOComm": "Neutral",
         "SOPartFreq": "Daily or almost daily",
         "SOVisitFreq": "Daily or almost daily",
         "SurveyEase": "nan",
         "SurveyLength": "nan",
         "Trans": "nan",
         "UndergradMajor": "Computer science, computer engineering, or software engineering",
         "WebframeDesireNextYear": "Vue.js",
         "WebframeWorkedWith": "ASP.NET;Vue.js",
         "WelcomeChange": "A lot less welcome now than last year",
         "WorkWeekHrs": 40,
         "YearsCode": "25",
         "YearsCodePro": "20",
         "_deepnote_index_column": 41
        }
       ]
      },
      "text/plain": "                                                   MainBranch Hobbyist   Age  \\\nRespondent                                                                     \n5           I used to be a developer by profession, but no...      Yes  31.0   \n8                              I am a developer by profession      Yes  36.0   \n14                             I am a developer by profession      Yes  27.0   \n17                             I am a developer by profession      Yes  25.0   \n18                             I am a developer by profession      Yes  32.0   \n...                                                       ...      ...   ...   \n58498                                                     NaN      Yes  32.0   \n58896                                                     NaN      Yes  29.0   \n60931                                                     NaN      Yes   NaN   \n63077                                                     NaN      Yes   NaN   \n64858                                                     NaN      Yes   NaN   \n\n           Age1stCode CompFreq  CompTotal  ConvertedComp        Country  \\\nRespondent                                                                \n5                  16      NaN        NaN            NaN  United States   \n8                  12   Yearly   116000.0       116000.0  United States   \n14                 13   Yearly    66000.0        66000.0  United States   \n17                 14   Yearly    79000.0        79000.0  United States   \n18                 12  Monthly   105000.0      1260000.0  United States   \n...               ...      ...        ...            ...            ...   \n58498              23      NaN        NaN            NaN  United States   \n58896              10      NaN        NaN            NaN  United States   \n60931              17      NaN        NaN            NaN  United States   \n63077              20      NaN        NaN            NaN  United States   \n64858              16      NaN        NaN            NaN  United States   \n\n                    CurrencyDesc CurrencySymbol  \\\nRespondent                                        \n5                            NaN            NaN   \n8           United States dollar            USD   \n14          United States dollar            USD   \n17          United States dollar            USD   \n18          United States dollar            USD   \n...                          ...            ...   \n58498                        NaN            NaN   \n58896                        NaN            NaN   \n60931                        NaN            NaN   \n63077                        NaN            NaN   \n64858                        NaN            NaN   \n\n                                      DatabaseDesireNextYear  \\\nRespondent                                                     \n5                                           MySQL;PostgreSQL   \n8                                                    MongoDB   \n14                             Firebase;Microsoft SQL Server   \n17          Cassandra;Elasticsearch;MariaDB;PostgreSQL;Redis   \n18                     Elasticsearch;PostgreSQL;Redis;SQLite   \n...                                                      ...   \n58498             Firebase;Microsoft SQL Server;MySQL;SQLite   \n58896                                                    NaN   \n60931                               MariaDB;MySQL;PostgreSQL   \n63077                                                  MySQL   \n64858                                                    NaN   \n\n                                    DatabaseWorkedWith  \\\nRespondent                                               \n5                        MySQL;PostgreSQL;Redis;SQLite   \n8                                  MariaDB;MySQL;Redis   \n14                       Firebase;Microsoft SQL Server   \n17                     Microsoft SQL Server;PostgreSQL   \n18            Elasticsearch;MariaDB;MySQL;Redis;SQLite   \n...                                                ...   \n58498       Firebase;Microsoft SQL Server;MySQL;SQLite   \n58896                                              NaN   \n60931                                    MariaDB;MySQL   \n63077                                            MySQL   \n64858                                              NaN   \n\n                                                      DevType  \\\nRespondent                                                      \n5                                                         NaN   \n8           Developer, back-end;Developer, desktop or ente...   \n14          Developer, desktop or enterprise applications;...   \n17                                      Developer, full-stack   \n18                                        Developer, back-end   \n...                                                       ...   \n58498       Data or business analyst;Developer, back-end;S...   \n58896                                                     NaN   \n60931                                    System administrator   \n63077                                                     NaN   \n64858                                     Senior executive/VP   \n\n                                                      EdLevel  \\\nRespondent                                                      \n5                Bachelor’s degree (B.A., B.S., B.Eng., etc.)   \n8                Bachelor’s degree (B.A., B.S., B.Eng., etc.)   \n14                        Associate degree (A.A., A.S., etc.)   \n17               Bachelor’s degree (B.A., B.S., B.Eng., etc.)   \n18               Bachelor’s degree (B.A., B.S., B.Eng., etc.)   \n...                                                       ...   \n58498       Some college/university study without earning ...   \n58896            Bachelor’s degree (B.A., B.S., B.Eng., etc.)   \n60931       Some college/university study without earning ...   \n63077            Bachelor’s degree (B.A., B.S., B.Eng., etc.)   \n64858         Master’s degree (M.A., M.S., M.Eng., MBA, etc.)   \n\n                                                   Employment  \\\nRespondent                                                      \n5                                          Employed full-time   \n8                                          Employed full-time   \n14                                         Employed full-time   \n17                                         Employed full-time   \n18                                         Employed full-time   \n...                                                       ...   \n58498       Independent contractor, freelancer, or self-em...   \n58896                                                 Student   \n60931                                      Employed full-time   \n63077                      Not employed, but looking for work   \n64858                                      Employed full-time   \n\n                               Ethnicity Gender  \\\nRespondent                                        \n5           White or of European descent    Man   \n8           White or of European descent    Man   \n14          White or of European descent    Man   \n17          White or of European descent    Man   \n18          White or of European descent    Man   \n...                                  ...    ...   \n58498       White or of European descent    Man   \n58896       White or of European descent    Man   \n60931                                NaN    Man   \n63077                                NaN    NaN   \n64858                                NaN    NaN   \n\n                                                   JobFactors  \\\nRespondent                                                      \n5                                                         NaN   \n8           Remote work options;Opportunities for professi...   \n14          Industry that I’d be working in;Flex time or a...   \n17          Industry that I’d be working in;Languages, fra...   \n18          Languages, frameworks, and other technologies ...   \n...                                                       ...   \n58498                                                     NaN   \n58896                                                     NaN   \n60931                                                     NaN   \n63077                                                     NaN   \n64858                                                     NaN   \n\n                           JobSat  \\\nRespondent                          \n5                             NaN   \n8           Slightly dissatisfied   \n14             Slightly satisfied   \n17          Slightly dissatisfied   \n18                 Very satisfied   \n...                           ...   \n58498                         NaN   \n58896                         NaN   \n60931                         NaN   \n63077                         NaN   \n64858                         NaN   \n\n                                                      JobSeek  \\\nRespondent                                                      \n5                                                         NaN   \n8           I’m not actively looking, but I am open to new...   \n14          I’m not actively looking, but I am open to new...   \n17          I’m not actively looking, but I am open to new...   \n18               I am not interested in new job opportunities   \n...                                                       ...   \n58498                                                     NaN   \n58896                                                     NaN   \n60931                                                     NaN   \n63077                                                     NaN   \n64858                                                     NaN   \n\n                                       LanguageDesireNextYear  \\\nRespondent                                                      \n5                                             Java;Ruby;Scala   \n8                                                  JavaScript   \n14                         HTML/CSS;JavaScript;SQL;TypeScript   \n17          C#;Go;Haskell;HTML/CSS;JavaScript;Python;Ruby;...   \n18                                              HTML/CSS;Perl   \n...                                                       ...   \n58498       Assembly;Bash/Shell/PowerShell;C;C#;C++;Dart;G...   \n58896                                                 Haskell   \n60931               Bash/Shell/PowerShell;C;C#;C++;PHP;Python   \n63077                                            C++;Rust;SQL   \n64858                                                     NaN   \n\n                                           LanguageWorkedWith  \\\nRespondent                                                      \n5                                           HTML/CSS;Ruby;SQL   \n8                                                  Python;SQL   \n14                         HTML/CSS;JavaScript;SQL;TypeScript   \n17                      C#;HTML/CSS;JavaScript;Python;SQL;VBA   \n18                        Bash/Shell/PowerShell;HTML/CSS;Perl   \n...                                                       ...   \n58498       Assembly;Bash/Shell/PowerShell;C;C#;C++;Dart;G...   \n58896                                                 Haskell   \n60931                      Bash/Shell/PowerShell;HTML/CSS;PHP   \n63077                 C++;HTML/CSS;Java;JavaScript;Python;SQL   \n64858                                                     NaN   \n\n                                       MiscTechDesireNextYear  \\\nRespondent                                                      \n5                                                Ansible;Chef   \n8                                                    Unity 3D   \n14                                                    Node.js   \n17                                         .NET Core;Teraform   \n18                                                        NaN   \n...                                                       ...   \n58498       .NET;.NET Core;Apache Spark;Cordova;Flutter;No...   \n58896                                                     NaN   \n60931                                  Unity 3D;Unreal Engine   \n63077                                                     NaN   \n64858                                                     NaN   \n\n                                           MiscTechWorkedWith  \\\nRespondent                                                      \n5                                                     Ansible   \n8                                                     Ansible   \n14                                                    Node.js   \n17                                               .NET;Node.js   \n18                                                        NaN   \n...                                                       ...   \n58498       .NET;.NET Core;Apache Spark;Cordova;Flutter;No...   \n58896                                                     NaN   \n60931                                                     NaN   \n63077                                                     NaN   \n64858                                                     NaN   \n\n                                 NEWCollabToolsDesireNextYear  \\\nRespondent                                                      \n5                       Github;Google Suite (Docs, Meet, etc)   \n8                                                         NaN   \n14          Confluence;Jira;Github;Microsoft Teams;Google ...   \n17          Github;Gitlab;Slack;Google Suite (Docs, Meet, ...   \n18                                                     Github   \n...                                                       ...   \n58498       Github;Gitlab;Facebook Workplace;Slack;Microso...   \n58896                                            Gitlab;Slack   \n60931                         Github;Stack Overflow for Teams   \n63077                                                     NaN   \n64858                                                     NaN   \n\n                                     NEWCollabToolsWorkedWith NEWDevOps  \\\nRespondent                                                                \n5           Confluence;Jira;Github;Slack;Google Suite (Doc...       NaN   \n8           Confluence;Jira;Github;Slack;Microsoft Teams;G...       Yes   \n14                     Confluence;Jira;Github;Microsoft Teams       Yes   \n17          Github;Gitlab;Slack;Microsoft Teams;Google Sui...       Yes   \n18                                               Github;Slack  Not sure   \n...                                                       ...       ...   \n58498       Github;Gitlab;Facebook Workplace;Slack;Microso...       NaN   \n58896                                     Github;Gitlab;Slack       NaN   \n60931                                                  Github       NaN   \n63077                                                     NaN       NaN   \n64858                                                     NaN       NaN   \n\n                  NEWDevOpsImpt                           NEWEdImpt  \\\nRespondent                                                            \n5                           NaN                      Very important   \n8           Extremely important  Not at all important/not necessary   \n14          Extremely important                  Somewhat important   \n17          Extremely important                    Fairly important   \n18                      Neutral                      Very important   \n...                         ...                                 ...   \n58498                       NaN                      Very important   \n58896                       NaN                                 NaN   \n60931                       NaN  Not at all important/not necessary   \n63077                       NaN                    Fairly important   \n64858                       NaN                      Very important   \n\n                                                   NEWJobHunt  \\\nRespondent                                                      \n5                                                         NaN   \n8           Curious about other opportunities;Better compe...   \n14          Wanting to share accomplishments with a wider ...   \n17          Having a bad day (or week or month) at work;Be...   \n18                                        Looking to relocate   \n...                                                       ...   \n58498                                                     NaN   \n58896                                                     NaN   \n60931                                                     NaN   \n63077                                                     NaN   \n64858                                                     NaN   \n\n                                           NEWJobHuntResearch  \\\nRespondent                                                      \n5                                                         NaN   \n8           Read company media, such as employee blogs or ...   \n14          Read company media, such as employee blogs or ...   \n17          Company reviews from third party sites (e.g. G...   \n18                                                        NaN   \n...                                                       ...   \n58498                                                     NaN   \n58896                                                     NaN   \n60931                                                     NaN   \n63077                                                     NaN   \n64858                                                     NaN   \n\n                        NEWLearn NEWOffTopic                NEWOnboardGood  \\\nRespondent                                                                   \n5                    Once a year          No                           NaN   \n8                    Once a year    Not sure                           Yes   \n14              Every few months          No                           Yes   \n17                   Once a year    Not sure                            No   \n18          Once every few years         Yes  Onboarding? What onboarding?   \n...                          ...         ...                           ...   \n58498                        NaN         NaN                           NaN   \n58896                Once a year          No                           NaN   \n60931                        NaN    Not sure                           NaN   \n63077                        NaN         NaN                           NaN   \n64858              Once a decade         NaN                           NaN   \n\n           NEWOtherComms                                        NEWOvertime  \\\nRespondent                                                                    \n5                    Yes                                                NaN   \n8                     No  Occasionally: 1-2 days per quarter but less th...   \n14                    No  Occasionally: 1-2 days per quarter but less th...   \n17                    No                  Rarely: 1-2 days per year or less   \n18                   Yes  Occasionally: 1-2 days per quarter but less th...   \n...                  ...                                                ...   \n58498                NaN                                                NaN   \n58896                NaN                                                NaN   \n60931                NaN                                                NaN   \n63077                NaN                                                NaN   \n64858                NaN                                                NaN   \n\n                                          NEWPurchaseResearch  \\\nRespondent                                                      \n5           Start a free trial;Ask developers I know/work ...   \n8           Start a free trial;Ask developers I know/work ...   \n14                                                        NaN   \n17                                                        NaN   \n18          Start a free trial;Ask developers I know/work ...   \n...                                                       ...   \n58498       Start a free trial;Visit developer communities...   \n58896       Ask developers I know/work with;Visit develope...   \n60931       Start a free trial;Visit developer communities...   \n63077                                                     NaN   \n64858                                      Start a free trial   \n\n                NEWPurpleLink  \\\nRespondent                      \n5           Hello, old friend   \n8           Hello, old friend   \n14                     Amused   \n17          Hello, old friend   \n18          Hello, old friend   \n...                       ...   \n58498                  Amused   \n58896                  Amused   \n60931       Hello, old friend   \n63077                     NaN   \n64858                  Amused   \n\n                                                   NEWSOSites  \\\nRespondent                                                      \n5           Stack Overflow (public Q&A for anyone who code...   \n8           Stack Overflow (public Q&A for anyone who code...   \n14          Stack Overflow (public Q&A for anyone who code...   \n17          Stack Overflow (public Q&A for anyone who code...   \n18          Stack Overflow (public Q&A for anyone who code...   \n...                                                       ...   \n58498       Stack Exchange (public Q&A for a variety of to...   \n58896       Stack Overflow (public Q&A for anyone who code...   \n60931        Stack Overflow (public Q&A for anyone who codes)   \n63077        Stack Overflow (public Q&A for anyone who codes)   \n64858        Stack Overflow (public Q&A for anyone who codes)   \n\n                                                     NEWStuck        OpSys  \\\nRespondent                                                                   \n5           Call a coworker or friend;Visit Stack Overflow...      Windows   \n8           Play games;Call a coworker or friend;Visit Sta...  Linux-based   \n14          Call a coworker or friend;Visit Stack Overflow...      Windows   \n17          Call a coworker or friend;Visit Stack Overflow...      Windows   \n18          Play games;Visit Stack Overflow;Do other work ...  Linux-based   \n...                                                       ...          ...   \n58498       Watch help / tutorial videos;Visit another dev...  Linux-based   \n58896       Play games;Call a coworker or friend;Visit Sta...        MacOS   \n60931       Play games;Visit Stack Overflow;Watch help / t...  Linux-based   \n63077                                                     NaN          NaN   \n64858                               Call a coworker or friend      Windows   \n\n                         OrgSize  \\\nRespondent                         \n5                            NaN   \n8             20 to 99 employees   \n14          100 to 499 employees   \n17            20 to 99 employees   \n18          100 to 499 employees   \n...                          ...   \n58498                        NaN   \n58896                        NaN   \n60931                        NaN   \n63077                        NaN   \n64858                        NaN   \n\n                                       PlatformDesireNextYear  \\\nRespondent                                                      \n5           Docker;Google Cloud Platform;Heroku;Linux;Windows   \n8                             iOS;Slack Apps and Integrations   \n14                 Google Cloud Platform;Raspberry Pi;Windows   \n17                          Docker;Kubernetes;Microsoft Azure   \n18                                                      Linux   \n...                                                       ...   \n58498       Android;Google Cloud Platform;Linux;MacOS;Micr...   \n58896                                                     NaN   \n60931              Android;Arduino;Linux;Raspberry Pi;Windows   \n63077                                                     NaN   \n64858                                                     NaN   \n\n                                           PlatformWorkedWith  \\\nRespondent                                                      \n5                              AWS;Docker;Linux;MacOS;Windows   \n8                                                      Docker   \n14                              Google Cloud Platform;Windows   \n17                                                        NaN   \n18                                                  AWS;Linux   \n...                                                       ...   \n58498       Android;Google Cloud Platform;Linux;MacOS;Micr...   \n58896                                                     NaN   \n60931                                               WordPress   \n63077                                                     NaN   \n64858                                                     NaN   \n\n                             PurchaseWhat                Sexuality SOAccount  \\\nRespondent                                                                     \n5                                     NaN  Straight / Heterosexual       Yes   \n8                   I have some influence  Straight / Heterosexual       Yes   \n14          I have little or no influence  Straight / Heterosexual       Yes   \n17          I have little or no influence  Straight / Heterosexual       Yes   \n18                  I have some influence  Straight / Heterosexual       Yes   \n...                                   ...                      ...       ...   \n58498                                 NaN  Straight / Heterosexual       NaN   \n58896                                 NaN     Gay or Lesbian;Queer       Yes   \n60931                                 NaN                      NaN       Yes   \n63077                                 NaN                      NaN       Yes   \n64858                                 NaN                      NaN       NaN   \n\n                     SOComm  \\\nRespondent                    \n5             Yes, somewhat   \n8            No, not really   \n14          Yes, definitely   \n17           No, not at all   \n18            Yes, somewhat   \n...                     ...   \n58498                   NaN   \n58896         Yes, somewhat   \n60931               Neutral   \n63077        No, not really   \n64858                   NaN   \n\n                                                   SOPartFreq  \\\nRespondent                                                      \n5                         Less than once per month or monthly   \n8                         Less than once per month or monthly   \n14                                       A few times per week   \n17          I have never participated in Q&A on Stack Over...   \n18          I have never participated in Q&A on Stack Over...   \n...                                                       ...   \n58498                                                     NaN   \n58896                                    A few times per week   \n60931       I have never participated in Q&A on Stack Over...   \n63077       I have never participated in Q&A on Stack Over...   \n64858                                                     NaN   \n\n                                    SOVisitFreq                  SurveyEase  \\\nRespondent                                                                    \n5               A few times per month or weekly                        Easy   \n8                        Multiple times per day                        Easy   \n14                       Multiple times per day  Neither easy nor difficult   \n17                        Daily or almost daily                        Easy   \n18                        Daily or almost daily  Neither easy nor difficult   \n...                                         ...                         ...   \n58498                                       NaN  Neither easy nor difficult   \n58896                     Daily or almost daily  Neither easy nor difficult   \n60931       Less than once per month or monthly  Neither easy nor difficult   \n63077                      A few times per week                         NaN   \n64858                                       NaN                         NaN   \n\n                     SurveyLength Trans  \\\nRespondent                                \n5                       Too short    No   \n8           Appropriate in length    No   \n14          Appropriate in length    No   \n17          Appropriate in length    No   \n18          Appropriate in length    No   \n...                           ...   ...   \n58498       Appropriate in length    No   \n58896       Appropriate in length    No   \n60931                    Too long    No   \n63077                         NaN   NaN   \n64858                         NaN   NaN   \n\n                                               UndergradMajor  \\\nRespondent                                                      \n5           Computer science, computer engineering, or sof...   \n8           Computer science, computer engineering, or sof...   \n14          Computer science, computer engineering, or sof...   \n17          Computer science, computer engineering, or sof...   \n18          Computer science, computer engineering, or sof...   \n...                                                       ...   \n58498                               Mathematics or statistics   \n58896       Computer science, computer engineering, or sof...   \n60931                           Web development or web design   \n63077       Computer science, computer engineering, or sof...   \n64858       Computer science, computer engineering, or sof...   \n\n                                       WebframeDesireNextYear  \\\nRespondent                                                      \n5                                        Django;Ruby on Rails   \n8                                      Django;React.js;Vue.js   \n14                                             Angular;Vue.js   \n17                        ASP.NET Core;Gatsby;React.js;Vue.js   \n18                                                        NaN   \n...                                                       ...   \n58498       ASP.NET;ASP.NET Core;Flask;Gatsby;jQuery;React...   \n58896                                                     NaN   \n60931                                                     NaN   \n63077                                                     NaN   \n64858                                                     NaN   \n\n                                           WebframeWorkedWith  \\\nRespondent                                                      \n5                                               Ruby on Rails   \n8                                                       Flask   \n14                                             Angular;Vue.js   \n17                      ASP.NET;Gatsby;jQuery;React.js;Vue.js   \n18                                                        NaN   \n...                                                       ...   \n58498       ASP.NET;ASP.NET Core;Flask;Gatsby;jQuery;React...   \n58896                                                     NaN   \n60931                                                  Drupal   \n63077                                                     NaN   \n64858                                                     NaN   \n\n                                                WelcomeChange  WorkWeekHrs  \\\nRespondent                                                                   \n5                     Just as welcome now as I felt last year          NaN   \n8                     Just as welcome now as I felt last year         39.0   \n14                    Just as welcome now as I felt last year         40.0   \n17                    Just as welcome now as I felt last year         40.0   \n18                    Just as welcome now as I felt last year         45.0   \n...                                                       ...          ...   \n58498                                                     NaN          NaN   \n58896                 Just as welcome now as I felt last year          NaN   \n60931       Not applicable - I did not use Stack Overflow ...          NaN   \n63077                                                     NaN          NaN   \n64858                                                     NaN          NaN   \n\n           YearsCode      YearsCodePro  \nRespondent                              \n5                 15                 8  \n8                 17                13  \n14                 5                 1  \n17                 7                 3  \n18                19                12  \n...              ...               ...  \n58498              8  Less than 1 year  \n58896             29               NaN  \n60931              5               NaN  \n63077              4               NaN  \n64858             10  Less than 1 year  \n\n[12469 rows x 60 columns]",
      "text/html": "<div>\n<style scoped>\n    .dataframe tbody tr th:only-of-type {\n        vertical-align: middle;\n    }\n\n    .dataframe tbody tr th {\n        vertical-align: top;\n    }\n\n    .dataframe thead th {\n        text-align: right;\n    }\n</style>\n<table border=\"1\" class=\"dataframe\">\n  <thead>\n    <tr style=\"text-align: right;\">\n      <th></th>\n      <th>MainBranch</th>\n      <th>Hobbyist</th>\n      <th>Age</th>\n      <th>Age1stCode</th>\n      <th>CompFreq</th>\n      <th>CompTotal</th>\n      <th>ConvertedComp</th>\n      <th>Country</th>\n      <th>CurrencyDesc</th>\n      <th>CurrencySymbol</th>\n      <th>DatabaseDesireNextYear</th>\n      <th>DatabaseWorkedWith</th>\n      <th>DevType</th>\n      <th>EdLevel</th>\n      <th>Employment</th>\n      <th>Ethnicity</th>\n      <th>Gender</th>\n      <th>JobFactors</th>\n      <th>JobSat</th>\n      <th>JobSeek</th>\n      <th>LanguageDesireNextYear</th>\n      <th>LanguageWorkedWith</th>\n      <th>MiscTechDesireNextYear</th>\n      <th>MiscTechWorkedWith</th>\n      <th>NEWCollabToolsDesireNextYear</th>\n      <th>NEWCollabToolsWorkedWith</th>\n      <th>NEWDevOps</th>\n      <th>NEWDevOpsImpt</th>\n      <th>NEWEdImpt</th>\n      <th>NEWJobHunt</th>\n      <th>NEWJobHuntResearch</th>\n      <th>NEWLearn</th>\n      <th>NEWOffTopic</th>\n      <th>NEWOnboardGood</th>\n      <th>NEWOtherComms</th>\n      <th>NEWOvertime</th>\n      <th>NEWPurchaseResearch</th>\n      <th>NEWPurpleLink</th>\n      <th>NEWSOSites</th>\n      <th>NEWStuck</th>\n      <th>OpSys</th>\n      <th>OrgSize</th>\n      <th>PlatformDesireNextYear</th>\n      <th>PlatformWorkedWith</th>\n      <th>PurchaseWhat</th>\n      <th>Sexuality</th>\n      <th>SOAccount</th>\n      <th>SOComm</th>\n      <th>SOPartFreq</th>\n      <th>SOVisitFreq</th>\n      <th>SurveyEase</th>\n      <th>SurveyLength</th>\n      <th>Trans</th>\n      <th>UndergradMajor</th>\n      <th>WebframeDesireNextYear</th>\n      <th>WebframeWorkedWith</th>\n      <th>WelcomeChange</th>\n      <th>WorkWeekHrs</th>\n      <th>YearsCode</th>\n      <th>YearsCodePro</th>\n    </tr>\n    <tr>\n      <th>Respondent</th>\n      <th></th>\n      <th></th>\n      <th></th>\n      <th></th>\n      <th></th>\n      <th></th>\n      <th></th>\n      <th></th>\n      <th></th>\n      <th></th>\n      <th></th>\n      <th></th>\n      <th></th>\n      <th></th>\n      <th></th>\n      <th></th>\n      <th></th>\n      <th></th>\n      <th></th>\n      <th></th>\n      <th></th>\n      <th></th>\n      <th></th>\n      <th></th>\n      <th></th>\n      <th></th>\n      <th></th>\n      <th></th>\n      <th></th>\n      <th></th>\n      <th></th>\n      <th></th>\n      <th></th>\n      <th></th>\n      <th></th>\n      <th></th>\n      <th></th>\n      <th></th>\n      <th></th>\n      <th></th>\n      <th></th>\n      <th></th>\n      <th></th>\n      <th></th>\n      <th></th>\n      <th></th>\n      <th></th>\n      <th></th>\n      <th></th>\n      <th></th>\n      <th></th>\n      <th></th>\n      <th></th>\n      <th></th>\n      <th></th>\n      <th></th>\n      <th></th>\n      <th></th>\n      <th></th>\n      <th></th>\n    </tr>\n  </thead>\n  <tbody>\n    <tr>\n      <th>5</th>\n      <td>I used to be a developer by profession, but no...</td>\n      <td>Yes</td>\n      <td>31.0</td>\n      <td>16</td>\n      <td>NaN</td>\n      <td>NaN</td>\n      <td>NaN</td>\n      <td>United States</td>\n      <td>NaN</td>\n      <td>NaN</td>\n      <td>MySQL;PostgreSQL</td>\n      <td>MySQL;PostgreSQL;Redis;SQLite</td>\n      <td>NaN</td>\n      <td>Bachelor’s degree (B.A., B.S., B.Eng., etc.)</td>\n      <td>Employed full-time</td>\n      <td>White or of European descent</td>\n      <td>Man</td>\n      <td>NaN</td>\n      <td>NaN</td>\n      <td>NaN</td>\n      <td>Java;Ruby;Scala</td>\n      <td>HTML/CSS;Ruby;SQL</td>\n      <td>Ansible;Chef</td>\n      <td>Ansible</td>\n      <td>Github;Google Suite (Docs, Meet, etc)</td>\n      <td>Confluence;Jira;Github;Slack;Google Suite (Doc...</td>\n      <td>NaN</td>\n      <td>NaN</td>\n      <td>Very important</td>\n      <td>NaN</td>\n      <td>NaN</td>\n      <td>Once a year</td>\n      <td>No</td>\n      <td>NaN</td>\n      <td>Yes</td>\n      <td>NaN</td>\n      <td>Start a free trial;Ask developers I know/work ...</td>\n      <td>Hello, old friend</td>\n      <td>Stack Overflow (public Q&amp;A for anyone who code...</td>\n      <td>Call a coworker or friend;Visit Stack Overflow...</td>\n      <td>Windows</td>\n      <td>NaN</td>\n      <td>Docker;Google Cloud Platform;Heroku;Linux;Windows</td>\n      <td>AWS;Docker;Linux;MacOS;Windows</td>\n      <td>NaN</td>\n      <td>Straight / Heterosexual</td>\n      <td>Yes</td>\n      <td>Yes, somewhat</td>\n      <td>Less than once per month or monthly</td>\n      <td>A few times per month or weekly</td>\n      <td>Easy</td>\n      <td>Too short</td>\n      <td>No</td>\n      <td>Computer science, computer engineering, or sof...</td>\n      <td>Django;Ruby on Rails</td>\n      <td>Ruby on Rails</td>\n      <td>Just as welcome now as I felt last year</td>\n      <td>NaN</td>\n      <td>15</td>\n      <td>8</td>\n    </tr>\n    <tr>\n      <th>8</th>\n      <td>I am a developer by profession</td>\n      <td>Yes</td>\n      <td>36.0</td>\n      <td>12</td>\n      <td>Yearly</td>\n      <td>116000.0</td>\n      <td>116000.0</td>\n      <td>United States</td>\n      <td>United States dollar</td>\n      <td>USD</td>\n      <td>MongoDB</td>\n      <td>MariaDB;MySQL;Redis</td>\n      <td>Developer, back-end;Developer, desktop or ente...</td>\n      <td>Bachelor’s degree (B.A., B.S., B.Eng., etc.)</td>\n      <td>Employed full-time</td>\n      <td>White or of European descent</td>\n      <td>Man</td>\n      <td>Remote work options;Opportunities for professi...</td>\n      <td>Slightly dissatisfied</td>\n      <td>I’m not actively looking, but I am open to new...</td>\n      <td>JavaScript</td>\n      <td>Python;SQL</td>\n      <td>Unity 3D</td>\n      <td>Ansible</td>\n      <td>NaN</td>\n      <td>Confluence;Jira;Github;Slack;Microsoft Teams;G...</td>\n      <td>Yes</td>\n      <td>Extremely important</td>\n      <td>Not at all important/not necessary</td>\n      <td>Curious about other opportunities;Better compe...</td>\n      <td>Read company media, such as employee blogs or ...</td>\n      <td>Once a year</td>\n      <td>Not sure</td>\n      <td>Yes</td>\n      <td>No</td>\n      <td>Occasionally: 1-2 days per quarter but less th...</td>\n      <td>Start a free trial;Ask developers I know/work ...</td>\n      <td>Hello, old friend</td>\n      <td>Stack Overflow (public Q&amp;A for anyone who code...</td>\n      <td>Play games;Call a coworker or friend;Visit Sta...</td>\n      <td>Linux-based</td>\n      <td>20 to 99 employees</td>\n      <td>iOS;Slack Apps and Integrations</td>\n      <td>Docker</td>\n      <td>I have some influence</td>\n      <td>Straight / Heterosexual</td>\n      <td>Yes</td>\n      <td>No, not really</td>\n      <td>Less than once per month or monthly</td>\n      <td>Multiple times per day</td>\n      <td>Easy</td>\n      <td>Appropriate in length</td>\n      <td>No</td>\n      <td>Computer science, computer engineering, or sof...</td>\n      <td>Django;React.js;Vue.js</td>\n      <td>Flask</td>\n      <td>Just as welcome now as I felt last year</td>\n      <td>39.0</td>\n      <td>17</td>\n      <td>13</td>\n    </tr>\n    <tr>\n      <th>14</th>\n      <td>I am a developer by profession</td>\n      <td>Yes</td>\n      <td>27.0</td>\n      <td>13</td>\n      <td>Yearly</td>\n      <td>66000.0</td>\n      <td>66000.0</td>\n      <td>United States</td>\n      <td>United States dollar</td>\n      <td>USD</td>\n      <td>Firebase;Microsoft SQL Server</td>\n      <td>Firebase;Microsoft SQL Server</td>\n      <td>Developer, desktop or enterprise applications;...</td>\n      <td>Associate degree (A.A., A.S., etc.)</td>\n      <td>Employed full-time</td>\n      <td>White or of European descent</td>\n      <td>Man</td>\n      <td>Industry that I’d be working in;Flex time or a...</td>\n      <td>Slightly satisfied</td>\n      <td>I’m not actively looking, but I am open to new...</td>\n      <td>HTML/CSS;JavaScript;SQL;TypeScript</td>\n      <td>HTML/CSS;JavaScript;SQL;TypeScript</td>\n      <td>Node.js</td>\n      <td>Node.js</td>\n      <td>Confluence;Jira;Github;Microsoft Teams;Google ...</td>\n      <td>Confluence;Jira;Github;Microsoft Teams</td>\n      <td>Yes</td>\n      <td>Extremely important</td>\n      <td>Somewhat important</td>\n      <td>Wanting to share accomplishments with a wider ...</td>\n      <td>Read company media, such as employee blogs or ...</td>\n      <td>Every few months</td>\n      <td>No</td>\n      <td>Yes</td>\n      <td>No</td>\n      <td>Occasionally: 1-2 days per quarter but less th...</td>\n      <td>NaN</td>\n      <td>Amused</td>\n      <td>Stack Overflow (public Q&amp;A for anyone who code...</td>\n      <td>Call a coworker or friend;Visit Stack Overflow...</td>\n      <td>Windows</td>\n      <td>100 to 499 employees</td>\n      <td>Google Cloud Platform;Raspberry Pi;Windows</td>\n      <td>Google Cloud Platform;Windows</td>\n      <td>I have little or no influence</td>\n      <td>Straight / Heterosexual</td>\n      <td>Yes</td>\n      <td>Yes, definitely</td>\n      <td>A few times per week</td>\n      <td>Multiple times per day</td>\n      <td>Neither easy nor difficult</td>\n      <td>Appropriate in length</td>\n      <td>No</td>\n      <td>Computer science, computer engineering, or sof...</td>\n      <td>Angular;Vue.js</td>\n      <td>Angular;Vue.js</td>\n      <td>Just as welcome now as I felt last year</td>\n      <td>40.0</td>\n      <td>5</td>\n      <td>1</td>\n    </tr>\n    <tr>\n      <th>17</th>\n      <td>I am a developer by profession</td>\n      <td>Yes</td>\n      <td>25.0</td>\n      <td>14</td>\n      <td>Yearly</td>\n      <td>79000.0</td>\n      <td>79000.0</td>\n      <td>United States</td>\n      <td>United States dollar</td>\n      <td>USD</td>\n      <td>Cassandra;Elasticsearch;MariaDB;PostgreSQL;Redis</td>\n      <td>Microsoft SQL Server;PostgreSQL</td>\n      <td>Developer, full-stack</td>\n      <td>Bachelor’s degree (B.A., B.S., B.Eng., etc.)</td>\n      <td>Employed full-time</td>\n      <td>White or of European descent</td>\n      <td>Man</td>\n      <td>Industry that I’d be working in;Languages, fra...</td>\n      <td>Slightly dissatisfied</td>\n      <td>I’m not actively looking, but I am open to new...</td>\n      <td>C#;Go;Haskell;HTML/CSS;JavaScript;Python;Ruby;...</td>\n      <td>C#;HTML/CSS;JavaScript;Python;SQL;VBA</td>\n      <td>.NET Core;Teraform</td>\n      <td>.NET;Node.js</td>\n      <td>Github;Gitlab;Slack;Google Suite (Docs, Meet, ...</td>\n      <td>Github;Gitlab;Slack;Microsoft Teams;Google Sui...</td>\n      <td>Yes</td>\n      <td>Extremely important</td>\n      <td>Fairly important</td>\n      <td>Having a bad day (or week or month) at work;Be...</td>\n      <td>Company reviews from third party sites (e.g. G...</td>\n      <td>Once a year</td>\n      <td>Not sure</td>\n      <td>No</td>\n      <td>No</td>\n      <td>Rarely: 1-2 days per year or less</td>\n      <td>NaN</td>\n      <td>Hello, old friend</td>\n      <td>Stack Overflow (public Q&amp;A for anyone who code...</td>\n      <td>Call a coworker or friend;Visit Stack Overflow...</td>\n      <td>Windows</td>\n      <td>20 to 99 employees</td>\n      <td>Docker;Kubernetes;Microsoft Azure</td>\n      <td>NaN</td>\n      <td>I have little or no influence</td>\n      <td>Straight / Heterosexual</td>\n      <td>Yes</td>\n      <td>No, not at all</td>\n      <td>I have never participated in Q&amp;A on Stack Over...</td>\n      <td>Daily or almost daily</td>\n      <td>Easy</td>\n      <td>Appropriate in length</td>\n      <td>No</td>\n      <td>Computer science, computer engineering, or sof...</td>\n      <td>ASP.NET Core;Gatsby;React.js;Vue.js</td>\n      <td>ASP.NET;Gatsby;jQuery;React.js;Vue.js</td>\n      <td>Just as welcome now as I felt last year</td>\n      <td>40.0</td>\n      <td>7</td>\n      <td>3</td>\n    </tr>\n    <tr>\n      <th>18</th>\n      <td>I am a developer by profession</td>\n      <td>Yes</td>\n      <td>32.0</td>\n      <td>12</td>\n      <td>Monthly</td>\n      <td>105000.0</td>\n      <td>1260000.0</td>\n      <td>United States</td>\n      <td>United States dollar</td>\n      <td>USD</td>\n      <td>Elasticsearch;PostgreSQL;Redis;SQLite</td>\n      <td>Elasticsearch;MariaDB;MySQL;Redis;SQLite</td>\n      <td>Developer, back-end</td>\n      <td>Bachelor’s degree (B.A., B.S., B.Eng., etc.)</td>\n      <td>Employed full-time</td>\n      <td>White or of European descent</td>\n      <td>Man</td>\n      <td>Languages, frameworks, and other technologies ...</td>\n      <td>Very satisfied</td>\n      <td>I am not interested in new job opportunities</td>\n      <td>HTML/CSS;Perl</td>\n      <td>Bash/Shell/PowerShell;HTML/CSS;Perl</td>\n      <td>NaN</td>\n      <td>NaN</td>\n      <td>Github</td>\n      <td>Github;Slack</td>\n      <td>Not sure</td>\n      <td>Neutral</td>\n      <td>Very important</td>\n      <td>Looking to relocate</td>\n      <td>NaN</td>\n      <td>Once every few years</td>\n      <td>Yes</td>\n      <td>Onboarding? What onboarding?</td>\n      <td>Yes</td>\n      <td>Occasionally: 1-2 days per quarter but less th...</td>\n      <td>Start a free trial;Ask developers I know/work ...</td>\n      <td>Hello, old friend</td>\n      <td>Stack Overflow (public Q&amp;A for anyone who code...</td>\n      <td>Play games;Visit Stack Overflow;Do other work ...</td>\n      <td>Linux-based</td>\n      <td>100 to 499 employees</td>\n      <td>Linux</td>\n      <td>AWS;Linux</td>\n      <td>I have some influence</td>\n      <td>Straight / Heterosexual</td>\n      <td>Yes</td>\n      <td>Yes, somewhat</td>\n      <td>I have never participated in Q&amp;A on Stack Over...</td>\n      <td>Daily or almost daily</td>\n      <td>Neither easy nor difficult</td>\n      <td>Appropriate in length</td>\n      <td>No</td>\n      <td>Computer science, computer engineering, or sof...</td>\n      <td>NaN</td>\n      <td>NaN</td>\n      <td>Just as welcome now as I felt last year</td>\n      <td>45.0</td>\n      <td>19</td>\n      <td>12</td>\n    </tr>\n    <tr>\n      <th>...</th>\n      <td>...</td>\n      <td>...</td>\n      <td>...</td>\n      <td>...</td>\n      <td>...</td>\n      <td>...</td>\n      <td>...</td>\n      <td>...</td>\n      <td>...</td>\n      <td>...</td>\n      <td>...</td>\n      <td>...</td>\n      <td>...</td>\n      <td>...</td>\n      <td>...</td>\n      <td>...</td>\n      <td>...</td>\n      <td>...</td>\n      <td>...</td>\n      <td>...</td>\n      <td>...</td>\n      <td>...</td>\n      <td>...</td>\n      <td>...</td>\n      <td>...</td>\n      <td>...</td>\n      <td>...</td>\n      <td>...</td>\n      <td>...</td>\n      <td>...</td>\n      <td>...</td>\n      <td>...</td>\n      <td>...</td>\n      <td>...</td>\n      <td>...</td>\n      <td>...</td>\n      <td>...</td>\n      <td>...</td>\n      <td>...</td>\n      <td>...</td>\n      <td>...</td>\n      <td>...</td>\n      <td>...</td>\n      <td>...</td>\n      <td>...</td>\n      <td>...</td>\n      <td>...</td>\n      <td>...</td>\n      <td>...</td>\n      <td>...</td>\n      <td>...</td>\n      <td>...</td>\n      <td>...</td>\n      <td>...</td>\n      <td>...</td>\n      <td>...</td>\n      <td>...</td>\n      <td>...</td>\n      <td>...</td>\n      <td>...</td>\n    </tr>\n    <tr>\n      <th>58498</th>\n      <td>NaN</td>\n      <td>Yes</td>\n      <td>32.0</td>\n      <td>23</td>\n      <td>NaN</td>\n      <td>NaN</td>\n      <td>NaN</td>\n      <td>United States</td>\n      <td>NaN</td>\n      <td>NaN</td>\n      <td>Firebase;Microsoft SQL Server;MySQL;SQLite</td>\n      <td>Firebase;Microsoft SQL Server;MySQL;SQLite</td>\n      <td>Data or business analyst;Developer, back-end;S...</td>\n      <td>Some college/university study without earning ...</td>\n      <td>Independent contractor, freelancer, or self-em...</td>\n      <td>White or of European descent</td>\n      <td>Man</td>\n      <td>NaN</td>\n      <td>NaN</td>\n      <td>NaN</td>\n      <td>Assembly;Bash/Shell/PowerShell;C;C#;C++;Dart;G...</td>\n      <td>Assembly;Bash/Shell/PowerShell;C;C#;C++;Dart;G...</td>\n      <td>.NET;.NET Core;Apache Spark;Cordova;Flutter;No...</td>\n      <td>.NET;.NET Core;Apache Spark;Cordova;Flutter;No...</td>\n      <td>Github;Gitlab;Facebook Workplace;Slack;Microso...</td>\n      <td>Github;Gitlab;Facebook Workplace;Slack;Microso...</td>\n      <td>NaN</td>\n      <td>NaN</td>\n      <td>Very important</td>\n      <td>NaN</td>\n      <td>NaN</td>\n      <td>NaN</td>\n      <td>NaN</td>\n      <td>NaN</td>\n      <td>NaN</td>\n      <td>NaN</td>\n      <td>Start a free trial;Visit developer communities...</td>\n      <td>Amused</td>\n      <td>Stack Exchange (public Q&amp;A for a variety of to...</td>\n      <td>Watch help / tutorial videos;Visit another dev...</td>\n      <td>Linux-based</td>\n      <td>NaN</td>\n      <td>Android;Google Cloud Platform;Linux;MacOS;Micr...</td>\n      <td>Android;Google Cloud Platform;Linux;MacOS;Micr...</td>\n      <td>NaN</td>\n      <td>Straight / Heterosexual</td>\n      <td>NaN</td>\n      <td>NaN</td>\n      <td>NaN</td>\n      <td>NaN</td>\n      <td>Neither easy nor difficult</td>\n      <td>Appropriate in length</td>\n      <td>No</td>\n      <td>Mathematics or statistics</td>\n      <td>ASP.NET;ASP.NET Core;Flask;Gatsby;jQuery;React...</td>\n      <td>ASP.NET;ASP.NET Core;Flask;Gatsby;jQuery;React...</td>\n      <td>NaN</td>\n      <td>NaN</td>\n      <td>8</td>\n      <td>Less than 1 year</td>\n    </tr>\n    <tr>\n      <th>58896</th>\n      <td>NaN</td>\n      <td>Yes</td>\n      <td>29.0</td>\n      <td>10</td>\n      <td>NaN</td>\n      <td>NaN</td>\n      <td>NaN</td>\n      <td>United States</td>\n      <td>NaN</td>\n      <td>NaN</td>\n      <td>NaN</td>\n      <td>NaN</td>\n      <td>NaN</td>\n      <td>Bachelor’s degree (B.A., B.S., B.Eng., etc.)</td>\n      <td>Student</td>\n      <td>White or of European descent</td>\n      <td>Man</td>\n      <td>NaN</td>\n      <td>NaN</td>\n      <td>NaN</td>\n      <td>Haskell</td>\n      <td>Haskell</td>\n      <td>NaN</td>\n      <td>NaN</td>\n      <td>Gitlab;Slack</td>\n      <td>Github;Gitlab;Slack</td>\n      <td>NaN</td>\n      <td>NaN</td>\n      <td>NaN</td>\n      <td>NaN</td>\n      <td>NaN</td>\n      <td>Once a year</td>\n      <td>No</td>\n      <td>NaN</td>\n      <td>NaN</td>\n      <td>NaN</td>\n      <td>Ask developers I know/work with;Visit develope...</td>\n      <td>Amused</td>\n      <td>Stack Overflow (public Q&amp;A for anyone who code...</td>\n      <td>Play games;Call a coworker or friend;Visit Sta...</td>\n      <td>MacOS</td>\n      <td>NaN</td>\n      <td>NaN</td>\n      <td>NaN</td>\n      <td>NaN</td>\n      <td>Gay or Lesbian;Queer</td>\n      <td>Yes</td>\n      <td>Yes, somewhat</td>\n      <td>A few times per week</td>\n      <td>Daily or almost daily</td>\n      <td>Neither easy nor difficult</td>\n      <td>Appropriate in length</td>\n      <td>No</td>\n      <td>Computer science, computer engineering, or sof...</td>\n      <td>NaN</td>\n      <td>NaN</td>\n      <td>Just as welcome now as I felt last year</td>\n      <td>NaN</td>\n      <td>29</td>\n      <td>NaN</td>\n    </tr>\n    <tr>\n      <th>60931</th>\n      <td>NaN</td>\n      <td>Yes</td>\n      <td>NaN</td>\n      <td>17</td>\n      <td>NaN</td>\n      <td>NaN</td>\n      <td>NaN</td>\n      <td>United States</td>\n      <td>NaN</td>\n      <td>NaN</td>\n      <td>MariaDB;MySQL;PostgreSQL</td>\n      <td>MariaDB;MySQL</td>\n      <td>System administrator</td>\n      <td>Some college/university study without earning ...</td>\n      <td>Employed full-time</td>\n      <td>NaN</td>\n      <td>Man</td>\n      <td>NaN</td>\n      <td>NaN</td>\n      <td>NaN</td>\n      <td>Bash/Shell/PowerShell;C;C#;C++;PHP;Python</td>\n      <td>Bash/Shell/PowerShell;HTML/CSS;PHP</td>\n      <td>Unity 3D;Unreal Engine</td>\n      <td>NaN</td>\n      <td>Github;Stack Overflow for Teams</td>\n      <td>Github</td>\n      <td>NaN</td>\n      <td>NaN</td>\n      <td>Not at all important/not necessary</td>\n      <td>NaN</td>\n      <td>NaN</td>\n      <td>NaN</td>\n      <td>Not sure</td>\n      <td>NaN</td>\n      <td>NaN</td>\n      <td>NaN</td>\n      <td>Start a free trial;Visit developer communities...</td>\n      <td>Hello, old friend</td>\n      <td>Stack Overflow (public Q&amp;A for anyone who codes)</td>\n      <td>Play games;Visit Stack Overflow;Watch help / t...</td>\n      <td>Linux-based</td>\n      <td>NaN</td>\n      <td>Android;Arduino;Linux;Raspberry Pi;Windows</td>\n      <td>WordPress</td>\n      <td>NaN</td>\n      <td>NaN</td>\n      <td>Yes</td>\n      <td>Neutral</td>\n      <td>I have never participated in Q&amp;A on Stack Over...</td>\n      <td>Less than once per month or monthly</td>\n      <td>Neither easy nor difficult</td>\n      <td>Too long</td>\n      <td>No</td>\n      <td>Web development or web design</td>\n      <td>NaN</td>\n      <td>Drupal</td>\n      <td>Not applicable - I did not use Stack Overflow ...</td>\n      <td>NaN</td>\n      <td>5</td>\n      <td>NaN</td>\n    </tr>\n    <tr>\n      <th>63077</th>\n      <td>NaN</td>\n      <td>Yes</td>\n      <td>NaN</td>\n      <td>20</td>\n      <td>NaN</td>\n      <td>NaN</td>\n      <td>NaN</td>\n      <td>United States</td>\n      <td>NaN</td>\n      <td>NaN</td>\n      <td>MySQL</td>\n      <td>MySQL</td>\n      <td>NaN</td>\n      <td>Bachelor’s degree (B.A., B.S., B.Eng., etc.)</td>\n      <td>Not employed, but looking for work</td>\n      <td>NaN</td>\n      <td>NaN</td>\n      <td>NaN</td>\n      <td>NaN</td>\n      <td>NaN</td>\n      <td>C++;Rust;SQL</td>\n      <td>C++;HTML/CSS;Java;JavaScript;Python;SQL</td>\n      <td>NaN</td>\n      <td>NaN</td>\n      <td>NaN</td>\n      <td>NaN</td>\n      <td>NaN</td>\n      <td>NaN</td>\n      <td>Fairly important</td>\n      <td>NaN</td>\n      <td>NaN</td>\n      <td>NaN</td>\n      <td>NaN</td>\n      <td>NaN</td>\n      <td>NaN</td>\n      <td>NaN</td>\n      <td>NaN</td>\n      <td>NaN</td>\n      <td>Stack Overflow (public Q&amp;A for anyone who codes)</td>\n      <td>NaN</td>\n      <td>NaN</td>\n      <td>NaN</td>\n      <td>NaN</td>\n      <td>NaN</td>\n      <td>NaN</td>\n      <td>NaN</td>\n      <td>Yes</td>\n      <td>No, not really</td>\n      <td>I have never participated in Q&amp;A on Stack Over...</td>\n      <td>A few times per week</td>\n      <td>NaN</td>\n      <td>NaN</td>\n      <td>NaN</td>\n      <td>Computer science, computer engineering, or sof...</td>\n      <td>NaN</td>\n      <td>NaN</td>\n      <td>NaN</td>\n      <td>NaN</td>\n      <td>4</td>\n      <td>NaN</td>\n    </tr>\n    <tr>\n      <th>64858</th>\n      <td>NaN</td>\n      <td>Yes</td>\n      <td>NaN</td>\n      <td>16</td>\n      <td>NaN</td>\n      <td>NaN</td>\n      <td>NaN</td>\n      <td>United States</td>\n      <td>NaN</td>\n      <td>NaN</td>\n      <td>NaN</td>\n      <td>NaN</td>\n      <td>Senior executive/VP</td>\n      <td>Master’s degree (M.A., M.S., M.Eng., MBA, etc.)</td>\n      <td>Employed full-time</td>\n      <td>NaN</td>\n      <td>NaN</td>\n      <td>NaN</td>\n      <td>NaN</td>\n      <td>NaN</td>\n      <td>NaN</td>\n      <td>NaN</td>\n      <td>NaN</td>\n      <td>NaN</td>\n      <td>NaN</td>\n      <td>NaN</td>\n      <td>NaN</td>\n      <td>NaN</td>\n      <td>Very important</td>\n      <td>NaN</td>\n      <td>NaN</td>\n      <td>Once a decade</td>\n      <td>NaN</td>\n      <td>NaN</td>\n      <td>NaN</td>\n      <td>NaN</td>\n      <td>Start a free trial</td>\n      <td>Amused</td>\n      <td>Stack Overflow (public Q&amp;A for anyone who codes)</td>\n      <td>Call a coworker or friend</td>\n      <td>Windows</td>\n      <td>NaN</td>\n      <td>NaN</td>\n      <td>NaN</td>\n      <td>NaN</td>\n      <td>NaN</td>\n      <td>NaN</td>\n      <td>NaN</td>\n      <td>NaN</td>\n      <td>NaN</td>\n      <td>NaN</td>\n      <td>NaN</td>\n      <td>NaN</td>\n      <td>Computer science, computer engineering, or sof...</td>\n      <td>NaN</td>\n      <td>NaN</td>\n      <td>NaN</td>\n      <td>NaN</td>\n      <td>10</td>\n      <td>Less than 1 year</td>\n    </tr>\n  </tbody>\n</table>\n<p>12469 rows × 60 columns</p>\n</div>"
     },
     "metadata": {}
    }
   ]
  },
  {
   "cell_type": "code",
   "metadata": {
    "cell_id": "43af2d30206746c1bdcdc40b275f9703",
    "tags": [],
    "deepnote_to_be_reexecuted": false,
    "source_hash": "6ecf8f3b",
    "execution_start": 1657887450060,
    "execution_millis": 705,
    "deepnote_cell_type": "code",
    "deepnote_cell_height": 212.9375,
    "deepnote_output_heights": [
     97.9375
    ]
   },
   "source": "filt = data['Country'] == 'United States'\ndata.loc[filt]['OpSys'].value_counts()",
   "execution_count": null,
   "outputs": [
    {
     "output_type": "execute_result",
     "execution_count": 30,
     "data": {
      "text/plain": "Windows        4874\nMacOS          4082\nLinux-based    2445\nBSD               8\nName: OpSys, dtype: int64"
     },
     "metadata": {}
    }
   ]
  },
  {
   "cell_type": "code",
   "metadata": {
    "cell_id": "55df181e2c00404e9028ad9c06bc00cf",
    "tags": [],
    "deepnote_to_be_reexecuted": false,
    "source_hash": "6ecf8f3b",
    "execution_start": 1657887418259,
    "execution_millis": 25,
    "deepnote_cell_type": "code",
    "deepnote_cell_height": 212.9375,
    "deepnote_output_heights": [
     97.9375
    ]
   },
   "source": "filt = data['Country'] == 'United States'\ndata.loc[filt]['OpSys'].value_counts()",
   "execution_count": null,
   "outputs": [
    {
     "output_type": "execute_result",
     "execution_count": 29,
     "data": {
      "text/plain": "Windows        4874\nMacOS          4082\nLinux-based    2445\nBSD               8\nName: OpSys, dtype: int64"
     },
     "metadata": {}
    }
   ]
  },
  {
   "cell_type": "code",
   "metadata": {
    "cell_id": "94543c0b953846d7a8b18f975904d107",
    "tags": [],
    "deepnote_to_be_reexecuted": false,
    "source_hash": "e43bd5b5",
    "execution_start": 1657887600007,
    "execution_millis": 62,
    "deepnote_cell_type": "code",
    "deepnote_cell_height": 708,
    "deepnote_output_heights": [
     611
    ]
   },
   "source": "contry['OpSys'].value_counts().head(50)",
   "execution_count": null,
   "outputs": [
    {
     "output_type": "execute_result",
     "execution_count": 31,
     "data": {
      "text/plain": "Country      OpSys      \nAfghanistan  Windows         31\n             Linux-based      8\n             MacOS            5\nAlbania      Windows         24\n             MacOS            7\n             Linux-based      6\nAlgeria      Windows         44\n             Linux-based     25\n             MacOS            5\n             BSD              1\nAndorra      Linux-based      4\n             Windows          2\n             BSD              1\nAngola       Windows          3\n             Linux-based      1\nArgentina    Windows        142\n             Linux-based    129\n             MacOS           75\nArmenia      Linux-based     21\n             Windows         20\n             MacOS           10\nAustralia    Windows        513\n             MacOS          387\n             Linux-based    211\nAustria      Windows        274\n             Linux-based    154\n             MacOS           76\nAzerbaijan   Windows         25\n             Linux-based      9\n             MacOS            5\nBahamas      MacOS            2\nBahrain      Windows          5\n             MacOS            3\nBangladesh   Windows        330\n             Linux-based    119\n             MacOS           50\n             BSD              1\nBarbados     MacOS            2\n             Linux-based      1\n             Windows          1\nBelarus      Windows         65\n             Linux-based     34\n             MacOS           18\nBelgium      Windows        248\n             Linux-based     89\n             MacOS           72\nBelize       Windows          3\nBenin        Windows          4\n             Linux-based      3\n             MacOS            1\nName: OpSys, dtype: int64"
     },
     "metadata": {}
    }
   ]
  },
  {
   "cell_type": "code",
   "metadata": {
    "cell_id": "23931a63908f41e896fe2280f22fec39",
    "tags": [],
    "deepnote_to_be_reexecuted": false,
    "source_hash": "7941b663",
    "execution_start": 1657887810406,
    "execution_millis": 39,
    "deepnote_cell_type": "code",
    "deepnote_cell_height": 214.125,
    "deepnote_output_heights": [
     117.125
    ]
   },
   "source": "contry['OpSys'].value_counts().loc['India']",
   "execution_count": null,
   "outputs": [
    {
     "output_type": "execute_result",
     "execution_count": 32,
     "data": {
      "text/plain": "OpSys\nWindows        3426\nLinux-based    2077\nMacOS          1158\nBSD               5\nName: OpSys, dtype: int64"
     },
     "metadata": {}
    }
   ]
  },
  {
   "cell_type": "code",
   "metadata": {
    "cell_id": "b6a99109ff304d1daec8124b58911b0a",
    "tags": [],
    "deepnote_to_be_reexecuted": false,
    "source_hash": "40507589",
    "execution_start": 1657887979862,
    "execution_millis": 33,
    "deepnote_cell_type": "code",
    "deepnote_cell_height": 348.4375,
    "deepnote_output_heights": [
     251.4375
    ]
   },
   "source": "contry['ConvertedComp'].median()",
   "execution_count": null,
   "outputs": [
    {
     "output_type": "execute_result",
     "execution_count": 33,
     "data": {
      "text/plain": "Country\nAfghanistan                             15163.5\nAlbania                                 15900.0\nAlgeria                                  9432.0\nAndorra                                 88640.0\nAngola                                   5292.0\n                                         ...   \nVenezuela, Bolivarian Republic of...     3600.0\nViet Nam                                10344.0\nYemen                                   36000.0\nZambia                                   5452.0\nZimbabwe                                 7200.0\nName: ConvertedComp, Length: 183, dtype: float64"
     },
     "metadata": {}
    }
   ]
  },
  {
   "cell_type": "code",
   "metadata": {
    "cell_id": "a6dcf3bf259b478c9f6962456f7859ab",
    "tags": [],
    "deepnote_to_be_reexecuted": false,
    "source_hash": "a0d060d3",
    "execution_start": 1657888039194,
    "execution_millis": 6,
    "deepnote_cell_type": "code",
    "deepnote_cell_height": 118.1875,
    "deepnote_output_heights": [
     21.1875
    ]
   },
   "source": "contry['ConvertedComp'].median().loc['India']",
   "execution_count": null,
   "outputs": [
    {
     "output_type": "execute_result",
     "execution_count": 34,
     "data": {
      "text/plain": "10056.0"
     },
     "metadata": {}
    }
   ]
  },
  {
   "cell_type": "code",
   "metadata": {
    "cell_id": "f8c9efdf2a764aff87b9e337a3656b1f",
    "tags": [],
    "deepnote_to_be_reexecuted": false,
    "source_hash": "f7bcbd62",
    "execution_start": 1657888068102,
    "execution_millis": 27,
    "deepnote_cell_type": "code",
    "deepnote_cell_height": 600
   },
   "source": "contry['ConvertedComp'].agg(['median','mean'])",
   "execution_count": null,
   "outputs": [
    {
     "output_type": "execute_result",
     "execution_count": 35,
     "data": {
      "application/vnd.deepnote.dataframe.v3+json": {
       "column_count": 2,
       "row_count": 183,
       "columns": [
        {
         "name": "median",
         "dtype": "float64",
         "stats": {
          "unique_count": 154,
          "nan_count": 24,
          "min": "24.0",
          "max": "115000.0",
          "histogram": [
           {
            "bin_start": 24,
            "bin_end": 11521.6,
            "count": 43
           },
           {
            "bin_start": 11521.6,
            "bin_end": 23019.2,
            "count": 43
           },
           {
            "bin_start": 23019.2,
            "bin_end": 34516.8,
            "count": 20
           },
           {
            "bin_start": 34516.8,
            "bin_end": 46014.4,
            "count": 24
           },
           {
            "bin_start": 46014.4,
            "bin_end": 57512,
            "count": 10
           },
           {
            "bin_start": 57512,
            "bin_end": 69009.6,
            "count": 5
           },
           {
            "bin_start": 69009.6,
            "bin_end": 80507.2,
            "count": 6
           },
           {
            "bin_start": 80507.2,
            "bin_end": 92004.8,
            "count": 4
           },
           {
            "bin_start": 92004.8,
            "bin_end": 103502.40000000001,
            "count": 3
           },
           {
            "bin_start": 103502.40000000001,
            "bin_end": 115000,
            "count": 1
           }
          ]
         }
        },
        {
         "name": "mean",
         "dtype": "float64",
         "stats": {
          "unique_count": 159,
          "nan_count": 24,
          "min": "24.0",
          "max": "310924.14285714284",
          "histogram": [
           {
            "bin_start": 24,
            "bin_end": 31114.014285714286,
            "count": 77
           },
           {
            "bin_start": 31114.014285714286,
            "bin_end": 62204.02857142857,
            "count": 43
           },
           {
            "bin_start": 62204.02857142857,
            "bin_end": 93294.04285714286,
            "count": 19
           },
           {
            "bin_start": 93294.04285714286,
            "bin_end": 124384.05714285714,
            "count": 10
           },
           {
            "bin_start": 124384.05714285714,
            "bin_end": 155474.07142857142,
            "count": 6
           },
           {
            "bin_start": 155474.07142857142,
            "bin_end": 186564.08571428573,
            "count": 1
           },
           {
            "bin_start": 186564.08571428573,
            "bin_end": 217654.1,
            "count": 1
           },
           {
            "bin_start": 217654.1,
            "bin_end": 248744.11428571428,
            "count": 1
           },
           {
            "bin_start": 248744.11428571428,
            "bin_end": 279834.1285714286,
            "count": 0
           },
           {
            "bin_start": 279834.1285714286,
            "bin_end": 310924.14285714284,
            "count": 1
           }
          ]
         }
        },
        {
         "name": "_deepnote_index_column",
         "dtype": "object"
        }
       ],
       "rows": [
        {
         "median": 15163.5,
         "mean": 148290.125,
         "_deepnote_index_column": "Afghanistan"
        },
        {
         "median": 15900,
         "mean": 25611,
         "_deepnote_index_column": "Albania"
        },
        {
         "median": 9432,
         "mean": 10362.8125,
         "_deepnote_index_column": "Algeria"
        },
        {
         "median": 88640,
         "mean": 88640,
         "_deepnote_index_column": "Andorra"
        },
        {
         "median": 5292,
         "mean": 5292,
         "_deepnote_index_column": "Angola"
        },
        {
         "median": "nan",
         "mean": "nan",
         "_deepnote_index_column": "Antigua and Barbuda"
        },
        {
         "median": 17520,
         "mean": 29010.03347280335,
         "_deepnote_index_column": "Argentina"
        },
        {
         "median": 21066,
         "mean": 30421.285714285714,
         "_deepnote_index_column": "Armenia"
        },
        {
         "median": 76831,
         "mean": 146165.81476683938,
         "_deepnote_index_column": "Australia"
        },
        {
         "median": 51888,
         "mean": 83077.66134185303,
         "_deepnote_index_column": "Austria"
        }
       ]
      },
      "text/plain": "                                       median           mean\nCountry                                                     \nAfghanistan                           15163.5  148290.125000\nAlbania                               15900.0   25611.000000\nAlgeria                                9432.0   10362.812500\nAndorra                               88640.0   88640.000000\nAngola                                 5292.0    5292.000000\n...                                       ...            ...\nVenezuela, Bolivarian Republic of...   3600.0    6280.611111\nViet Nam                              10344.0   28342.605769\nYemen                                 36000.0   36000.000000\nZambia                                 5452.0   17506.400000\nZimbabwe                               7200.0   26338.181818\n\n[183 rows x 2 columns]",
      "text/html": "<div>\n<style scoped>\n    .dataframe tbody tr th:only-of-type {\n        vertical-align: middle;\n    }\n\n    .dataframe tbody tr th {\n        vertical-align: top;\n    }\n\n    .dataframe thead th {\n        text-align: right;\n    }\n</style>\n<table border=\"1\" class=\"dataframe\">\n  <thead>\n    <tr style=\"text-align: right;\">\n      <th></th>\n      <th>median</th>\n      <th>mean</th>\n    </tr>\n    <tr>\n      <th>Country</th>\n      <th></th>\n      <th></th>\n    </tr>\n  </thead>\n  <tbody>\n    <tr>\n      <th>Afghanistan</th>\n      <td>15163.5</td>\n      <td>148290.125000</td>\n    </tr>\n    <tr>\n      <th>Albania</th>\n      <td>15900.0</td>\n      <td>25611.000000</td>\n    </tr>\n    <tr>\n      <th>Algeria</th>\n      <td>9432.0</td>\n      <td>10362.812500</td>\n    </tr>\n    <tr>\n      <th>Andorra</th>\n      <td>88640.0</td>\n      <td>88640.000000</td>\n    </tr>\n    <tr>\n      <th>Angola</th>\n      <td>5292.0</td>\n      <td>5292.000000</td>\n    </tr>\n    <tr>\n      <th>...</th>\n      <td>...</td>\n      <td>...</td>\n    </tr>\n    <tr>\n      <th>Venezuela, Bolivarian Republic of...</th>\n      <td>3600.0</td>\n      <td>6280.611111</td>\n    </tr>\n    <tr>\n      <th>Viet Nam</th>\n      <td>10344.0</td>\n      <td>28342.605769</td>\n    </tr>\n    <tr>\n      <th>Yemen</th>\n      <td>36000.0</td>\n      <td>36000.000000</td>\n    </tr>\n    <tr>\n      <th>Zambia</th>\n      <td>5452.0</td>\n      <td>17506.400000</td>\n    </tr>\n    <tr>\n      <th>Zimbabwe</th>\n      <td>7200.0</td>\n      <td>26338.181818</td>\n    </tr>\n  </tbody>\n</table>\n<p>183 rows × 2 columns</p>\n</div>"
     },
     "metadata": {}
    }
   ]
  },
  {
   "cell_type": "code",
   "metadata": {
    "cell_id": "a26d5f2aeb2843a38c44d1ab8e517512",
    "tags": [],
    "deepnote_to_be_reexecuted": false,
    "source_hash": "de53615d",
    "execution_start": 1657888107502,
    "execution_millis": 28,
    "deepnote_cell_type": "code",
    "deepnote_cell_height": 156.5625,
    "deepnote_output_heights": [
     59.5625
    ]
   },
   "source": "contry['ConvertedComp'].agg(['median','mean']).loc['India']",
   "execution_count": null,
   "outputs": [
    {
     "output_type": "execute_result",
     "execution_count": 36,
     "data": {
      "text/plain": "median    10056.000000\nmean      28751.271364\nName: India, dtype: float64"
     },
     "metadata": {}
    }
   ]
  },
  {
   "cell_type": "code",
   "metadata": {
    "cell_id": "29b429d711bb414b971263c2495a6af1",
    "tags": [],
    "deepnote_to_be_reexecuted": false,
    "source_hash": "fb472971",
    "execution_start": 1657888168470,
    "execution_millis": 27,
    "deepnote_cell_type": "code",
    "deepnote_cell_height": 136.1875,
    "deepnote_output_heights": [
     21.1875
    ]
   },
   "source": "filt = data['Country'] == 'United States'\ndata.loc[filt]['ConvertedComp'].median()",
   "execution_count": null,
   "outputs": [
    {
     "output_type": "execute_result",
     "execution_count": 37,
     "data": {
      "text/plain": "115000.0"
     },
     "metadata": {}
    }
   ]
  },
  {
   "cell_type": "code",
   "metadata": {
    "cell_id": "40faa8feb7cb462c9b31e30ac609cf5d",
    "tags": [],
    "deepnote_to_be_reexecuted": false,
    "source_hash": "e54f11ab",
    "execution_start": 1657888209396,
    "execution_millis": 64,
    "deepnote_cell_type": "code",
    "deepnote_cell_height": 193.75,
    "deepnote_output_heights": [
     78.75
    ]
   },
   "source": "filt = data['Country'] == 'United States'\ndata.loc[filt]['ConvertedComp'].agg(['median','mean','sum'])",
   "execution_count": null,
   "outputs": [
    {
     "output_type": "execute_result",
     "execution_count": 38,
     "data": {
      "text/plain": "median    1.150000e+05\nmean      2.088265e+05\nsum       1.702354e+09\nName: ConvertedComp, dtype: float64"
     },
     "metadata": {}
    }
   ]
  },
  {
   "cell_type": "code",
   "metadata": {
    "cell_id": "b602bd7a703a42b3b48e99563c242131",
    "tags": [],
    "deepnote_to_be_reexecuted": false,
    "source_hash": "e09a95c5",
    "execution_start": 1657888368623,
    "execution_millis": 45,
    "deepnote_cell_type": "code",
    "deepnote_cell_height": 384.4375,
    "deepnote_output_heights": [
     251.4375
    ]
   },
   "source": "filt = data['Country'] == 'India'\ndata.loc[filt]['LanguageWorkedWith']\n",
   "execution_count": null,
   "outputs": [
    {
     "output_type": "execute_result",
     "execution_count": 39,
     "data": {
      "text/plain": "Respondent\n7                                  C#;HTML/CSS;PHP\n22                                     Java;Python\n58                    C#;JavaScript;SQL;TypeScript\n63           C;C++;HTML/CSS;Java;JavaScript;Python\n149                 Bash/Shell/PowerShell;C++;Perl\n                           ...                    \n54757    C;HTML/CSS;Java;JavaScript;PHP;Python;SQL\n55407                                          NaN\n62464                                          NaN\n62954                                          SQL\n64236                                          NaN\nName: LanguageWorkedWith, Length: 8403, dtype: object"
     },
     "metadata": {}
    }
   ]
  },
  {
   "cell_type": "code",
   "metadata": {
    "cell_id": "3bbebf0b40114205bc489fb6d8443246",
    "tags": [],
    "deepnote_to_be_reexecuted": false,
    "source_hash": "5ef0c156",
    "execution_start": 1657888431119,
    "execution_millis": 1,
    "deepnote_cell_type": "code",
    "deepnote_cell_height": 384.4375,
    "deepnote_output_heights": [
     251.4375
    ]
   },
   "source": "#show true for those people which uses python in india\nfilt = data['Country'] == 'India'\ndata.loc[filt]['LanguageWorkedWith'].str.contains('Python')",
   "execution_count": null,
   "outputs": [
    {
     "output_type": "execute_result",
     "execution_count": 40,
     "data": {
      "text/plain": "Respondent\n7        False\n22        True\n58       False\n63        True\n149      False\n         ...  \n54757     True\n55407      NaN\n62464      NaN\n62954    False\n64236      NaN\nName: LanguageWorkedWith, Length: 8403, dtype: object"
     },
     "metadata": {}
    }
   ]
  },
  {
   "cell_type": "code",
   "metadata": {
    "cell_id": "cc0d8133f8ce44a283552c8273b1dc0d",
    "tags": [],
    "deepnote_to_be_reexecuted": false,
    "source_hash": "3b475482",
    "execution_start": 1657888576484,
    "execution_millis": 33,
    "deepnote_cell_type": "code",
    "deepnote_cell_height": 154.1875,
    "deepnote_output_heights": [
     21.1875
    ]
   },
   "source": "#give sum of those people which uses python in india\nfilt = data['Country'] == 'India'\ndata.loc[filt]['LanguageWorkedWith'].str.contains('Python').sum()",
   "execution_count": null,
   "outputs": [
    {
     "output_type": "execute_result",
     "execution_count": 41,
     "data": {
      "text/plain": "2670"
     },
     "metadata": {}
    }
   ]
  },
  {
   "cell_type": "code",
   "metadata": {
    "cell_id": "cd0fe48d141645399db60e1a0fb3f853",
    "tags": [],
    "deepnote_to_be_reexecuted": false,
    "source_hash": "865d8649",
    "execution_start": 1657888791469,
    "execution_millis": 127,
    "deepnote_cell_type": "code",
    "deepnote_cell_height": 366.4375,
    "deepnote_output_heights": [
     251.4375
    ]
   },
   "source": "#now using groupby showing how many people uses python\ncontry['LanguageWorkedWith'].apply(lambda x: x.str.contains('Python').sum())",
   "execution_count": null,
   "outputs": [
    {
     "output_type": "execute_result",
     "execution_count": 42,
     "data": {
      "text/plain": "Country\nAfghanistan                              11\nAlbania                                  13\nAlgeria                                  40\nAndorra                                   3\nAngola                                    1\n                                       ... \nVenezuela, Bolivarian Republic of...     29\nViet Nam                                102\nYemen                                     1\nZambia                                    4\nZimbabwe                                 13\nName: LanguageWorkedWith, Length: 183, dtype: int64"
     },
     "metadata": {}
    }
   ]
  },
  {
   "cell_type": "code",
   "metadata": {
    "cell_id": "1b01db9d917346359d330f404aaecfb2",
    "tags": [],
    "deepnote_to_be_reexecuted": false,
    "source_hash": "61acb13c",
    "execution_start": 1657889195297,
    "execution_millis": 12,
    "deepnote_cell_type": "code",
    "deepnote_cell_height": 365.25,
    "deepnote_output_heights": [
     232.25
    ]
   },
   "source": "#to get %of developer who know python fo each country\ncontry_respo = data['Country'].value_counts()\ncontry_respo",
   "execution_count": null,
   "outputs": [
    {
     "output_type": "execute_result",
     "execution_count": 44,
     "data": {
      "text/plain": "United States     12469\nIndia              8403\nUnited Kingdom     3896\nGermany            3890\nCanada             2191\n                  ...  \nLesotho               1\nKiribati              1\nGabon                 1\nNauru                 1\nChad                  1\nName: Country, Length: 183, dtype: int64"
     },
     "metadata": {}
    }
   ]
  },
  {
   "cell_type": "code",
   "metadata": {
    "cell_id": "aa9a3c87d6834b7fb6b634a6156a8491",
    "tags": [],
    "deepnote_to_be_reexecuted": false,
    "source_hash": "9d9b7a3d",
    "execution_start": 1657889369438,
    "execution_millis": 274,
    "deepnote_cell_type": "code",
    "deepnote_cell_height": 99
   },
   "source": "#now using groupby showing how many people uses python from each country\npy= contry['LanguageWorkedWith'].apply(lambda x: x.str.contains('Python').sum())",
   "execution_count": null,
   "outputs": []
  },
  {
   "cell_type": "code",
   "metadata": {
    "cell_id": "5bac74a36b064424a866551879f5a624",
    "tags": [],
    "deepnote_to_be_reexecuted": false,
    "source_hash": "958006a6",
    "execution_start": 1657889577296,
    "execution_millis": 24,
    "deepnote_cell_type": "code",
    "deepnote_cell_height": 636
   },
   "source": "#concat function in pandas\npydf = pd.concat([contry_respo, py], axis='columns',sort = False)\npydf",
   "execution_count": null,
   "outputs": [
    {
     "output_type": "execute_result",
     "execution_count": 46,
     "data": {
      "application/vnd.deepnote.dataframe.v3+json": {
       "column_count": 2,
       "row_count": 183,
       "columns": [
        {
         "name": "Country",
         "dtype": "int64",
         "stats": {
          "unique_count": 117,
          "nan_count": 0,
          "min": "1",
          "max": "12469",
          "histogram": [
           {
            "bin_start": 1,
            "bin_end": 1247.8,
            "count": 174
           },
           {
            "bin_start": 1247.8,
            "bin_end": 2494.6,
            "count": 5
           },
           {
            "bin_start": 2494.6,
            "bin_end": 3741.3999999999996,
            "count": 0
           },
           {
            "bin_start": 3741.3999999999996,
            "bin_end": 4988.2,
            "count": 2
           },
           {
            "bin_start": 4988.2,
            "bin_end": 6235,
            "count": 0
           },
           {
            "bin_start": 6235,
            "bin_end": 7481.799999999999,
            "count": 0
           },
           {
            "bin_start": 7481.799999999999,
            "bin_end": 8728.6,
            "count": 1
           },
           {
            "bin_start": 8728.6,
            "bin_end": 9975.4,
            "count": 0
           },
           {
            "bin_start": 9975.4,
            "bin_end": 11222.199999999999,
            "count": 0
           },
           {
            "bin_start": 11222.199999999999,
            "bin_end": 12469,
            "count": 1
           }
          ]
         }
        },
        {
         "name": "LanguageWorkedWith",
         "dtype": "int64",
         "stats": {
          "unique_count": 85,
          "nan_count": 0,
          "min": "0",
          "max": "5964",
          "histogram": [
           {
            "bin_start": 0,
            "bin_end": 596.4,
            "count": 176
           },
           {
            "bin_start": 596.4,
            "bin_end": 1192.8,
            "count": 3
           },
           {
            "bin_start": 1192.8,
            "bin_end": 1789.1999999999998,
            "count": 2
           },
           {
            "bin_start": 1789.1999999999998,
            "bin_end": 2385.6,
            "count": 0
           },
           {
            "bin_start": 2385.6,
            "bin_end": 2982,
            "count": 1
           },
           {
            "bin_start": 2982,
            "bin_end": 3578.3999999999996,
            "count": 0
           },
           {
            "bin_start": 3578.3999999999996,
            "bin_end": 4174.8,
            "count": 0
           },
           {
            "bin_start": 4174.8,
            "bin_end": 4771.2,
            "count": 0
           },
           {
            "bin_start": 4771.2,
            "bin_end": 5367.599999999999,
            "count": 0
           },
           {
            "bin_start": 5367.599999999999,
            "bin_end": 5964,
            "count": 1
           }
          ]
         }
        },
        {
         "name": "_deepnote_index_column",
         "dtype": "object"
        }
       ],
       "rows": [
        {
         "Country": 12469,
         "LanguageWorkedWith": 5964,
         "_deepnote_index_column": "United States"
        },
        {
         "Country": 8403,
         "LanguageWorkedWith": 2670,
         "_deepnote_index_column": "India"
        },
        {
         "Country": 3896,
         "LanguageWorkedWith": 1621,
         "_deepnote_index_column": "United Kingdom"
        },
        {
         "Country": 3890,
         "LanguageWorkedWith": 1712,
         "_deepnote_index_column": "Germany"
        },
        {
         "Country": 2191,
         "LanguageWorkedWith": 1011,
         "_deepnote_index_column": "Canada"
        },
        {
         "Country": 1898,
         "LanguageWorkedWith": 833,
         "_deepnote_index_column": "France"
        },
        {
         "Country": 1818,
         "LanguageWorkedWith": 635,
         "_deepnote_index_column": "Brazil"
        },
        {
         "Country": 1343,
         "LanguageWorkedWith": 544,
         "_deepnote_index_column": "Netherlands"
        },
        {
         "Country": 1278,
         "LanguageWorkedWith": 509,
         "_deepnote_index_column": "Poland"
        },
        {
         "Country": 1208,
         "LanguageWorkedWith": 524,
         "_deepnote_index_column": "Australia"
        }
       ]
      },
      "text/plain": "                Country  LanguageWorkedWith\nUnited States     12469                5964\nIndia              8403                2670\nUnited Kingdom     3896                1621\nGermany            3890                1712\nCanada             2191                1011\n...                 ...                 ...\nLesotho               1                   0\nKiribati              1                   0\nGabon                 1                   1\nNauru                 1                   0\nChad                  1                   0\n\n[183 rows x 2 columns]",
      "text/html": "<div>\n<style scoped>\n    .dataframe tbody tr th:only-of-type {\n        vertical-align: middle;\n    }\n\n    .dataframe tbody tr th {\n        vertical-align: top;\n    }\n\n    .dataframe thead th {\n        text-align: right;\n    }\n</style>\n<table border=\"1\" class=\"dataframe\">\n  <thead>\n    <tr style=\"text-align: right;\">\n      <th></th>\n      <th>Country</th>\n      <th>LanguageWorkedWith</th>\n    </tr>\n  </thead>\n  <tbody>\n    <tr>\n      <th>United States</th>\n      <td>12469</td>\n      <td>5964</td>\n    </tr>\n    <tr>\n      <th>India</th>\n      <td>8403</td>\n      <td>2670</td>\n    </tr>\n    <tr>\n      <th>United Kingdom</th>\n      <td>3896</td>\n      <td>1621</td>\n    </tr>\n    <tr>\n      <th>Germany</th>\n      <td>3890</td>\n      <td>1712</td>\n    </tr>\n    <tr>\n      <th>Canada</th>\n      <td>2191</td>\n      <td>1011</td>\n    </tr>\n    <tr>\n      <th>...</th>\n      <td>...</td>\n      <td>...</td>\n    </tr>\n    <tr>\n      <th>Lesotho</th>\n      <td>1</td>\n      <td>0</td>\n    </tr>\n    <tr>\n      <th>Kiribati</th>\n      <td>1</td>\n      <td>0</td>\n    </tr>\n    <tr>\n      <th>Gabon</th>\n      <td>1</td>\n      <td>1</td>\n    </tr>\n    <tr>\n      <th>Nauru</th>\n      <td>1</td>\n      <td>0</td>\n    </tr>\n    <tr>\n      <th>Chad</th>\n      <td>1</td>\n      <td>0</td>\n    </tr>\n  </tbody>\n</table>\n<p>183 rows × 2 columns</p>\n</div>"
     },
     "metadata": {}
    }
   ]
  },
  {
   "cell_type": "code",
   "metadata": {
    "cell_id": "55ac77c6bda84061b335999f667234a6",
    "tags": [],
    "deepnote_to_be_reexecuted": false,
    "source_hash": "6edc716b",
    "execution_start": 1657889793340,
    "execution_millis": 50,
    "deepnote_table_state": {
     "pageSize": 10,
     "pageIndex": 0,
     "filters": [],
     "sortBy": []
    },
    "deepnote_table_loading": false,
    "deepnote_cell_type": "code",
    "deepnote_cell_height": 618
   },
   "source": "#rename columns\npydf.rename(columns = {'Country': 'NumRespondents','LanguageWorkedWith':'KnowsPython'} )",
   "execution_count": null,
   "outputs": [
    {
     "output_type": "execute_result",
     "execution_count": 48,
     "data": {
      "application/vnd.deepnote.dataframe.v3+json": {
       "column_count": 2,
       "row_count": 183,
       "columns": [
        {
         "name": "NumRespondents",
         "dtype": "int64",
         "stats": {
          "unique_count": 117,
          "nan_count": 0,
          "min": "1",
          "max": "12469",
          "histogram": [
           {
            "bin_start": 1,
            "bin_end": 1247.8,
            "count": 174
           },
           {
            "bin_start": 1247.8,
            "bin_end": 2494.6,
            "count": 5
           },
           {
            "bin_start": 2494.6,
            "bin_end": 3741.3999999999996,
            "count": 0
           },
           {
            "bin_start": 3741.3999999999996,
            "bin_end": 4988.2,
            "count": 2
           },
           {
            "bin_start": 4988.2,
            "bin_end": 6235,
            "count": 0
           },
           {
            "bin_start": 6235,
            "bin_end": 7481.799999999999,
            "count": 0
           },
           {
            "bin_start": 7481.799999999999,
            "bin_end": 8728.6,
            "count": 1
           },
           {
            "bin_start": 8728.6,
            "bin_end": 9975.4,
            "count": 0
           },
           {
            "bin_start": 9975.4,
            "bin_end": 11222.199999999999,
            "count": 0
           },
           {
            "bin_start": 11222.199999999999,
            "bin_end": 12469,
            "count": 1
           }
          ]
         }
        },
        {
         "name": "KnowsPython",
         "dtype": "int64",
         "stats": {
          "unique_count": 85,
          "nan_count": 0,
          "min": "0",
          "max": "5964",
          "histogram": [
           {
            "bin_start": 0,
            "bin_end": 596.4,
            "count": 176
           },
           {
            "bin_start": 596.4,
            "bin_end": 1192.8,
            "count": 3
           },
           {
            "bin_start": 1192.8,
            "bin_end": 1789.1999999999998,
            "count": 2
           },
           {
            "bin_start": 1789.1999999999998,
            "bin_end": 2385.6,
            "count": 0
           },
           {
            "bin_start": 2385.6,
            "bin_end": 2982,
            "count": 1
           },
           {
            "bin_start": 2982,
            "bin_end": 3578.3999999999996,
            "count": 0
           },
           {
            "bin_start": 3578.3999999999996,
            "bin_end": 4174.8,
            "count": 0
           },
           {
            "bin_start": 4174.8,
            "bin_end": 4771.2,
            "count": 0
           },
           {
            "bin_start": 4771.2,
            "bin_end": 5367.599999999999,
            "count": 0
           },
           {
            "bin_start": 5367.599999999999,
            "bin_end": 5964,
            "count": 1
           }
          ]
         }
        },
        {
         "name": "_deepnote_index_column",
         "dtype": "object"
        }
       ],
       "rows": [
        {
         "NumRespondents": 12469,
         "KnowsPython": 5964,
         "_deepnote_index_column": "United States"
        },
        {
         "NumRespondents": 8403,
         "KnowsPython": 2670,
         "_deepnote_index_column": "India"
        },
        {
         "NumRespondents": 3896,
         "KnowsPython": 1621,
         "_deepnote_index_column": "United Kingdom"
        },
        {
         "NumRespondents": 3890,
         "KnowsPython": 1712,
         "_deepnote_index_column": "Germany"
        },
        {
         "NumRespondents": 2191,
         "KnowsPython": 1011,
         "_deepnote_index_column": "Canada"
        },
        {
         "NumRespondents": 1898,
         "KnowsPython": 833,
         "_deepnote_index_column": "France"
        },
        {
         "NumRespondents": 1818,
         "KnowsPython": 635,
         "_deepnote_index_column": "Brazil"
        },
        {
         "NumRespondents": 1343,
         "KnowsPython": 544,
         "_deepnote_index_column": "Netherlands"
        },
        {
         "NumRespondents": 1278,
         "KnowsPython": 509,
         "_deepnote_index_column": "Poland"
        },
        {
         "NumRespondents": 1208,
         "KnowsPython": 524,
         "_deepnote_index_column": "Australia"
        }
       ]
      },
      "text/plain": "                NumRespondents  KnowsPython\nUnited States            12469         5964\nIndia                     8403         2670\nUnited Kingdom            3896         1621\nGermany                   3890         1712\nCanada                    2191         1011\n...                        ...          ...\nLesotho                      1            0\nKiribati                     1            0\nGabon                        1            1\nNauru                        1            0\nChad                         1            0\n\n[183 rows x 2 columns]",
      "text/html": "<div>\n<style scoped>\n    .dataframe tbody tr th:only-of-type {\n        vertical-align: middle;\n    }\n\n    .dataframe tbody tr th {\n        vertical-align: top;\n    }\n\n    .dataframe thead th {\n        text-align: right;\n    }\n</style>\n<table border=\"1\" class=\"dataframe\">\n  <thead>\n    <tr style=\"text-align: right;\">\n      <th></th>\n      <th>NumRespondents</th>\n      <th>KnowsPython</th>\n    </tr>\n  </thead>\n  <tbody>\n    <tr>\n      <th>United States</th>\n      <td>12469</td>\n      <td>5964</td>\n    </tr>\n    <tr>\n      <th>India</th>\n      <td>8403</td>\n      <td>2670</td>\n    </tr>\n    <tr>\n      <th>United Kingdom</th>\n      <td>3896</td>\n      <td>1621</td>\n    </tr>\n    <tr>\n      <th>Germany</th>\n      <td>3890</td>\n      <td>1712</td>\n    </tr>\n    <tr>\n      <th>Canada</th>\n      <td>2191</td>\n      <td>1011</td>\n    </tr>\n    <tr>\n      <th>...</th>\n      <td>...</td>\n      <td>...</td>\n    </tr>\n    <tr>\n      <th>Lesotho</th>\n      <td>1</td>\n      <td>0</td>\n    </tr>\n    <tr>\n      <th>Kiribati</th>\n      <td>1</td>\n      <td>0</td>\n    </tr>\n    <tr>\n      <th>Gabon</th>\n      <td>1</td>\n      <td>1</td>\n    </tr>\n    <tr>\n      <th>Nauru</th>\n      <td>1</td>\n      <td>0</td>\n    </tr>\n    <tr>\n      <th>Chad</th>\n      <td>1</td>\n      <td>0</td>\n    </tr>\n  </tbody>\n</table>\n<p>183 rows × 2 columns</p>\n</div>"
     },
     "metadata": {}
    }
   ]
  },
  {
   "cell_type": "code",
   "metadata": {
    "cell_id": "ed954c01e8f842d99fe23261db88ad49",
    "tags": [],
    "deepnote_to_be_reexecuted": false,
    "source_hash": "a5b4ac54",
    "execution_start": 1657900834814,
    "execution_millis": 427,
    "owner_user_id": "bcf6fdc8-3e54-4fbd-9cd4-f04855b753d2",
    "deepnote_cell_type": "code",
    "deepnote_cell_height": 174.5625,
    "deepnote_output_heights": [
     59.5625
    ]
   },
   "source": "#to konw for specific country who know python\npydf.loc['India']",
   "execution_count": 1,
   "outputs": [
    {
     "output_type": "error",
     "ename": "NameError",
     "evalue": "name 'pydf' is not defined",
     "traceback": [
      "\u001b[0;31m---------------------------------------------------------------------------\u001b[0m",
      "\u001b[0;31mNameError\u001b[0m                                 Traceback (most recent call last)",
      "\u001b[0;32m<ipython-input-1-13ee57032f24>\u001b[0m in \u001b[0;36m<cell line: 2>\u001b[0;34m()\u001b[0m\n\u001b[1;32m      1\u001b[0m \u001b[0;31m#to konw for specific country who know python\u001b[0m\u001b[0;34m\u001b[0m\u001b[0;34m\u001b[0m\u001b[0m\n\u001b[0;32m----> 2\u001b[0;31m \u001b[0mpydf\u001b[0m\u001b[0;34m.\u001b[0m\u001b[0mloc\u001b[0m\u001b[0;34m[\u001b[0m\u001b[0;34m'India'\u001b[0m\u001b[0;34m]\u001b[0m\u001b[0;34m\u001b[0m\u001b[0;34m\u001b[0m\u001b[0m\n\u001b[0m",
      "\u001b[0;31mNameError\u001b[0m: name 'pydf' is not defined"
     ]
    }
   ]
  },
  {
   "cell_type": "code",
   "metadata": {
    "cell_id": "a4b88e73e1164b2ca31931df7736a9f4",
    "tags": [],
    "deepnote_cell_type": "code",
    "deepnote_cell_height": 66
   },
   "source": "",
   "execution_count": null,
   "outputs": []
  },
  {
   "cell_type": "markdown",
   "source": "<a style='text-decoration:none;line-height:16px;display:flex;color:#5B5B62;padding:10px;justify-content:end;' href='https://deepnote.com?utm_source=created-in-deepnote-cell&projectId=17899fff-92ea-41df-8cd4-afb875411e72' target=\"_blank\">\n<img alt='Created in deepnote.com' style='display:inline;max-height:16px;margin:0px;margin-right:7.5px;' src='data:image/svg+xml;base64,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' > </img>\nCreated in <span style='font-weight:600;margin-left:4px;'>Deepnote</span></a>",
   "metadata": {
    "tags": [],
    "created_in_deepnote_cell": true,
    "deepnote_cell_type": "markdown"
   }
  }
 ],
 "nbformat": 4,
 "nbformat_minor": 2,
 "metadata": {
  "orig_nbformat": 2,
  "deepnote": {},
  "deepnote_notebook_id": "d11729c9-f707-4965-aba1-cf2a28b785f0",
  "deepnote_execution_queue": []
 }
}